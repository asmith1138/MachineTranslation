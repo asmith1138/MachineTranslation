{
  "nbformat": 4,
  "nbformat_minor": 0,
  "metadata": {
    "accelerator": "GPU",
    "colab": {
      "name": "MT.eng-deu.transformer.ipynb",
      "provenance": [],
      "collapsed_sections": [],
      "include_colab_link": true
    },
    "kernelspec": {
      "display_name": "Python 3",
      "name": "python3"
    },
    "widgets": {
      "application/vnd.jupyter.widget-state+json": {
        "e33cb11fad76450792cbee11b4fcad76": {
          "model_module": "@jupyter-widgets/controls",
          "model_name": "HBoxModel",
          "state": {
            "_view_name": "HBoxView",
            "_dom_classes": [],
            "_model_name": "HBoxModel",
            "_view_module": "@jupyter-widgets/controls",
            "_model_module_version": "1.5.0",
            "_view_count": null,
            "_view_module_version": "1.5.0",
            "box_style": "",
            "layout": "IPY_MODEL_771220a824234bd5ae0ff9b4c87b2020",
            "_model_module": "@jupyter-widgets/controls",
            "children": [
              "IPY_MODEL_6f34bf1947124f05b7cb0c92f8aa15d5",
              "IPY_MODEL_456b84b7023f43bfbaeb0c7d42b9c09e"
            ]
          }
        },
        "771220a824234bd5ae0ff9b4c87b2020": {
          "model_module": "@jupyter-widgets/base",
          "model_name": "LayoutModel",
          "state": {
            "_view_name": "LayoutView",
            "grid_template_rows": null,
            "right": null,
            "justify_content": null,
            "_view_module": "@jupyter-widgets/base",
            "overflow": null,
            "_model_module_version": "1.2.0",
            "_view_count": null,
            "flex_flow": null,
            "width": null,
            "min_width": null,
            "border": null,
            "align_items": null,
            "bottom": null,
            "_model_module": "@jupyter-widgets/base",
            "top": null,
            "grid_column": null,
            "overflow_y": null,
            "overflow_x": null,
            "grid_auto_flow": null,
            "grid_area": null,
            "grid_template_columns": null,
            "flex": null,
            "_model_name": "LayoutModel",
            "justify_items": null,
            "grid_row": null,
            "max_height": null,
            "align_content": null,
            "visibility": null,
            "align_self": null,
            "height": null,
            "min_height": null,
            "padding": null,
            "grid_auto_rows": null,
            "grid_gap": null,
            "max_width": null,
            "order": null,
            "_view_module_version": "1.2.0",
            "grid_template_areas": null,
            "object_position": null,
            "object_fit": null,
            "grid_auto_columns": null,
            "margin": null,
            "display": null,
            "left": null
          }
        },
        "6f34bf1947124f05b7cb0c92f8aa15d5": {
          "model_module": "@jupyter-widgets/controls",
          "model_name": "FloatProgressModel",
          "state": {
            "_view_name": "ProgressView",
            "style": "IPY_MODEL_ea23eda109ee4a218d4f814c31557f3f",
            "_dom_classes": [],
            "description": "Dl Completed...: 100%",
            "_model_name": "FloatProgressModel",
            "bar_style": "success",
            "max": 1,
            "_view_module": "@jupyter-widgets/controls",
            "_model_module_version": "1.5.0",
            "value": 1,
            "_view_count": null,
            "_view_module_version": "1.5.0",
            "orientation": "horizontal",
            "min": 0,
            "description_tooltip": null,
            "_model_module": "@jupyter-widgets/controls",
            "layout": "IPY_MODEL_70c469d7838f418fa00f2351c13a0ead"
          }
        },
        "456b84b7023f43bfbaeb0c7d42b9c09e": {
          "model_module": "@jupyter-widgets/controls",
          "model_name": "HTMLModel",
          "state": {
            "_view_name": "HTMLView",
            "style": "IPY_MODEL_4061beb4b11d478ca7aa93b147535927",
            "_dom_classes": [],
            "description": "",
            "_model_name": "HTMLModel",
            "placeholder": "​",
            "_view_module": "@jupyter-widgets/controls",
            "_model_module_version": "1.5.0",
            "value": " 1/1 [01:15&lt;00:00, 75.63s/ url]",
            "_view_count": null,
            "_view_module_version": "1.5.0",
            "description_tooltip": null,
            "_model_module": "@jupyter-widgets/controls",
            "layout": "IPY_MODEL_76b739d6b5ec4bc086a1a4e3a4264c22"
          }
        },
        "ea23eda109ee4a218d4f814c31557f3f": {
          "model_module": "@jupyter-widgets/controls",
          "model_name": "ProgressStyleModel",
          "state": {
            "_view_name": "StyleView",
            "_model_name": "ProgressStyleModel",
            "description_width": "initial",
            "_view_module": "@jupyter-widgets/base",
            "_model_module_version": "1.5.0",
            "_view_count": null,
            "_view_module_version": "1.2.0",
            "bar_color": null,
            "_model_module": "@jupyter-widgets/controls"
          }
        },
        "70c469d7838f418fa00f2351c13a0ead": {
          "model_module": "@jupyter-widgets/base",
          "model_name": "LayoutModel",
          "state": {
            "_view_name": "LayoutView",
            "grid_template_rows": null,
            "right": null,
            "justify_content": null,
            "_view_module": "@jupyter-widgets/base",
            "overflow": null,
            "_model_module_version": "1.2.0",
            "_view_count": null,
            "flex_flow": null,
            "width": null,
            "min_width": null,
            "border": null,
            "align_items": null,
            "bottom": null,
            "_model_module": "@jupyter-widgets/base",
            "top": null,
            "grid_column": null,
            "overflow_y": null,
            "overflow_x": null,
            "grid_auto_flow": null,
            "grid_area": null,
            "grid_template_columns": null,
            "flex": null,
            "_model_name": "LayoutModel",
            "justify_items": null,
            "grid_row": null,
            "max_height": null,
            "align_content": null,
            "visibility": null,
            "align_self": null,
            "height": null,
            "min_height": null,
            "padding": null,
            "grid_auto_rows": null,
            "grid_gap": null,
            "max_width": null,
            "order": null,
            "_view_module_version": "1.2.0",
            "grid_template_areas": null,
            "object_position": null,
            "object_fit": null,
            "grid_auto_columns": null,
            "margin": null,
            "display": null,
            "left": null
          }
        },
        "4061beb4b11d478ca7aa93b147535927": {
          "model_module": "@jupyter-widgets/controls",
          "model_name": "DescriptionStyleModel",
          "state": {
            "_view_name": "StyleView",
            "_model_name": "DescriptionStyleModel",
            "description_width": "",
            "_view_module": "@jupyter-widgets/base",
            "_model_module_version": "1.5.0",
            "_view_count": null,
            "_view_module_version": "1.2.0",
            "_model_module": "@jupyter-widgets/controls"
          }
        },
        "76b739d6b5ec4bc086a1a4e3a4264c22": {
          "model_module": "@jupyter-widgets/base",
          "model_name": "LayoutModel",
          "state": {
            "_view_name": "LayoutView",
            "grid_template_rows": null,
            "right": null,
            "justify_content": null,
            "_view_module": "@jupyter-widgets/base",
            "overflow": null,
            "_model_module_version": "1.2.0",
            "_view_count": null,
            "flex_flow": null,
            "width": null,
            "min_width": null,
            "border": null,
            "align_items": null,
            "bottom": null,
            "_model_module": "@jupyter-widgets/base",
            "top": null,
            "grid_column": null,
            "overflow_y": null,
            "overflow_x": null,
            "grid_auto_flow": null,
            "grid_area": null,
            "grid_template_columns": null,
            "flex": null,
            "_model_name": "LayoutModel",
            "justify_items": null,
            "grid_row": null,
            "max_height": null,
            "align_content": null,
            "visibility": null,
            "align_self": null,
            "height": null,
            "min_height": null,
            "padding": null,
            "grid_auto_rows": null,
            "grid_gap": null,
            "max_width": null,
            "order": null,
            "_view_module_version": "1.2.0",
            "grid_template_areas": null,
            "object_position": null,
            "object_fit": null,
            "grid_auto_columns": null,
            "margin": null,
            "display": null,
            "left": null
          }
        },
        "f58de04ad1ec415988030da7abadb79b": {
          "model_module": "@jupyter-widgets/controls",
          "model_name": "HBoxModel",
          "state": {
            "_view_name": "HBoxView",
            "_dom_classes": [],
            "_model_name": "HBoxModel",
            "_view_module": "@jupyter-widgets/controls",
            "_model_module_version": "1.5.0",
            "_view_count": null,
            "_view_module_version": "1.5.0",
            "box_style": "",
            "layout": "IPY_MODEL_4b0a02c7ecbe45b6a0e979be89d2fd12",
            "_model_module": "@jupyter-widgets/controls",
            "children": [
              "IPY_MODEL_293a86111ffc460ebab42d0e09b0fe36",
              "IPY_MODEL_c1b4400495f843e3a107dd2028a0ccd0"
            ]
          }
        },
        "4b0a02c7ecbe45b6a0e979be89d2fd12": {
          "model_module": "@jupyter-widgets/base",
          "model_name": "LayoutModel",
          "state": {
            "_view_name": "LayoutView",
            "grid_template_rows": null,
            "right": null,
            "justify_content": null,
            "_view_module": "@jupyter-widgets/base",
            "overflow": null,
            "_model_module_version": "1.2.0",
            "_view_count": null,
            "flex_flow": null,
            "width": null,
            "min_width": null,
            "border": null,
            "align_items": null,
            "bottom": null,
            "_model_module": "@jupyter-widgets/base",
            "top": null,
            "grid_column": null,
            "overflow_y": null,
            "overflow_x": null,
            "grid_auto_flow": null,
            "grid_area": null,
            "grid_template_columns": null,
            "flex": null,
            "_model_name": "LayoutModel",
            "justify_items": null,
            "grid_row": null,
            "max_height": null,
            "align_content": null,
            "visibility": null,
            "align_self": null,
            "height": null,
            "min_height": null,
            "padding": null,
            "grid_auto_rows": null,
            "grid_gap": null,
            "max_width": null,
            "order": null,
            "_view_module_version": "1.2.0",
            "grid_template_areas": null,
            "object_position": null,
            "object_fit": null,
            "grid_auto_columns": null,
            "margin": null,
            "display": null,
            "left": null
          }
        },
        "293a86111ffc460ebab42d0e09b0fe36": {
          "model_module": "@jupyter-widgets/controls",
          "model_name": "FloatProgressModel",
          "state": {
            "_view_name": "ProgressView",
            "style": "IPY_MODEL_76d5fe3e09e5414588b057a40c0120b8",
            "_dom_classes": [],
            "description": "Dl Size...: 100%",
            "_model_name": "FloatProgressModel",
            "bar_style": "success",
            "max": 1,
            "_view_module": "@jupyter-widgets/controls",
            "_model_module_version": "1.5.0",
            "value": 1,
            "_view_count": null,
            "_view_module_version": "1.5.0",
            "orientation": "horizontal",
            "min": 0,
            "description_tooltip": null,
            "_model_module": "@jupyter-widgets/controls",
            "layout": "IPY_MODEL_aba7434ef4b2463abb184658d1bcf6e2"
          }
        },
        "c1b4400495f843e3a107dd2028a0ccd0": {
          "model_module": "@jupyter-widgets/controls",
          "model_name": "HTMLModel",
          "state": {
            "_view_name": "HTMLView",
            "style": "IPY_MODEL_fbd7ecf4d7c9412aa16f6d3ed1e39b5d",
            "_dom_classes": [],
            "description": "",
            "_model_name": "HTMLModel",
            "placeholder": "​",
            "_view_module": "@jupyter-widgets/controls",
            "_model_module_version": "1.5.0",
            "value": " 1247/1247 [01:15&lt;00:00, 16.50 MiB/s]",
            "_view_count": null,
            "_view_module_version": "1.5.0",
            "description_tooltip": null,
            "_model_module": "@jupyter-widgets/controls",
            "layout": "IPY_MODEL_00107cb2e91e4fb8b356eeb8bb6370b9"
          }
        },
        "76d5fe3e09e5414588b057a40c0120b8": {
          "model_module": "@jupyter-widgets/controls",
          "model_name": "ProgressStyleModel",
          "state": {
            "_view_name": "StyleView",
            "_model_name": "ProgressStyleModel",
            "description_width": "initial",
            "_view_module": "@jupyter-widgets/base",
            "_model_module_version": "1.5.0",
            "_view_count": null,
            "_view_module_version": "1.2.0",
            "bar_color": null,
            "_model_module": "@jupyter-widgets/controls"
          }
        },
        "aba7434ef4b2463abb184658d1bcf6e2": {
          "model_module": "@jupyter-widgets/base",
          "model_name": "LayoutModel",
          "state": {
            "_view_name": "LayoutView",
            "grid_template_rows": null,
            "right": null,
            "justify_content": null,
            "_view_module": "@jupyter-widgets/base",
            "overflow": null,
            "_model_module_version": "1.2.0",
            "_view_count": null,
            "flex_flow": null,
            "width": null,
            "min_width": null,
            "border": null,
            "align_items": null,
            "bottom": null,
            "_model_module": "@jupyter-widgets/base",
            "top": null,
            "grid_column": null,
            "overflow_y": null,
            "overflow_x": null,
            "grid_auto_flow": null,
            "grid_area": null,
            "grid_template_columns": null,
            "flex": null,
            "_model_name": "LayoutModel",
            "justify_items": null,
            "grid_row": null,
            "max_height": null,
            "align_content": null,
            "visibility": null,
            "align_self": null,
            "height": null,
            "min_height": null,
            "padding": null,
            "grid_auto_rows": null,
            "grid_gap": null,
            "max_width": null,
            "order": null,
            "_view_module_version": "1.2.0",
            "grid_template_areas": null,
            "object_position": null,
            "object_fit": null,
            "grid_auto_columns": null,
            "margin": null,
            "display": null,
            "left": null
          }
        },
        "fbd7ecf4d7c9412aa16f6d3ed1e39b5d": {
          "model_module": "@jupyter-widgets/controls",
          "model_name": "DescriptionStyleModel",
          "state": {
            "_view_name": "StyleView",
            "_model_name": "DescriptionStyleModel",
            "description_width": "",
            "_view_module": "@jupyter-widgets/base",
            "_model_module_version": "1.5.0",
            "_view_count": null,
            "_view_module_version": "1.2.0",
            "_model_module": "@jupyter-widgets/controls"
          }
        },
        "00107cb2e91e4fb8b356eeb8bb6370b9": {
          "model_module": "@jupyter-widgets/base",
          "model_name": "LayoutModel",
          "state": {
            "_view_name": "LayoutView",
            "grid_template_rows": null,
            "right": null,
            "justify_content": null,
            "_view_module": "@jupyter-widgets/base",
            "overflow": null,
            "_model_module_version": "1.2.0",
            "_view_count": null,
            "flex_flow": null,
            "width": null,
            "min_width": null,
            "border": null,
            "align_items": null,
            "bottom": null,
            "_model_module": "@jupyter-widgets/base",
            "top": null,
            "grid_column": null,
            "overflow_y": null,
            "overflow_x": null,
            "grid_auto_flow": null,
            "grid_area": null,
            "grid_template_columns": null,
            "flex": null,
            "_model_name": "LayoutModel",
            "justify_items": null,
            "grid_row": null,
            "max_height": null,
            "align_content": null,
            "visibility": null,
            "align_self": null,
            "height": null,
            "min_height": null,
            "padding": null,
            "grid_auto_rows": null,
            "grid_gap": null,
            "max_width": null,
            "order": null,
            "_view_module_version": "1.2.0",
            "grid_template_areas": null,
            "object_position": null,
            "object_fit": null,
            "grid_auto_columns": null,
            "margin": null,
            "display": null,
            "left": null
          }
        },
        "87762e919fac4906976f6830b2766113": {
          "model_module": "@jupyter-widgets/controls",
          "model_name": "HBoxModel",
          "state": {
            "_view_name": "HBoxView",
            "_dom_classes": [],
            "_model_name": "HBoxModel",
            "_view_module": "@jupyter-widgets/controls",
            "_model_module_version": "1.5.0",
            "_view_count": null,
            "_view_module_version": "1.5.0",
            "box_style": "",
            "layout": "IPY_MODEL_4fce14fe68c14d4f93f281c581c64102",
            "_model_module": "@jupyter-widgets/controls",
            "children": [
              "IPY_MODEL_18c3528ec2514344b6c7de95d198e359",
              "IPY_MODEL_d3d960e03f184b8ca97bde8f398825d7"
            ]
          }
        },
        "4fce14fe68c14d4f93f281c581c64102": {
          "model_module": "@jupyter-widgets/base",
          "model_name": "LayoutModel",
          "state": {
            "_view_name": "LayoutView",
            "grid_template_rows": null,
            "right": null,
            "justify_content": null,
            "_view_module": "@jupyter-widgets/base",
            "overflow": null,
            "_model_module_version": "1.2.0",
            "_view_count": null,
            "flex_flow": null,
            "width": null,
            "min_width": null,
            "border": null,
            "align_items": null,
            "bottom": null,
            "_model_module": "@jupyter-widgets/base",
            "top": null,
            "grid_column": null,
            "overflow_y": null,
            "overflow_x": null,
            "grid_auto_flow": null,
            "grid_area": null,
            "grid_template_columns": null,
            "flex": null,
            "_model_name": "LayoutModel",
            "justify_items": null,
            "grid_row": null,
            "max_height": null,
            "align_content": null,
            "visibility": null,
            "align_self": null,
            "height": null,
            "min_height": null,
            "padding": null,
            "grid_auto_rows": null,
            "grid_gap": null,
            "max_width": null,
            "order": null,
            "_view_module_version": "1.2.0",
            "grid_template_areas": null,
            "object_position": null,
            "object_fit": null,
            "grid_auto_columns": null,
            "margin": null,
            "display": null,
            "left": null
          }
        },
        "18c3528ec2514344b6c7de95d198e359": {
          "model_module": "@jupyter-widgets/controls",
          "model_name": "FloatProgressModel",
          "state": {
            "_view_name": "ProgressView",
            "style": "IPY_MODEL_04b10e5038ba4b548cd2e8cc66f98590",
            "_dom_classes": [],
            "description": "Extraction completed...: 100%",
            "_model_name": "FloatProgressModel",
            "bar_style": "success",
            "max": 1,
            "_view_module": "@jupyter-widgets/controls",
            "_model_module_version": "1.5.0",
            "value": 1,
            "_view_count": null,
            "_view_module_version": "1.5.0",
            "orientation": "horizontal",
            "min": 0,
            "description_tooltip": null,
            "_model_module": "@jupyter-widgets/controls",
            "layout": "IPY_MODEL_09219c05ce9f4215afd845f5e028acfb"
          }
        },
        "d3d960e03f184b8ca97bde8f398825d7": {
          "model_module": "@jupyter-widgets/controls",
          "model_name": "HTMLModel",
          "state": {
            "_view_name": "HTMLView",
            "style": "IPY_MODEL_91e699b3963a4261a78f1d22b5406ea7",
            "_dom_classes": [],
            "description": "",
            "_model_name": "HTMLModel",
            "placeholder": "​",
            "_view_module": "@jupyter-widgets/controls",
            "_model_module_version": "1.5.0",
            "value": " 1/1 [01:15&lt;00:00, 75.49s/ file]",
            "_view_count": null,
            "_view_module_version": "1.5.0",
            "description_tooltip": null,
            "_model_module": "@jupyter-widgets/controls",
            "layout": "IPY_MODEL_497f37edc9b64787b724193500e16d73"
          }
        },
        "04b10e5038ba4b548cd2e8cc66f98590": {
          "model_module": "@jupyter-widgets/controls",
          "model_name": "ProgressStyleModel",
          "state": {
            "_view_name": "StyleView",
            "_model_name": "ProgressStyleModel",
            "description_width": "initial",
            "_view_module": "@jupyter-widgets/base",
            "_model_module_version": "1.5.0",
            "_view_count": null,
            "_view_module_version": "1.2.0",
            "bar_color": null,
            "_model_module": "@jupyter-widgets/controls"
          }
        },
        "09219c05ce9f4215afd845f5e028acfb": {
          "model_module": "@jupyter-widgets/base",
          "model_name": "LayoutModel",
          "state": {
            "_view_name": "LayoutView",
            "grid_template_rows": null,
            "right": null,
            "justify_content": null,
            "_view_module": "@jupyter-widgets/base",
            "overflow": null,
            "_model_module_version": "1.2.0",
            "_view_count": null,
            "flex_flow": null,
            "width": null,
            "min_width": null,
            "border": null,
            "align_items": null,
            "bottom": null,
            "_model_module": "@jupyter-widgets/base",
            "top": null,
            "grid_column": null,
            "overflow_y": null,
            "overflow_x": null,
            "grid_auto_flow": null,
            "grid_area": null,
            "grid_template_columns": null,
            "flex": null,
            "_model_name": "LayoutModel",
            "justify_items": null,
            "grid_row": null,
            "max_height": null,
            "align_content": null,
            "visibility": null,
            "align_self": null,
            "height": null,
            "min_height": null,
            "padding": null,
            "grid_auto_rows": null,
            "grid_gap": null,
            "max_width": null,
            "order": null,
            "_view_module_version": "1.2.0",
            "grid_template_areas": null,
            "object_position": null,
            "object_fit": null,
            "grid_auto_columns": null,
            "margin": null,
            "display": null,
            "left": null
          }
        },
        "91e699b3963a4261a78f1d22b5406ea7": {
          "model_module": "@jupyter-widgets/controls",
          "model_name": "DescriptionStyleModel",
          "state": {
            "_view_name": "StyleView",
            "_model_name": "DescriptionStyleModel",
            "description_width": "",
            "_view_module": "@jupyter-widgets/base",
            "_model_module_version": "1.5.0",
            "_view_count": null,
            "_view_module_version": "1.2.0",
            "_model_module": "@jupyter-widgets/controls"
          }
        },
        "497f37edc9b64787b724193500e16d73": {
          "model_module": "@jupyter-widgets/base",
          "model_name": "LayoutModel",
          "state": {
            "_view_name": "LayoutView",
            "grid_template_rows": null,
            "right": null,
            "justify_content": null,
            "_view_module": "@jupyter-widgets/base",
            "overflow": null,
            "_model_module_version": "1.2.0",
            "_view_count": null,
            "flex_flow": null,
            "width": null,
            "min_width": null,
            "border": null,
            "align_items": null,
            "bottom": null,
            "_model_module": "@jupyter-widgets/base",
            "top": null,
            "grid_column": null,
            "overflow_y": null,
            "overflow_x": null,
            "grid_auto_flow": null,
            "grid_area": null,
            "grid_template_columns": null,
            "flex": null,
            "_model_name": "LayoutModel",
            "justify_items": null,
            "grid_row": null,
            "max_height": null,
            "align_content": null,
            "visibility": null,
            "align_self": null,
            "height": null,
            "min_height": null,
            "padding": null,
            "grid_auto_rows": null,
            "grid_gap": null,
            "max_width": null,
            "order": null,
            "_view_module_version": "1.2.0",
            "grid_template_areas": null,
            "object_position": null,
            "object_fit": null,
            "grid_auto_columns": null,
            "margin": null,
            "display": null,
            "left": null
          }
        },
        "0f0936f7e6ca49bb9f5f5e8eb2829f2c": {
          "model_module": "@jupyter-widgets/controls",
          "model_name": "HBoxModel",
          "state": {
            "_view_name": "HBoxView",
            "_dom_classes": [],
            "_model_name": "HBoxModel",
            "_view_module": "@jupyter-widgets/controls",
            "_model_module_version": "1.5.0",
            "_view_count": null,
            "_view_module_version": "1.5.0",
            "box_style": "",
            "layout": "IPY_MODEL_601d720be8f849bab582b60b333c27e4",
            "_model_module": "@jupyter-widgets/controls",
            "children": [
              "IPY_MODEL_6efcdc6da8a04044a770a53e8a3dfeec",
              "IPY_MODEL_d7ca5b48bb504c7aa94c4027e7e82a96"
            ]
          }
        },
        "601d720be8f849bab582b60b333c27e4": {
          "model_module": "@jupyter-widgets/base",
          "model_name": "LayoutModel",
          "state": {
            "_view_name": "LayoutView",
            "grid_template_rows": null,
            "right": null,
            "justify_content": null,
            "_view_module": "@jupyter-widgets/base",
            "overflow": null,
            "_model_module_version": "1.2.0",
            "_view_count": null,
            "flex_flow": null,
            "width": null,
            "min_width": null,
            "border": null,
            "align_items": null,
            "bottom": null,
            "_model_module": "@jupyter-widgets/base",
            "top": null,
            "grid_column": null,
            "overflow_y": null,
            "overflow_x": null,
            "grid_auto_flow": null,
            "grid_area": null,
            "grid_template_columns": null,
            "flex": null,
            "_model_name": "LayoutModel",
            "justify_items": null,
            "grid_row": null,
            "max_height": null,
            "align_content": null,
            "visibility": null,
            "align_self": null,
            "height": null,
            "min_height": null,
            "padding": null,
            "grid_auto_rows": null,
            "grid_gap": null,
            "max_width": null,
            "order": null,
            "_view_module_version": "1.2.0",
            "grid_template_areas": null,
            "object_position": null,
            "object_fit": null,
            "grid_auto_columns": null,
            "margin": null,
            "display": null,
            "left": null
          }
        },
        "6efcdc6da8a04044a770a53e8a3dfeec": {
          "model_module": "@jupyter-widgets/controls",
          "model_name": "FloatProgressModel",
          "state": {
            "_view_name": "ProgressView",
            "style": "IPY_MODEL_07ff32b08a724c3383325a98054e8b45",
            "_dom_classes": [],
            "description": "",
            "_model_name": "FloatProgressModel",
            "bar_style": "info",
            "max": 1,
            "_view_module": "@jupyter-widgets/controls",
            "_model_module_version": "1.5.0",
            "value": 1,
            "_view_count": null,
            "_view_module_version": "1.5.0",
            "orientation": "horizontal",
            "min": 0,
            "description_tooltip": null,
            "_model_module": "@jupyter-widgets/controls",
            "layout": "IPY_MODEL_427b0ac8f7564f12b9fb0c53123fde8f"
          }
        },
        "d7ca5b48bb504c7aa94c4027e7e82a96": {
          "model_module": "@jupyter-widgets/controls",
          "model_name": "HTMLModel",
          "state": {
            "_view_name": "HTMLView",
            "style": "IPY_MODEL_c3d29206610f4fbaa44589cf5942779e",
            "_dom_classes": [],
            "description": "",
            "_model_name": "HTMLModel",
            "placeholder": "​",
            "_view_module": "@jupyter-widgets/controls",
            "_model_module_version": "1.5.0",
            "value": " 16264448/0 [1:22:00&lt;00:00, 3199.61 examples/s]",
            "_view_count": null,
            "_view_module_version": "1.5.0",
            "description_tooltip": null,
            "_model_module": "@jupyter-widgets/controls",
            "layout": "IPY_MODEL_20714363089c451d9949cd8b17355203"
          }
        },
        "07ff32b08a724c3383325a98054e8b45": {
          "model_module": "@jupyter-widgets/controls",
          "model_name": "ProgressStyleModel",
          "state": {
            "_view_name": "StyleView",
            "_model_name": "ProgressStyleModel",
            "description_width": "initial",
            "_view_module": "@jupyter-widgets/base",
            "_model_module_version": "1.5.0",
            "_view_count": null,
            "_view_module_version": "1.2.0",
            "bar_color": null,
            "_model_module": "@jupyter-widgets/controls"
          }
        },
        "427b0ac8f7564f12b9fb0c53123fde8f": {
          "model_module": "@jupyter-widgets/base",
          "model_name": "LayoutModel",
          "state": {
            "_view_name": "LayoutView",
            "grid_template_rows": null,
            "right": null,
            "justify_content": null,
            "_view_module": "@jupyter-widgets/base",
            "overflow": null,
            "_model_module_version": "1.2.0",
            "_view_count": null,
            "flex_flow": null,
            "width": null,
            "min_width": null,
            "border": null,
            "align_items": null,
            "bottom": null,
            "_model_module": "@jupyter-widgets/base",
            "top": null,
            "grid_column": null,
            "overflow_y": null,
            "overflow_x": null,
            "grid_auto_flow": null,
            "grid_area": null,
            "grid_template_columns": null,
            "flex": null,
            "_model_name": "LayoutModel",
            "justify_items": null,
            "grid_row": null,
            "max_height": null,
            "align_content": null,
            "visibility": null,
            "align_self": null,
            "height": null,
            "min_height": null,
            "padding": null,
            "grid_auto_rows": null,
            "grid_gap": null,
            "max_width": null,
            "order": null,
            "_view_module_version": "1.2.0",
            "grid_template_areas": null,
            "object_position": null,
            "object_fit": null,
            "grid_auto_columns": null,
            "margin": null,
            "display": null,
            "left": null
          }
        },
        "c3d29206610f4fbaa44589cf5942779e": {
          "model_module": "@jupyter-widgets/controls",
          "model_name": "DescriptionStyleModel",
          "state": {
            "_view_name": "StyleView",
            "_model_name": "DescriptionStyleModel",
            "description_width": "",
            "_view_module": "@jupyter-widgets/base",
            "_model_module_version": "1.5.0",
            "_view_count": null,
            "_view_module_version": "1.2.0",
            "_model_module": "@jupyter-widgets/controls"
          }
        },
        "20714363089c451d9949cd8b17355203": {
          "model_module": "@jupyter-widgets/base",
          "model_name": "LayoutModel",
          "state": {
            "_view_name": "LayoutView",
            "grid_template_rows": null,
            "right": null,
            "justify_content": null,
            "_view_module": "@jupyter-widgets/base",
            "overflow": null,
            "_model_module_version": "1.2.0",
            "_view_count": null,
            "flex_flow": null,
            "width": null,
            "min_width": null,
            "border": null,
            "align_items": null,
            "bottom": null,
            "_model_module": "@jupyter-widgets/base",
            "top": null,
            "grid_column": null,
            "overflow_y": null,
            "overflow_x": null,
            "grid_auto_flow": null,
            "grid_area": null,
            "grid_template_columns": null,
            "flex": null,
            "_model_name": "LayoutModel",
            "justify_items": null,
            "grid_row": null,
            "max_height": null,
            "align_content": null,
            "visibility": null,
            "align_self": null,
            "height": null,
            "min_height": null,
            "padding": null,
            "grid_auto_rows": null,
            "grid_gap": null,
            "max_width": null,
            "order": null,
            "_view_module_version": "1.2.0",
            "grid_template_areas": null,
            "object_position": null,
            "object_fit": null,
            "grid_auto_columns": null,
            "margin": null,
            "display": null,
            "left": null
          }
        },
        "cabcccc0e76843cd85fb6ea429c07d50": {
          "model_module": "@jupyter-widgets/controls",
          "model_name": "HBoxModel",
          "state": {
            "_view_name": "HBoxView",
            "_dom_classes": [],
            "_model_name": "HBoxModel",
            "_view_module": "@jupyter-widgets/controls",
            "_model_module_version": "1.5.0",
            "_view_count": null,
            "_view_module_version": "1.5.0",
            "box_style": "",
            "layout": "IPY_MODEL_6409b16d694c499da853e6e498fa9673",
            "_model_module": "@jupyter-widgets/controls",
            "children": [
              "IPY_MODEL_9d2ebc05af2e40b3b6b7f4b210be8892",
              "IPY_MODEL_da3d2ef22f8e4e648e78c995f03d916e"
            ]
          }
        },
        "6409b16d694c499da853e6e498fa9673": {
          "model_module": "@jupyter-widgets/base",
          "model_name": "LayoutModel",
          "state": {
            "_view_name": "LayoutView",
            "grid_template_rows": null,
            "right": null,
            "justify_content": null,
            "_view_module": "@jupyter-widgets/base",
            "overflow": null,
            "_model_module_version": "1.2.0",
            "_view_count": null,
            "flex_flow": null,
            "width": null,
            "min_width": null,
            "border": null,
            "align_items": null,
            "bottom": null,
            "_model_module": "@jupyter-widgets/base",
            "top": null,
            "grid_column": null,
            "overflow_y": null,
            "overflow_x": null,
            "grid_auto_flow": null,
            "grid_area": null,
            "grid_template_columns": null,
            "flex": null,
            "_model_name": "LayoutModel",
            "justify_items": null,
            "grid_row": null,
            "max_height": null,
            "align_content": null,
            "visibility": null,
            "align_self": null,
            "height": null,
            "min_height": null,
            "padding": null,
            "grid_auto_rows": null,
            "grid_gap": null,
            "max_width": null,
            "order": null,
            "_view_module_version": "1.2.0",
            "grid_template_areas": null,
            "object_position": null,
            "object_fit": null,
            "grid_auto_columns": null,
            "margin": null,
            "display": null,
            "left": null
          }
        },
        "9d2ebc05af2e40b3b6b7f4b210be8892": {
          "model_module": "@jupyter-widgets/controls",
          "model_name": "FloatProgressModel",
          "state": {
            "_view_name": "ProgressView",
            "style": "IPY_MODEL_d3c5a6446e674548b2c49b0b8b8c948b",
            "_dom_classes": [],
            "description": "100%",
            "_model_name": "FloatProgressModel",
            "bar_style": "danger",
            "max": 16264448,
            "_view_module": "@jupyter-widgets/controls",
            "_model_module_version": "1.5.0",
            "value": 16248286,
            "_view_count": null,
            "_view_module_version": "1.5.0",
            "orientation": "horizontal",
            "min": 0,
            "description_tooltip": null,
            "_model_module": "@jupyter-widgets/controls",
            "layout": "IPY_MODEL_acfc1918f5d24d94b076de5dc557385c"
          }
        },
        "da3d2ef22f8e4e648e78c995f03d916e": {
          "model_module": "@jupyter-widgets/controls",
          "model_name": "HTMLModel",
          "state": {
            "_view_name": "HTMLView",
            "style": "IPY_MODEL_5f6beb4f98394beca53a9ed32b927891",
            "_dom_classes": [],
            "description": "",
            "_model_name": "HTMLModel",
            "placeholder": "​",
            "_view_module": "@jupyter-widgets/controls",
            "_model_module_version": "1.5.0",
            "value": " 16248286/16264448 [03:30&lt;00:00, 90116.88 examples/s]",
            "_view_count": null,
            "_view_module_version": "1.5.0",
            "description_tooltip": null,
            "_model_module": "@jupyter-widgets/controls",
            "layout": "IPY_MODEL_88094b0519b44cbcafb96edb17f8c036"
          }
        },
        "d3c5a6446e674548b2c49b0b8b8c948b": {
          "model_module": "@jupyter-widgets/controls",
          "model_name": "ProgressStyleModel",
          "state": {
            "_view_name": "StyleView",
            "_model_name": "ProgressStyleModel",
            "description_width": "initial",
            "_view_module": "@jupyter-widgets/base",
            "_model_module_version": "1.5.0",
            "_view_count": null,
            "_view_module_version": "1.2.0",
            "bar_color": null,
            "_model_module": "@jupyter-widgets/controls"
          }
        },
        "acfc1918f5d24d94b076de5dc557385c": {
          "model_module": "@jupyter-widgets/base",
          "model_name": "LayoutModel",
          "state": {
            "_view_name": "LayoutView",
            "grid_template_rows": null,
            "right": null,
            "justify_content": null,
            "_view_module": "@jupyter-widgets/base",
            "overflow": null,
            "_model_module_version": "1.2.0",
            "_view_count": null,
            "flex_flow": null,
            "width": null,
            "min_width": null,
            "border": null,
            "align_items": null,
            "bottom": null,
            "_model_module": "@jupyter-widgets/base",
            "top": null,
            "grid_column": null,
            "overflow_y": null,
            "overflow_x": null,
            "grid_auto_flow": null,
            "grid_area": null,
            "grid_template_columns": null,
            "flex": null,
            "_model_name": "LayoutModel",
            "justify_items": null,
            "grid_row": null,
            "max_height": null,
            "align_content": null,
            "visibility": null,
            "align_self": null,
            "height": null,
            "min_height": null,
            "padding": null,
            "grid_auto_rows": null,
            "grid_gap": null,
            "max_width": null,
            "order": null,
            "_view_module_version": "1.2.0",
            "grid_template_areas": null,
            "object_position": null,
            "object_fit": null,
            "grid_auto_columns": null,
            "margin": null,
            "display": null,
            "left": null
          }
        },
        "5f6beb4f98394beca53a9ed32b927891": {
          "model_module": "@jupyter-widgets/controls",
          "model_name": "DescriptionStyleModel",
          "state": {
            "_view_name": "StyleView",
            "_model_name": "DescriptionStyleModel",
            "description_width": "",
            "_view_module": "@jupyter-widgets/base",
            "_model_module_version": "1.5.0",
            "_view_count": null,
            "_view_module_version": "1.2.0",
            "_model_module": "@jupyter-widgets/controls"
          }
        },
        "88094b0519b44cbcafb96edb17f8c036": {
          "model_module": "@jupyter-widgets/base",
          "model_name": "LayoutModel",
          "state": {
            "_view_name": "LayoutView",
            "grid_template_rows": null,
            "right": null,
            "justify_content": null,
            "_view_module": "@jupyter-widgets/base",
            "overflow": null,
            "_model_module_version": "1.2.0",
            "_view_count": null,
            "flex_flow": null,
            "width": null,
            "min_width": null,
            "border": null,
            "align_items": null,
            "bottom": null,
            "_model_module": "@jupyter-widgets/base",
            "top": null,
            "grid_column": null,
            "overflow_y": null,
            "overflow_x": null,
            "grid_auto_flow": null,
            "grid_area": null,
            "grid_template_columns": null,
            "flex": null,
            "_model_name": "LayoutModel",
            "justify_items": null,
            "grid_row": null,
            "max_height": null,
            "align_content": null,
            "visibility": null,
            "align_self": null,
            "height": null,
            "min_height": null,
            "padding": null,
            "grid_auto_rows": null,
            "grid_gap": null,
            "max_width": null,
            "order": null,
            "_view_module_version": "1.2.0",
            "grid_template_areas": null,
            "object_position": null,
            "object_fit": null,
            "grid_auto_columns": null,
            "margin": null,
            "display": null,
            "left": null
          }
        }
      }
    }
  },
  "cells": [
    {
      "cell_type": "markdown",
      "metadata": {
        "id": "view-in-github",
        "colab_type": "text"
      },
      "source": [
        "<a href=\"https://colab.research.google.com/github/asmith1138/MachineTranslation/blob/main/MT_eng_deu_transformer.ipynb\" target=\"_parent\"><img src=\"https://colab.research.google.com/assets/colab-badge.svg\" alt=\"Open In Colab\"/></a>"
      ]
    },
    {
      "cell_type": "code",
      "metadata": {
        "colab": {
          "base_uri": "https://localhost:8080/"
        },
        "id": "N-AkPfjn_-QA",
        "outputId": "e3cf015b-7edf-4b9a-c4d8-57af91150c9b"
      },
      "source": [
        "from google.colab import drive\n",
        "drive.mount('/content/drive')"
      ],
      "execution_count": 1,
      "outputs": [
        {
          "output_type": "stream",
          "text": [
            "Mounted at /content/drive\n"
          ],
          "name": "stdout"
        }
      ]
    },
    {
      "cell_type": "code",
      "metadata": {
        "id": "XFG0NDRu5mYQ",
        "colab": {
          "base_uri": "https://localhost:8080/"
        },
        "outputId": "cba1d290-0010-45ba-a834-45623b9bb272"
      },
      "source": [
        "!pip install -q tensorflow_datasets\n",
        "!pip install -q tensorflow_text"
      ],
      "execution_count": 2,
      "outputs": [
        {
          "output_type": "stream",
          "text": [
            "\u001b[K     |████████████████████████████████| 3.4MB 10.1MB/s \n",
            "\u001b[?25h"
          ],
          "name": "stdout"
        }
      ]
    },
    {
      "cell_type": "code",
      "metadata": {
        "id": "JjJJyJTZYebt"
      },
      "source": [
        "import collections\n",
        "import logging\n",
        "import os\n",
        "import pathlib\n",
        "import re\n",
        "import string\n",
        "import sys\n",
        "import time\n",
        "\n",
        "import numpy as np\n",
        "import matplotlib.pyplot as plt\n",
        "\n",
        "import tensorflow_datasets as tfds\n",
        "import tensorflow_text as text\n",
        "import tensorflow as tf"
      ],
      "execution_count": 3,
      "outputs": []
    },
    {
      "cell_type": "code",
      "metadata": {
        "id": "pXzVhU34zWEU"
      },
      "source": [
        "logging.getLogger('tensorflow').setLevel(logging.ERROR)  # suppress warnings"
      ],
      "execution_count": 4,
      "outputs": []
    },
    {
      "cell_type": "code",
      "metadata": {
        "id": "8q9t4FmN96eN",
        "colab": {
          "base_uri": "https://localhost:8080/",
          "height": 367,
          "referenced_widgets": [
            "e33cb11fad76450792cbee11b4fcad76",
            "771220a824234bd5ae0ff9b4c87b2020",
            "6f34bf1947124f05b7cb0c92f8aa15d5",
            "456b84b7023f43bfbaeb0c7d42b9c09e",
            "ea23eda109ee4a218d4f814c31557f3f",
            "70c469d7838f418fa00f2351c13a0ead",
            "4061beb4b11d478ca7aa93b147535927",
            "76b739d6b5ec4bc086a1a4e3a4264c22",
            "f58de04ad1ec415988030da7abadb79b",
            "4b0a02c7ecbe45b6a0e979be89d2fd12",
            "293a86111ffc460ebab42d0e09b0fe36",
            "c1b4400495f843e3a107dd2028a0ccd0",
            "76d5fe3e09e5414588b057a40c0120b8",
            "aba7434ef4b2463abb184658d1bcf6e2",
            "fbd7ecf4d7c9412aa16f6d3ed1e39b5d",
            "00107cb2e91e4fb8b356eeb8bb6370b9",
            "87762e919fac4906976f6830b2766113",
            "4fce14fe68c14d4f93f281c581c64102",
            "18c3528ec2514344b6c7de95d198e359",
            "d3d960e03f184b8ca97bde8f398825d7",
            "04b10e5038ba4b548cd2e8cc66f98590",
            "09219c05ce9f4215afd845f5e028acfb",
            "91e699b3963a4261a78f1d22b5406ea7",
            "497f37edc9b64787b724193500e16d73",
            "0f0936f7e6ca49bb9f5f5e8eb2829f2c",
            "601d720be8f849bab582b60b333c27e4",
            "6efcdc6da8a04044a770a53e8a3dfeec",
            "d7ca5b48bb504c7aa94c4027e7e82a96",
            "07ff32b08a724c3383325a98054e8b45",
            "427b0ac8f7564f12b9fb0c53123fde8f",
            "c3d29206610f4fbaa44589cf5942779e",
            "20714363089c451d9949cd8b17355203",
            "cabcccc0e76843cd85fb6ea429c07d50",
            "6409b16d694c499da853e6e498fa9673",
            "9d2ebc05af2e40b3b6b7f4b210be8892",
            "da3d2ef22f8e4e648e78c995f03d916e",
            "d3c5a6446e674548b2c49b0b8b8c948b",
            "acfc1918f5d24d94b076de5dc557385c",
            "5f6beb4f98394beca53a9ed32b927891",
            "88094b0519b44cbcafb96edb17f8c036"
          ]
        },
        "outputId": "b03065f8-de8d-422d-c200-84d625a00725"
      },
      "source": [
        "#config = tfds.translate.wmt.WmtConfig(\n",
        "#    version=\"0.0.1\",\n",
        "#    language_pair=(\"de\", \"en\"),\n",
        "#    subsets={\n",
        "#        tfds.Split.TRAIN: [\"commoncrawl_frde\"],\n",
        "#        tfds.Split.VALIDATION: [\"euelections_dev2019\"],\n",
        "#    },\n",
        "#)\n",
        "#builder = tfds.builder(\"wmt_translate\", config=config)\n",
        "examplesDe, metadataDe = tfds.load('para_crawl/ende_plain_text', with_info=True, as_supervised=True)\n",
        "#print(examplesDe.keys())\n",
        "train_examples = examplesDe['train']#, examplesDe['validation']\n",
        "print(train_examples)\n",
        "#tf.data.experimental.save(\n",
        "#    train_examplesDe, '/content/drive/MyDrive/MT/para_crawl_ds/para_crawl', compression=None, shard_func=None\n",
        "#)\n",
        "\n",
        "#builder.download_and_prepare(download_dir='wmt_translate', download_config=config)\n",
        "#trainDE_examples, valDE_examples = builder['train'], builder['validation']\n",
        "#examples, metadata = tfds.load('ted_hrlr_translate/pt_to_en', with_info=True, as_supervised=True)\n",
        "#train_examples, val_examples = examples['train'], examples['validation']\n"
      ],
      "execution_count": 5,
      "outputs": [
        {
          "output_type": "stream",
          "text": [
            "\u001b[1mDownloading and preparing dataset para_crawl/ende_plain_text/1.0.0 (download: 1.22 GiB, generated: Unknown size, total: 1.22 GiB) to /root/tensorflow_datasets/para_crawl/ende_plain_text/1.0.0...\u001b[0m\n"
          ],
          "name": "stdout"
        },
        {
          "output_type": "display_data",
          "data": {
            "application/vnd.jupyter.widget-view+json": {
              "model_id": "e33cb11fad76450792cbee11b4fcad76",
              "version_minor": 0,
              "version_major": 2
            },
            "text/plain": [
              "HBox(children=(FloatProgress(value=1.0, bar_style='info', description='Dl Completed...', max=1.0, style=Progre…"
            ]
          },
          "metadata": {
            "tags": []
          }
        },
        {
          "output_type": "display_data",
          "data": {
            "application/vnd.jupyter.widget-view+json": {
              "model_id": "f58de04ad1ec415988030da7abadb79b",
              "version_minor": 0,
              "version_major": 2
            },
            "text/plain": [
              "HBox(children=(FloatProgress(value=1.0, bar_style='info', description='Dl Size...', max=1.0, style=ProgressSty…"
            ]
          },
          "metadata": {
            "tags": []
          }
        },
        {
          "output_type": "display_data",
          "data": {
            "application/vnd.jupyter.widget-view+json": {
              "model_id": "87762e919fac4906976f6830b2766113",
              "version_minor": 0,
              "version_major": 2
            },
            "text/plain": [
              "HBox(children=(FloatProgress(value=1.0, bar_style='info', description='Extraction completed...', max=1.0, styl…"
            ]
          },
          "metadata": {
            "tags": []
          }
        },
        {
          "output_type": "stream",
          "text": [
            "\n",
            "\n",
            "\n",
            "\n",
            "\n",
            "\n"
          ],
          "name": "stdout"
        },
        {
          "output_type": "display_data",
          "data": {
            "application/vnd.jupyter.widget-view+json": {
              "model_id": "0f0936f7e6ca49bb9f5f5e8eb2829f2c",
              "version_minor": 0,
              "version_major": 2
            },
            "text/plain": [
              "HBox(children=(FloatProgress(value=1.0, bar_style='info', max=1.0), HTML(value='')))"
            ]
          },
          "metadata": {
            "tags": []
          }
        },
        {
          "output_type": "stream",
          "text": [
            "\rShuffling and writing examples to /root/tensorflow_datasets/para_crawl/ende_plain_text/1.0.0.incomplete5PMH3L/para_crawl-train.tfrecord\n"
          ],
          "name": "stdout"
        },
        {
          "output_type": "display_data",
          "data": {
            "application/vnd.jupyter.widget-view+json": {
              "model_id": "cabcccc0e76843cd85fb6ea429c07d50",
              "version_minor": 0,
              "version_major": 2
            },
            "text/plain": [
              "HBox(children=(FloatProgress(value=0.0, max=16264448.0), HTML(value='')))"
            ]
          },
          "metadata": {
            "tags": []
          }
        },
        {
          "output_type": "stream",
          "text": [
            "WARNING: TFDS encoder are deprecated and will be removed soon. Please use `tensorflow_text` instead with the plain text dataset.\n",
            "\u001b[1mDataset para_crawl downloaded and prepared to /root/tensorflow_datasets/para_crawl/ende_plain_text/1.0.0. Subsequent calls will reuse this data.\u001b[0m\n",
            "<PrefetchDataset shapes: ((), ()), types: (tf.string, tf.string)>\n"
          ],
          "name": "stdout"
        }
      ]
    },
    {
      "cell_type": "code",
      "metadata": {
        "id": "AtuMLTQGlHZ1",
        "colab": {
          "base_uri": "https://localhost:8080/"
        },
        "outputId": "dabaa652-0b6d-4c09-c7f1-f46fbbd1512d"
      },
      "source": [
        "for de_examples, en_examples in train_examples.batch(3).take(1):\n",
        "  for de in de_examples.numpy():\n",
        "    print(de.decode('utf-8'))\n",
        "\n",
        "  print()\n",
        "\n",
        "  for en in en_examples.numpy():\n",
        "    print(en.decode('utf-8'))\n",
        "\n",
        "print(train_examples)\n",
        "train_examplesDe = train_examples.take(100000)\n",
        "test_examplesDe = train_examples.skip(100000).take(3000)\n",
        "print(tuple(train_examplesDe.take(1)))\n",
        "print(tuple(test_examplesDe.take(1)))"
      ],
      "execution_count": 6,
      "outputs": [
        {
          "output_type": "stream",
          "text": [
            "Pictures of Quebec : roofs of Quebec\n",
            "April 2007 In a not-so-shocking yet extremely relevant survey, BtoBonline discovered that most email marketers - especially those on the business to business side - continue to forgo testing their campaigns before they actually send them.\n",
            "\"Chekists can see nothing beyond their own noses [...] they are degenerating into ordinary nincompoops, and [...] they don't want to fulfill the directive of the Central Committee.\" (p. 134)\n",
            "\n",
            "Fotos von Quebec - Dächer von Quebec\n",
            "April 2007 In einer nicht so schockierenden, aber sehr relevanten Umfrage, entdeckte BtoBonline das die meisten E-Mail Vermarkter – besonders die auf der business to business Seite- verzichten weiterhin auf die Prüfung Ihrer Kampagnen bevor sie Sie senden.\n",
            "Tschekisten können nicht über ihre eigene Nase hinausblicken [...], sie sind dabei, in gewöhnliche Schlafmützen zu degenerieren und [...] sie wollen nicht die Direktiven des ZK erfüllen. (S. 134)\n",
            "<PrefetchDataset shapes: ((), ()), types: (tf.string, tf.string)>\n",
            "((<tf.Tensor: shape=(), dtype=string, numpy=b'Pictures of Quebec : roofs of Quebec'>, <tf.Tensor: shape=(), dtype=string, numpy=b'Fotos von Quebec - D\\xc3\\xa4cher von Quebec'>),)\n",
            "((<tf.Tensor: shape=(), dtype=string, numpy=b'Welcome gift for children up to six years with a T-shirt from \"Snow White and the 7 Dwarfs\"'>, <tf.Tensor: shape=(), dtype=string, numpy=b'Willkommensgeschenk f\\xc3\\xbcr Kinder bis sechs Jahre mit einem T-Shirt von \"Schneewittchen und den 7 Zwergen\"'>),)\n"
          ],
          "name": "stdout"
        }
      ]
    },
    {
      "cell_type": "markdown",
      "metadata": {
        "id": "eJxTd6aVnZyh"
      },
      "source": [
        "## Text tokenization & detokenization"
      ]
    },
    {
      "cell_type": "markdown",
      "metadata": {
        "id": "WlHAFNaopq6U"
      },
      "source": [
        "You can't train a model directly on text. The text needs to be converted to some numeric representation first. Typically, you convert the text to sequences of token IDs, which are as indexes into an embedding."
      ]
    },
    {
      "cell_type": "markdown",
      "metadata": {
        "id": "2sPvbCEePzOC"
      },
      "source": [
        "One popular implementation is demonstrated in the [Subword tokenizer tutorial](https://www.tensorflow.org/tutorials/tensorflow_text/subwords_tokenizer) builds subword tokenizers (`text.BertTokenizer`) optimized for this dataset and exports them in a [saved_model](https://www.tensorflow.org/guide/saved_model). \n",
        "\n",
        "Download and unzip and import the `saved_model`:"
      ]
    },
    {
      "cell_type": "code",
      "metadata": {
        "id": "QToMl0NanZPr",
        "colab": {
          "base_uri": "https://localhost:8080/",
          "height": 36
        },
        "outputId": "12988aad-e8dc-4b0c-befe-4183fad19de0"
      },
      "source": [
        "#model_name = \"ted_hrlr_translate_pt_en_converter\"\n",
        "#tf.keras.utils.get_file(\n",
        "#    f\"{model_name}.zip\",\n",
        "#    f\"https://storage.googleapis.com/download.tensorflow.org/models/{model_name}.zip\",\n",
        "#    cache_dir='.', cache_subdir='', extract=True\n",
        "#)\n",
        "\n",
        "#!pip install transformers\n",
        "#from transformers import pipeline\n",
        "#unmasker = pipeline('fill-mask', model='bert-base-multilingual-cased')\n",
        "#unmasker(\"Hello I'm a [MASK] model.\")\n",
        "\n",
        "#from transformers import BertTokenizer, TFBertModel\n",
        "#tokenizer = BertTokenizer.from_pretrained('bert-base-multilingual-cased')\n",
        "#bertmodel = TFBertModel.from_pretrained(\"bert-base-multilingual-cased\")\n",
        "#text = \"Ich bin studentin\"\n",
        "#encoded_input = tokenizer(text, return_tensors='tf')\n",
        "#output = bertmodel(encoded_input)\n",
        "#print(\"******************************\")\n",
        "#print(tokenizer)\n",
        "#print(encoded_input)\n",
        "#print(output)\n",
        "\n",
        "\n",
        "model_nameDe = \"/content/drive/MyDrive/MT/paracrawl_de_en_converter\"\n",
        "tf.keras.utils.get_file(\n",
        "    f\"{model_nameDe}.zip\",\n",
        "    f\"file://{model_nameDe}.zip\",\n",
        "    cache_dir='.', cache_subdir='', extract=True\n",
        ")\n",
        "#wmt19_translate_de_en_converter"
      ],
      "execution_count": 7,
      "outputs": [
        {
          "output_type": "execute_result",
          "data": {
            "application/vnd.google.colaboratory.intrinsic+json": {
              "type": "string"
            },
            "text/plain": [
              "'/content/drive/MyDrive/MT/paracrawl_de_en_converter.zip'"
            ]
          },
          "metadata": {
            "tags": []
          },
          "execution_count": 7
        }
      ]
    },
    {
      "cell_type": "code",
      "metadata": {
        "id": "h5dbGnPXnuI1"
      },
      "source": [
        "tokenizers = tf.saved_model.load(model_nameDe)"
      ],
      "execution_count": 8,
      "outputs": []
    },
    {
      "cell_type": "code",
      "metadata": {
        "id": "s-PCJijfcZ9_",
        "colab": {
          "base_uri": "https://localhost:8080/"
        },
        "outputId": "1008d010-a944-4656-d7d4-9cb65164a9c1"
      },
      "source": [
        "[item for item in dir(tokenizers.en) if not item.startswith('_')]"
      ],
      "execution_count": 9,
      "outputs": [
        {
          "output_type": "execute_result",
          "data": {
            "text/plain": [
              "['detokenize',\n",
              " 'get_reserved_tokens',\n",
              " 'get_vocab_path',\n",
              " 'get_vocab_size',\n",
              " 'lookup',\n",
              " 'tokenize',\n",
              " 'tokenizer',\n",
              " 'vocab']"
            ]
          },
          "metadata": {
            "tags": []
          },
          "execution_count": 9
        }
      ]
    },
    {
      "cell_type": "code",
      "metadata": {
        "id": "0GV-smAAQJtM",
        "colab": {
          "base_uri": "https://localhost:8080/"
        },
        "outputId": "616bfeca-ea69-4386-f28d-a2f5ba4dd9e3"
      },
      "source": [
        "for en in en_examples.numpy():\n",
        "  print(en.decode('utf-8'))"
      ],
      "execution_count": 10,
      "outputs": [
        {
          "output_type": "stream",
          "text": [
            "Fotos von Quebec - Dächer von Quebec\n",
            "April 2007 In einer nicht so schockierenden, aber sehr relevanten Umfrage, entdeckte BtoBonline das die meisten E-Mail Vermarkter – besonders die auf der business to business Seite- verzichten weiterhin auf die Prüfung Ihrer Kampagnen bevor sie Sie senden.\n",
            "Tschekisten können nicht über ihre eigene Nase hinausblicken [...], sie sind dabei, in gewöhnliche Schlafmützen zu degenerieren und [...] sie wollen nicht die Direktiven des ZK erfüllen. (S. 134)\n"
          ],
          "name": "stdout"
        }
      ]
    },
    {
      "cell_type": "code",
      "metadata": {
        "id": "2fQJq1xB-tOn",
        "colab": {
          "base_uri": "https://localhost:8080/"
        },
        "outputId": "d2142d9b-fe29-4459-d39b-4097d715d72d"
      },
      "source": [
        "encoded = tokenizers.en.tokenize(en_examples)\n",
        "\n",
        "for row in encoded.to_list():\n",
        "  print(row)"
      ],
      "execution_count": 11,
      "outputs": [
        {
          "output_type": "stream",
          "text": [
            "[2, 1453, 991, 58, 1594, 1296, 1107, 16, 6101, 1018, 991, 58, 1594, 1296, 1107, 3]\n",
            "[2, 1501, 1578, 990, 1030, 1011, 1050, 60, 1190, 3957, 5245, 15, 1049, 1077, 59, 1177, 993, 1799, 1965, 1026, 3960, 15, 4991, 993, 43, 2123, 3678, 1002, 2924, 998, 988, 1463, 46, 16, 1543, 63, 1018, 2562, 1018, 368, 1438, 988, 1003, 989, 3185, 2755, 3185, 1195, 16, 63, 1018, 5969, 2352, 2302, 1003, 988, 2873, 1104, 5974, 1002, 1810, 992, 992, 2436, 17, 3]\n",
            "[2, 61, 1895, 2399, 1206, 1042, 1011, 1029, 1046, 1906, 55, 2272, 1851, 2713, 995, 36, 17, 17, 17, 38, 15, 992, 1015, 1297, 15, 990, 48, 993, 4120, 993, 60, 1190, 1586, 1129, 1047, 4642, 996, 1233, 1218, 4912, 1234, 987, 36, 17, 17, 17, 38, 992, 1375, 1011, 988, 1314, 2103, 1004, 67, 1109, 3054, 17, 11, 60, 17, 1316, 1257, 12, 3]\n"
          ],
          "name": "stdout"
        }
      ]
    },
    {
      "cell_type": "markdown",
      "metadata": {
        "id": "dBRlikwDR2Lu"
      },
      "source": [
        "The `detokenize` method attempts to convert these token IDs back to human readable text: "
      ]
    },
    {
      "cell_type": "code",
      "metadata": {
        "id": "Tpqx1aug3W31",
        "colab": {
          "base_uri": "https://localhost:8080/"
        },
        "outputId": "69fc5d26-daed-49f3-a4cc-14d33f93fe9b"
      },
      "source": [
        "round_trip = tokenizers.en.detokenize(encoded)\n",
        "for line in round_trip.numpy():\n",
        "  print(line.decode('utf-8'))"
      ],
      "execution_count": 12,
      "outputs": [
        {
          "output_type": "stream",
          "text": [
            "fotos von quebec - dacher von quebec\n",
            "april 2007 in einer nicht so schockierenden , aber sehr relevanten umfrage , entdeckte btobonline das die meisten e - mail vermarkter – besonders die auf der business to business seite - verzichten weiterhin auf die prufung ihrer kampagnen bevor sie sie senden .\n",
            "tschekisten konnen nicht uber ihre eigene nase hinausblicken [ . . . ] , sie sind dabei , in gewohnliche schlafmutzen zu degenerieren und [ . . . ] sie wollen nicht die direktiven des zk erfullen . ( s . 134 )\n"
          ],
          "name": "stdout"
        }
      ]
    },
    {
      "cell_type": "markdown",
      "metadata": {
        "id": "e5mGvytArL9g"
      },
      "source": [
        "The lower level `lookup` method converts from token-IDs to token text:"
      ]
    },
    {
      "cell_type": "code",
      "metadata": {
        "id": "RpzRLzvIuN3R",
        "colab": {
          "base_uri": "https://localhost:8080/"
        },
        "outputId": "a8d1c52d-6a3d-4ee0-c486-dfe607d3bc62"
      },
      "source": [
        "tokens = tokenizers.en.lookup(encoded)\n",
        "tokens"
      ],
      "execution_count": 13,
      "outputs": [
        {
          "output_type": "execute_result",
          "data": {
            "text/plain": [
              "<tf.RaggedTensor [[b'[START]', b'fotos', b'von', b'q', b'##ue', b'##be', b'##c', b'-', b'dach', b'##er', b'von', b'q', b'##ue', b'##be', b'##c', b'[END]'], [b'[START]', b'april', b'2007', b'in', b'einer', b'nicht', b'so', b's', b'##ch', b'##ock', b'##ierenden', b',', b'aber', b'sehr', b'r', b'##el', b'##e', b'##va', b'##nten', b'um', b'##frage', b',', b'entdeckt', b'##e', b'b', b'##to', b'##bo', b'##n', b'##line', b'das', b'die', b'meisten', b'e', b'-', b'mail', b'v', b'##er', b'##markt', b'##er', b'\\xe2\\x80\\x93', b'besonders', b'die', b'auf', b'der', b'business', b'to', b'business', b'seite', b'-', b'v', b'##er', b'##zi', b'##chten', b'weiterhin', b'auf', b'die', b'prufung', b'ihrer', b'kampagne', b'##n', b'bevor', b'sie', b'sie', b'senden', b'.', b'[END]'], [b'[START]', b't', b'##sche', b'##ki', b'##sten', b'konnen', b'nicht', b'uber', b'ihre', b'eigene', b'n', b'##ase', b'hinaus', b'##blick', b'##en', b'[', b'.', b'.', b'.', b']', b',', b'sie', b'sind', b'dabei', b',', b'in', b'g', b'##e', b'##wohnlich', b'##e', b's', b'##ch', b'##la', b'##f', b'##m', b'##utzen', b'zu', b'de', b'##gen', b'##erie', b'##ren', b'und', b'[', b'.', b'.', b'.', b']', b'sie', b'wollen', b'nicht', b'die', b'direkt', b'##iven', b'des', b'z', b'##k', b'erfullen', b'.', b'(', b's', b'.', b'13', b'##4', b')', b'[END]']]>"
            ]
          },
          "metadata": {
            "tags": []
          },
          "execution_count": 13
        }
      ]
    },
    {
      "cell_type": "markdown",
      "metadata": {
        "id": "5V8Ix_PNSfhV"
      },
      "source": [
        "Here you can see the \"subword\" aspect of the tokenizers. The word \"searchability\" is decomposed into \"search ##ability\" and the word \"serindipity\" into \"s ##ere ##nd ##ip ##ity\""
      ]
    },
    {
      "cell_type": "markdown",
      "metadata": {
        "id": "fd1NWMxjfsDd"
      },
      "source": [
        "## Setup input pipeline"
      ]
    },
    {
      "cell_type": "markdown",
      "metadata": {
        "id": "E7JHK7N7tNZy"
      },
      "source": [
        "To build an input pipeline suitable for training you'll apply some transformations to the dataset.\n",
        "\n",
        "This function will be used to encode the batches of raw text:"
      ]
    },
    {
      "cell_type": "code",
      "metadata": {
        "id": "6shgzEck3FiV"
      },
      "source": [
        "def tokenize_pairs(de, en):\n",
        "    de = tokenizers.de.tokenize(de)\n",
        "    # Convert from ragged to dense, padding with zeros.\n",
        "    de = de.to_tensor()\n",
        "\n",
        "    en = tokenizers.en.tokenize(en)\n",
        "    # Convert from ragged to dense, padding with zeros.\n",
        "    en = en.to_tensor()\n",
        "    return de, en"
      ],
      "execution_count": 14,
      "outputs": []
    },
    {
      "cell_type": "code",
      "metadata": {
        "id": "F6tZunvdv8rt"
      },
      "source": [
        "#def tokenize_pairs(de, en):\n",
        "#    de = tokenizers.pt.tokenize(de)\n",
        "#    # Convert from ragged to dense, padding with zeros.\n",
        "#    de = de.to_tensor()\n",
        "#    de_enc = tokenizer(de, return_tensors='tf')\n",
        "#    en_enc = tokenizer(en, return_tensors='tf')\n",
        "#    en = tokenizers.en.tokenize(en)\n",
        "#    # Convert from ragged to dense, padding with zeros.\n",
        "#    en = en.to_tensor()\n",
        "#    return de_enc, en_enc"
      ],
      "execution_count": 15,
      "outputs": []
    },
    {
      "cell_type": "markdown",
      "metadata": {
        "id": "cf2HwC_0wG0v"
      },
      "source": [
        "Here's a simple input pipeline that processes, shuffles and batches the data:"
      ]
    },
    {
      "cell_type": "code",
      "metadata": {
        "id": "bcRp7VcQ5m6g"
      },
      "source": [
        "BUFFER_SIZE = 20000\n",
        "BATCH_SIZE = 64"
      ],
      "execution_count": 16,
      "outputs": []
    },
    {
      "cell_type": "code",
      "metadata": {
        "id": "BUN_jLBTwNxk",
        "colab": {
          "base_uri": "https://localhost:8080/"
        },
        "outputId": "2ee15a7e-cc52-42ff-a8b2-b43b24943270"
      },
      "source": [
        "def make_batches(ds):\n",
        "  return (\n",
        "      ds\n",
        "      .cache()\n",
        "      .shuffle(BUFFER_SIZE)\n",
        "      .batch(BATCH_SIZE)\n",
        "      .map(tokenize_pairs, num_parallel_calls=tf.data.AUTOTUNE)\n",
        "      .prefetch(tf.data.AUTOTUNE))\n",
        "\n",
        "print(train_examplesDe)\n",
        "train_batches = make_batches(train_examplesDe)\n",
        "#val_batches = make_batches(val_examples)"
      ],
      "execution_count": 17,
      "outputs": [
        {
          "output_type": "stream",
          "text": [
            "<TakeDataset shapes: ((), ()), types: (tf.string, tf.string)>\n"
          ],
          "name": "stdout"
        }
      ]
    },
    {
      "cell_type": "markdown",
      "metadata": {
        "id": "nBQuibYA4n0n"
      },
      "source": [
        "## Positional encoding\n",
        "\n",
        "Since this model doesn't contain any recurrence or convolution, positional encoding is added to give the model some information about the relative position of the words in the sentence. \n",
        "\n",
        "The positional encoding vector is added to the embedding vector. Embeddings represent a token in a d-dimensional space where tokens with similar meaning will be closer to each other. But the embeddings do not encode the relative position of words in a sentence. So after adding the positional encoding, words will be closer to each other based on the *similarity of their meaning and their position in the sentence*, in the d-dimensional space.\n",
        "\n",
        "See the notebook on [positional encoding](https://github.com/tensorflow/examples/blob/master/community/en/position_encoding.ipynb) to learn more about it. The formula for calculating the positional encoding is as follows:\n",
        "\n",
        "$$\\Large{PE_{(pos, 2i)} = \\sin(pos / 10000^{2i / d_{model}})} $$\n",
        "$$\\Large{PE_{(pos, 2i+1)} = \\cos(pos / 10000^{2i / d_{model}})} $$"
      ]
    },
    {
      "cell_type": "code",
      "metadata": {
        "id": "WhIOZjMNKujn"
      },
      "source": [
        "def get_angles(pos, i, d_model):\n",
        "  angle_rates = 1 / np.power(10000, (2 * (i//2)) / np.float32(d_model))\n",
        "  return pos * angle_rates"
      ],
      "execution_count": 18,
      "outputs": []
    },
    {
      "cell_type": "code",
      "metadata": {
        "id": "1Rz82wEs5biZ"
      },
      "source": [
        "def positional_encoding(position, d_model):\n",
        "  angle_rads = get_angles(np.arange(position)[:, np.newaxis],\n",
        "                          np.arange(d_model)[np.newaxis, :],\n",
        "                          d_model)\n",
        "\n",
        "  # apply sin to even indices in the array; 2i\n",
        "  angle_rads[:, 0::2] = np.sin(angle_rads[:, 0::2])\n",
        "\n",
        "  # apply cos to odd indices in the array; 2i+1\n",
        "  angle_rads[:, 1::2] = np.cos(angle_rads[:, 1::2])\n",
        "\n",
        "  pos_encoding = angle_rads[np.newaxis, ...]\n",
        "\n",
        "  return tf.cast(pos_encoding, dtype=tf.float32)"
      ],
      "execution_count": 19,
      "outputs": []
    },
    {
      "cell_type": "code",
      "metadata": {
        "id": "1kLCla68EloE",
        "colab": {
          "base_uri": "https://localhost:8080/",
          "height": 301
        },
        "outputId": "156bf747-b33f-4451-e33b-405a649a9533"
      },
      "source": [
        "n, d = 2048, 512\n",
        "pos_encoding = positional_encoding(n, d)\n",
        "print(pos_encoding.shape)\n",
        "pos_encoding = pos_encoding[0]\n",
        "\n",
        "# Juggle the dimensions for the plot\n",
        "pos_encoding = tf.reshape(pos_encoding, (n, d//2, 2))\n",
        "pos_encoding = tf.transpose(pos_encoding, (2, 1, 0))\n",
        "pos_encoding = tf.reshape(pos_encoding, (d, n))\n",
        "\n",
        "plt.pcolormesh(pos_encoding, cmap='RdBu')\n",
        "plt.ylabel('Depth')\n",
        "plt.xlabel('Position')\n",
        "plt.colorbar()\n",
        "plt.show()"
      ],
      "execution_count": 20,
      "outputs": [
        {
          "output_type": "stream",
          "text": [
            "(1, 2048, 512)\n"
          ],
          "name": "stdout"
        },
        {
          "output_type": "display_data",
          "data": {
            "image/png": "[encoded data removed]",
            "text/plain": [
              "<Figure size 432x288 with 2 Axes>"
            ]
          },
          "metadata": {
            "tags": [],
            "needs_background": "light"
          }
        }
      ]
    },
    {
      "cell_type": "markdown",
      "metadata": {
        "id": "a_b4ou4TYqUN"
      },
      "source": [
        "## Masking"
      ]
    },
    {
      "cell_type": "markdown",
      "metadata": {
        "id": "s42Uydjkv0hF"
      },
      "source": [
        "Mask all the pad tokens in the batch of sequence. It ensures that the model does not treat padding as the input. The mask indicates where pad value `0` is present: it outputs a `1` at those locations, and a `0` otherwise."
      ]
    },
    {
      "cell_type": "code",
      "metadata": {
        "id": "U2i8-e1s8ti9"
      },
      "source": [
        "def create_padding_mask(seq):\n",
        "  seq = tf.cast(tf.math.equal(seq, 0), tf.float32)\n",
        "\n",
        "  # add extra dimensions to add the padding\n",
        "  # to the attention logits.\n",
        "  return seq[:, tf.newaxis, tf.newaxis, :]  # (batch_size, 1, 1, seq_len)"
      ],
      "execution_count": 21,
      "outputs": []
    },
    {
      "cell_type": "code",
      "metadata": {
        "id": "A7BYeBCNvi7n",
        "colab": {
          "base_uri": "https://localhost:8080/"
        },
        "outputId": "0e48c854-dea7-4ece-e76e-b33bfdbc4552"
      },
      "source": [
        "x = tf.constant([[7, 6, 0, 0, 1], [1, 2, 3, 0, 0], [0, 0, 0, 4, 5]])\n",
        "create_padding_mask(x)"
      ],
      "execution_count": 22,
      "outputs": [
        {
          "output_type": "execute_result",
          "data": {
            "text/plain": [
              "<tf.Tensor: shape=(3, 1, 1, 5), dtype=float32, numpy=\n",
              "array([[[[0., 0., 1., 1., 0.]]],\n",
              "\n",
              "\n",
              "       [[[0., 0., 0., 1., 1.]]],\n",
              "\n",
              "\n",
              "       [[[1., 1., 1., 0., 0.]]]], dtype=float32)>"
            ]
          },
          "metadata": {
            "tags": []
          },
          "execution_count": 22
        }
      ]
    },
    {
      "cell_type": "markdown",
      "metadata": {
        "id": "Z0hzukDBgVom"
      },
      "source": [
        "The look-ahead mask is used to mask the future tokens in a sequence. In other words, the mask indicates which entries should not be used.\n",
        "\n",
        "This means that to predict the third word, only the first and second word will be used. Similarly to predict the fourth word, only the first, second and the third word will be used and so on."
      ]
    },
    {
      "cell_type": "code",
      "metadata": {
        "id": "dVxS8OPI9uI0"
      },
      "source": [
        "def create_look_ahead_mask(size):\n",
        "  mask = 1 - tf.linalg.band_part(tf.ones((size, size)), -1, 0)\n",
        "  return mask  # (seq_len, seq_len)"
      ],
      "execution_count": 23,
      "outputs": []
    },
    {
      "cell_type": "code",
      "metadata": {
        "id": "yxKGuXxaBeeE",
        "colab": {
          "base_uri": "https://localhost:8080/"
        },
        "outputId": "c69af3e6-e676-4b05-aeb2-8bac36d6e3ff"
      },
      "source": [
        "x = tf.random.uniform((1, 3))\n",
        "temp = create_look_ahead_mask(x.shape[1])\n",
        "temp"
      ],
      "execution_count": 24,
      "outputs": [
        {
          "output_type": "execute_result",
          "data": {
            "text/plain": [
              "<tf.Tensor: shape=(3, 3), dtype=float32, numpy=\n",
              "array([[0., 1., 1.],\n",
              "       [0., 0., 1.],\n",
              "       [0., 0., 0.]], dtype=float32)>"
            ]
          },
          "metadata": {
            "tags": []
          },
          "execution_count": 24
        }
      ]
    },
    {
      "cell_type": "markdown",
      "metadata": {
        "id": "xluDl5cXYy4y"
      },
      "source": [
        "## Scaled dot product attention"
      ]
    },
    {
      "cell_type": "markdown",
      "metadata": {
        "id": "vsxEE_-Wa1gF"
      },
      "source": [
        "<img src=\"https://www.tensorflow.org/images/tutorials/transformer/scaled_attention.png\" width=\"500\" alt=\"scaled_dot_product_attention\">\n",
        "\n",
        "The attention function used by the transformer takes three inputs: Q (query), K (key), V (value). The equation used to calculate the attention weights is:\n",
        "\n",
        "$$\\Large{Attention(Q, K, V) = softmax_k\\left(\\frac{QK^T}{\\sqrt{d_k}}\\right) V} $$\n",
        "\n",
        "The dot-product attention is scaled by a factor of square root of the depth. This is done because for large values of depth, the dot product grows large in magnitude pushing the softmax function where it has small gradients resulting in a very hard softmax. \n",
        "\n",
        "For example, consider that `Q` and `K` have a mean of 0 and variance of 1. Their matrix multiplication will have a mean of 0 and variance of `dk`. So the *square root of `dk`* is used for scaling, so you get a consistent variance regardless of the value of `dk`. If the variance is too low the output may be too flat to optimize effectively. If the variance is too high the softmax may saturate at initilization making it dificult to learn. \n",
        "\n",
        "The mask is multiplied with -1e9 (close to negative infinity). This is done because the mask is summed with the scaled matrix multiplication of Q and K and is applied immediately before a softmax. The goal is to zero out these cells, and large negative inputs to softmax are near zero in the output."
      ]
    },
    {
      "cell_type": "code",
      "metadata": {
        "id": "LazzUq3bJ5SH"
      },
      "source": [
        "def scaled_dot_product_attention(q, k, v, mask):\n",
        "  \"\"\"Calculate the attention weights.\n",
        "  q, k, v must have matching leading dimensions.\n",
        "  k, v must have matching penultimate dimension, i.e.: seq_len_k = seq_len_v.\n",
        "  The mask has different shapes depending on its type(padding or look ahead)\n",
        "  but it must be broadcastable for addition.\n",
        "\n",
        "  Args:\n",
        "    q: query shape == (..., seq_len_q, depth)\n",
        "    k: key shape == (..., seq_len_k, depth)\n",
        "    v: value shape == (..., seq_len_v, depth_v)\n",
        "    mask: Float tensor with shape broadcastable\n",
        "          to (..., seq_len_q, seq_len_k). Defaults to None.\n",
        "\n",
        "  Returns:\n",
        "    output, attention_weights\n",
        "  \"\"\"\n",
        "\n",
        "  matmul_qk = tf.matmul(q, k, transpose_b=True)  # (..., seq_len_q, seq_len_k)\n",
        "\n",
        "  # scale matmul_qk\n",
        "  dk = tf.cast(tf.shape(k)[-1], tf.float32)\n",
        "  scaled_attention_logits = matmul_qk / tf.math.sqrt(dk)\n",
        "\n",
        "  # add the mask to the scaled tensor.\n",
        "  if mask is not None:\n",
        "    scaled_attention_logits += (mask * -1e9)\n",
        "\n",
        "  # softmax is normalized on the last axis (seq_len_k) so that the scores\n",
        "  # add up to 1.\n",
        "  attention_weights = tf.nn.softmax(scaled_attention_logits, axis=-1)  # (..., seq_len_q, seq_len_k)\n",
        "\n",
        "  output = tf.matmul(attention_weights, v)  # (..., seq_len_q, depth_v)\n",
        "\n",
        "  return output, attention_weights"
      ],
      "execution_count": 25,
      "outputs": []
    },
    {
      "cell_type": "markdown",
      "metadata": {
        "id": "FiqETnhCkoXh"
      },
      "source": [
        "As the softmax normalization is done on K, its values decide the amount of importance given to Q.\n",
        "\n",
        "The output represents the multiplication of the attention weights and the V (value) vector. This ensures that the words you want to focus on are kept as-is and the irrelevant words are flushed out."
      ]
    },
    {
      "cell_type": "code",
      "metadata": {
        "id": "n90YjClyInFy"
      },
      "source": [
        "def print_out(q, k, v):\n",
        "  temp_out, temp_attn = scaled_dot_product_attention(\n",
        "      q, k, v, None)\n",
        "  print('Attention weights are:')\n",
        "  print(temp_attn)\n",
        "  print('Output is:')\n",
        "  print(temp_out)"
      ],
      "execution_count": 26,
      "outputs": []
    },
    {
      "cell_type": "code",
      "metadata": {
        "id": "yAzUAf2DPlNt",
        "colab": {
          "base_uri": "https://localhost:8080/"
        },
        "outputId": "98b2c800-2407-4cba-cb54-e23f31706192"
      },
      "source": [
        "np.set_printoptions(suppress=True)\n",
        "\n",
        "temp_k = tf.constant([[10, 0, 0],\n",
        "                      [0, 10, 0],\n",
        "                      [0, 0, 10],\n",
        "                      [0, 0, 10]], dtype=tf.float32)  # (4, 3)\n",
        "\n",
        "temp_v = tf.constant([[1, 0],\n",
        "                      [10, 0],\n",
        "                      [100, 5],\n",
        "                      [1000, 6]], dtype=tf.float32)  # (4, 2)\n",
        "\n",
        "# This `query` aligns with the second `key`,\n",
        "# so the second `value` is returned.\n",
        "temp_q = tf.constant([[0, 10, 0]], dtype=tf.float32)  # (1, 3)\n",
        "print_out(temp_q, temp_k, temp_v)"
      ],
      "execution_count": 27,
      "outputs": [
        {
          "output_type": "stream",
          "text": [
            "Attention weights are:\n",
            "tf.Tensor([[0. 1. 0. 0.]], shape=(1, 4), dtype=float32)\n",
            "Output is:\n",
            "tf.Tensor([[10.  0.]], shape=(1, 2), dtype=float32)\n"
          ],
          "name": "stdout"
        }
      ]
    },
    {
      "cell_type": "code",
      "metadata": {
        "id": "zg6k-fGhgXra",
        "colab": {
          "base_uri": "https://localhost:8080/"
        },
        "outputId": "465c3e18-f24c-4cd8-8e8b-9aa2362136fe"
      },
      "source": [
        "# This query aligns with a repeated key (third and fourth),\n",
        "# so all associated values get averaged.\n",
        "temp_q = tf.constant([[0, 0, 10]], dtype=tf.float32)  # (1, 3)\n",
        "print_out(temp_q, temp_k, temp_v)"
      ],
      "execution_count": 28,
      "outputs": [
        {
          "output_type": "stream",
          "text": [
            "Attention weights are:\n",
            "tf.Tensor([[0.  0.  0.5 0.5]], shape=(1, 4), dtype=float32)\n",
            "Output is:\n",
            "tf.Tensor([[550.    5.5]], shape=(1, 2), dtype=float32)\n"
          ],
          "name": "stdout"
        }
      ]
    },
    {
      "cell_type": "code",
      "metadata": {
        "id": "UAq3YOzUgXhb",
        "colab": {
          "base_uri": "https://localhost:8080/"
        },
        "outputId": "a4e81759-9c7f-474b-be75-72f7b9cb3664"
      },
      "source": [
        "# This query aligns equally with the first and second key,\n",
        "# so their values get averaged.\n",
        "temp_q = tf.constant([[10, 10, 0]], dtype=tf.float32)  # (1, 3)\n",
        "print_out(temp_q, temp_k, temp_v)"
      ],
      "execution_count": 29,
      "outputs": [
        {
          "output_type": "stream",
          "text": [
            "Attention weights are:\n",
            "tf.Tensor([[0.5 0.5 0.  0. ]], shape=(1, 4), dtype=float32)\n",
            "Output is:\n",
            "tf.Tensor([[5.5 0. ]], shape=(1, 2), dtype=float32)\n"
          ],
          "name": "stdout"
        }
      ]
    },
    {
      "cell_type": "markdown",
      "metadata": {
        "id": "aOz-4_XIhaTP"
      },
      "source": [
        "Pass all the queries together."
      ]
    },
    {
      "cell_type": "code",
      "metadata": {
        "id": "6dlU8Tm-hYrF",
        "colab": {
          "base_uri": "https://localhost:8080/"
        },
        "outputId": "f247b6bd-65a6-4347-97cd-39af8057d5bb"
      },
      "source": [
        "temp_q = tf.constant([[0, 0, 10],\n",
        "                      [0, 10, 0],\n",
        "                      [10, 10, 0]], dtype=tf.float32)  # (3, 3)\n",
        "print_out(temp_q, temp_k, temp_v)"
      ],
      "execution_count": 30,
      "outputs": [
        {
          "output_type": "stream",
          "text": [
            "Attention weights are:\n",
            "tf.Tensor(\n",
            "[[0.  0.  0.5 0.5]\n",
            " [0.  1.  0.  0. ]\n",
            " [0.5 0.5 0.  0. ]], shape=(3, 4), dtype=float32)\n",
            "Output is:\n",
            "tf.Tensor(\n",
            "[[550.    5.5]\n",
            " [ 10.    0. ]\n",
            " [  5.5   0. ]], shape=(3, 2), dtype=float32)\n"
          ],
          "name": "stdout"
        }
      ]
    },
    {
      "cell_type": "markdown",
      "metadata": {
        "id": "kmzGPEy64qmA"
      },
      "source": [
        "## Multi-head attention"
      ]
    },
    {
      "cell_type": "markdown",
      "metadata": {
        "id": "fz5BMC8Kaoqo"
      },
      "source": [
        "<img src=\"https://www.tensorflow.org/images/tutorials/transformer/multi_head_attention.png\" width=\"500\" alt=\"multi-head attention\">\n",
        "\n",
        "\n",
        "Multi-head attention consists of four parts:\n",
        "*    Linear layers and split into heads.\n",
        "*    Scaled dot-product attention.\n",
        "*    Concatenation of heads.\n",
        "*    Final linear layer."
      ]
    },
    {
      "cell_type": "markdown",
      "metadata": {
        "id": "JPmbr6F1C-v_"
      },
      "source": [
        "Each multi-head attention block gets three inputs; Q (query), K (key), V (value). These are put through linear (Dense) layers and split up into multiple heads. \n",
        "\n",
        "The `scaled_dot_product_attention` defined above is applied to each head (broadcasted for efficiency). An appropriate mask must be used in the attention step.  The attention output for each head is then concatenated (using `tf.transpose`, and `tf.reshape`) and put through a final `Dense` layer.\n",
        "\n",
        "Instead of one single attention head, Q, K, and V are split into multiple heads because it allows the model to jointly attend to information at different positions from different representational spaces. After the split each head has a reduced dimensionality, so the total computation cost is the same as a single head attention with full dimensionality."
      ]
    },
    {
      "cell_type": "code",
      "metadata": {
        "id": "BSV3PPKsYecw"
      },
      "source": [
        "class MultiHeadAttention(tf.keras.layers.Layer):\n",
        "  def __init__(self, d_model, num_heads):\n",
        "    super(MultiHeadAttention, self).__init__()\n",
        "    self.num_heads = num_heads\n",
        "    self.d_model = d_model\n",
        "\n",
        "    assert d_model % self.num_heads == 0\n",
        "\n",
        "    self.depth = d_model // self.num_heads\n",
        "\n",
        "    self.wq = tf.keras.layers.Dense(d_model)\n",
        "    self.wk = tf.keras.layers.Dense(d_model)\n",
        "    self.wv = tf.keras.layers.Dense(d_model)\n",
        "\n",
        "    self.dense = tf.keras.layers.Dense(d_model)\n",
        "\n",
        "  def split_heads(self, x, batch_size):\n",
        "    \"\"\"Split the last dimension into (num_heads, depth).\n",
        "    Transpose the result such that the shape is (batch_size, num_heads, seq_len, depth)\n",
        "    \"\"\"\n",
        "    x = tf.reshape(x, (batch_size, -1, self.num_heads, self.depth))\n",
        "    return tf.transpose(x, perm=[0, 2, 1, 3])\n",
        "\n",
        "  def call(self, v, k, q, mask):\n",
        "    batch_size = tf.shape(q)[0]\n",
        "\n",
        "    q = self.wq(q)  # (batch_size, seq_len, d_model)\n",
        "    k = self.wk(k)  # (batch_size, seq_len, d_model)\n",
        "    v = self.wv(v)  # (batch_size, seq_len, d_model)\n",
        "\n",
        "    q = self.split_heads(q, batch_size)  # (batch_size, num_heads, seq_len_q, depth)\n",
        "    k = self.split_heads(k, batch_size)  # (batch_size, num_heads, seq_len_k, depth)\n",
        "    v = self.split_heads(v, batch_size)  # (batch_size, num_heads, seq_len_v, depth)\n",
        "\n",
        "    # scaled_attention.shape == (batch_size, num_heads, seq_len_q, depth)\n",
        "    # attention_weights.shape == (batch_size, num_heads, seq_len_q, seq_len_k)\n",
        "    scaled_attention, attention_weights = scaled_dot_product_attention(\n",
        "        q, k, v, mask)\n",
        "\n",
        "    scaled_attention = tf.transpose(scaled_attention, perm=[0, 2, 1, 3])  # (batch_size, seq_len_q, num_heads, depth)\n",
        "\n",
        "    concat_attention = tf.reshape(scaled_attention,\n",
        "                                  (batch_size, -1, self.d_model))  # (batch_size, seq_len_q, d_model)\n",
        "\n",
        "    output = self.dense(concat_attention)  # (batch_size, seq_len_q, d_model)\n",
        "\n",
        "    return output, attention_weights"
      ],
      "execution_count": 31,
      "outputs": []
    },
    {
      "cell_type": "markdown",
      "metadata": {
        "id": "0D8FJue5lDyZ"
      },
      "source": [
        "Create a `MultiHeadAttention` layer to try out. At each location in the sequence, `y`, the `MultiHeadAttention` runs all 8 attention heads across all other locations in the sequence, returning a new vector of the same length at each location."
      ]
    },
    {
      "cell_type": "code",
      "metadata": {
        "id": "Hu94p-_-2_BX",
        "colab": {
          "base_uri": "https://localhost:8080/"
        },
        "outputId": "227b14a0-acc7-46b2-d5ea-1ccba7bfbcd5"
      },
      "source": [
        "temp_mha = MultiHeadAttention(d_model=512, num_heads=8)\n",
        "y = tf.random.uniform((1, 60, 512))  # (batch_size, encoder_sequence, d_model)\n",
        "out, attn = temp_mha(y, k=y, q=y, mask=None)\n",
        "out.shape, attn.shape"
      ],
      "execution_count": 32,
      "outputs": [
        {
          "output_type": "execute_result",
          "data": {
            "text/plain": [
              "(TensorShape([1, 60, 512]), TensorShape([1, 8, 60, 60]))"
            ]
          },
          "metadata": {
            "tags": []
          },
          "execution_count": 32
        }
      ]
    },
    {
      "cell_type": "markdown",
      "metadata": {
        "id": "RdDqGayx67vv"
      },
      "source": [
        "## Point wise feed forward network"
      ]
    },
    {
      "cell_type": "markdown",
      "metadata": {
        "id": "gBqzJXGfHK3X"
      },
      "source": [
        "Point wise feed forward network consists of two fully-connected layers with a ReLU activation in between."
      ]
    },
    {
      "cell_type": "code",
      "metadata": {
        "id": "ET7xLt0yCT6Z"
      },
      "source": [
        "def point_wise_feed_forward_network(d_model, dff):\n",
        "  return tf.keras.Sequential([\n",
        "      tf.keras.layers.Dense(dff, activation='relu'),  # (batch_size, seq_len, dff)\n",
        "      tf.keras.layers.Dense(d_model)  # (batch_size, seq_len, d_model)\n",
        "  ])"
      ],
      "execution_count": 33,
      "outputs": []
    },
    {
      "cell_type": "code",
      "metadata": {
        "id": "mytb1lPyOHLB",
        "colab": {
          "base_uri": "https://localhost:8080/"
        },
        "outputId": "b30478e0-9579-45b3-8b0a-a2eabceeb904"
      },
      "source": [
        "sample_ffn = point_wise_feed_forward_network(512, 2048)\n",
        "sample_ffn(tf.random.uniform((64, 50, 512))).shape"
      ],
      "execution_count": 34,
      "outputs": [
        {
          "output_type": "execute_result",
          "data": {
            "text/plain": [
              "TensorShape([64, 50, 512])"
            ]
          },
          "metadata": {
            "tags": []
          },
          "execution_count": 34
        }
      ]
    },
    {
      "cell_type": "markdown",
      "metadata": {
        "id": "7e7hKcxn6-zd"
      },
      "source": [
        "## Encoder and decoder"
      ]
    },
    {
      "cell_type": "markdown",
      "metadata": {
        "id": "yScbC0MUH8dS"
      },
      "source": [
        "<img src=\"https://www.tensorflow.org/images/tutorials/transformer/transformer.png\" width=\"600\" alt=\"transformer\">"
      ]
    },
    {
      "cell_type": "markdown",
      "metadata": {
        "id": "MfYJG-Kvgwy2"
      },
      "source": [
        "The transformer model follows the same general pattern as a standard [sequence to sequence with attention model](nmt_with_attention.ipynb). \n",
        "\n",
        "* The input sentence is passed through `N` encoder layers that generates an output for each word/token in the sequence.\n",
        "* The decoder attends on the encoder's output and its own input (self-attention) to predict the next word. "
      ]
    },
    {
      "cell_type": "markdown",
      "metadata": {
        "id": "QFv-FNYUmvpn"
      },
      "source": [
        "### Encoder layer\n",
        "\n",
        "Each encoder layer consists of sublayers:\n",
        "\n",
        "1.   Multi-head attention (with padding mask) \n",
        "2.    Point wise feed forward networks. \n",
        "\n",
        "Each of these sublayers has a residual connection around it followed by a layer normalization. Residual connections help in avoiding the vanishing gradient problem in deep networks.\n",
        "\n",
        "The output of each sublayer is `LayerNorm(x + Sublayer(x))`. The normalization is done on the `d_model` (last) axis. There are N encoder layers in the transformer."
      ]
    },
    {
      "cell_type": "code",
      "metadata": {
        "id": "ncyS-Ms3i2x_"
      },
      "source": [
        "class EncoderLayer(tf.keras.layers.Layer):\n",
        "  def __init__(self, d_model, num_heads, dff, rate=0.1):\n",
        "    super(EncoderLayer, self).__init__()\n",
        "\n",
        "    self.mha = MultiHeadAttention(d_model, num_heads)\n",
        "    self.ffn = point_wise_feed_forward_network(d_model, dff)\n",
        "\n",
        "    self.layernorm1 = tf.keras.layers.LayerNormalization(epsilon=1e-6)\n",
        "    self.layernorm2 = tf.keras.layers.LayerNormalization(epsilon=1e-6)\n",
        "\n",
        "    self.dropout1 = tf.keras.layers.Dropout(rate)\n",
        "    self.dropout2 = tf.keras.layers.Dropout(rate)\n",
        "\n",
        "  def call(self, x, training, mask):\n",
        "\n",
        "    attn_output, _ = self.mha(x, x, x, mask)  # (batch_size, input_seq_len, d_model)\n",
        "    attn_output = self.dropout1(attn_output, training=training)\n",
        "    out1 = self.layernorm1(x + attn_output)  # (batch_size, input_seq_len, d_model)\n",
        "\n",
        "    ffn_output = self.ffn(out1)  # (batch_size, input_seq_len, d_model)\n",
        "    ffn_output = self.dropout2(ffn_output, training=training)\n",
        "    out2 = self.layernorm2(out1 + ffn_output)  # (batch_size, input_seq_len, d_model)\n",
        "\n",
        "    return out2"
      ],
      "execution_count": 35,
      "outputs": []
    },
    {
      "cell_type": "code",
      "metadata": {
        "id": "AzZRXdO0mI48",
        "colab": {
          "base_uri": "https://localhost:8080/"
        },
        "outputId": "738911f1-9b96-483b-c275-dea600fa85dd"
      },
      "source": [
        "sample_encoder_layer = EncoderLayer(512, 8, 2048)\n",
        "\n",
        "sample_encoder_layer_output = sample_encoder_layer(\n",
        "    tf.random.uniform((64, 43, 512)), False, None)\n",
        "\n",
        "sample_encoder_layer_output.shape  # (batch_size, input_seq_len, d_model)"
      ],
      "execution_count": 36,
      "outputs": [
        {
          "output_type": "execute_result",
          "data": {
            "text/plain": [
              "TensorShape([64, 43, 512])"
            ]
          },
          "metadata": {
            "tags": []
          },
          "execution_count": 36
        }
      ]
    },
    {
      "cell_type": "markdown",
      "metadata": {
        "id": "6LO_48Owmx_o"
      },
      "source": [
        "### Decoder layer\n",
        "\n",
        "Each decoder layer consists of sublayers:\n",
        "\n",
        "1.   Masked multi-head attention (with look ahead mask and padding mask)\n",
        "2.   Multi-head attention (with padding mask). V (value) and K (key) receive the *encoder output* as inputs. Q (query) receives the *output from the masked multi-head attention sublayer.*\n",
        "3.   Point wise feed forward networks\n",
        "\n",
        "Each of these sublayers has a residual connection around it followed by a layer normalization. The output of each sublayer is `LayerNorm(x + Sublayer(x))`. The normalization is done on the `d_model` (last) axis.\n",
        "\n",
        "There are N decoder layers in the transformer.\n",
        "\n",
        "As Q receives the output from decoder's first attention block, and K receives the encoder output, the attention weights represent the importance given to the decoder's input based on the encoder's output. In other words, the decoder predicts the next word by looking at the encoder output and self-attending to its own output. See the demonstration above in the scaled dot product attention section."
      ]
    },
    {
      "cell_type": "code",
      "metadata": {
        "id": "9SoX0-vd1hue"
      },
      "source": [
        "class DecoderLayer(tf.keras.layers.Layer):\n",
        "  def __init__(self, d_model, num_heads, dff, rate=0.1):\n",
        "    super(DecoderLayer, self).__init__()\n",
        "\n",
        "    self.mha1 = MultiHeadAttention(d_model, num_heads)\n",
        "    self.mha2 = MultiHeadAttention(d_model, num_heads)\n",
        "\n",
        "    self.ffn = point_wise_feed_forward_network(d_model, dff)\n",
        "\n",
        "    self.layernorm1 = tf.keras.layers.LayerNormalization(epsilon=1e-6)\n",
        "    self.layernorm2 = tf.keras.layers.LayerNormalization(epsilon=1e-6)\n",
        "    self.layernorm3 = tf.keras.layers.LayerNormalization(epsilon=1e-6)\n",
        "\n",
        "    self.dropout1 = tf.keras.layers.Dropout(rate)\n",
        "    self.dropout2 = tf.keras.layers.Dropout(rate)\n",
        "    self.dropout3 = tf.keras.layers.Dropout(rate)\n",
        "\n",
        "  def call(self, x, enc_output, training,\n",
        "           look_ahead_mask, padding_mask):\n",
        "    # enc_output.shape == (batch_size, input_seq_len, d_model)\n",
        "\n",
        "    attn1, attn_weights_block1 = self.mha1(x, x, x, look_ahead_mask)  # (batch_size, target_seq_len, d_model)\n",
        "    attn1 = self.dropout1(attn1, training=training)\n",
        "    out1 = self.layernorm1(attn1 + x)\n",
        "\n",
        "    attn2, attn_weights_block2 = self.mha2(\n",
        "        enc_output, enc_output, out1, padding_mask)  # (batch_size, target_seq_len, d_model)\n",
        "    attn2 = self.dropout2(attn2, training=training)\n",
        "    out2 = self.layernorm2(attn2 + out1)  # (batch_size, target_seq_len, d_model)\n",
        "\n",
        "    ffn_output = self.ffn(out2)  # (batch_size, target_seq_len, d_model)\n",
        "    ffn_output = self.dropout3(ffn_output, training=training)\n",
        "    out3 = self.layernorm3(ffn_output + out2)  # (batch_size, target_seq_len, d_model)\n",
        "\n",
        "    return out3, attn_weights_block1, attn_weights_block2"
      ],
      "execution_count": 37,
      "outputs": []
    },
    {
      "cell_type": "code",
      "metadata": {
        "id": "Ne2Bqx8k71l0",
        "colab": {
          "base_uri": "https://localhost:8080/"
        },
        "outputId": "cefcf62e-cd94-4908-faee-d7db88fa21b7"
      },
      "source": [
        "sample_decoder_layer = DecoderLayer(512, 8, 2048)\n",
        "\n",
        "sample_decoder_layer_output, _, _ = sample_decoder_layer(\n",
        "    tf.random.uniform((64, 50, 512)), sample_encoder_layer_output,\n",
        "    False, None, None)\n",
        "\n",
        "sample_decoder_layer_output.shape  # (batch_size, target_seq_len, d_model)"
      ],
      "execution_count": 38,
      "outputs": [
        {
          "output_type": "execute_result",
          "data": {
            "text/plain": [
              "TensorShape([64, 50, 512])"
            ]
          },
          "metadata": {
            "tags": []
          },
          "execution_count": 38
        }
      ]
    },
    {
      "cell_type": "markdown",
      "metadata": {
        "id": "SE1H51Ajm0q1"
      },
      "source": [
        "### Encoder\n",
        "\n",
        "The `Encoder` consists of:\n",
        "1.   Input Embedding\n",
        "2.   Positional Encoding\n",
        "3.   N encoder layers\n",
        "\n",
        "The input is put through an embedding which is summed with the positional encoding. The output of this summation is the input to the encoder layers. The output of the encoder is the input to the decoder."
      ]
    },
    {
      "cell_type": "code",
      "metadata": {
        "id": "jpEox7gJ8FCI"
      },
      "source": [
        "class Encoder(tf.keras.layers.Layer):\n",
        "  def __init__(self, num_layers, d_model, num_heads, dff, input_vocab_size,\n",
        "               maximum_position_encoding, rate=0.1):\n",
        "    super(Encoder, self).__init__()\n",
        "\n",
        "    self.d_model = d_model\n",
        "    self.num_layers = num_layers\n",
        "\n",
        "    self.embedding = tf.keras.layers.Embedding(input_vocab_size, d_model)\n",
        "    self.pos_encoding = positional_encoding(maximum_position_encoding,\n",
        "                                            self.d_model)\n",
        "\n",
        "    self.enc_layers = [EncoderLayer(d_model, num_heads, dff, rate)\n",
        "                       for _ in range(num_layers)]\n",
        "\n",
        "    self.dropout = tf.keras.layers.Dropout(rate)\n",
        "\n",
        "  def call(self, x, training, mask):\n",
        "\n",
        "    seq_len = tf.shape(x)[1]\n",
        "\n",
        "    # adding embedding and position encoding.\n",
        "    x = self.embedding(x)  # (batch_size, input_seq_len, d_model)\n",
        "    x *= tf.math.sqrt(tf.cast(self.d_model, tf.float32))\n",
        "    x += self.pos_encoding[:, :seq_len, :]\n",
        "\n",
        "    x = self.dropout(x, training=training)\n",
        "\n",
        "    for i in range(self.num_layers):\n",
        "      x = self.enc_layers[i](x, training, mask)\n",
        "\n",
        "    return x  # (batch_size, input_seq_len, d_model)"
      ],
      "execution_count": 39,
      "outputs": []
    },
    {
      "cell_type": "code",
      "metadata": {
        "id": "8QG9nueFQKXx",
        "colab": {
          "base_uri": "https://localhost:8080/"
        },
        "outputId": "8d7db957-5309-4cf3-d5ef-fad2d2e25c7e"
      },
      "source": [
        "sample_encoder = Encoder(num_layers=2, d_model=512, num_heads=8,\n",
        "                         dff=2048, input_vocab_size=8500,\n",
        "                         maximum_position_encoding=10000)\n",
        "temp_input = tf.random.uniform((64, 62), dtype=tf.int64, minval=0, maxval=200)\n",
        "\n",
        "sample_encoder_output = sample_encoder(temp_input, training=False, mask=None)\n",
        "\n",
        "print(sample_encoder_output.shape)  # (batch_size, input_seq_len, d_model)"
      ],
      "execution_count": 40,
      "outputs": [
        {
          "output_type": "stream",
          "text": [
            "(64, 62, 512)\n"
          ],
          "name": "stdout"
        }
      ]
    },
    {
      "cell_type": "markdown",
      "metadata": {
        "id": "p-uO6ls8m2O5"
      },
      "source": [
        "### Decoder"
      ]
    },
    {
      "cell_type": "markdown",
      "metadata": {
        "id": "ZtT7PKzrXkNr"
      },
      "source": [
        " The `Decoder` consists of:\n",
        "1.   Output Embedding\n",
        "2.   Positional Encoding\n",
        "3.   N decoder layers\n",
        "\n",
        "The target is put through an embedding which is summed with the positional encoding. The output of this summation is the input to the decoder layers. The output of the decoder is the input to the final linear layer."
      ]
    },
    {
      "cell_type": "code",
      "metadata": {
        "id": "d5_d5-PLQXwY"
      },
      "source": [
        "class Decoder(tf.keras.layers.Layer):\n",
        "  def __init__(self, num_layers, d_model, num_heads, dff, target_vocab_size,\n",
        "               maximum_position_encoding, rate=0.1):\n",
        "    super(Decoder, self).__init__()\n",
        "\n",
        "    self.d_model = d_model\n",
        "    self.num_layers = num_layers\n",
        "\n",
        "    self.embedding = tf.keras.layers.Embedding(target_vocab_size, d_model)\n",
        "    self.pos_encoding = positional_encoding(maximum_position_encoding, d_model)\n",
        "\n",
        "    self.dec_layers = [DecoderLayer(d_model, num_heads, dff, rate)\n",
        "                       for _ in range(num_layers)]\n",
        "    self.dropout = tf.keras.layers.Dropout(rate)\n",
        "\n",
        "  def call(self, x, enc_output, training,\n",
        "           look_ahead_mask, padding_mask):\n",
        "\n",
        "    seq_len = tf.shape(x)[1]\n",
        "    attention_weights = {}\n",
        "\n",
        "    x = self.embedding(x)  # (batch_size, target_seq_len, d_model)\n",
        "    x *= tf.math.sqrt(tf.cast(self.d_model, tf.float32))\n",
        "    x += self.pos_encoding[:, :seq_len, :]\n",
        "\n",
        "    x = self.dropout(x, training=training)\n",
        "\n",
        "    for i in range(self.num_layers):\n",
        "      x, block1, block2 = self.dec_layers[i](x, enc_output, training,\n",
        "                                             look_ahead_mask, padding_mask)\n",
        "\n",
        "      attention_weights[f'decoder_layer{i+1}_block1'] = block1\n",
        "      attention_weights[f'decoder_layer{i+1}_block2'] = block2\n",
        "\n",
        "    # x.shape == (batch_size, target_seq_len, d_model)\n",
        "    return x, attention_weights"
      ],
      "execution_count": 41,
      "outputs": []
    },
    {
      "cell_type": "code",
      "metadata": {
        "id": "a1jXoAMRZyvu",
        "colab": {
          "base_uri": "https://localhost:8080/"
        },
        "outputId": "30a29136-2242-44df-9dec-d433c0fa06d9"
      },
      "source": [
        "sample_decoder = Decoder(num_layers=2, d_model=512, num_heads=8,\n",
        "                         dff=2048, target_vocab_size=8000,\n",
        "                         maximum_position_encoding=5000)\n",
        "temp_input = tf.random.uniform((64, 26), dtype=tf.int64, minval=0, maxval=200)\n",
        "\n",
        "output, attn = sample_decoder(temp_input,\n",
        "                              enc_output=sample_encoder_output,\n",
        "                              training=False,\n",
        "                              look_ahead_mask=None,\n",
        "                              padding_mask=None)\n",
        "\n",
        "output.shape, attn['decoder_layer2_block2'].shape"
      ],
      "execution_count": 42,
      "outputs": [
        {
          "output_type": "execute_result",
          "data": {
            "text/plain": [
              "(TensorShape([64, 26, 512]), TensorShape([64, 8, 26, 62]))"
            ]
          },
          "metadata": {
            "tags": []
          },
          "execution_count": 42
        }
      ]
    },
    {
      "cell_type": "markdown",
      "metadata": {
        "id": "y54xnJnuYgJ7"
      },
      "source": [
        "## Create the Transformer"
      ]
    },
    {
      "cell_type": "markdown",
      "metadata": {
        "id": "uERO1y54cOKq"
      },
      "source": [
        "Transformer consists of the encoder, decoder and a final linear layer. The output of the decoder is the input to the linear layer and its output is returned."
      ]
    },
    {
      "cell_type": "code",
      "metadata": {
        "id": "PED3bIpOYkBu"
      },
      "source": [
        "class Transformer(tf.keras.Model):\n",
        "  def __init__(self, num_layers, d_model, num_heads, dff, input_vocab_size,\n",
        "               target_vocab_size, pe_input, pe_target, rate=0.1):\n",
        "    super(Transformer, self).__init__()\n",
        "\n",
        "    self.tokenizer = Encoder(num_layers, d_model, num_heads, dff,\n",
        "                             input_vocab_size, pe_input, rate)\n",
        "\n",
        "    self.decoder = Decoder(num_layers, d_model, num_heads, dff,\n",
        "                           target_vocab_size, pe_target, rate)\n",
        "\n",
        "    self.final_layer = tf.keras.layers.Dense(target_vocab_size)\n",
        "\n",
        "  def call(self, inp, tar, training, enc_padding_mask,\n",
        "           look_ahead_mask, dec_padding_mask):\n",
        "\n",
        "    enc_output = self.tokenizer(inp, training, enc_padding_mask)  # (batch_size, inp_seq_len, d_model)\n",
        "\n",
        "    # dec_output.shape == (batch_size, tar_seq_len, d_model)\n",
        "    dec_output, attention_weights = self.decoder(\n",
        "        tar, enc_output, training, look_ahead_mask, dec_padding_mask)\n",
        "\n",
        "    final_output = self.final_layer(dec_output)  # (batch_size, tar_seq_len, target_vocab_size)\n",
        "\n",
        "    return final_output, attention_weights"
      ],
      "execution_count": 43,
      "outputs": []
    },
    {
      "cell_type": "code",
      "metadata": {
        "id": "tJ4fbQcIkHW1",
        "colab": {
          "base_uri": "https://localhost:8080/"
        },
        "outputId": "7104bc1d-5701-497e-ce93-670e51a48c8d"
      },
      "source": [
        "sample_transformer = Transformer(\n",
        "    num_layers=2, d_model=512, num_heads=8, dff=2048,\n",
        "    input_vocab_size=8500, target_vocab_size=8000,\n",
        "    pe_input=10000, pe_target=6000)\n",
        "\n",
        "temp_input = tf.random.uniform((64, 38), dtype=tf.int64, minval=0, maxval=200)\n",
        "temp_target = tf.random.uniform((64, 36), dtype=tf.int64, minval=0, maxval=200)\n",
        "\n",
        "fn_out, _ = sample_transformer(temp_input, temp_target, training=False,\n",
        "                               enc_padding_mask=None,\n",
        "                               look_ahead_mask=None,\n",
        "                               dec_padding_mask=None)\n",
        "\n",
        "fn_out.shape  # (batch_size, tar_seq_len, target_vocab_size)"
      ],
      "execution_count": 44,
      "outputs": [
        {
          "output_type": "execute_result",
          "data": {
            "text/plain": [
              "TensorShape([64, 36, 8000])"
            ]
          },
          "metadata": {
            "tags": []
          },
          "execution_count": 44
        }
      ]
    },
    {
      "cell_type": "markdown",
      "metadata": {
        "id": "wsINyf1VEQLC"
      },
      "source": [
        "## Set hyperparameters"
      ]
    },
    {
      "cell_type": "markdown",
      "metadata": {
        "id": "zVjWCxFNcgbt"
      },
      "source": [
        "To keep this example small and relatively fast, the values for *num_layers, d_model, and dff* have been reduced. \n",
        "\n",
        "The values used in the base model of transformer were; *num_layers=6*, *d_model = 512*, *dff = 2048*. See the [paper](https://arxiv.org/abs/1706.03762) for all the other versions of the transformer.\n",
        "\n",
        "Note: By changing the values below, you can get the model that achieved state of the art on many tasks."
      ]
    },
    {
      "cell_type": "code",
      "metadata": {
        "id": "lnJn5SLA2ahP"
      },
      "source": [
        "num_layers = 4\n",
        "d_model = 128\n",
        "dff = 512\n",
        "num_heads = 8\n",
        "dropout_rate = 0.1"
      ],
      "execution_count": 45,
      "outputs": []
    },
    {
      "cell_type": "markdown",
      "metadata": {
        "id": "xYEGhEOtzn5W"
      },
      "source": [
        "## Optimizer"
      ]
    },
    {
      "cell_type": "markdown",
      "metadata": {
        "id": "GOmWW--yP3zx"
      },
      "source": [
        "Use the Adam optimizer with a custom learning rate scheduler according to the formula in the [paper](https://arxiv.org/abs/1706.03762).\n",
        "\n",
        "$$\\Large{lrate = d_{model}^{-0.5} * \\min(step{\\_}num^{-0.5}, step{\\_}num \\cdot warmup{\\_}steps^{-1.5})}$$\n"
      ]
    },
    {
      "cell_type": "code",
      "metadata": {
        "id": "iYQdOO1axwEI"
      },
      "source": [
        "class CustomSchedule(tf.keras.optimizers.schedules.LearningRateSchedule):\n",
        "  def __init__(self, d_model, warmup_steps=4000):\n",
        "    super(CustomSchedule, self).__init__()\n",
        "\n",
        "    self.d_model = d_model\n",
        "    self.d_model = tf.cast(self.d_model, tf.float32)\n",
        "\n",
        "    self.warmup_steps = warmup_steps\n",
        "\n",
        "  def __call__(self, step):\n",
        "    arg1 = tf.math.rsqrt(step)\n",
        "    arg2 = step * (self.warmup_steps ** -1.5)\n",
        "\n",
        "    return tf.math.rsqrt(self.d_model) * tf.math.minimum(arg1, arg2)"
      ],
      "execution_count": 46,
      "outputs": []
    },
    {
      "cell_type": "code",
      "metadata": {
        "id": "7r4scdulztRx"
      },
      "source": [
        "learning_rate = CustomSchedule(d_model)\n",
        "\n",
        "optimizer = tf.keras.optimizers.Adam(learning_rate, beta_1=0.9, beta_2=0.98,\n",
        "                                     epsilon=1e-9)"
      ],
      "execution_count": 47,
      "outputs": []
    },
    {
      "cell_type": "code",
      "metadata": {
        "id": "f33ZCgvHpPdG",
        "colab": {
          "base_uri": "https://localhost:8080/",
          "height": 297
        },
        "outputId": "d98dcc96-a8a5-4390-be94-3aedb93e215a"
      },
      "source": [
        "temp_learning_rate_schedule = CustomSchedule(d_model)\n",
        "\n",
        "plt.plot(temp_learning_rate_schedule(tf.range(40000, dtype=tf.float32)))\n",
        "plt.ylabel(\"Learning Rate\")\n",
        "plt.xlabel(\"Train Step\")"
      ],
      "execution_count": 48,
      "outputs": [
        {
          "output_type": "execute_result",
          "data": {
            "text/plain": [
              "Text(0.5, 0, 'Train Step')"
            ]
          },
          "metadata": {
            "tags": []
          },
          "execution_count": 48
        },
        {
          "output_type": "display_data",
          "data": {
            "image/png": "[encoded data removed]",
            "text/plain": [
              "<Figure size 432x288 with 1 Axes>"
            ]
          },
          "metadata": {
            "tags": [],
            "needs_background": "light"
          }
        }
      ]
    },
    {
      "cell_type": "markdown",
      "metadata": {
        "id": "YgkDE7hzo8r5"
      },
      "source": [
        "## Loss and metrics"
      ]
    },
    {
      "cell_type": "markdown",
      "metadata": {
        "id": "oxGJtoDuYIHL"
      },
      "source": [
        "Since the target sequences are padded, it is important to apply a padding mask when calculating the loss."
      ]
    },
    {
      "cell_type": "code",
      "metadata": {
        "id": "MlhsJMm0TW_B"
      },
      "source": [
        "loss_object = tf.keras.losses.SparseCategoricalCrossentropy(\n",
        "    from_logits=True, reduction='none')"
      ],
      "execution_count": 49,
      "outputs": []
    },
    {
      "cell_type": "code",
      "metadata": {
        "id": "67oqVHiT0Eiu"
      },
      "source": [
        "def loss_function(real, pred):\n",
        "  mask = tf.math.logical_not(tf.math.equal(real, 0))\n",
        "  loss_ = loss_object(real, pred)\n",
        "\n",
        "  mask = tf.cast(mask, dtype=loss_.dtype)\n",
        "  loss_ *= mask\n",
        "\n",
        "  return tf.reduce_sum(loss_)/tf.reduce_sum(mask)\n",
        "\n",
        "\n",
        "def accuracy_function(real, pred):\n",
        "  accuracies = tf.equal(real, tf.argmax(pred, axis=2))\n",
        "\n",
        "  mask = tf.math.logical_not(tf.math.equal(real, 0))\n",
        "  accuracies = tf.math.logical_and(mask, accuracies)\n",
        "\n",
        "  accuracies = tf.cast(accuracies, dtype=tf.float32)\n",
        "  mask = tf.cast(mask, dtype=tf.float32)\n",
        "  return tf.reduce_sum(accuracies)/tf.reduce_sum(mask)"
      ],
      "execution_count": 50,
      "outputs": []
    },
    {
      "cell_type": "code",
      "metadata": {
        "id": "phlyxMnm-Tpx"
      },
      "source": [
        "train_loss = tf.keras.metrics.Mean(name='train_loss')\n",
        "train_accuracy = tf.keras.metrics.Mean(name='train_accuracy')"
      ],
      "execution_count": 51,
      "outputs": []
    },
    {
      "cell_type": "markdown",
      "metadata": {
        "id": "aeHumfr7zmMa"
      },
      "source": [
        "## Training and checkpointing"
      ]
    },
    {
      "cell_type": "code",
      "metadata": {
        "id": "UiysUa--4tOU"
      },
      "source": [
        "transformer = Transformer(\n",
        "    num_layers=num_layers,\n",
        "    d_model=d_model,\n",
        "    num_heads=num_heads,\n",
        "    dff=dff,\n",
        "    input_vocab_size=tokenizers.de.get_vocab_size(),\n",
        "    target_vocab_size=tokenizers.en.get_vocab_size(),\n",
        "    pe_input=1000,\n",
        "    pe_target=1000,\n",
        "    rate=dropout_rate)"
      ],
      "execution_count": 52,
      "outputs": []
    },
    {
      "cell_type": "code",
      "metadata": {
        "id": "ZOJUSB1T8GjM"
      },
      "source": [
        "def create_masks(inp, tar):\n",
        "  # Encoder padding mask\n",
        "  enc_padding_mask = create_padding_mask(inp)\n",
        "\n",
        "  # Used in the 2nd attention block in the decoder.\n",
        "  # This padding mask is used to mask the encoder outputs.\n",
        "  dec_padding_mask = create_padding_mask(inp)\n",
        "\n",
        "  # Used in the 1st attention block in the decoder.\n",
        "  # It is used to pad and mask future tokens in the input received by\n",
        "  # the decoder.\n",
        "  look_ahead_mask = create_look_ahead_mask(tf.shape(tar)[1])\n",
        "  dec_target_padding_mask = create_padding_mask(tar)\n",
        "  combined_mask = tf.maximum(dec_target_padding_mask, look_ahead_mask)\n",
        "\n",
        "  return enc_padding_mask, combined_mask, dec_padding_mask"
      ],
      "execution_count": 53,
      "outputs": []
    },
    {
      "cell_type": "markdown",
      "metadata": {
        "id": "Fzuf06YZp66w"
      },
      "source": [
        "Create the checkpoint path and the checkpoint manager. This will be used to save checkpoints every `n` epochs."
      ]
    },
    {
      "cell_type": "code",
      "metadata": {
        "id": "hNhuYfllndLZ"
      },
      "source": [
        "checkpoint_path = \"/content/drive/MyDrive/MT/checkpoints/train\"\n",
        "\n",
        "ckpt = tf.train.Checkpoint(transformer=transformer,\n",
        "                           optimizer=optimizer)\n",
        "\n",
        "ckpt_manager = tf.train.CheckpointManager(ckpt, checkpoint_path, max_to_keep=5)\n",
        "\n",
        "# if a checkpoint exists, restore the latest checkpoint.\n",
        "if ckpt_manager.latest_checkpoint:\n",
        "  ckpt.restore(ckpt_manager.latest_checkpoint)\n",
        "  print('Latest checkpoint restored!!')"
      ],
      "execution_count": 54,
      "outputs": []
    },
    {
      "cell_type": "markdown",
      "metadata": {
        "id": "0Di_Yaa1gf9r"
      },
      "source": [
        "The target is divided into tar_inp and tar_real. tar_inp is passed as an input to the decoder. `tar_real` is that same input shifted by 1: At each location in `tar_input`, `tar_real` contains the  next token that should be predicted.\n",
        "\n",
        "For example, `sentence` = \"SOS A lion in the jungle is sleeping EOS\"\n",
        "\n",
        "`tar_inp` =  \"SOS A lion in the jungle is sleeping\"\n",
        "\n",
        "`tar_real` = \"A lion in the jungle is sleeping EOS\"\n",
        "\n",
        "The transformer is an auto-regressive model: it makes predictions one part at a time, and uses its output so far to decide what to do next. \n",
        "\n",
        "During training this example uses teacher-forcing (like in the [text generation tutorial](./text_generation.ipynb)). Teacher forcing is passing the true output to the next time step regardless of what the model predicts at the current time step.\n",
        "\n",
        "As the transformer predicts each word, *self-attention* allows it to look at the previous words in the input sequence to better predict the next word.\n",
        "\n",
        "To prevent the model from peeking at the expected output the model uses a look-ahead mask."
      ]
    },
    {
      "cell_type": "code",
      "metadata": {
        "id": "LKpoA6q1sJFj"
      },
      "source": [
        "EPOCHS = 50"
      ],
      "execution_count": 55,
      "outputs": []
    },
    {
      "cell_type": "code",
      "metadata": {
        "id": "iJwmp9OE29oj"
      },
      "source": [
        "# The @tf.function trace-compiles train_step into a TF graph for faster\n",
        "# execution. The function specializes to the precise shape of the argument\n",
        "# tensors. To avoid re-tracing due to the variable sequence lengths or variable\n",
        "# batch sizes (the last batch is smaller), use input_signature to specify\n",
        "# more generic shapes.\n",
        "\n",
        "train_step_signature = [\n",
        "    tf.TensorSpec(shape=(None, None), dtype=tf.int64),\n",
        "    tf.TensorSpec(shape=(None, None), dtype=tf.int64),\n",
        "]\n",
        "\n",
        "\n",
        "@tf.function(input_signature=train_step_signature)\n",
        "def train_step(inp, tar):\n",
        "  tar_inp = tar[:, :-1]\n",
        "  tar_real = tar[:, 1:]\n",
        "\n",
        "  enc_padding_mask, combined_mask, dec_padding_mask = create_masks(inp, tar_inp)\n",
        "\n",
        "  with tf.GradientTape() as tape:\n",
        "    predictions, _ = transformer(inp, tar_inp,\n",
        "                                 True,\n",
        "                                 enc_padding_mask,\n",
        "                                 combined_mask,\n",
        "                                 dec_padding_mask)\n",
        "    loss = loss_function(tar_real, predictions)\n",
        "\n",
        "  gradients = tape.gradient(loss, transformer.trainable_variables)\n",
        "  optimizer.apply_gradients(zip(gradients, transformer.trainable_variables))\n",
        "\n",
        "  train_loss(loss)\n",
        "  train_accuracy(accuracy_function(tar_real, predictions))"
      ],
      "execution_count": 56,
      "outputs": []
    },
    {
      "cell_type": "markdown",
      "metadata": {
        "id": "qM2PDWGDJ_8V"
      },
      "source": [
        "Portuguese is used as the input language and English is the target language."
      ]
    },
    {
      "cell_type": "code",
      "metadata": {
        "id": "bbvmaKNiznHZ",
        "colab": {
          "base_uri": "https://localhost:8080/"
        },
        "outputId": "4f7940a1-4eb2-4ccb-9c4a-fe427fdc259b"
      },
      "source": [
        "for epoch in range(EPOCHS):\n",
        "  start = time.time()\n",
        "\n",
        "  train_loss.reset_states()\n",
        "  train_accuracy.reset_states()\n",
        "\n",
        "  # inp -> German, tar -> english\n",
        "  for (batch, (inp, tar)) in enumerate(train_batches):\n",
        "    train_step(inp, tar)\n",
        "\n",
        "    if batch % 50 == 0:\n",
        "      print(f'Epoch {epoch + 1} Batch {batch} Loss {train_loss.result():.4f} Accuracy {train_accuracy.result():.4f}')\n",
        "\n",
        "  if (epoch + 1) % 5 == 0:\n",
        "    ckpt_save_path = ckpt_manager.save()\n",
        "    print(f'Saving checkpoint for epoch {epoch+1} at {ckpt_save_path}')\n",
        "\n",
        "  print(f'Epoch {epoch + 1} Loss {train_loss.result():.4f} Accuracy {train_accuracy.result():.4f}')\n",
        "\n",
        "  print(f'Time taken for 1 epoch: {time.time() - start:.2f} secs\\n')"
      ],
      "execution_count": 57,
      "outputs": [
        {
          "output_type": "stream",
          "text": [
            "Epoch 1 Batch 0 Loss 8.9517 Accuracy 0.0000\n",
            "Epoch 1 Batch 50 Loss 8.9098 Accuracy 0.0015\n",
            "Epoch 1 Batch 100 Loss 8.8330 Accuracy 0.0179\n",
            "Epoch 1 Batch 150 Loss 8.7366 Accuracy 0.0230\n",
            "Epoch 1 Batch 200 Loss 8.6157 Accuracy 0.0250\n",
            "Epoch 1 Batch 250 Loss 8.4732 Accuracy 0.0262\n",
            "Epoch 1 Batch 300 Loss 8.3186 Accuracy 0.0271\n",
            "Epoch 1 Batch 350 Loss 8.1658 Accuracy 0.0283\n",
            "Epoch 1 Batch 400 Loss 8.0250 Accuracy 0.0313\n",
            "Epoch 1 Batch 450 Loss 7.9031 Accuracy 0.0358\n",
            "Epoch 1 Batch 500 Loss 7.8007 Accuracy 0.0399\n",
            "Epoch 1 Batch 550 Loss 7.7121 Accuracy 0.0436\n",
            "Epoch 1 Batch 600 Loss 7.6350 Accuracy 0.0472\n",
            "Epoch 1 Batch 650 Loss 7.5625 Accuracy 0.0507\n",
            "Epoch 1 Batch 700 Loss 7.4927 Accuracy 0.0539\n",
            "Epoch 1 Batch 750 Loss 7.4259 Accuracy 0.0568\n",
            "Epoch 1 Batch 800 Loss 7.3601 Accuracy 0.0597\n",
            "Epoch 1 Batch 850 Loss 7.2979 Accuracy 0.0623\n",
            "Epoch 1 Batch 900 Loss 7.2395 Accuracy 0.0648\n",
            "Epoch 1 Batch 950 Loss 7.1840 Accuracy 0.0671\n",
            "Epoch 1 Batch 1000 Loss 7.1313 Accuracy 0.0692\n",
            "Epoch 1 Batch 1050 Loss 7.0816 Accuracy 0.0712\n",
            "Epoch 1 Batch 1100 Loss 7.0341 Accuracy 0.0731\n",
            "Epoch 1 Batch 1150 Loss 6.9880 Accuracy 0.0750\n",
            "Epoch 1 Batch 1200 Loss 6.9447 Accuracy 0.0768\n",
            "Epoch 1 Batch 1250 Loss 6.9023 Accuracy 0.0785\n",
            "Epoch 1 Batch 1300 Loss 6.8616 Accuracy 0.0802\n",
            "Epoch 1 Batch 1350 Loss 6.8221 Accuracy 0.0819\n",
            "Epoch 1 Batch 1400 Loss 6.7842 Accuracy 0.0834\n",
            "Epoch 1 Batch 1450 Loss 6.7473 Accuracy 0.0850\n",
            "Epoch 1 Batch 1500 Loss 6.7116 Accuracy 0.0865\n",
            "Epoch 1 Batch 1550 Loss 6.6777 Accuracy 0.0879\n",
            "Epoch 1 Loss 6.6696 Accuracy 0.0883\n",
            "Time taken for 1 epoch: 249.44 secs\n",
            "\n",
            "Epoch 2 Batch 0 Loss 5.6119 Accuracy 0.1356\n",
            "Epoch 2 Batch 50 Loss 5.6052 Accuracy 0.1321\n",
            "Epoch 2 Batch 100 Loss 5.5828 Accuracy 0.1336\n",
            "Epoch 2 Batch 150 Loss 5.5585 Accuracy 0.1361\n",
            "Epoch 2 Batch 200 Loss 5.5413 Accuracy 0.1368\n",
            "Epoch 2 Batch 250 Loss 5.5243 Accuracy 0.1380\n",
            "Epoch 2 Batch 300 Loss 5.5077 Accuracy 0.1387\n",
            "Epoch 2 Batch 350 Loss 5.4890 Accuracy 0.1398\n",
            "Epoch 2 Batch 400 Loss 5.4720 Accuracy 0.1408\n",
            "Epoch 2 Batch 450 Loss 5.4571 Accuracy 0.1415\n",
            "Epoch 2 Batch 500 Loss 5.4399 Accuracy 0.1423\n",
            "Epoch 2 Batch 550 Loss 5.4235 Accuracy 0.1433\n",
            "Epoch 2 Batch 600 Loss 5.4068 Accuracy 0.1444\n",
            "Epoch 2 Batch 650 Loss 5.3901 Accuracy 0.1457\n",
            "Epoch 2 Batch 700 Loss 5.3733 Accuracy 0.1468\n",
            "Epoch 2 Batch 750 Loss 5.3579 Accuracy 0.1479\n",
            "Epoch 2 Batch 800 Loss 5.3425 Accuracy 0.1489\n",
            "Epoch 2 Batch 850 Loss 5.3260 Accuracy 0.1501\n",
            "Epoch 2 Batch 900 Loss 5.3100 Accuracy 0.1513\n",
            "Epoch 2 Batch 950 Loss 5.2947 Accuracy 0.1524\n",
            "Epoch 2 Batch 1000 Loss 5.2791 Accuracy 0.1536\n",
            "Epoch 2 Batch 1050 Loss 5.2632 Accuracy 0.1548\n",
            "Epoch 2 Batch 1100 Loss 5.2477 Accuracy 0.1560\n",
            "Epoch 2 Batch 1150 Loss 5.2326 Accuracy 0.1572\n",
            "Epoch 2 Batch 1200 Loss 5.2177 Accuracy 0.1584\n",
            "Epoch 2 Batch 1250 Loss 5.2018 Accuracy 0.1598\n",
            "Epoch 2 Batch 1300 Loss 5.1870 Accuracy 0.1610\n",
            "Epoch 2 Batch 1350 Loss 5.1729 Accuracy 0.1621\n",
            "Epoch 2 Batch 1400 Loss 5.1585 Accuracy 0.1633\n",
            "Epoch 2 Batch 1450 Loss 5.1443 Accuracy 0.1645\n",
            "Epoch 2 Batch 1500 Loss 5.1298 Accuracy 0.1658\n",
            "Epoch 2 Batch 1550 Loss 5.1140 Accuracy 0.1672\n",
            "Epoch 2 Loss 5.1106 Accuracy 0.1675\n",
            "Time taken for 1 epoch: 227.31 secs\n",
            "\n",
            "Epoch 3 Batch 0 Loss 4.7002 Accuracy 0.2085\n",
            "Epoch 3 Batch 50 Loss 4.6344 Accuracy 0.2082\n",
            "Epoch 3 Batch 100 Loss 4.6162 Accuracy 0.2116\n",
            "Epoch 3 Batch 150 Loss 4.6017 Accuracy 0.2138\n",
            "Epoch 3 Batch 200 Loss 4.5848 Accuracy 0.2159\n",
            "Epoch 3 Batch 250 Loss 4.5763 Accuracy 0.2169\n",
            "Epoch 3 Batch 300 Loss 4.5662 Accuracy 0.2180\n",
            "Epoch 3 Batch 350 Loss 4.5535 Accuracy 0.2197\n",
            "Epoch 3 Batch 400 Loss 4.5423 Accuracy 0.2207\n",
            "Epoch 3 Batch 450 Loss 4.5318 Accuracy 0.2220\n",
            "Epoch 3 Batch 500 Loss 4.5187 Accuracy 0.2238\n",
            "Epoch 3 Batch 550 Loss 4.5086 Accuracy 0.2251\n",
            "Epoch 3 Batch 600 Loss 4.4968 Accuracy 0.2265\n",
            "Epoch 3 Batch 650 Loss 4.4864 Accuracy 0.2276\n",
            "Epoch 3 Batch 700 Loss 4.4763 Accuracy 0.2288\n",
            "Epoch 3 Batch 750 Loss 4.4669 Accuracy 0.2301\n",
            "Epoch 3 Batch 800 Loss 4.4561 Accuracy 0.2315\n",
            "Epoch 3 Batch 850 Loss 4.4456 Accuracy 0.2328\n",
            "Epoch 3 Batch 900 Loss 4.4351 Accuracy 0.2342\n",
            "Epoch 3 Batch 950 Loss 4.4246 Accuracy 0.2355\n",
            "Epoch 3 Batch 1000 Loss 4.4157 Accuracy 0.2365\n",
            "Epoch 3 Batch 1050 Loss 4.4049 Accuracy 0.2380\n",
            "Epoch 3 Batch 1100 Loss 4.3946 Accuracy 0.2393\n",
            "Epoch 3 Batch 1150 Loss 4.3836 Accuracy 0.2408\n",
            "Epoch 3 Batch 1200 Loss 4.3725 Accuracy 0.2424\n",
            "Epoch 3 Batch 1250 Loss 4.3620 Accuracy 0.2437\n",
            "Epoch 3 Batch 1300 Loss 4.3512 Accuracy 0.2452\n",
            "Epoch 3 Batch 1350 Loss 4.3405 Accuracy 0.2467\n",
            "Epoch 3 Batch 1400 Loss 4.3297 Accuracy 0.2481\n",
            "Epoch 3 Batch 1450 Loss 4.3199 Accuracy 0.2494\n",
            "Epoch 3 Batch 1500 Loss 4.3093 Accuracy 0.2508\n",
            "Epoch 3 Batch 1550 Loss 4.2989 Accuracy 0.2521\n",
            "Epoch 3 Loss 4.2967 Accuracy 0.2524\n",
            "Time taken for 1 epoch: 226.41 secs\n",
            "\n",
            "Epoch 4 Batch 0 Loss 3.9333 Accuracy 0.2972\n",
            "Epoch 4 Batch 50 Loss 3.9150 Accuracy 0.3004\n",
            "Epoch 4 Batch 100 Loss 3.8922 Accuracy 0.3048\n",
            "Epoch 4 Batch 150 Loss 3.9000 Accuracy 0.3046\n",
            "Epoch 4 Batch 200 Loss 3.8880 Accuracy 0.3071\n",
            "Epoch 4 Batch 250 Loss 3.8797 Accuracy 0.3084\n",
            "Epoch 4 Batch 300 Loss 3.8687 Accuracy 0.3102\n",
            "Epoch 4 Batch 350 Loss 3.8581 Accuracy 0.3118\n",
            "Epoch 4 Batch 400 Loss 3.8492 Accuracy 0.3131\n",
            "Epoch 4 Batch 450 Loss 3.8350 Accuracy 0.3152\n",
            "Epoch 4 Batch 500 Loss 3.8246 Accuracy 0.3166\n",
            "Epoch 4 Batch 550 Loss 3.8162 Accuracy 0.3179\n",
            "Epoch 4 Batch 600 Loss 3.8076 Accuracy 0.3192\n",
            "Epoch 4 Batch 650 Loss 3.7983 Accuracy 0.3206\n",
            "Epoch 4 Batch 700 Loss 3.7894 Accuracy 0.3219\n",
            "Epoch 4 Batch 750 Loss 3.7812 Accuracy 0.3231\n",
            "Epoch 4 Batch 800 Loss 3.7720 Accuracy 0.3246\n",
            "Epoch 4 Batch 850 Loss 3.7620 Accuracy 0.3262\n",
            "Epoch 4 Batch 900 Loss 3.7514 Accuracy 0.3277\n",
            "Epoch 4 Batch 950 Loss 3.7435 Accuracy 0.3289\n",
            "Epoch 4 Batch 1000 Loss 3.7335 Accuracy 0.3304\n",
            "Epoch 4 Batch 1050 Loss 3.7245 Accuracy 0.3317\n",
            "Epoch 4 Batch 1100 Loss 3.7155 Accuracy 0.3331\n",
            "Epoch 4 Batch 1150 Loss 3.7063 Accuracy 0.3343\n",
            "Epoch 4 Batch 1200 Loss 3.6974 Accuracy 0.3357\n",
            "Epoch 4 Batch 1250 Loss 3.6888 Accuracy 0.3370\n",
            "Epoch 4 Batch 1300 Loss 3.6810 Accuracy 0.3381\n",
            "Epoch 4 Batch 1350 Loss 3.6731 Accuracy 0.3392\n",
            "Epoch 4 Batch 1400 Loss 3.6650 Accuracy 0.3405\n",
            "Epoch 4 Batch 1450 Loss 3.6555 Accuracy 0.3420\n",
            "Epoch 4 Batch 1500 Loss 3.6479 Accuracy 0.3432\n",
            "Epoch 4 Batch 1550 Loss 3.6397 Accuracy 0.3445\n",
            "Epoch 4 Loss 3.6377 Accuracy 0.3448\n",
            "Time taken for 1 epoch: 224.37 secs\n",
            "\n",
            "Epoch 5 Batch 0 Loss 3.3177 Accuracy 0.3917\n",
            "Epoch 5 Batch 50 Loss 3.3004 Accuracy 0.3953\n",
            "Epoch 5 Batch 100 Loss 3.3124 Accuracy 0.3926\n",
            "Epoch 5 Batch 150 Loss 3.3097 Accuracy 0.3937\n",
            "Epoch 5 Batch 200 Loss 3.3045 Accuracy 0.3945\n",
            "Epoch 5 Batch 250 Loss 3.3064 Accuracy 0.3939\n",
            "Epoch 5 Batch 300 Loss 3.2994 Accuracy 0.3951\n",
            "Epoch 5 Batch 350 Loss 3.2993 Accuracy 0.3953\n",
            "Epoch 5 Batch 400 Loss 3.2900 Accuracy 0.3967\n",
            "Epoch 5 Batch 450 Loss 3.2839 Accuracy 0.3976\n",
            "Epoch 5 Batch 500 Loss 3.2768 Accuracy 0.3987\n",
            "Epoch 5 Batch 550 Loss 3.2689 Accuracy 0.4000\n",
            "Epoch 5 Batch 600 Loss 3.2616 Accuracy 0.4007\n",
            "Epoch 5 Batch 650 Loss 3.2585 Accuracy 0.4013\n",
            "Epoch 5 Batch 700 Loss 3.2540 Accuracy 0.4021\n",
            "Epoch 5 Batch 750 Loss 3.2501 Accuracy 0.4027\n",
            "Epoch 5 Batch 800 Loss 3.2468 Accuracy 0.4032\n",
            "Epoch 5 Batch 850 Loss 3.2408 Accuracy 0.4041\n",
            "Epoch 5 Batch 900 Loss 3.2358 Accuracy 0.4049\n",
            "Epoch 5 Batch 950 Loss 3.2317 Accuracy 0.4056\n",
            "Epoch 5 Batch 1000 Loss 3.2256 Accuracy 0.4066\n",
            "Epoch 5 Batch 1050 Loss 3.2214 Accuracy 0.4072\n",
            "Epoch 5 Batch 1100 Loss 3.2160 Accuracy 0.4080\n",
            "Epoch 5 Batch 1150 Loss 3.2102 Accuracy 0.4089\n",
            "Epoch 5 Batch 1200 Loss 3.2055 Accuracy 0.4096\n",
            "Epoch 5 Batch 1250 Loss 3.2018 Accuracy 0.4101\n",
            "Epoch 5 Batch 1300 Loss 3.1976 Accuracy 0.4107\n",
            "Epoch 5 Batch 1350 Loss 3.1930 Accuracy 0.4114\n",
            "Epoch 5 Batch 1400 Loss 3.1881 Accuracy 0.4121\n",
            "Epoch 5 Batch 1450 Loss 3.1834 Accuracy 0.4129\n",
            "Epoch 5 Batch 1500 Loss 3.1802 Accuracy 0.4134\n",
            "Epoch 5 Batch 1550 Loss 3.1762 Accuracy 0.4140\n",
            "Saving checkpoint for epoch 5 at /content/drive/MyDrive/MT/checkpoints/train/ckpt-1\n",
            "Epoch 5 Loss 3.1756 Accuracy 0.4142\n",
            "Time taken for 1 epoch: 225.78 secs\n",
            "\n",
            "Epoch 6 Batch 0 Loss 2.9439 Accuracy 0.4533\n",
            "Epoch 6 Batch 50 Loss 2.9953 Accuracy 0.4418\n",
            "Epoch 6 Batch 100 Loss 3.0049 Accuracy 0.4393\n",
            "Epoch 6 Batch 150 Loss 2.9857 Accuracy 0.4425\n",
            "Epoch 6 Batch 200 Loss 2.9921 Accuracy 0.4407\n",
            "Epoch 6 Batch 250 Loss 2.9869 Accuracy 0.4417\n",
            "Epoch 6 Batch 300 Loss 2.9813 Accuracy 0.4429\n",
            "Epoch 6 Batch 350 Loss 2.9712 Accuracy 0.4446\n",
            "Epoch 6 Batch 400 Loss 2.9692 Accuracy 0.4451\n",
            "Epoch 6 Batch 450 Loss 2.9682 Accuracy 0.4452\n",
            "Epoch 6 Batch 500 Loss 2.9632 Accuracy 0.4462\n",
            "Epoch 6 Batch 550 Loss 2.9582 Accuracy 0.4471\n",
            "Epoch 6 Batch 600 Loss 2.9568 Accuracy 0.4475\n",
            "Epoch 6 Batch 650 Loss 2.9533 Accuracy 0.4481\n",
            "Epoch 6 Batch 700 Loss 2.9525 Accuracy 0.4480\n",
            "Epoch 6 Batch 750 Loss 2.9498 Accuracy 0.4482\n",
            "Epoch 6 Batch 800 Loss 2.9484 Accuracy 0.4484\n",
            "Epoch 6 Batch 850 Loss 2.9453 Accuracy 0.4488\n",
            "Epoch 6 Batch 900 Loss 2.9415 Accuracy 0.4493\n",
            "Epoch 6 Batch 950 Loss 2.9397 Accuracy 0.4496\n",
            "Epoch 6 Batch 1000 Loss 2.9377 Accuracy 0.4498\n",
            "Epoch 6 Batch 1050 Loss 2.9345 Accuracy 0.4504\n",
            "Epoch 6 Batch 1100 Loss 2.9313 Accuracy 0.4508\n",
            "Epoch 6 Batch 1150 Loss 2.9288 Accuracy 0.4512\n",
            "Epoch 6 Batch 1200 Loss 2.9257 Accuracy 0.4516\n",
            "Epoch 6 Batch 1250 Loss 2.9220 Accuracy 0.4521\n",
            "Epoch 6 Batch 1300 Loss 2.9197 Accuracy 0.4525\n",
            "Epoch 6 Batch 1350 Loss 2.9172 Accuracy 0.4528\n",
            "Epoch 6 Batch 1400 Loss 2.9145 Accuracy 0.4532\n",
            "Epoch 6 Batch 1450 Loss 2.9137 Accuracy 0.4533\n",
            "Epoch 6 Batch 1500 Loss 2.9106 Accuracy 0.4538\n",
            "Epoch 6 Batch 1550 Loss 2.9092 Accuracy 0.4541\n",
            "Epoch 6 Loss 2.9090 Accuracy 0.4541\n",
            "Time taken for 1 epoch: 224.71 secs\n",
            "\n",
            "Epoch 7 Batch 0 Loss 2.6783 Accuracy 0.4753\n",
            "Epoch 7 Batch 50 Loss 2.7511 Accuracy 0.4767\n",
            "Epoch 7 Batch 100 Loss 2.7711 Accuracy 0.4733\n",
            "Epoch 7 Batch 150 Loss 2.7689 Accuracy 0.4740\n",
            "Epoch 7 Batch 200 Loss 2.7662 Accuracy 0.4749\n",
            "Epoch 7 Batch 250 Loss 2.7670 Accuracy 0.4745\n",
            "Epoch 7 Batch 300 Loss 2.7638 Accuracy 0.4751\n",
            "Epoch 7 Batch 350 Loss 2.7639 Accuracy 0.4748\n",
            "Epoch 7 Batch 400 Loss 2.7615 Accuracy 0.4756\n",
            "Epoch 7 Batch 450 Loss 2.7595 Accuracy 0.4761\n",
            "Epoch 7 Batch 500 Loss 2.7612 Accuracy 0.4759\n",
            "Epoch 7 Batch 550 Loss 2.7600 Accuracy 0.4761\n",
            "Epoch 7 Batch 600 Loss 2.7582 Accuracy 0.4766\n",
            "Epoch 7 Batch 650 Loss 2.7585 Accuracy 0.4765\n",
            "Epoch 7 Batch 700 Loss 2.7567 Accuracy 0.4768\n",
            "Epoch 7 Batch 750 Loss 2.7548 Accuracy 0.4772\n",
            "Epoch 7 Batch 800 Loss 2.7536 Accuracy 0.4775\n",
            "Epoch 7 Batch 850 Loss 2.7534 Accuracy 0.4775\n",
            "Epoch 7 Batch 900 Loss 2.7508 Accuracy 0.4779\n",
            "Epoch 7 Batch 950 Loss 2.7492 Accuracy 0.4782\n",
            "Epoch 7 Batch 1000 Loss 2.7482 Accuracy 0.4783\n",
            "Epoch 7 Batch 1050 Loss 2.7471 Accuracy 0.4785\n",
            "Epoch 7 Batch 1100 Loss 2.7451 Accuracy 0.4788\n",
            "Epoch 7 Batch 1150 Loss 2.7432 Accuracy 0.4791\n",
            "Epoch 7 Batch 1200 Loss 2.7414 Accuracy 0.4794\n",
            "Epoch 7 Batch 1250 Loss 2.7388 Accuracy 0.4797\n",
            "Epoch 7 Batch 1300 Loss 2.7378 Accuracy 0.4799\n",
            "Epoch 7 Batch 1350 Loss 2.7364 Accuracy 0.4801\n",
            "Epoch 7 Batch 1400 Loss 2.7358 Accuracy 0.4802\n",
            "Epoch 7 Batch 1450 Loss 2.7338 Accuracy 0.4805\n",
            "Epoch 7 Batch 1500 Loss 2.7333 Accuracy 0.4806\n",
            "Epoch 7 Batch 1550 Loss 2.7324 Accuracy 0.4807\n",
            "Epoch 7 Loss 2.7322 Accuracy 0.4808\n",
            "Time taken for 1 epoch: 224.95 secs\n",
            "\n",
            "Epoch 8 Batch 0 Loss 2.9361 Accuracy 0.4533\n",
            "Epoch 8 Batch 50 Loss 2.6461 Accuracy 0.4919\n",
            "Epoch 8 Batch 100 Loss 2.6280 Accuracy 0.4953\n",
            "Epoch 8 Batch 150 Loss 2.6363 Accuracy 0.4940\n",
            "Epoch 8 Batch 200 Loss 2.6344 Accuracy 0.4944\n",
            "Epoch 8 Batch 250 Loss 2.6301 Accuracy 0.4954\n",
            "Epoch 8 Batch 300 Loss 2.6331 Accuracy 0.4948\n",
            "Epoch 8 Batch 350 Loss 2.6335 Accuracy 0.4948\n",
            "Epoch 8 Batch 400 Loss 2.6284 Accuracy 0.4958\n",
            "Epoch 8 Batch 450 Loss 2.6278 Accuracy 0.4962\n",
            "Epoch 8 Batch 500 Loss 2.6260 Accuracy 0.4966\n",
            "Epoch 8 Batch 550 Loss 2.6266 Accuracy 0.4965\n",
            "Epoch 8 Batch 600 Loss 2.6258 Accuracy 0.4969\n",
            "Epoch 8 Batch 650 Loss 2.6249 Accuracy 0.4970\n",
            "Epoch 8 Batch 700 Loss 2.6232 Accuracy 0.4972\n",
            "Epoch 8 Batch 750 Loss 2.6216 Accuracy 0.4974\n",
            "Epoch 8 Batch 800 Loss 2.6199 Accuracy 0.4978\n",
            "Epoch 8 Batch 850 Loss 2.6196 Accuracy 0.4978\n",
            "Epoch 8 Batch 900 Loss 2.6173 Accuracy 0.4983\n",
            "Epoch 8 Batch 950 Loss 2.6164 Accuracy 0.4984\n",
            "Epoch 8 Batch 1000 Loss 2.6151 Accuracy 0.4986\n",
            "Epoch 8 Batch 1050 Loss 2.6144 Accuracy 0.4986\n",
            "Epoch 8 Batch 1100 Loss 2.6124 Accuracy 0.4989\n",
            "Epoch 8 Batch 1150 Loss 2.6106 Accuracy 0.4993\n",
            "Epoch 8 Batch 1200 Loss 2.6089 Accuracy 0.4996\n",
            "Epoch 8 Batch 1250 Loss 2.6099 Accuracy 0.4994\n",
            "Epoch 8 Batch 1300 Loss 2.6083 Accuracy 0.4996\n",
            "Epoch 8 Batch 1350 Loss 2.6083 Accuracy 0.4996\n",
            "Epoch 8 Batch 1400 Loss 2.6083 Accuracy 0.4995\n",
            "Epoch 8 Batch 1450 Loss 2.6065 Accuracy 0.4999\n",
            "Epoch 8 Batch 1500 Loss 2.6057 Accuracy 0.5000\n",
            "Epoch 8 Batch 1550 Loss 2.6058 Accuracy 0.4999\n",
            "Epoch 8 Loss 2.6057 Accuracy 0.5000\n",
            "Time taken for 1 epoch: 227.48 secs\n",
            "\n",
            "Epoch 9 Batch 0 Loss 2.4990 Accuracy 0.5114\n",
            "Epoch 9 Batch 50 Loss 2.5102 Accuracy 0.5130\n",
            "Epoch 9 Batch 100 Loss 2.5300 Accuracy 0.5100\n",
            "Epoch 9 Batch 150 Loss 2.5274 Accuracy 0.5107\n",
            "Epoch 9 Batch 200 Loss 2.5256 Accuracy 0.5111\n",
            "Epoch 9 Batch 250 Loss 2.5211 Accuracy 0.5119\n",
            "Epoch 9 Batch 300 Loss 2.5192 Accuracy 0.5122\n",
            "Epoch 9 Batch 350 Loss 2.5216 Accuracy 0.5121\n",
            "Epoch 9 Batch 400 Loss 2.5217 Accuracy 0.5122\n",
            "Epoch 9 Batch 450 Loss 2.5208 Accuracy 0.5124\n",
            "Epoch 9 Batch 500 Loss 2.5195 Accuracy 0.5126\n",
            "Epoch 9 Batch 550 Loss 2.5197 Accuracy 0.5126\n",
            "Epoch 9 Batch 600 Loss 2.5198 Accuracy 0.5126\n",
            "Epoch 9 Batch 650 Loss 2.5198 Accuracy 0.5127\n",
            "Epoch 9 Batch 700 Loss 2.5177 Accuracy 0.5130\n",
            "Epoch 9 Batch 750 Loss 2.5194 Accuracy 0.5127\n",
            "Epoch 9 Batch 800 Loss 2.5184 Accuracy 0.5130\n",
            "Epoch 9 Batch 850 Loss 2.5179 Accuracy 0.5131\n",
            "Epoch 9 Batch 900 Loss 2.5183 Accuracy 0.5131\n",
            "Epoch 9 Batch 950 Loss 2.5184 Accuracy 0.5131\n",
            "Epoch 9 Batch 1000 Loss 2.5178 Accuracy 0.5133\n",
            "Epoch 9 Batch 1050 Loss 2.5169 Accuracy 0.5135\n",
            "Epoch 9 Batch 1100 Loss 2.5151 Accuracy 0.5138\n",
            "Epoch 9 Batch 1150 Loss 2.5143 Accuracy 0.5139\n",
            "Epoch 9 Batch 1200 Loss 2.5143 Accuracy 0.5140\n",
            "Epoch 9 Batch 1250 Loss 2.5132 Accuracy 0.5142\n",
            "Epoch 9 Batch 1300 Loss 2.5127 Accuracy 0.5143\n",
            "Epoch 9 Batch 1350 Loss 2.5107 Accuracy 0.5146\n",
            "Epoch 9 Batch 1400 Loss 2.5104 Accuracy 0.5146\n",
            "Epoch 9 Batch 1450 Loss 2.5091 Accuracy 0.5148\n",
            "Epoch 9 Batch 1500 Loss 2.5094 Accuracy 0.5148\n",
            "Epoch 9 Batch 1550 Loss 2.5087 Accuracy 0.5149\n",
            "Epoch 9 Loss 2.5090 Accuracy 0.5149\n",
            "Time taken for 1 epoch: 225.22 secs\n",
            "\n",
            "Epoch 10 Batch 0 Loss 2.5072 Accuracy 0.5034\n",
            "Epoch 10 Batch 50 Loss 2.4283 Accuracy 0.5284\n",
            "Epoch 10 Batch 100 Loss 2.4426 Accuracy 0.5252\n",
            "Epoch 10 Batch 150 Loss 2.4382 Accuracy 0.5263\n",
            "Epoch 10 Batch 200 Loss 2.4401 Accuracy 0.5258\n",
            "Epoch 10 Batch 250 Loss 2.4355 Accuracy 0.5262\n",
            "Epoch 10 Batch 300 Loss 2.4373 Accuracy 0.5257\n",
            "Epoch 10 Batch 350 Loss 2.4386 Accuracy 0.5258\n",
            "Epoch 10 Batch 400 Loss 2.4384 Accuracy 0.5258\n",
            "Epoch 10 Batch 450 Loss 2.4378 Accuracy 0.5261\n",
            "Epoch 10 Batch 500 Loss 2.4383 Accuracy 0.5263\n",
            "Epoch 10 Batch 550 Loss 2.4378 Accuracy 0.5264\n",
            "Epoch 10 Batch 600 Loss 2.4380 Accuracy 0.5263\n",
            "Epoch 10 Batch 650 Loss 2.4399 Accuracy 0.5259\n",
            "Epoch 10 Batch 700 Loss 2.4399 Accuracy 0.5257\n",
            "Epoch 10 Batch 750 Loss 2.4398 Accuracy 0.5257\n",
            "Epoch 10 Batch 800 Loss 2.4383 Accuracy 0.5259\n",
            "Epoch 10 Batch 850 Loss 2.4388 Accuracy 0.5258\n",
            "Epoch 10 Batch 900 Loss 2.4359 Accuracy 0.5263\n",
            "Epoch 10 Batch 950 Loss 2.4367 Accuracy 0.5262\n",
            "Epoch 10 Batch 1000 Loss 2.4357 Accuracy 0.5263\n",
            "Epoch 10 Batch 1050 Loss 2.4352 Accuracy 0.5263\n",
            "Epoch 10 Batch 1100 Loss 2.4357 Accuracy 0.5263\n",
            "Epoch 10 Batch 1150 Loss 2.4350 Accuracy 0.5264\n",
            "Epoch 10 Batch 1200 Loss 2.4345 Accuracy 0.5265\n",
            "Epoch 10 Batch 1250 Loss 2.4344 Accuracy 0.5265\n",
            "Epoch 10 Batch 1300 Loss 2.4340 Accuracy 0.5265\n",
            "Epoch 10 Batch 1350 Loss 2.4329 Accuracy 0.5267\n",
            "Epoch 10 Batch 1400 Loss 2.4326 Accuracy 0.5267\n",
            "Epoch 10 Batch 1450 Loss 2.4325 Accuracy 0.5267\n",
            "Epoch 10 Batch 1500 Loss 2.4329 Accuracy 0.5267\n",
            "Epoch 10 Batch 1550 Loss 2.4346 Accuracy 0.5265\n",
            "Saving checkpoint for epoch 10 at /content/drive/MyDrive/MT/checkpoints/train/ckpt-2\n",
            "Epoch 10 Loss 2.4342 Accuracy 0.5265\n",
            "Time taken for 1 epoch: 225.06 secs\n",
            "\n",
            "Epoch 11 Batch 0 Loss 2.4547 Accuracy 0.5167\n",
            "Epoch 11 Batch 50 Loss 2.3656 Accuracy 0.5366\n",
            "Epoch 11 Batch 100 Loss 2.3747 Accuracy 0.5356\n",
            "Epoch 11 Batch 150 Loss 2.3783 Accuracy 0.5341\n",
            "Epoch 11 Batch 200 Loss 2.3803 Accuracy 0.5337\n",
            "Epoch 11 Batch 250 Loss 2.3780 Accuracy 0.5344\n",
            "Epoch 11 Batch 300 Loss 2.3774 Accuracy 0.5347\n",
            "Epoch 11 Batch 350 Loss 2.3771 Accuracy 0.5350\n",
            "Epoch 11 Batch 400 Loss 2.3771 Accuracy 0.5351\n",
            "Epoch 11 Batch 450 Loss 2.3777 Accuracy 0.5350\n",
            "Epoch 11 Batch 500 Loss 2.3788 Accuracy 0.5348\n",
            "Epoch 11 Batch 550 Loss 2.3767 Accuracy 0.5353\n",
            "Epoch 11 Batch 600 Loss 2.3756 Accuracy 0.5355\n",
            "Epoch 11 Batch 650 Loss 2.3766 Accuracy 0.5353\n",
            "Epoch 11 Batch 700 Loss 2.3750 Accuracy 0.5357\n",
            "Epoch 11 Batch 750 Loss 2.3753 Accuracy 0.5356\n",
            "Epoch 11 Batch 800 Loss 2.3759 Accuracy 0.5354\n",
            "Epoch 11 Batch 850 Loss 2.3737 Accuracy 0.5358\n",
            "Epoch 11 Batch 900 Loss 2.3741 Accuracy 0.5358\n",
            "Epoch 11 Batch 950 Loss 2.3744 Accuracy 0.5357\n",
            "Epoch 11 Batch 1000 Loss 2.3733 Accuracy 0.5357\n",
            "Epoch 11 Batch 1050 Loss 2.3719 Accuracy 0.5360\n",
            "Epoch 11 Batch 1100 Loss 2.3719 Accuracy 0.5360\n",
            "Epoch 11 Batch 1150 Loss 2.3711 Accuracy 0.5361\n",
            "Epoch 11 Batch 1200 Loss 2.3714 Accuracy 0.5360\n",
            "Epoch 11 Batch 1250 Loss 2.3709 Accuracy 0.5361\n",
            "Epoch 11 Batch 1300 Loss 2.3702 Accuracy 0.5362\n",
            "Epoch 11 Batch 1350 Loss 2.3704 Accuracy 0.5363\n",
            "Epoch 11 Batch 1400 Loss 2.3702 Accuracy 0.5363\n",
            "Epoch 11 Batch 1450 Loss 2.3710 Accuracy 0.5361\n",
            "Epoch 11 Batch 1500 Loss 2.3702 Accuracy 0.5364\n",
            "Epoch 11 Batch 1550 Loss 2.3711 Accuracy 0.5362\n",
            "Epoch 11 Loss 2.3711 Accuracy 0.5362\n",
            "Time taken for 1 epoch: 227.70 secs\n",
            "\n",
            "Epoch 12 Batch 0 Loss 2.1002 Accuracy 0.5871\n",
            "Epoch 12 Batch 50 Loss 2.3242 Accuracy 0.5445\n",
            "Epoch 12 Batch 100 Loss 2.3190 Accuracy 0.5444\n",
            "Epoch 12 Batch 150 Loss 2.3178 Accuracy 0.5445\n",
            "Epoch 12 Batch 200 Loss 2.3218 Accuracy 0.5434\n",
            "Epoch 12 Batch 250 Loss 2.3254 Accuracy 0.5427\n",
            "Epoch 12 Batch 300 Loss 2.3230 Accuracy 0.5430\n",
            "Epoch 12 Batch 350 Loss 2.3203 Accuracy 0.5438\n",
            "Epoch 12 Batch 400 Loss 2.3207 Accuracy 0.5439\n",
            "Epoch 12 Batch 450 Loss 2.3181 Accuracy 0.5445\n",
            "Epoch 12 Batch 500 Loss 2.3170 Accuracy 0.5445\n",
            "Epoch 12 Batch 550 Loss 2.3177 Accuracy 0.5443\n",
            "Epoch 12 Batch 600 Loss 2.3159 Accuracy 0.5446\n",
            "Epoch 12 Batch 650 Loss 2.3165 Accuracy 0.5443\n",
            "Epoch 12 Batch 700 Loss 2.3166 Accuracy 0.5443\n",
            "Epoch 12 Batch 750 Loss 2.3180 Accuracy 0.5441\n",
            "Epoch 12 Batch 800 Loss 2.3192 Accuracy 0.5439\n",
            "Epoch 12 Batch 850 Loss 2.3183 Accuracy 0.5440\n",
            "Epoch 12 Batch 900 Loss 2.3204 Accuracy 0.5438\n",
            "Epoch 12 Batch 950 Loss 2.3209 Accuracy 0.5437\n",
            "Epoch 12 Batch 1000 Loss 2.3204 Accuracy 0.5438\n",
            "Epoch 12 Batch 1050 Loss 2.3204 Accuracy 0.5438\n",
            "Epoch 12 Batch 1100 Loss 2.3195 Accuracy 0.5440\n",
            "Epoch 12 Batch 1150 Loss 2.3189 Accuracy 0.5441\n",
            "Epoch 12 Batch 1200 Loss 2.3182 Accuracy 0.5442\n",
            "Epoch 12 Batch 1250 Loss 2.3186 Accuracy 0.5441\n",
            "Epoch 12 Batch 1300 Loss 2.3182 Accuracy 0.5441\n",
            "Epoch 12 Batch 1350 Loss 2.3189 Accuracy 0.5440\n",
            "Epoch 12 Batch 1400 Loss 2.3186 Accuracy 0.5441\n",
            "Epoch 12 Batch 1450 Loss 2.3191 Accuracy 0.5440\n",
            "Epoch 12 Batch 1500 Loss 2.3201 Accuracy 0.5438\n",
            "Epoch 12 Batch 1550 Loss 2.3199 Accuracy 0.5439\n",
            "Epoch 12 Loss 2.3199 Accuracy 0.5439\n",
            "Time taken for 1 epoch: 227.74 secs\n",
            "\n",
            "Epoch 13 Batch 0 Loss 2.2627 Accuracy 0.5564\n",
            "Epoch 13 Batch 50 Loss 2.2648 Accuracy 0.5529\n",
            "Epoch 13 Batch 100 Loss 2.2664 Accuracy 0.5522\n",
            "Epoch 13 Batch 150 Loss 2.2597 Accuracy 0.5531\n",
            "Epoch 13 Batch 200 Loss 2.2613 Accuracy 0.5532\n",
            "Epoch 13 Batch 250 Loss 2.2663 Accuracy 0.5523\n",
            "Epoch 13 Batch 300 Loss 2.2660 Accuracy 0.5521\n",
            "Epoch 13 Batch 350 Loss 2.2736 Accuracy 0.5511\n",
            "Epoch 13 Batch 400 Loss 2.2747 Accuracy 0.5509\n",
            "Epoch 13 Batch 450 Loss 2.2725 Accuracy 0.5514\n",
            "Epoch 13 Batch 500 Loss 2.2707 Accuracy 0.5520\n",
            "Epoch 13 Batch 550 Loss 2.2691 Accuracy 0.5522\n",
            "Epoch 13 Batch 600 Loss 2.2706 Accuracy 0.5520\n",
            "Epoch 13 Batch 650 Loss 2.2719 Accuracy 0.5517\n",
            "Epoch 13 Batch 700 Loss 2.2736 Accuracy 0.5514\n",
            "Epoch 13 Batch 750 Loss 2.2755 Accuracy 0.5511\n",
            "Epoch 13 Batch 800 Loss 2.2768 Accuracy 0.5508\n",
            "Epoch 13 Batch 850 Loss 2.2768 Accuracy 0.5509\n",
            "Epoch 13 Batch 900 Loss 2.2771 Accuracy 0.5509\n",
            "Epoch 13 Batch 950 Loss 2.2779 Accuracy 0.5507\n",
            "Epoch 13 Batch 1000 Loss 2.2775 Accuracy 0.5508\n",
            "Epoch 13 Batch 1050 Loss 2.2761 Accuracy 0.5512\n",
            "Epoch 13 Batch 1100 Loss 2.2748 Accuracy 0.5514\n",
            "Epoch 13 Batch 1150 Loss 2.2746 Accuracy 0.5514\n",
            "Epoch 13 Batch 1200 Loss 2.2737 Accuracy 0.5515\n",
            "Epoch 13 Batch 1250 Loss 2.2727 Accuracy 0.5517\n",
            "Epoch 13 Batch 1300 Loss 2.2731 Accuracy 0.5516\n",
            "Epoch 13 Batch 1350 Loss 2.2730 Accuracy 0.5516\n",
            "Epoch 13 Batch 1400 Loss 2.2736 Accuracy 0.5515\n",
            "Epoch 13 Batch 1450 Loss 2.2741 Accuracy 0.5514\n",
            "Epoch 13 Batch 1500 Loss 2.2738 Accuracy 0.5515\n",
            "Epoch 13 Batch 1550 Loss 2.2749 Accuracy 0.5514\n",
            "Epoch 13 Loss 2.2746 Accuracy 0.5514\n",
            "Time taken for 1 epoch: 227.51 secs\n",
            "\n",
            "Epoch 14 Batch 0 Loss 2.1778 Accuracy 0.5696\n",
            "Epoch 14 Batch 50 Loss 2.2247 Accuracy 0.5601\n",
            "Epoch 14 Batch 100 Loss 2.2165 Accuracy 0.5609\n",
            "Epoch 14 Batch 150 Loss 2.2239 Accuracy 0.5591\n",
            "Epoch 14 Batch 200 Loss 2.2192 Accuracy 0.5599\n",
            "Epoch 14 Batch 250 Loss 2.2201 Accuracy 0.5598\n",
            "Epoch 14 Batch 300 Loss 2.2231 Accuracy 0.5593\n",
            "Epoch 14 Batch 350 Loss 2.2277 Accuracy 0.5584\n",
            "Epoch 14 Batch 400 Loss 2.2315 Accuracy 0.5578\n",
            "Epoch 14 Batch 450 Loss 2.2314 Accuracy 0.5580\n",
            "Epoch 14 Batch 500 Loss 2.2319 Accuracy 0.5576\n",
            "Epoch 14 Batch 550 Loss 2.2311 Accuracy 0.5579\n",
            "Epoch 14 Batch 600 Loss 2.2330 Accuracy 0.5577\n",
            "Epoch 14 Batch 650 Loss 2.2328 Accuracy 0.5576\n",
            "Epoch 14 Batch 700 Loss 2.2344 Accuracy 0.5575\n",
            "Epoch 14 Batch 750 Loss 2.2359 Accuracy 0.5573\n",
            "Epoch 14 Batch 800 Loss 2.2354 Accuracy 0.5575\n",
            "Epoch 14 Batch 850 Loss 2.2364 Accuracy 0.5573\n",
            "Epoch 14 Batch 900 Loss 2.2375 Accuracy 0.5571\n",
            "Epoch 14 Batch 950 Loss 2.2361 Accuracy 0.5574\n",
            "Epoch 14 Batch 1000 Loss 2.2354 Accuracy 0.5575\n",
            "Epoch 14 Batch 1050 Loss 2.2352 Accuracy 0.5576\n",
            "Epoch 14 Batch 1100 Loss 2.2347 Accuracy 0.5577\n",
            "Epoch 14 Batch 1150 Loss 2.2351 Accuracy 0.5577\n",
            "Epoch 14 Batch 1200 Loss 2.2351 Accuracy 0.5577\n",
            "Epoch 14 Batch 1250 Loss 2.2357 Accuracy 0.5576\n",
            "Epoch 14 Batch 1300 Loss 2.2368 Accuracy 0.5574\n",
            "Epoch 14 Batch 1350 Loss 2.2373 Accuracy 0.5574\n",
            "Epoch 14 Batch 1400 Loss 2.2376 Accuracy 0.5573\n",
            "Epoch 14 Batch 1450 Loss 2.2371 Accuracy 0.5574\n",
            "Epoch 14 Batch 1500 Loss 2.2379 Accuracy 0.5573\n",
            "Epoch 14 Batch 1550 Loss 2.2380 Accuracy 0.5572\n",
            "Epoch 14 Loss 2.2377 Accuracy 0.5573\n",
            "Time taken for 1 epoch: 227.15 secs\n",
            "\n",
            "Epoch 15 Batch 0 Loss 2.4079 Accuracy 0.5312\n",
            "Epoch 15 Batch 50 Loss 2.1957 Accuracy 0.5621\n",
            "Epoch 15 Batch 100 Loss 2.2156 Accuracy 0.5588\n",
            "Epoch 15 Batch 150 Loss 2.2060 Accuracy 0.5611\n",
            "Epoch 15 Batch 200 Loss 2.2058 Accuracy 0.5615\n",
            "Epoch 15 Batch 250 Loss 2.2038 Accuracy 0.5623\n",
            "Epoch 15 Batch 300 Loss 2.2055 Accuracy 0.5619\n",
            "Epoch 15 Batch 350 Loss 2.2027 Accuracy 0.5623\n",
            "Epoch 15 Batch 400 Loss 2.1978 Accuracy 0.5634\n",
            "Epoch 15 Batch 450 Loss 2.1968 Accuracy 0.5638\n",
            "Epoch 15 Batch 500 Loss 2.1999 Accuracy 0.5632\n",
            "Epoch 15 Batch 550 Loss 2.2013 Accuracy 0.5630\n",
            "Epoch 15 Batch 600 Loss 2.2017 Accuracy 0.5629\n",
            "Epoch 15 Batch 650 Loss 2.2007 Accuracy 0.5631\n",
            "Epoch 15 Batch 700 Loss 2.2009 Accuracy 0.5630\n",
            "Epoch 15 Batch 750 Loss 2.2028 Accuracy 0.5625\n",
            "Epoch 15 Batch 800 Loss 2.2038 Accuracy 0.5624\n",
            "Epoch 15 Batch 850 Loss 2.2041 Accuracy 0.5623\n",
            "Epoch 15 Batch 900 Loss 2.2022 Accuracy 0.5626\n",
            "Epoch 15 Batch 950 Loss 2.2021 Accuracy 0.5626\n",
            "Epoch 15 Batch 1000 Loss 2.2023 Accuracy 0.5626\n",
            "Epoch 15 Batch 1050 Loss 2.2018 Accuracy 0.5627\n",
            "Epoch 15 Batch 1100 Loss 2.2007 Accuracy 0.5629\n",
            "Epoch 15 Batch 1150 Loss 2.2020 Accuracy 0.5627\n",
            "Epoch 15 Batch 1200 Loss 2.2019 Accuracy 0.5628\n",
            "Epoch 15 Batch 1250 Loss 2.2009 Accuracy 0.5629\n",
            "Epoch 15 Batch 1300 Loss 2.2010 Accuracy 0.5629\n",
            "Epoch 15 Batch 1350 Loss 2.2009 Accuracy 0.5629\n",
            "Epoch 15 Batch 1400 Loss 2.2026 Accuracy 0.5626\n",
            "Epoch 15 Batch 1450 Loss 2.2024 Accuracy 0.5627\n",
            "Epoch 15 Batch 1500 Loss 2.2029 Accuracy 0.5626\n",
            "Epoch 15 Batch 1550 Loss 2.2033 Accuracy 0.5626\n",
            "Saving checkpoint for epoch 15 at /content/drive/MyDrive/MT/checkpoints/train/ckpt-3\n",
            "Epoch 15 Loss 2.2036 Accuracy 0.5625\n",
            "Time taken for 1 epoch: 227.31 secs\n",
            "\n",
            "Epoch 16 Batch 0 Loss 2.1298 Accuracy 0.5594\n",
            "Epoch 16 Batch 50 Loss 2.1662 Accuracy 0.5671\n",
            "Epoch 16 Batch 100 Loss 2.1626 Accuracy 0.5679\n",
            "Epoch 16 Batch 150 Loss 2.1629 Accuracy 0.5681\n",
            "Epoch 16 Batch 200 Loss 2.1636 Accuracy 0.5680\n",
            "Epoch 16 Batch 250 Loss 2.1637 Accuracy 0.5677\n",
            "Epoch 16 Batch 300 Loss 2.1653 Accuracy 0.5679\n",
            "Epoch 16 Batch 350 Loss 2.1696 Accuracy 0.5674\n",
            "Epoch 16 Batch 400 Loss 2.1706 Accuracy 0.5674\n",
            "Epoch 16 Batch 450 Loss 2.1757 Accuracy 0.5669\n",
            "Epoch 16 Batch 500 Loss 2.1728 Accuracy 0.5672\n",
            "Epoch 16 Batch 550 Loss 2.1703 Accuracy 0.5675\n",
            "Epoch 16 Batch 600 Loss 2.1705 Accuracy 0.5675\n",
            "Epoch 16 Batch 650 Loss 2.1706 Accuracy 0.5677\n",
            "Epoch 16 Batch 700 Loss 2.1708 Accuracy 0.5677\n",
            "Epoch 16 Batch 750 Loss 2.1710 Accuracy 0.5678\n",
            "Epoch 16 Batch 800 Loss 2.1717 Accuracy 0.5676\n",
            "Epoch 16 Batch 850 Loss 2.1721 Accuracy 0.5675\n",
            "Epoch 16 Batch 900 Loss 2.1721 Accuracy 0.5675\n",
            "Epoch 16 Batch 950 Loss 2.1727 Accuracy 0.5674\n",
            "Epoch 16 Batch 1000 Loss 2.1730 Accuracy 0.5673\n",
            "Epoch 16 Batch 1050 Loss 2.1733 Accuracy 0.5673\n",
            "Epoch 16 Batch 1100 Loss 2.1729 Accuracy 0.5673\n",
            "Epoch 16 Batch 1150 Loss 2.1731 Accuracy 0.5672\n",
            "Epoch 16 Batch 1200 Loss 2.1729 Accuracy 0.5673\n",
            "Epoch 16 Batch 1250 Loss 2.1720 Accuracy 0.5674\n",
            "Epoch 16 Batch 1300 Loss 2.1722 Accuracy 0.5673\n",
            "Epoch 16 Batch 1350 Loss 2.1731 Accuracy 0.5671\n",
            "Epoch 16 Batch 1400 Loss 2.1735 Accuracy 0.5670\n",
            "Epoch 16 Batch 1450 Loss 2.1737 Accuracy 0.5670\n",
            "Epoch 16 Batch 1500 Loss 2.1734 Accuracy 0.5671\n",
            "Epoch 16 Batch 1550 Loss 2.1745 Accuracy 0.5670\n",
            "Epoch 16 Loss 2.1749 Accuracy 0.5669\n",
            "Time taken for 1 epoch: 227.08 secs\n",
            "\n",
            "Epoch 17 Batch 0 Loss 2.5080 Accuracy 0.5091\n",
            "Epoch 17 Batch 50 Loss 2.1459 Accuracy 0.5703\n",
            "Epoch 17 Batch 100 Loss 2.1386 Accuracy 0.5724\n",
            "Epoch 17 Batch 150 Loss 2.1341 Accuracy 0.5728\n",
            "Epoch 17 Batch 200 Loss 2.1402 Accuracy 0.5717\n",
            "Epoch 17 Batch 250 Loss 2.1455 Accuracy 0.5709\n",
            "Epoch 17 Batch 300 Loss 2.1433 Accuracy 0.5713\n",
            "Epoch 17 Batch 350 Loss 2.1422 Accuracy 0.5717\n",
            "Epoch 17 Batch 400 Loss 2.1436 Accuracy 0.5716\n",
            "Epoch 17 Batch 450 Loss 2.1429 Accuracy 0.5718\n",
            "Epoch 17 Batch 500 Loss 2.1432 Accuracy 0.5719\n",
            "Epoch 17 Batch 550 Loss 2.1439 Accuracy 0.5719\n",
            "Epoch 17 Batch 600 Loss 2.1441 Accuracy 0.5717\n",
            "Epoch 17 Batch 650 Loss 2.1447 Accuracy 0.5716\n",
            "Epoch 17 Batch 700 Loss 2.1464 Accuracy 0.5715\n",
            "Epoch 17 Batch 750 Loss 2.1466 Accuracy 0.5716\n",
            "Epoch 17 Batch 800 Loss 2.1452 Accuracy 0.5718\n",
            "Epoch 17 Batch 850 Loss 2.1442 Accuracy 0.5720\n",
            "Epoch 17 Batch 900 Loss 2.1456 Accuracy 0.5717\n",
            "Epoch 17 Batch 950 Loss 2.1444 Accuracy 0.5719\n",
            "Epoch 17 Batch 1000 Loss 2.1451 Accuracy 0.5717\n",
            "Epoch 17 Batch 1050 Loss 2.1462 Accuracy 0.5715\n",
            "Epoch 17 Batch 1100 Loss 2.1473 Accuracy 0.5712\n",
            "Epoch 17 Batch 1150 Loss 2.1473 Accuracy 0.5712\n",
            "Epoch 17 Batch 1200 Loss 2.1461 Accuracy 0.5714\n",
            "Epoch 17 Batch 1250 Loss 2.1455 Accuracy 0.5715\n",
            "Epoch 17 Batch 1300 Loss 2.1460 Accuracy 0.5714\n",
            "Epoch 17 Batch 1350 Loss 2.1468 Accuracy 0.5713\n",
            "Epoch 17 Batch 1400 Loss 2.1469 Accuracy 0.5713\n",
            "Epoch 17 Batch 1450 Loss 2.1472 Accuracy 0.5713\n",
            "Epoch 17 Batch 1500 Loss 2.1470 Accuracy 0.5714\n",
            "Epoch 17 Batch 1550 Loss 2.1469 Accuracy 0.5715\n",
            "Epoch 17 Loss 2.1472 Accuracy 0.5715\n",
            "Time taken for 1 epoch: 226.14 secs\n",
            "\n",
            "Epoch 18 Batch 0 Loss 2.1312 Accuracy 0.5673\n",
            "Epoch 18 Batch 50 Loss 2.1356 Accuracy 0.5732\n",
            "Epoch 18 Batch 100 Loss 2.1285 Accuracy 0.5744\n",
            "Epoch 18 Batch 150 Loss 2.1208 Accuracy 0.5756\n",
            "Epoch 18 Batch 200 Loss 2.1238 Accuracy 0.5752\n",
            "Epoch 18 Batch 250 Loss 2.1235 Accuracy 0.5750\n",
            "Epoch 18 Batch 300 Loss 2.1179 Accuracy 0.5759\n",
            "Epoch 18 Batch 350 Loss 2.1214 Accuracy 0.5754\n",
            "Epoch 18 Batch 400 Loss 2.1217 Accuracy 0.5752\n",
            "Epoch 18 Batch 450 Loss 2.1233 Accuracy 0.5751\n",
            "Epoch 18 Batch 500 Loss 2.1217 Accuracy 0.5754\n",
            "Epoch 18 Batch 550 Loss 2.1208 Accuracy 0.5759\n",
            "Epoch 18 Batch 600 Loss 2.1206 Accuracy 0.5759\n",
            "Epoch 18 Batch 650 Loss 2.1205 Accuracy 0.5759\n",
            "Epoch 18 Batch 700 Loss 2.1207 Accuracy 0.5759\n",
            "Epoch 18 Batch 750 Loss 2.1198 Accuracy 0.5761\n",
            "Epoch 18 Batch 800 Loss 2.1201 Accuracy 0.5759\n",
            "Epoch 18 Batch 850 Loss 2.1201 Accuracy 0.5759\n",
            "Epoch 18 Batch 900 Loss 2.1208 Accuracy 0.5757\n",
            "Epoch 18 Batch 950 Loss 2.1229 Accuracy 0.5754\n",
            "Epoch 18 Batch 1000 Loss 2.1242 Accuracy 0.5753\n",
            "Epoch 18 Batch 1050 Loss 2.1247 Accuracy 0.5753\n",
            "Epoch 18 Batch 1100 Loss 2.1243 Accuracy 0.5753\n",
            "Epoch 18 Batch 1150 Loss 2.1235 Accuracy 0.5754\n",
            "Epoch 18 Batch 1200 Loss 2.1227 Accuracy 0.5755\n",
            "Epoch 18 Batch 1250 Loss 2.1228 Accuracy 0.5755\n",
            "Epoch 18 Batch 1300 Loss 2.1234 Accuracy 0.5754\n",
            "Epoch 18 Batch 1350 Loss 2.1236 Accuracy 0.5754\n",
            "Epoch 18 Batch 1400 Loss 2.1237 Accuracy 0.5754\n",
            "Epoch 18 Batch 1450 Loss 2.1241 Accuracy 0.5753\n",
            "Epoch 18 Batch 1500 Loss 2.1239 Accuracy 0.5753\n",
            "Epoch 18 Batch 1550 Loss 2.1243 Accuracy 0.5753\n",
            "Epoch 18 Loss 2.1247 Accuracy 0.5752\n",
            "Time taken for 1 epoch: 225.80 secs\n",
            "\n",
            "Epoch 19 Batch 0 Loss 1.9923 Accuracy 0.5989\n",
            "Epoch 19 Batch 50 Loss 2.0949 Accuracy 0.5778\n",
            "Epoch 19 Batch 100 Loss 2.0967 Accuracy 0.5776\n",
            "Epoch 19 Batch 150 Loss 2.0983 Accuracy 0.5782\n",
            "Epoch 19 Batch 200 Loss 2.0928 Accuracy 0.5793\n",
            "Epoch 19 Batch 250 Loss 2.0927 Accuracy 0.5795\n",
            "Epoch 19 Batch 300 Loss 2.0921 Accuracy 0.5795\n",
            "Epoch 19 Batch 350 Loss 2.0945 Accuracy 0.5793\n",
            "Epoch 19 Batch 400 Loss 2.0989 Accuracy 0.5786\n",
            "Epoch 19 Batch 450 Loss 2.0982 Accuracy 0.5791\n",
            "Epoch 19 Batch 500 Loss 2.0987 Accuracy 0.5790\n",
            "Epoch 19 Batch 550 Loss 2.0996 Accuracy 0.5790\n",
            "Epoch 19 Batch 600 Loss 2.1000 Accuracy 0.5788\n",
            "Epoch 19 Batch 650 Loss 2.0979 Accuracy 0.5792\n",
            "Epoch 19 Batch 700 Loss 2.0981 Accuracy 0.5791\n",
            "Epoch 19 Batch 750 Loss 2.0977 Accuracy 0.5791\n",
            "Epoch 19 Batch 800 Loss 2.0984 Accuracy 0.5789\n",
            "Epoch 19 Batch 850 Loss 2.0976 Accuracy 0.5791\n",
            "Epoch 19 Batch 900 Loss 2.0973 Accuracy 0.5792\n",
            "Epoch 19 Batch 950 Loss 2.0977 Accuracy 0.5790\n",
            "Epoch 19 Batch 1000 Loss 2.0996 Accuracy 0.5786\n",
            "Epoch 19 Batch 1050 Loss 2.1005 Accuracy 0.5785\n",
            "Epoch 19 Batch 1100 Loss 2.1002 Accuracy 0.5786\n",
            "Epoch 19 Batch 1150 Loss 2.1011 Accuracy 0.5785\n",
            "Epoch 19 Batch 1200 Loss 2.0998 Accuracy 0.5788\n",
            "Epoch 19 Batch 1250 Loss 2.1003 Accuracy 0.5787\n",
            "Epoch 19 Batch 1300 Loss 2.0997 Accuracy 0.5788\n",
            "Epoch 19 Batch 1350 Loss 2.1000 Accuracy 0.5788\n",
            "Epoch 19 Batch 1400 Loss 2.1007 Accuracy 0.5787\n",
            "Epoch 19 Batch 1450 Loss 2.1024 Accuracy 0.5784\n",
            "Epoch 19 Batch 1500 Loss 2.1033 Accuracy 0.5783\n",
            "Epoch 19 Batch 1550 Loss 2.1034 Accuracy 0.5783\n",
            "Epoch 19 Loss 2.1031 Accuracy 0.5783\n",
            "Time taken for 1 epoch: 226.21 secs\n",
            "\n",
            "Epoch 20 Batch 0 Loss 2.0261 Accuracy 0.5980\n",
            "Epoch 20 Batch 50 Loss 2.0862 Accuracy 0.5811\n",
            "Epoch 20 Batch 100 Loss 2.0760 Accuracy 0.5831\n",
            "Epoch 20 Batch 150 Loss 2.0872 Accuracy 0.5803\n",
            "Epoch 20 Batch 200 Loss 2.0810 Accuracy 0.5815\n",
            "Epoch 20 Batch 250 Loss 2.0844 Accuracy 0.5812\n",
            "Epoch 20 Batch 300 Loss 2.0846 Accuracy 0.5811\n",
            "Epoch 20 Batch 350 Loss 2.0834 Accuracy 0.5815\n",
            "Epoch 20 Batch 400 Loss 2.0815 Accuracy 0.5818\n",
            "Epoch 20 Batch 450 Loss 2.0794 Accuracy 0.5821\n",
            "Epoch 20 Batch 500 Loss 2.0780 Accuracy 0.5824\n",
            "Epoch 20 Batch 550 Loss 2.0781 Accuracy 0.5826\n",
            "Epoch 20 Batch 600 Loss 2.0786 Accuracy 0.5823\n",
            "Epoch 20 Batch 650 Loss 2.0799 Accuracy 0.5820\n",
            "Epoch 20 Batch 700 Loss 2.0802 Accuracy 0.5820\n",
            "Epoch 20 Batch 750 Loss 2.0818 Accuracy 0.5817\n",
            "Epoch 20 Batch 800 Loss 2.0815 Accuracy 0.5818\n",
            "Epoch 20 Batch 850 Loss 2.0822 Accuracy 0.5817\n",
            "Epoch 20 Batch 900 Loss 2.0807 Accuracy 0.5820\n",
            "Epoch 20 Batch 950 Loss 2.0799 Accuracy 0.5821\n",
            "Epoch 20 Batch 1000 Loss 2.0800 Accuracy 0.5821\n",
            "Epoch 20 Batch 1050 Loss 2.0804 Accuracy 0.5820\n",
            "Epoch 20 Batch 1100 Loss 2.0798 Accuracy 0.5821\n",
            "Epoch 20 Batch 1150 Loss 2.0800 Accuracy 0.5820\n",
            "Epoch 20 Batch 1200 Loss 2.0800 Accuracy 0.5820\n",
            "Epoch 20 Batch 1250 Loss 2.0799 Accuracy 0.5820\n",
            "Epoch 20 Batch 1300 Loss 2.0809 Accuracy 0.5818\n",
            "Epoch 20 Batch 1350 Loss 2.0820 Accuracy 0.5817\n",
            "Epoch 20 Batch 1400 Loss 2.0817 Accuracy 0.5817\n",
            "Epoch 20 Batch 1450 Loss 2.0820 Accuracy 0.5816\n",
            "Epoch 20 Batch 1500 Loss 2.0824 Accuracy 0.5816\n",
            "Epoch 20 Batch 1550 Loss 2.0826 Accuracy 0.5816\n",
            "Saving checkpoint for epoch 20 at /content/drive/MyDrive/MT/checkpoints/train/ckpt-4\n",
            "Epoch 20 Loss 2.0830 Accuracy 0.5815\n",
            "Time taken for 1 epoch: 227.54 secs\n",
            "\n",
            "Epoch 21 Batch 0 Loss 2.0208 Accuracy 0.5932\n",
            "Epoch 21 Batch 50 Loss 2.0279 Accuracy 0.5889\n",
            "Epoch 21 Batch 100 Loss 2.0369 Accuracy 0.5882\n",
            "Epoch 21 Batch 150 Loss 2.0400 Accuracy 0.5885\n",
            "Epoch 21 Batch 200 Loss 2.0426 Accuracy 0.5883\n",
            "Epoch 21 Batch 250 Loss 2.0482 Accuracy 0.5871\n",
            "Epoch 21 Batch 300 Loss 2.0542 Accuracy 0.5861\n",
            "Epoch 21 Batch 350 Loss 2.0612 Accuracy 0.5850\n",
            "Epoch 21 Batch 400 Loss 2.0599 Accuracy 0.5850\n",
            "Epoch 21 Batch 450 Loss 2.0576 Accuracy 0.5856\n",
            "Epoch 21 Batch 500 Loss 2.0578 Accuracy 0.5855\n",
            "Epoch 21 Batch 550 Loss 2.0560 Accuracy 0.5859\n",
            "Epoch 21 Batch 600 Loss 2.0572 Accuracy 0.5856\n",
            "Epoch 21 Batch 650 Loss 2.0581 Accuracy 0.5854\n",
            "Epoch 21 Batch 700 Loss 2.0586 Accuracy 0.5855\n",
            "Epoch 21 Batch 750 Loss 2.0593 Accuracy 0.5854\n",
            "Epoch 21 Batch 800 Loss 2.0584 Accuracy 0.5854\n",
            "Epoch 21 Batch 850 Loss 2.0578 Accuracy 0.5856\n",
            "Epoch 21 Batch 900 Loss 2.0607 Accuracy 0.5851\n",
            "Epoch 21 Batch 950 Loss 2.0609 Accuracy 0.5851\n",
            "Epoch 21 Batch 1000 Loss 2.0606 Accuracy 0.5851\n",
            "Epoch 21 Batch 1050 Loss 2.0601 Accuracy 0.5852\n",
            "Epoch 21 Batch 1100 Loss 2.0606 Accuracy 0.5851\n",
            "Epoch 21 Batch 1150 Loss 2.0602 Accuracy 0.5852\n",
            "Epoch 21 Batch 1200 Loss 2.0597 Accuracy 0.5852\n",
            "Epoch 21 Batch 1250 Loss 2.0600 Accuracy 0.5852\n",
            "Epoch 21 Batch 1300 Loss 2.0621 Accuracy 0.5849\n",
            "Epoch 21 Batch 1350 Loss 2.0618 Accuracy 0.5849\n",
            "Epoch 21 Batch 1400 Loss 2.0630 Accuracy 0.5847\n",
            "Epoch 21 Batch 1450 Loss 2.0634 Accuracy 0.5847\n",
            "Epoch 21 Batch 1500 Loss 2.0648 Accuracy 0.5845\n",
            "Epoch 21 Batch 1550 Loss 2.0646 Accuracy 0.5845\n",
            "Epoch 21 Loss 2.0645 Accuracy 0.5845\n",
            "Time taken for 1 epoch: 226.73 secs\n",
            "\n",
            "Epoch 22 Batch 0 Loss 1.8995 Accuracy 0.6178\n",
            "Epoch 22 Batch 50 Loss 2.0171 Accuracy 0.5912\n",
            "Epoch 22 Batch 100 Loss 2.0136 Accuracy 0.5917\n",
            "Epoch 22 Batch 150 Loss 2.0211 Accuracy 0.5908\n",
            "Epoch 22 Batch 200 Loss 2.0266 Accuracy 0.5901\n",
            "Epoch 22 Batch 250 Loss 2.0360 Accuracy 0.5887\n",
            "Epoch 22 Batch 300 Loss 2.0379 Accuracy 0.5882\n",
            "Epoch 22 Batch 350 Loss 2.0387 Accuracy 0.5882\n",
            "Epoch 22 Batch 400 Loss 2.0414 Accuracy 0.5880\n",
            "Epoch 22 Batch 450 Loss 2.0440 Accuracy 0.5875\n",
            "Epoch 22 Batch 500 Loss 2.0424 Accuracy 0.5880\n",
            "Epoch 22 Batch 550 Loss 2.0432 Accuracy 0.5877\n",
            "Epoch 22 Batch 600 Loss 2.0418 Accuracy 0.5879\n",
            "Epoch 22 Batch 650 Loss 2.0422 Accuracy 0.5878\n",
            "Epoch 22 Batch 700 Loss 2.0413 Accuracy 0.5880\n",
            "Epoch 22 Batch 750 Loss 2.0449 Accuracy 0.5873\n",
            "Epoch 22 Batch 800 Loss 2.0458 Accuracy 0.5872\n",
            "Epoch 22 Batch 850 Loss 2.0458 Accuracy 0.5872\n",
            "Epoch 22 Batch 900 Loss 2.0444 Accuracy 0.5875\n",
            "Epoch 22 Batch 950 Loss 2.0453 Accuracy 0.5874\n",
            "Epoch 22 Batch 1000 Loss 2.0458 Accuracy 0.5875\n",
            "Epoch 22 Batch 1050 Loss 2.0461 Accuracy 0.5874\n",
            "Epoch 22 Batch 1100 Loss 2.0464 Accuracy 0.5874\n",
            "Epoch 22 Batch 1150 Loss 2.0470 Accuracy 0.5873\n",
            "Epoch 22 Batch 1200 Loss 2.0470 Accuracy 0.5872\n",
            "Epoch 22 Batch 1250 Loss 2.0467 Accuracy 0.5872\n",
            "Epoch 22 Batch 1300 Loss 2.0468 Accuracy 0.5872\n",
            "Epoch 22 Batch 1350 Loss 2.0466 Accuracy 0.5872\n",
            "Epoch 22 Batch 1400 Loss 2.0467 Accuracy 0.5872\n",
            "Epoch 22 Batch 1450 Loss 2.0472 Accuracy 0.5871\n",
            "Epoch 22 Batch 1500 Loss 2.0484 Accuracy 0.5870\n",
            "Epoch 22 Batch 1550 Loss 2.0486 Accuracy 0.5870\n",
            "Epoch 22 Loss 2.0491 Accuracy 0.5869\n",
            "Time taken for 1 epoch: 226.30 secs\n",
            "\n",
            "Epoch 23 Batch 0 Loss 2.1010 Accuracy 0.5682\n",
            "Epoch 23 Batch 50 Loss 2.0348 Accuracy 0.5877\n",
            "Epoch 23 Batch 100 Loss 2.0308 Accuracy 0.5886\n",
            "Epoch 23 Batch 150 Loss 2.0267 Accuracy 0.5897\n",
            "Epoch 23 Batch 200 Loss 2.0260 Accuracy 0.5898\n",
            "Epoch 23 Batch 250 Loss 2.0288 Accuracy 0.5894\n",
            "Epoch 23 Batch 300 Loss 2.0265 Accuracy 0.5900\n",
            "Epoch 23 Batch 350 Loss 2.0272 Accuracy 0.5900\n",
            "Epoch 23 Batch 400 Loss 2.0245 Accuracy 0.5909\n",
            "Epoch 23 Batch 450 Loss 2.0285 Accuracy 0.5902\n",
            "Epoch 23 Batch 500 Loss 2.0266 Accuracy 0.5906\n",
            "Epoch 23 Batch 550 Loss 2.0238 Accuracy 0.5910\n",
            "Epoch 23 Batch 600 Loss 2.0213 Accuracy 0.5914\n",
            "Epoch 23 Batch 650 Loss 2.0218 Accuracy 0.5915\n",
            "Epoch 23 Batch 700 Loss 2.0219 Accuracy 0.5914\n",
            "Epoch 23 Batch 750 Loss 2.0238 Accuracy 0.5910\n",
            "Epoch 23 Batch 800 Loss 2.0256 Accuracy 0.5907\n",
            "Epoch 23 Batch 850 Loss 2.0263 Accuracy 0.5907\n",
            "Epoch 23 Batch 900 Loss 2.0266 Accuracy 0.5907\n",
            "Epoch 23 Batch 950 Loss 2.0279 Accuracy 0.5904\n",
            "Epoch 23 Batch 1000 Loss 2.0294 Accuracy 0.5902\n",
            "Epoch 23 Batch 1050 Loss 2.0290 Accuracy 0.5904\n",
            "Epoch 23 Batch 1100 Loss 2.0306 Accuracy 0.5901\n",
            "Epoch 23 Batch 1150 Loss 2.0310 Accuracy 0.5900\n",
            "Epoch 23 Batch 1200 Loss 2.0311 Accuracy 0.5900\n",
            "Epoch 23 Batch 1250 Loss 2.0306 Accuracy 0.5900\n",
            "Epoch 23 Batch 1300 Loss 2.0311 Accuracy 0.5899\n",
            "Epoch 23 Batch 1350 Loss 2.0322 Accuracy 0.5898\n",
            "Epoch 23 Batch 1400 Loss 2.0328 Accuracy 0.5896\n",
            "Epoch 23 Batch 1450 Loss 2.0332 Accuracy 0.5895\n",
            "Epoch 23 Batch 1500 Loss 2.0327 Accuracy 0.5896\n",
            "Epoch 23 Batch 1550 Loss 2.0328 Accuracy 0.5896\n",
            "Epoch 23 Loss 2.0332 Accuracy 0.5895\n",
            "Time taken for 1 epoch: 226.35 secs\n",
            "\n",
            "Epoch 24 Batch 0 Loss 1.9749 Accuracy 0.6067\n",
            "Epoch 24 Batch 50 Loss 2.0012 Accuracy 0.5917\n",
            "Epoch 24 Batch 100 Loss 1.9921 Accuracy 0.5949\n",
            "Epoch 24 Batch 150 Loss 1.9989 Accuracy 0.5941\n",
            "Epoch 24 Batch 200 Loss 2.0076 Accuracy 0.5929\n",
            "Epoch 24 Batch 250 Loss 2.0123 Accuracy 0.5921\n",
            "Epoch 24 Batch 300 Loss 2.0116 Accuracy 0.5925\n",
            "Epoch 24 Batch 350 Loss 2.0090 Accuracy 0.5929\n",
            "Epoch 24 Batch 400 Loss 2.0087 Accuracy 0.5932\n",
            "Epoch 24 Batch 450 Loss 2.0088 Accuracy 0.5931\n",
            "Epoch 24 Batch 500 Loss 2.0108 Accuracy 0.5929\n",
            "Epoch 24 Batch 550 Loss 2.0113 Accuracy 0.5927\n",
            "Epoch 24 Batch 600 Loss 2.0125 Accuracy 0.5925\n",
            "Epoch 24 Batch 650 Loss 2.0131 Accuracy 0.5924\n",
            "Epoch 24 Batch 700 Loss 2.0128 Accuracy 0.5924\n",
            "Epoch 24 Batch 750 Loss 2.0129 Accuracy 0.5924\n",
            "Epoch 24 Batch 800 Loss 2.0135 Accuracy 0.5922\n",
            "Epoch 24 Batch 850 Loss 2.0125 Accuracy 0.5925\n",
            "Epoch 24 Batch 900 Loss 2.0126 Accuracy 0.5924\n",
            "Epoch 24 Batch 950 Loss 2.0118 Accuracy 0.5925\n",
            "Epoch 24 Batch 1000 Loss 2.0131 Accuracy 0.5924\n",
            "Epoch 24 Batch 1050 Loss 2.0126 Accuracy 0.5926\n",
            "Epoch 24 Batch 1100 Loss 2.0144 Accuracy 0.5923\n",
            "Epoch 24 Batch 1150 Loss 2.0145 Accuracy 0.5922\n",
            "Epoch 24 Batch 1200 Loss 2.0159 Accuracy 0.5919\n",
            "Epoch 24 Batch 1250 Loss 2.0165 Accuracy 0.5919\n",
            "Epoch 24 Batch 1300 Loss 2.0161 Accuracy 0.5919\n",
            "Epoch 24 Batch 1350 Loss 2.0173 Accuracy 0.5917\n",
            "Epoch 24 Batch 1400 Loss 2.0171 Accuracy 0.5918\n",
            "Epoch 24 Batch 1450 Loss 2.0167 Accuracy 0.5919\n",
            "Epoch 24 Batch 1500 Loss 2.0171 Accuracy 0.5919\n",
            "Epoch 24 Batch 1550 Loss 2.0185 Accuracy 0.5916\n",
            "Epoch 24 Loss 2.0182 Accuracy 0.5917\n",
            "Time taken for 1 epoch: 226.70 secs\n",
            "\n",
            "Epoch 25 Batch 0 Loss 1.9296 Accuracy 0.6126\n",
            "Epoch 25 Batch 50 Loss 2.0023 Accuracy 0.5924\n",
            "Epoch 25 Batch 100 Loss 2.0039 Accuracy 0.5931\n",
            "Epoch 25 Batch 150 Loss 1.9928 Accuracy 0.5955\n",
            "Epoch 25 Batch 200 Loss 1.9896 Accuracy 0.5961\n",
            "Epoch 25 Batch 250 Loss 1.9930 Accuracy 0.5954\n",
            "Epoch 25 Batch 300 Loss 1.9968 Accuracy 0.5947\n",
            "Epoch 25 Batch 350 Loss 1.9969 Accuracy 0.5947\n",
            "Epoch 25 Batch 400 Loss 1.9969 Accuracy 0.5947\n",
            "Epoch 25 Batch 450 Loss 1.9969 Accuracy 0.5946\n",
            "Epoch 25 Batch 500 Loss 1.9957 Accuracy 0.5947\n",
            "Epoch 25 Batch 550 Loss 1.9968 Accuracy 0.5946\n",
            "Epoch 25 Batch 600 Loss 1.9968 Accuracy 0.5948\n",
            "Epoch 25 Batch 650 Loss 1.9972 Accuracy 0.5948\n",
            "Epoch 25 Batch 700 Loss 1.9970 Accuracy 0.5948\n",
            "Epoch 25 Batch 750 Loss 1.9979 Accuracy 0.5947\n",
            "Epoch 25 Batch 800 Loss 1.9996 Accuracy 0.5944\n",
            "Epoch 25 Batch 850 Loss 1.9990 Accuracy 0.5945\n",
            "Epoch 25 Batch 900 Loss 1.9996 Accuracy 0.5943\n",
            "Epoch 25 Batch 950 Loss 1.9991 Accuracy 0.5945\n",
            "Epoch 25 Batch 1000 Loss 1.9997 Accuracy 0.5943\n",
            "Epoch 25 Batch 1050 Loss 2.0019 Accuracy 0.5940\n",
            "Epoch 25 Batch 1100 Loss 2.0013 Accuracy 0.5941\n",
            "Epoch 25 Batch 1150 Loss 2.0021 Accuracy 0.5939\n",
            "Epoch 25 Batch 1200 Loss 2.0022 Accuracy 0.5940\n",
            "Epoch 25 Batch 1250 Loss 2.0021 Accuracy 0.5940\n",
            "Epoch 25 Batch 1300 Loss 2.0034 Accuracy 0.5937\n",
            "Epoch 25 Batch 1350 Loss 2.0039 Accuracy 0.5936\n",
            "Epoch 25 Batch 1400 Loss 2.0046 Accuracy 0.5936\n",
            "Epoch 25 Batch 1450 Loss 2.0053 Accuracy 0.5935\n",
            "Epoch 25 Batch 1500 Loss 2.0050 Accuracy 0.5936\n",
            "Epoch 25 Batch 1550 Loss 2.0052 Accuracy 0.5936\n",
            "Saving checkpoint for epoch 25 at /content/drive/MyDrive/MT/checkpoints/train/ckpt-5\n",
            "Epoch 25 Loss 2.0055 Accuracy 0.5935\n",
            "Time taken for 1 epoch: 227.91 secs\n",
            "\n",
            "Epoch 26 Batch 0 Loss 2.0891 Accuracy 0.5756\n",
            "Epoch 26 Batch 50 Loss 1.9698 Accuracy 0.5989\n",
            "Epoch 26 Batch 100 Loss 1.9733 Accuracy 0.5995\n",
            "Epoch 26 Batch 150 Loss 1.9735 Accuracy 0.5991\n",
            "Epoch 26 Batch 200 Loss 1.9797 Accuracy 0.5980\n",
            "Epoch 26 Batch 250 Loss 1.9818 Accuracy 0.5972\n",
            "Epoch 26 Batch 300 Loss 1.9821 Accuracy 0.5974\n",
            "Epoch 26 Batch 350 Loss 1.9789 Accuracy 0.5978\n",
            "Epoch 26 Batch 400 Loss 1.9790 Accuracy 0.5978\n",
            "Epoch 26 Batch 450 Loss 1.9778 Accuracy 0.5980\n",
            "Epoch 26 Batch 500 Loss 1.9784 Accuracy 0.5981\n",
            "Epoch 26 Batch 550 Loss 1.9801 Accuracy 0.5980\n",
            "Epoch 26 Batch 600 Loss 1.9821 Accuracy 0.5976\n",
            "Epoch 26 Batch 650 Loss 1.9821 Accuracy 0.5978\n",
            "Epoch 26 Batch 700 Loss 1.9836 Accuracy 0.5974\n",
            "Epoch 26 Batch 750 Loss 1.9850 Accuracy 0.5972\n",
            "Epoch 26 Batch 800 Loss 1.9862 Accuracy 0.5970\n",
            "Epoch 26 Batch 850 Loss 1.9869 Accuracy 0.5969\n",
            "Epoch 26 Batch 900 Loss 1.9869 Accuracy 0.5969\n",
            "Epoch 26 Batch 950 Loss 1.9867 Accuracy 0.5969\n",
            "Epoch 26 Batch 1000 Loss 1.9883 Accuracy 0.5967\n",
            "Epoch 26 Batch 1050 Loss 1.9893 Accuracy 0.5965\n",
            "Epoch 26 Batch 1100 Loss 1.9885 Accuracy 0.5966\n",
            "Epoch 26 Batch 1150 Loss 1.9894 Accuracy 0.5964\n",
            "Epoch 26 Batch 1200 Loss 1.9904 Accuracy 0.5962\n",
            "Epoch 26 Batch 1250 Loss 1.9909 Accuracy 0.5960\n",
            "Epoch 26 Batch 1300 Loss 1.9908 Accuracy 0.5960\n",
            "Epoch 26 Batch 1350 Loss 1.9908 Accuracy 0.5960\n",
            "Epoch 26 Batch 1400 Loss 1.9906 Accuracy 0.5960\n",
            "Epoch 26 Batch 1450 Loss 1.9905 Accuracy 0.5961\n",
            "Epoch 26 Batch 1500 Loss 1.9914 Accuracy 0.5960\n",
            "Epoch 26 Batch 1550 Loss 1.9923 Accuracy 0.5959\n",
            "Epoch 26 Loss 1.9924 Accuracy 0.5958\n",
            "Time taken for 1 epoch: 225.58 secs\n",
            "\n",
            "Epoch 27 Batch 0 Loss 1.9973 Accuracy 0.5961\n",
            "Epoch 27 Batch 50 Loss 1.9815 Accuracy 0.5965\n",
            "Epoch 27 Batch 100 Loss 1.9727 Accuracy 0.5990\n",
            "Epoch 27 Batch 150 Loss 1.9764 Accuracy 0.5985\n",
            "Epoch 27 Batch 200 Loss 1.9738 Accuracy 0.5983\n",
            "Epoch 27 Batch 250 Loss 1.9766 Accuracy 0.5982\n",
            "Epoch 27 Batch 300 Loss 1.9745 Accuracy 0.5985\n",
            "Epoch 27 Batch 350 Loss 1.9718 Accuracy 0.5987\n",
            "Epoch 27 Batch 400 Loss 1.9733 Accuracy 0.5987\n",
            "Epoch 27 Batch 450 Loss 1.9697 Accuracy 0.5993\n",
            "Epoch 27 Batch 500 Loss 1.9674 Accuracy 0.5998\n",
            "Epoch 27 Batch 550 Loss 1.9700 Accuracy 0.5992\n",
            "Epoch 27 Batch 600 Loss 1.9683 Accuracy 0.5995\n",
            "Epoch 27 Batch 650 Loss 1.9705 Accuracy 0.5992\n",
            "Epoch 27 Batch 700 Loss 1.9727 Accuracy 0.5990\n",
            "Epoch 27 Batch 750 Loss 1.9721 Accuracy 0.5991\n",
            "Epoch 27 Batch 800 Loss 1.9729 Accuracy 0.5989\n",
            "Epoch 27 Batch 850 Loss 1.9737 Accuracy 0.5987\n",
            "Epoch 27 Batch 900 Loss 1.9750 Accuracy 0.5985\n",
            "Epoch 27 Batch 950 Loss 1.9754 Accuracy 0.5984\n",
            "Epoch 27 Batch 1000 Loss 1.9750 Accuracy 0.5984\n",
            "Epoch 27 Batch 1050 Loss 1.9751 Accuracy 0.5985\n",
            "Epoch 27 Batch 1100 Loss 1.9764 Accuracy 0.5982\n",
            "Epoch 27 Batch 1150 Loss 1.9758 Accuracy 0.5983\n",
            "Epoch 27 Batch 1200 Loss 1.9769 Accuracy 0.5982\n",
            "Epoch 27 Batch 1250 Loss 1.9761 Accuracy 0.5983\n",
            "Epoch 27 Batch 1300 Loss 1.9760 Accuracy 0.5983\n",
            "Epoch 27 Batch 1350 Loss 1.9771 Accuracy 0.5981\n",
            "Epoch 27 Batch 1400 Loss 1.9788 Accuracy 0.5978\n",
            "Epoch 27 Batch 1450 Loss 1.9795 Accuracy 0.5977\n",
            "Epoch 27 Batch 1500 Loss 1.9802 Accuracy 0.5976\n",
            "Epoch 27 Batch 1550 Loss 1.9805 Accuracy 0.5976\n",
            "Epoch 27 Loss 1.9807 Accuracy 0.5976\n",
            "Time taken for 1 epoch: 224.54 secs\n",
            "\n",
            "Epoch 28 Batch 0 Loss 1.9041 Accuracy 0.6131\n",
            "Epoch 28 Batch 50 Loss 1.9594 Accuracy 0.6020\n",
            "Epoch 28 Batch 100 Loss 1.9627 Accuracy 0.6002\n",
            "Epoch 28 Batch 150 Loss 1.9659 Accuracy 0.5991\n",
            "Epoch 28 Batch 200 Loss 1.9704 Accuracy 0.5984\n",
            "Epoch 28 Batch 250 Loss 1.9705 Accuracy 0.5982\n",
            "Epoch 28 Batch 300 Loss 1.9713 Accuracy 0.5983\n",
            "Epoch 28 Batch 350 Loss 1.9676 Accuracy 0.5989\n",
            "Epoch 28 Batch 400 Loss 1.9640 Accuracy 0.5995\n",
            "Epoch 28 Batch 450 Loss 1.9655 Accuracy 0.5994\n",
            "Epoch 28 Batch 500 Loss 1.9637 Accuracy 0.5998\n",
            "Epoch 28 Batch 550 Loss 1.9634 Accuracy 0.6000\n",
            "Epoch 28 Batch 600 Loss 1.9648 Accuracy 0.5998\n",
            "Epoch 28 Batch 650 Loss 1.9654 Accuracy 0.5997\n",
            "Epoch 28 Batch 700 Loss 1.9649 Accuracy 0.5996\n",
            "Epoch 28 Batch 750 Loss 1.9648 Accuracy 0.5997\n",
            "Epoch 28 Batch 800 Loss 1.9665 Accuracy 0.5995\n",
            "Epoch 28 Batch 850 Loss 1.9650 Accuracy 0.5999\n",
            "Epoch 28 Batch 900 Loss 1.9652 Accuracy 0.5999\n",
            "Epoch 28 Batch 950 Loss 1.9658 Accuracy 0.5999\n",
            "Epoch 28 Batch 1000 Loss 1.9652 Accuracy 0.5999\n",
            "Epoch 28 Batch 1050 Loss 1.9638 Accuracy 0.6001\n",
            "Epoch 28 Batch 1100 Loss 1.9651 Accuracy 0.5999\n",
            "Epoch 28 Batch 1150 Loss 1.9659 Accuracy 0.5999\n",
            "Epoch 28 Batch 1200 Loss 1.9656 Accuracy 0.5999\n",
            "Epoch 28 Batch 1250 Loss 1.9663 Accuracy 0.5998\n",
            "Epoch 28 Batch 1300 Loss 1.9665 Accuracy 0.5998\n",
            "Epoch 28 Batch 1350 Loss 1.9670 Accuracy 0.5998\n",
            "Epoch 28 Batch 1400 Loss 1.9670 Accuracy 0.5998\n",
            "Epoch 28 Batch 1450 Loss 1.9682 Accuracy 0.5996\n",
            "Epoch 28 Batch 1500 Loss 1.9689 Accuracy 0.5995\n",
            "Epoch 28 Batch 1550 Loss 1.9695 Accuracy 0.5993\n",
            "Epoch 28 Loss 1.9695 Accuracy 0.5993\n",
            "Time taken for 1 epoch: 224.32 secs\n",
            "\n",
            "Epoch 29 Batch 0 Loss 2.0054 Accuracy 0.5889\n",
            "Epoch 29 Batch 50 Loss 1.9502 Accuracy 0.6001\n",
            "Epoch 29 Batch 100 Loss 1.9468 Accuracy 0.6021\n",
            "Epoch 29 Batch 150 Loss 1.9416 Accuracy 0.6030\n",
            "Epoch 29 Batch 200 Loss 1.9431 Accuracy 0.6032\n",
            "Epoch 29 Batch 250 Loss 1.9459 Accuracy 0.6026\n",
            "Epoch 29 Batch 300 Loss 1.9493 Accuracy 0.6022\n",
            "Epoch 29 Batch 350 Loss 1.9469 Accuracy 0.6026\n",
            "Epoch 29 Batch 400 Loss 1.9465 Accuracy 0.6027\n",
            "Epoch 29 Batch 450 Loss 1.9465 Accuracy 0.6025\n",
            "Epoch 29 Batch 500 Loss 1.9473 Accuracy 0.6024\n",
            "Epoch 29 Batch 550 Loss 1.9481 Accuracy 0.6024\n",
            "Epoch 29 Batch 600 Loss 1.9495 Accuracy 0.6022\n",
            "Epoch 29 Batch 650 Loss 1.9512 Accuracy 0.6019\n",
            "Epoch 29 Batch 700 Loss 1.9520 Accuracy 0.6019\n",
            "Epoch 29 Batch 750 Loss 1.9526 Accuracy 0.6018\n",
            "Epoch 29 Batch 800 Loss 1.9525 Accuracy 0.6018\n",
            "Epoch 29 Batch 850 Loss 1.9517 Accuracy 0.6020\n",
            "Epoch 29 Batch 900 Loss 1.9522 Accuracy 0.6020\n",
            "Epoch 29 Batch 950 Loss 1.9537 Accuracy 0.6017\n",
            "Epoch 29 Batch 1000 Loss 1.9543 Accuracy 0.6015\n",
            "Epoch 29 Batch 1050 Loss 1.9549 Accuracy 0.6014\n",
            "Epoch 29 Batch 1100 Loss 1.9568 Accuracy 0.6012\n",
            "Epoch 29 Batch 1150 Loss 1.9565 Accuracy 0.6012\n",
            "Epoch 29 Batch 1200 Loss 1.9564 Accuracy 0.6013\n",
            "Epoch 29 Batch 1250 Loss 1.9564 Accuracy 0.6013\n",
            "Epoch 29 Batch 1300 Loss 1.9565 Accuracy 0.6013\n",
            "Epoch 29 Batch 1350 Loss 1.9570 Accuracy 0.6012\n",
            "Epoch 29 Batch 1400 Loss 1.9568 Accuracy 0.6012\n",
            "Epoch 29 Batch 1450 Loss 1.9574 Accuracy 0.6011\n",
            "Epoch 29 Batch 1500 Loss 1.9586 Accuracy 0.6009\n",
            "Epoch 29 Batch 1550 Loss 1.9597 Accuracy 0.6008\n",
            "Epoch 29 Loss 1.9597 Accuracy 0.6008\n",
            "Time taken for 1 epoch: 225.55 secs\n",
            "\n",
            "Epoch 30 Batch 0 Loss 1.9183 Accuracy 0.5904\n",
            "Epoch 30 Batch 50 Loss 1.9472 Accuracy 0.6015\n",
            "Epoch 30 Batch 100 Loss 1.9306 Accuracy 0.6051\n",
            "Epoch 30 Batch 150 Loss 1.9312 Accuracy 0.6050\n",
            "Epoch 30 Batch 200 Loss 1.9343 Accuracy 0.6045\n",
            "Epoch 30 Batch 250 Loss 1.9360 Accuracy 0.6041\n",
            "Epoch 30 Batch 300 Loss 1.9402 Accuracy 0.6033\n",
            "Epoch 30 Batch 350 Loss 1.9405 Accuracy 0.6036\n",
            "Epoch 30 Batch 400 Loss 1.9414 Accuracy 0.6034\n",
            "Epoch 30 Batch 450 Loss 1.9420 Accuracy 0.6034\n",
            "Epoch 30 Batch 500 Loss 1.9433 Accuracy 0.6032\n",
            "Epoch 30 Batch 550 Loss 1.9446 Accuracy 0.6031\n",
            "Epoch 30 Batch 600 Loss 1.9425 Accuracy 0.6036\n",
            "Epoch 30 Batch 650 Loss 1.9436 Accuracy 0.6035\n",
            "Epoch 30 Batch 700 Loss 1.9442 Accuracy 0.6034\n",
            "Epoch 30 Batch 750 Loss 1.9432 Accuracy 0.6035\n",
            "Epoch 30 Batch 800 Loss 1.9433 Accuracy 0.6035\n",
            "Epoch 30 Batch 850 Loss 1.9441 Accuracy 0.6033\n",
            "Epoch 30 Batch 900 Loss 1.9433 Accuracy 0.6035\n",
            "Epoch 30 Batch 950 Loss 1.9445 Accuracy 0.6032\n",
            "Epoch 30 Batch 1000 Loss 1.9458 Accuracy 0.6030\n",
            "Epoch 30 Batch 1050 Loss 1.9465 Accuracy 0.6029\n",
            "Epoch 30 Batch 1100 Loss 1.9465 Accuracy 0.6029\n",
            "Epoch 30 Batch 1150 Loss 1.9487 Accuracy 0.6025\n",
            "Epoch 30 Batch 1200 Loss 1.9482 Accuracy 0.6026\n",
            "Epoch 30 Batch 1250 Loss 1.9483 Accuracy 0.6027\n",
            "Epoch 30 Batch 1300 Loss 1.9482 Accuracy 0.6027\n",
            "Epoch 30 Batch 1350 Loss 1.9491 Accuracy 0.6025\n",
            "Epoch 30 Batch 1400 Loss 1.9486 Accuracy 0.6026\n",
            "Epoch 30 Batch 1450 Loss 1.9490 Accuracy 0.6025\n",
            "Epoch 30 Batch 1500 Loss 1.9484 Accuracy 0.6026\n",
            "Epoch 30 Batch 1550 Loss 1.9498 Accuracy 0.6024\n",
            "Saving checkpoint for epoch 30 at /content/drive/MyDrive/MT/checkpoints/train/ckpt-6\n",
            "Epoch 30 Loss 1.9501 Accuracy 0.6024\n",
            "Time taken for 1 epoch: 225.78 secs\n",
            "\n",
            "Epoch 31 Batch 0 Loss 2.0539 Accuracy 0.5836\n",
            "Epoch 31 Batch 50 Loss 1.9225 Accuracy 0.6076\n",
            "Epoch 31 Batch 100 Loss 1.9210 Accuracy 0.6074\n",
            "Epoch 31 Batch 150 Loss 1.9211 Accuracy 0.6074\n",
            "Epoch 31 Batch 200 Loss 1.9286 Accuracy 0.6065\n",
            "Epoch 31 Batch 250 Loss 1.9295 Accuracy 0.6062\n",
            "Epoch 31 Batch 300 Loss 1.9307 Accuracy 0.6060\n",
            "Epoch 31 Batch 350 Loss 1.9312 Accuracy 0.6055\n",
            "Epoch 31 Batch 400 Loss 1.9292 Accuracy 0.6058\n",
            "Epoch 31 Batch 450 Loss 1.9299 Accuracy 0.6055\n",
            "Epoch 31 Batch 500 Loss 1.9322 Accuracy 0.6053\n",
            "Epoch 31 Batch 550 Loss 1.9318 Accuracy 0.6054\n",
            "Epoch 31 Batch 600 Loss 1.9312 Accuracy 0.6056\n",
            "Epoch 31 Batch 650 Loss 1.9329 Accuracy 0.6055\n",
            "Epoch 31 Batch 700 Loss 1.9337 Accuracy 0.6052\n",
            "Epoch 31 Batch 750 Loss 1.9342 Accuracy 0.6051\n",
            "Epoch 31 Batch 800 Loss 1.9346 Accuracy 0.6050\n",
            "Epoch 31 Batch 850 Loss 1.9367 Accuracy 0.6047\n",
            "Epoch 31 Batch 900 Loss 1.9354 Accuracy 0.6050\n",
            "Epoch 31 Batch 950 Loss 1.9356 Accuracy 0.6050\n",
            "Epoch 31 Batch 1000 Loss 1.9353 Accuracy 0.6050\n",
            "Epoch 31 Batch 1050 Loss 1.9361 Accuracy 0.6047\n",
            "Epoch 31 Batch 1100 Loss 1.9365 Accuracy 0.6046\n",
            "Epoch 31 Batch 1150 Loss 1.9364 Accuracy 0.6047\n",
            "Epoch 31 Batch 1200 Loss 1.9368 Accuracy 0.6046\n",
            "Epoch 31 Batch 1250 Loss 1.9372 Accuracy 0.6045\n",
            "Epoch 31 Batch 1300 Loss 1.9386 Accuracy 0.6043\n",
            "Epoch 31 Batch 1350 Loss 1.9395 Accuracy 0.6042\n",
            "Epoch 31 Batch 1400 Loss 1.9392 Accuracy 0.6043\n",
            "Epoch 31 Batch 1450 Loss 1.9397 Accuracy 0.6042\n",
            "Epoch 31 Batch 1500 Loss 1.9398 Accuracy 0.6042\n",
            "Epoch 31 Batch 1550 Loss 1.9403 Accuracy 0.6041\n",
            "Epoch 31 Loss 1.9399 Accuracy 0.6041\n",
            "Time taken for 1 epoch: 224.11 secs\n",
            "\n",
            "Epoch 32 Batch 0 Loss 1.8322 Accuracy 0.6231\n",
            "Epoch 32 Batch 50 Loss 1.9629 Accuracy 0.6000\n",
            "Epoch 32 Batch 100 Loss 1.9345 Accuracy 0.6043\n",
            "Epoch 32 Batch 150 Loss 1.9244 Accuracy 0.6058\n",
            "Epoch 32 Batch 200 Loss 1.9271 Accuracy 0.6052\n",
            "Epoch 32 Batch 250 Loss 1.9233 Accuracy 0.6062\n",
            "Epoch 32 Batch 300 Loss 1.9267 Accuracy 0.6056\n",
            "Epoch 32 Batch 350 Loss 1.9241 Accuracy 0.6063\n",
            "Epoch 32 Batch 400 Loss 1.9229 Accuracy 0.6067\n",
            "Epoch 32 Batch 450 Loss 1.9226 Accuracy 0.6070\n",
            "Epoch 32 Batch 500 Loss 1.9209 Accuracy 0.6074\n",
            "Epoch 32 Batch 550 Loss 1.9196 Accuracy 0.6078\n",
            "Epoch 32 Batch 600 Loss 1.9218 Accuracy 0.6075\n",
            "Epoch 32 Batch 650 Loss 1.9205 Accuracy 0.6077\n",
            "Epoch 32 Batch 700 Loss 1.9221 Accuracy 0.6073\n",
            "Epoch 32 Batch 750 Loss 1.9233 Accuracy 0.6070\n",
            "Epoch 32 Batch 800 Loss 1.9247 Accuracy 0.6067\n",
            "Epoch 32 Batch 850 Loss 1.9262 Accuracy 0.6065\n",
            "Epoch 32 Batch 900 Loss 1.9258 Accuracy 0.6065\n",
            "Epoch 32 Batch 950 Loss 1.9262 Accuracy 0.6064\n",
            "Epoch 32 Batch 1000 Loss 1.9261 Accuracy 0.6064\n",
            "Epoch 32 Batch 1050 Loss 1.9277 Accuracy 0.6062\n",
            "Epoch 32 Batch 1100 Loss 1.9271 Accuracy 0.6063\n",
            "Epoch 32 Batch 1150 Loss 1.9281 Accuracy 0.6062\n",
            "Epoch 32 Batch 1200 Loss 1.9282 Accuracy 0.6061\n",
            "Epoch 32 Batch 1250 Loss 1.9283 Accuracy 0.6061\n",
            "Epoch 32 Batch 1300 Loss 1.9294 Accuracy 0.6058\n",
            "Epoch 32 Batch 1350 Loss 1.9298 Accuracy 0.6058\n",
            "Epoch 32 Batch 1400 Loss 1.9303 Accuracy 0.6056\n",
            "Epoch 32 Batch 1450 Loss 1.9311 Accuracy 0.6054\n",
            "Epoch 32 Batch 1500 Loss 1.9310 Accuracy 0.6055\n",
            "Epoch 32 Batch 1550 Loss 1.9310 Accuracy 0.6055\n",
            "Epoch 32 Loss 1.9313 Accuracy 0.6054\n",
            "Time taken for 1 epoch: 224.82 secs\n",
            "\n",
            "Epoch 33 Batch 0 Loss 1.9135 Accuracy 0.6074\n",
            "Epoch 33 Batch 50 Loss 1.9169 Accuracy 0.6061\n",
            "Epoch 33 Batch 100 Loss 1.9190 Accuracy 0.6059\n",
            "Epoch 33 Batch 150 Loss 1.9123 Accuracy 0.6079\n",
            "Epoch 33 Batch 200 Loss 1.9111 Accuracy 0.6083\n",
            "Epoch 33 Batch 250 Loss 1.9148 Accuracy 0.6077\n",
            "Epoch 33 Batch 300 Loss 1.9198 Accuracy 0.6065\n",
            "Epoch 33 Batch 350 Loss 1.9154 Accuracy 0.6074\n",
            "Epoch 33 Batch 400 Loss 1.9139 Accuracy 0.6076\n",
            "Epoch 33 Batch 450 Loss 1.9135 Accuracy 0.6080\n",
            "Epoch 33 Batch 500 Loss 1.9148 Accuracy 0.6078\n",
            "Epoch 33 Batch 550 Loss 1.9139 Accuracy 0.6080\n",
            "Epoch 33 Batch 600 Loss 1.9134 Accuracy 0.6081\n",
            "Epoch 33 Batch 650 Loss 1.9138 Accuracy 0.6079\n",
            "Epoch 33 Batch 700 Loss 1.9130 Accuracy 0.6080\n",
            "Epoch 33 Batch 750 Loss 1.9142 Accuracy 0.6079\n",
            "Epoch 33 Batch 800 Loss 1.9162 Accuracy 0.6076\n",
            "Epoch 33 Batch 850 Loss 1.9165 Accuracy 0.6077\n",
            "Epoch 33 Batch 900 Loss 1.9177 Accuracy 0.6076\n",
            "Epoch 33 Batch 950 Loss 1.9169 Accuracy 0.6078\n",
            "Epoch 33 Batch 1000 Loss 1.9178 Accuracy 0.6075\n",
            "Epoch 33 Batch 1050 Loss 1.9184 Accuracy 0.6074\n",
            "Epoch 33 Batch 1100 Loss 1.9189 Accuracy 0.6074\n",
            "Epoch 33 Batch 1150 Loss 1.9188 Accuracy 0.6074\n",
            "Epoch 33 Batch 1200 Loss 1.9186 Accuracy 0.6074\n",
            "Epoch 33 Batch 1250 Loss 1.9196 Accuracy 0.6071\n",
            "Epoch 33 Batch 1300 Loss 1.9201 Accuracy 0.6071\n",
            "Epoch 33 Batch 1350 Loss 1.9200 Accuracy 0.6072\n",
            "Epoch 33 Batch 1400 Loss 1.9209 Accuracy 0.6070\n",
            "Epoch 33 Batch 1450 Loss 1.9214 Accuracy 0.6069\n",
            "Epoch 33 Batch 1500 Loss 1.9214 Accuracy 0.6070\n",
            "Epoch 33 Batch 1550 Loss 1.9227 Accuracy 0.6067\n",
            "Epoch 33 Loss 1.9228 Accuracy 0.6067\n",
            "Time taken for 1 epoch: 228.23 secs\n",
            "\n",
            "Epoch 34 Batch 0 Loss 1.7615 Accuracy 0.6399\n",
            "Epoch 34 Batch 50 Loss 1.8958 Accuracy 0.6110\n",
            "Epoch 34 Batch 100 Loss 1.8946 Accuracy 0.6101\n",
            "Epoch 34 Batch 150 Loss 1.8960 Accuracy 0.6105\n",
            "Epoch 34 Batch 200 Loss 1.9018 Accuracy 0.6094\n",
            "Epoch 34 Batch 250 Loss 1.9022 Accuracy 0.6094\n",
            "Epoch 34 Batch 300 Loss 1.9025 Accuracy 0.6092\n",
            "Epoch 34 Batch 350 Loss 1.9093 Accuracy 0.6082\n",
            "Epoch 34 Batch 400 Loss 1.9085 Accuracy 0.6087\n",
            "Epoch 34 Batch 450 Loss 1.9070 Accuracy 0.6093\n",
            "Epoch 34 Batch 500 Loss 1.9093 Accuracy 0.6088\n",
            "Epoch 34 Batch 550 Loss 1.9093 Accuracy 0.6088\n",
            "Epoch 34 Batch 600 Loss 1.9093 Accuracy 0.6088\n",
            "Epoch 34 Batch 650 Loss 1.9076 Accuracy 0.6091\n",
            "Epoch 34 Batch 700 Loss 1.9076 Accuracy 0.6092\n",
            "Epoch 34 Batch 750 Loss 1.9074 Accuracy 0.6092\n",
            "Epoch 34 Batch 800 Loss 1.9095 Accuracy 0.6089\n",
            "Epoch 34 Batch 850 Loss 1.9109 Accuracy 0.6087\n",
            "Epoch 34 Batch 900 Loss 1.9109 Accuracy 0.6087\n",
            "Epoch 34 Batch 950 Loss 1.9105 Accuracy 0.6087\n",
            "Epoch 34 Batch 1000 Loss 1.9113 Accuracy 0.6086\n",
            "Epoch 34 Batch 1050 Loss 1.9126 Accuracy 0.6083\n",
            "Epoch 34 Batch 1100 Loss 1.9126 Accuracy 0.6083\n",
            "Epoch 34 Batch 1150 Loss 1.9133 Accuracy 0.6082\n",
            "Epoch 34 Batch 1200 Loss 1.9142 Accuracy 0.6080\n",
            "Epoch 34 Batch 1250 Loss 1.9134 Accuracy 0.6081\n",
            "Epoch 34 Batch 1300 Loss 1.9127 Accuracy 0.6081\n",
            "Epoch 34 Batch 1350 Loss 1.9131 Accuracy 0.6080\n",
            "Epoch 34 Batch 1400 Loss 1.9139 Accuracy 0.6080\n",
            "Epoch 34 Batch 1450 Loss 1.9149 Accuracy 0.6078\n",
            "Epoch 34 Batch 1500 Loss 1.9147 Accuracy 0.6078\n",
            "Epoch 34 Batch 1550 Loss 1.9148 Accuracy 0.6078\n",
            "Epoch 34 Loss 1.9150 Accuracy 0.6078\n",
            "Time taken for 1 epoch: 228.32 secs\n",
            "\n",
            "Epoch 35 Batch 0 Loss 2.0618 Accuracy 0.5841\n",
            "Epoch 35 Batch 50 Loss 1.8839 Accuracy 0.6117\n",
            "Epoch 35 Batch 100 Loss 1.8855 Accuracy 0.6123\n",
            "Epoch 35 Batch 150 Loss 1.8955 Accuracy 0.6104\n",
            "Epoch 35 Batch 200 Loss 1.8990 Accuracy 0.6106\n",
            "Epoch 35 Batch 250 Loss 1.8990 Accuracy 0.6105\n",
            "Epoch 35 Batch 300 Loss 1.9022 Accuracy 0.6099\n",
            "Epoch 35 Batch 350 Loss 1.9003 Accuracy 0.6105\n",
            "Epoch 35 Batch 400 Loss 1.9023 Accuracy 0.6102\n",
            "Epoch 35 Batch 450 Loss 1.9014 Accuracy 0.6106\n",
            "Epoch 35 Batch 500 Loss 1.9012 Accuracy 0.6104\n",
            "Epoch 35 Batch 550 Loss 1.9020 Accuracy 0.6102\n",
            "Epoch 35 Batch 600 Loss 1.9018 Accuracy 0.6102\n",
            "Epoch 35 Batch 650 Loss 1.9029 Accuracy 0.6100\n",
            "Epoch 35 Batch 700 Loss 1.9003 Accuracy 0.6104\n",
            "Epoch 35 Batch 750 Loss 1.8999 Accuracy 0.6105\n",
            "Epoch 35 Batch 800 Loss 1.9006 Accuracy 0.6104\n",
            "Epoch 35 Batch 850 Loss 1.9007 Accuracy 0.6104\n",
            "Epoch 35 Batch 900 Loss 1.9018 Accuracy 0.6102\n",
            "Epoch 35 Batch 950 Loss 1.9029 Accuracy 0.6100\n",
            "Epoch 35 Batch 1000 Loss 1.9040 Accuracy 0.6097\n",
            "Epoch 35 Batch 1050 Loss 1.9049 Accuracy 0.6096\n",
            "Epoch 35 Batch 1100 Loss 1.9042 Accuracy 0.6097\n",
            "Epoch 35 Batch 1150 Loss 1.9042 Accuracy 0.6098\n",
            "Epoch 35 Batch 1200 Loss 1.9043 Accuracy 0.6098\n",
            "Epoch 35 Batch 1250 Loss 1.9041 Accuracy 0.6098\n",
            "Epoch 35 Batch 1300 Loss 1.9039 Accuracy 0.6098\n",
            "Epoch 35 Batch 1350 Loss 1.9048 Accuracy 0.6096\n",
            "Epoch 35 Batch 1400 Loss 1.9060 Accuracy 0.6095\n",
            "Epoch 35 Batch 1450 Loss 1.9062 Accuracy 0.6094\n",
            "Epoch 35 Batch 1500 Loss 1.9083 Accuracy 0.6091\n",
            "Epoch 35 Batch 1550 Loss 1.9084 Accuracy 0.6091\n",
            "Saving checkpoint for epoch 35 at /content/drive/MyDrive/MT/checkpoints/train/ckpt-7\n",
            "Epoch 35 Loss 1.9084 Accuracy 0.6091\n",
            "Time taken for 1 epoch: 228.24 secs\n",
            "\n",
            "Epoch 36 Batch 0 Loss 2.0751 Accuracy 0.5780\n",
            "Epoch 36 Batch 50 Loss 1.8967 Accuracy 0.6097\n",
            "Epoch 36 Batch 100 Loss 1.8956 Accuracy 0.6106\n",
            "Epoch 36 Batch 150 Loss 1.8855 Accuracy 0.6131\n",
            "Epoch 36 Batch 200 Loss 1.8875 Accuracy 0.6132\n",
            "Epoch 36 Batch 250 Loss 1.8882 Accuracy 0.6132\n",
            "Epoch 36 Batch 300 Loss 1.8893 Accuracy 0.6127\n",
            "Epoch 36 Batch 350 Loss 1.8878 Accuracy 0.6128\n",
            "Epoch 36 Batch 400 Loss 1.8885 Accuracy 0.6125\n",
            "Epoch 36 Batch 450 Loss 1.8890 Accuracy 0.6124\n",
            "Epoch 36 Batch 500 Loss 1.8880 Accuracy 0.6126\n",
            "Epoch 36 Batch 550 Loss 1.8870 Accuracy 0.6126\n",
            "Epoch 36 Batch 600 Loss 1.8898 Accuracy 0.6123\n",
            "Epoch 36 Batch 650 Loss 1.8893 Accuracy 0.6123\n",
            "Epoch 36 Batch 700 Loss 1.8896 Accuracy 0.6122\n",
            "Epoch 36 Batch 750 Loss 1.8898 Accuracy 0.6121\n",
            "Epoch 36 Batch 800 Loss 1.8921 Accuracy 0.6116\n",
            "Epoch 36 Batch 850 Loss 1.8945 Accuracy 0.6112\n",
            "Epoch 36 Batch 900 Loss 1.8944 Accuracy 0.6112\n",
            "Epoch 36 Batch 950 Loss 1.8947 Accuracy 0.6113\n",
            "Epoch 36 Batch 1000 Loss 1.8949 Accuracy 0.6111\n",
            "Epoch 36 Batch 1050 Loss 1.8967 Accuracy 0.6108\n",
            "Epoch 36 Batch 1100 Loss 1.8970 Accuracy 0.6108\n",
            "Epoch 36 Batch 1150 Loss 1.8982 Accuracy 0.6106\n",
            "Epoch 36 Batch 1200 Loss 1.8983 Accuracy 0.6106\n",
            "Epoch 36 Batch 1250 Loss 1.8993 Accuracy 0.6105\n",
            "Epoch 36 Batch 1300 Loss 1.8992 Accuracy 0.6105\n",
            "Epoch 36 Batch 1350 Loss 1.9000 Accuracy 0.6103\n",
            "Epoch 36 Batch 1400 Loss 1.9003 Accuracy 0.6103\n",
            "Epoch 36 Batch 1450 Loss 1.8995 Accuracy 0.6105\n",
            "Epoch 36 Batch 1500 Loss 1.9002 Accuracy 0.6104\n",
            "Epoch 36 Batch 1550 Loss 1.8999 Accuracy 0.6104\n",
            "Epoch 36 Loss 1.9002 Accuracy 0.6104\n",
            "Time taken for 1 epoch: 227.85 secs\n",
            "\n",
            "Epoch 37 Batch 0 Loss 1.7740 Accuracy 0.6299\n",
            "Epoch 37 Batch 50 Loss 1.8648 Accuracy 0.6136\n",
            "Epoch 37 Batch 100 Loss 1.8719 Accuracy 0.6134\n",
            "Epoch 37 Batch 150 Loss 1.8780 Accuracy 0.6130\n",
            "Epoch 37 Batch 200 Loss 1.8769 Accuracy 0.6136\n",
            "Epoch 37 Batch 250 Loss 1.8821 Accuracy 0.6128\n",
            "Epoch 37 Batch 300 Loss 1.8828 Accuracy 0.6129\n",
            "Epoch 37 Batch 350 Loss 1.8838 Accuracy 0.6127\n",
            "Epoch 37 Batch 400 Loss 1.8865 Accuracy 0.6122\n",
            "Epoch 37 Batch 450 Loss 1.8855 Accuracy 0.6125\n",
            "Epoch 37 Batch 500 Loss 1.8861 Accuracy 0.6122\n",
            "Epoch 37 Batch 550 Loss 1.8874 Accuracy 0.6120\n",
            "Epoch 37 Batch 600 Loss 1.8911 Accuracy 0.6116\n",
            "Epoch 37 Batch 650 Loss 1.8927 Accuracy 0.6113\n",
            "Epoch 37 Batch 700 Loss 1.8912 Accuracy 0.6116\n",
            "Epoch 37 Batch 750 Loss 1.8911 Accuracy 0.6117\n",
            "Epoch 37 Batch 800 Loss 1.8903 Accuracy 0.6118\n",
            "Epoch 37 Batch 850 Loss 1.8891 Accuracy 0.6121\n",
            "Epoch 37 Batch 900 Loss 1.8893 Accuracy 0.6120\n",
            "Epoch 37 Batch 950 Loss 1.8889 Accuracy 0.6121\n",
            "Epoch 37 Batch 1000 Loss 1.8894 Accuracy 0.6119\n",
            "Epoch 37 Batch 1050 Loss 1.8902 Accuracy 0.6118\n",
            "Epoch 37 Batch 1100 Loss 1.8912 Accuracy 0.6115\n",
            "Epoch 37 Batch 1150 Loss 1.8911 Accuracy 0.6115\n",
            "Epoch 37 Batch 1200 Loss 1.8915 Accuracy 0.6115\n",
            "Epoch 37 Batch 1250 Loss 1.8923 Accuracy 0.6114\n",
            "Epoch 37 Batch 1300 Loss 1.8923 Accuracy 0.6114\n",
            "Epoch 37 Batch 1350 Loss 1.8932 Accuracy 0.6112\n",
            "Epoch 37 Batch 1400 Loss 1.8932 Accuracy 0.6113\n",
            "Epoch 37 Batch 1450 Loss 1.8937 Accuracy 0.6112\n",
            "Epoch 37 Batch 1500 Loss 1.8933 Accuracy 0.6113\n",
            "Epoch 37 Batch 1550 Loss 1.8938 Accuracy 0.6113\n",
            "Epoch 37 Loss 1.8939 Accuracy 0.6113\n",
            "Time taken for 1 epoch: 228.30 secs\n",
            "\n",
            "Epoch 38 Batch 0 Loss 1.9065 Accuracy 0.6018\n",
            "Epoch 38 Batch 50 Loss 1.8873 Accuracy 0.6113\n",
            "Epoch 38 Batch 100 Loss 1.8691 Accuracy 0.6158\n",
            "Epoch 38 Batch 150 Loss 1.8704 Accuracy 0.6157\n",
            "Epoch 38 Batch 200 Loss 1.8668 Accuracy 0.6161\n",
            "Epoch 38 Batch 250 Loss 1.8706 Accuracy 0.6152\n",
            "Epoch 38 Batch 300 Loss 1.8770 Accuracy 0.6144\n",
            "Epoch 38 Batch 350 Loss 1.8798 Accuracy 0.6140\n",
            "Epoch 38 Batch 400 Loss 1.8801 Accuracy 0.6138\n",
            "Epoch 38 Batch 450 Loss 1.8814 Accuracy 0.6135\n",
            "Epoch 38 Batch 500 Loss 1.8788 Accuracy 0.6140\n",
            "Epoch 38 Batch 550 Loss 1.8793 Accuracy 0.6141\n",
            "Epoch 38 Batch 600 Loss 1.8817 Accuracy 0.6137\n",
            "Epoch 38 Batch 650 Loss 1.8806 Accuracy 0.6139\n",
            "Epoch 38 Batch 700 Loss 1.8813 Accuracy 0.6137\n",
            "Epoch 38 Batch 750 Loss 1.8809 Accuracy 0.6138\n",
            "Epoch 38 Batch 800 Loss 1.8821 Accuracy 0.6135\n",
            "Epoch 38 Batch 850 Loss 1.8834 Accuracy 0.6132\n",
            "Epoch 38 Batch 900 Loss 1.8840 Accuracy 0.6130\n",
            "Epoch 38 Batch 950 Loss 1.8834 Accuracy 0.6131\n",
            "Epoch 38 Batch 1000 Loss 1.8830 Accuracy 0.6132\n",
            "Epoch 38 Batch 1050 Loss 1.8832 Accuracy 0.6132\n",
            "Epoch 38 Batch 1100 Loss 1.8821 Accuracy 0.6134\n",
            "Epoch 38 Batch 1150 Loss 1.8819 Accuracy 0.6135\n",
            "Epoch 38 Batch 1200 Loss 1.8815 Accuracy 0.6136\n",
            "Epoch 38 Batch 1250 Loss 1.8828 Accuracy 0.6134\n",
            "Epoch 38 Batch 1300 Loss 1.8829 Accuracy 0.6133\n",
            "Epoch 38 Batch 1350 Loss 1.8841 Accuracy 0.6131\n",
            "Epoch 38 Batch 1400 Loss 1.8848 Accuracy 0.6129\n",
            "Epoch 38 Batch 1450 Loss 1.8864 Accuracy 0.6126\n",
            "Epoch 38 Batch 1500 Loss 1.8861 Accuracy 0.6126\n",
            "Epoch 38 Batch 1550 Loss 1.8870 Accuracy 0.6125\n",
            "Epoch 38 Loss 1.8868 Accuracy 0.6125\n",
            "Time taken for 1 epoch: 228.18 secs\n",
            "\n",
            "Epoch 39 Batch 0 Loss 2.1568 Accuracy 0.5719\n",
            "Epoch 39 Batch 50 Loss 1.8754 Accuracy 0.6139\n",
            "Epoch 39 Batch 100 Loss 1.8771 Accuracy 0.6139\n",
            "Epoch 39 Batch 150 Loss 1.8763 Accuracy 0.6142\n",
            "Epoch 39 Batch 200 Loss 1.8710 Accuracy 0.6151\n",
            "Epoch 39 Batch 250 Loss 1.8729 Accuracy 0.6147\n",
            "Epoch 39 Batch 300 Loss 1.8738 Accuracy 0.6148\n",
            "Epoch 39 Batch 350 Loss 1.8747 Accuracy 0.6145\n",
            "Epoch 39 Batch 400 Loss 1.8724 Accuracy 0.6148\n",
            "Epoch 39 Batch 450 Loss 1.8729 Accuracy 0.6148\n",
            "Epoch 39 Batch 500 Loss 1.8706 Accuracy 0.6152\n",
            "Epoch 39 Batch 550 Loss 1.8699 Accuracy 0.6152\n",
            "Epoch 39 Batch 600 Loss 1.8699 Accuracy 0.6151\n",
            "Epoch 39 Batch 650 Loss 1.8703 Accuracy 0.6152\n",
            "Epoch 39 Batch 700 Loss 1.8734 Accuracy 0.6146\n",
            "Epoch 39 Batch 750 Loss 1.8752 Accuracy 0.6143\n",
            "Epoch 39 Batch 800 Loss 1.8749 Accuracy 0.6143\n",
            "Epoch 39 Batch 850 Loss 1.8752 Accuracy 0.6143\n",
            "Epoch 39 Batch 900 Loss 1.8759 Accuracy 0.6142\n",
            "Epoch 39 Batch 950 Loss 1.8753 Accuracy 0.6143\n",
            "Epoch 39 Batch 1000 Loss 1.8755 Accuracy 0.6142\n",
            "Epoch 39 Batch 1050 Loss 1.8764 Accuracy 0.6140\n",
            "Epoch 39 Batch 1100 Loss 1.8779 Accuracy 0.6137\n",
            "Epoch 39 Batch 1150 Loss 1.8769 Accuracy 0.6139\n",
            "Epoch 39 Batch 1200 Loss 1.8770 Accuracy 0.6139\n",
            "Epoch 39 Batch 1250 Loss 1.8768 Accuracy 0.6139\n",
            "Epoch 39 Batch 1300 Loss 1.8765 Accuracy 0.6140\n",
            "Epoch 39 Batch 1350 Loss 1.8771 Accuracy 0.6139\n",
            "Epoch 39 Batch 1400 Loss 1.8785 Accuracy 0.6136\n",
            "Epoch 39 Batch 1450 Loss 1.8784 Accuracy 0.6137\n",
            "Epoch 39 Batch 1500 Loss 1.8792 Accuracy 0.6136\n",
            "Epoch 39 Batch 1550 Loss 1.8801 Accuracy 0.6135\n",
            "Epoch 39 Loss 1.8802 Accuracy 0.6135\n",
            "Time taken for 1 epoch: 228.44 secs\n",
            "\n",
            "Epoch 40 Batch 0 Loss 1.8782 Accuracy 0.6303\n",
            "Epoch 40 Batch 50 Loss 1.8503 Accuracy 0.6203\n",
            "Epoch 40 Batch 100 Loss 1.8577 Accuracy 0.6173\n",
            "Epoch 40 Batch 150 Loss 1.8641 Accuracy 0.6159\n",
            "Epoch 40 Batch 200 Loss 1.8671 Accuracy 0.6155\n",
            "Epoch 40 Batch 250 Loss 1.8677 Accuracy 0.6155\n",
            "Epoch 40 Batch 300 Loss 1.8657 Accuracy 0.6161\n",
            "Epoch 40 Batch 350 Loss 1.8667 Accuracy 0.6160\n",
            "Epoch 40 Batch 400 Loss 1.8645 Accuracy 0.6162\n",
            "Epoch 40 Batch 450 Loss 1.8665 Accuracy 0.6160\n",
            "Epoch 40 Batch 500 Loss 1.8672 Accuracy 0.6158\n",
            "Epoch 40 Batch 550 Loss 1.8670 Accuracy 0.6158\n",
            "Epoch 40 Batch 600 Loss 1.8680 Accuracy 0.6155\n",
            "Epoch 40 Batch 650 Loss 1.8690 Accuracy 0.6153\n",
            "Epoch 40 Batch 700 Loss 1.8677 Accuracy 0.6154\n",
            "Epoch 40 Batch 750 Loss 1.8682 Accuracy 0.6153\n",
            "Epoch 40 Batch 800 Loss 1.8678 Accuracy 0.6153\n",
            "Epoch 40 Batch 850 Loss 1.8669 Accuracy 0.6155\n",
            "Epoch 40 Batch 900 Loss 1.8670 Accuracy 0.6155\n",
            "Epoch 40 Batch 950 Loss 1.8675 Accuracy 0.6154\n",
            "Epoch 40 Batch 1000 Loss 1.8684 Accuracy 0.6153\n",
            "Epoch 40 Batch 1050 Loss 1.8693 Accuracy 0.6152\n",
            "Epoch 40 Batch 1100 Loss 1.8698 Accuracy 0.6152\n",
            "Epoch 40 Batch 1150 Loss 1.8711 Accuracy 0.6149\n",
            "Epoch 40 Batch 1200 Loss 1.8708 Accuracy 0.6149\n",
            "Epoch 40 Batch 1250 Loss 1.8716 Accuracy 0.6148\n",
            "Epoch 40 Batch 1300 Loss 1.8717 Accuracy 0.6148\n",
            "Epoch 40 Batch 1350 Loss 1.8729 Accuracy 0.6146\n",
            "Epoch 40 Batch 1400 Loss 1.8726 Accuracy 0.6147\n",
            "Epoch 40 Batch 1450 Loss 1.8733 Accuracy 0.6146\n",
            "Epoch 40 Batch 1500 Loss 1.8736 Accuracy 0.6145\n",
            "Epoch 40 Batch 1550 Loss 1.8739 Accuracy 0.6145\n",
            "Saving checkpoint for epoch 40 at /content/drive/MyDrive/MT/checkpoints/train/ckpt-8\n",
            "Epoch 40 Loss 1.8737 Accuracy 0.6146\n",
            "Time taken for 1 epoch: 228.90 secs\n",
            "\n",
            "Epoch 41 Batch 0 Loss 1.6602 Accuracy 0.6537\n",
            "Epoch 41 Batch 50 Loss 1.8467 Accuracy 0.6184\n",
            "Epoch 41 Batch 100 Loss 1.8406 Accuracy 0.6193\n",
            "Epoch 41 Batch 150 Loss 1.8396 Accuracy 0.6205\n",
            "Epoch 41 Batch 200 Loss 1.8393 Accuracy 0.6205\n",
            "Epoch 41 Batch 250 Loss 1.8479 Accuracy 0.6192\n",
            "Epoch 41 Batch 300 Loss 1.8516 Accuracy 0.6184\n",
            "Epoch 41 Batch 350 Loss 1.8516 Accuracy 0.6185\n",
            "Epoch 41 Batch 400 Loss 1.8529 Accuracy 0.6181\n",
            "Epoch 41 Batch 450 Loss 1.8530 Accuracy 0.6181\n",
            "Epoch 41 Batch 500 Loss 1.8530 Accuracy 0.6181\n",
            "Epoch 41 Batch 550 Loss 1.8534 Accuracy 0.6180\n",
            "Epoch 41 Batch 600 Loss 1.8543 Accuracy 0.6179\n",
            "Epoch 41 Batch 650 Loss 1.8554 Accuracy 0.6176\n",
            "Epoch 41 Batch 700 Loss 1.8555 Accuracy 0.6176\n",
            "Epoch 41 Batch 750 Loss 1.8552 Accuracy 0.6176\n",
            "Epoch 41 Batch 800 Loss 1.8566 Accuracy 0.6174\n",
            "Epoch 41 Batch 850 Loss 1.8588 Accuracy 0.6169\n",
            "Epoch 41 Batch 900 Loss 1.8601 Accuracy 0.6166\n",
            "Epoch 41 Batch 950 Loss 1.8610 Accuracy 0.6166\n",
            "Epoch 41 Batch 1000 Loss 1.8615 Accuracy 0.6165\n",
            "Epoch 41 Batch 1050 Loss 1.8611 Accuracy 0.6166\n",
            "Epoch 41 Batch 1100 Loss 1.8627 Accuracy 0.6163\n",
            "Epoch 41 Batch 1150 Loss 1.8643 Accuracy 0.6160\n",
            "Epoch 41 Batch 1200 Loss 1.8639 Accuracy 0.6161\n",
            "Epoch 41 Batch 1250 Loss 1.8637 Accuracy 0.6162\n",
            "Epoch 41 Batch 1300 Loss 1.8639 Accuracy 0.6162\n",
            "Epoch 41 Batch 1350 Loss 1.8642 Accuracy 0.6161\n",
            "Epoch 41 Batch 1400 Loss 1.8648 Accuracy 0.6161\n",
            "Epoch 41 Batch 1450 Loss 1.8660 Accuracy 0.6158\n",
            "Epoch 41 Batch 1500 Loss 1.8669 Accuracy 0.6156\n",
            "Epoch 41 Batch 1550 Loss 1.8672 Accuracy 0.6156\n",
            "Epoch 41 Loss 1.8671 Accuracy 0.6156\n",
            "Time taken for 1 epoch: 228.18 secs\n",
            "\n",
            "Epoch 42 Batch 0 Loss 1.9016 Accuracy 0.6042\n",
            "Epoch 42 Batch 50 Loss 1.8423 Accuracy 0.6184\n",
            "Epoch 42 Batch 100 Loss 1.8536 Accuracy 0.6163\n",
            "Epoch 42 Batch 150 Loss 1.8494 Accuracy 0.6169\n",
            "Epoch 42 Batch 200 Loss 1.8519 Accuracy 0.6170\n",
            "Epoch 42 Batch 250 Loss 1.8581 Accuracy 0.6160\n",
            "Epoch 42 Batch 300 Loss 1.8587 Accuracy 0.6163\n",
            "Epoch 42 Batch 350 Loss 1.8592 Accuracy 0.6162\n",
            "Epoch 42 Batch 400 Loss 1.8598 Accuracy 0.6163\n",
            "Epoch 42 Batch 450 Loss 1.8569 Accuracy 0.6168\n",
            "Epoch 42 Batch 500 Loss 1.8559 Accuracy 0.6171\n",
            "Epoch 42 Batch 550 Loss 1.8539 Accuracy 0.6175\n",
            "Epoch 42 Batch 600 Loss 1.8530 Accuracy 0.6176\n",
            "Epoch 42 Batch 650 Loss 1.8547 Accuracy 0.6174\n",
            "Epoch 42 Batch 700 Loss 1.8543 Accuracy 0.6174\n",
            "Epoch 42 Batch 750 Loss 1.8526 Accuracy 0.6178\n",
            "Epoch 42 Batch 800 Loss 1.8544 Accuracy 0.6174\n",
            "Epoch 42 Batch 850 Loss 1.8563 Accuracy 0.6172\n",
            "Epoch 42 Batch 900 Loss 1.8579 Accuracy 0.6169\n",
            "Epoch 42 Batch 950 Loss 1.8589 Accuracy 0.6168\n",
            "Epoch 42 Batch 1000 Loss 1.8593 Accuracy 0.6167\n",
            "Epoch 42 Batch 1050 Loss 1.8600 Accuracy 0.6166\n",
            "Epoch 42 Batch 1100 Loss 1.8608 Accuracy 0.6164\n",
            "Epoch 42 Batch 1150 Loss 1.8608 Accuracy 0.6165\n",
            "Epoch 42 Batch 1200 Loss 1.8599 Accuracy 0.6167\n",
            "Epoch 42 Batch 1250 Loss 1.8602 Accuracy 0.6166\n",
            "Epoch 42 Batch 1300 Loss 1.8605 Accuracy 0.6166\n",
            "Epoch 42 Batch 1350 Loss 1.8615 Accuracy 0.6164\n",
            "Epoch 42 Batch 1400 Loss 1.8612 Accuracy 0.6164\n",
            "Epoch 42 Batch 1450 Loss 1.8615 Accuracy 0.6164\n",
            "Epoch 42 Batch 1500 Loss 1.8614 Accuracy 0.6164\n",
            "Epoch 42 Batch 1550 Loss 1.8621 Accuracy 0.6163\n",
            "Epoch 42 Loss 1.8622 Accuracy 0.6163\n",
            "Time taken for 1 epoch: 227.26 secs\n",
            "\n",
            "Epoch 43 Batch 0 Loss 1.8042 Accuracy 0.6346\n",
            "Epoch 43 Batch 50 Loss 1.8497 Accuracy 0.6182\n",
            "Epoch 43 Batch 100 Loss 1.8347 Accuracy 0.6209\n",
            "Epoch 43 Batch 150 Loss 1.8357 Accuracy 0.6207\n",
            "Epoch 43 Batch 200 Loss 1.8376 Accuracy 0.6202\n",
            "Epoch 43 Batch 250 Loss 1.8432 Accuracy 0.6192\n",
            "Epoch 43 Batch 300 Loss 1.8488 Accuracy 0.6184\n",
            "Epoch 43 Batch 350 Loss 1.8511 Accuracy 0.6182\n",
            "Epoch 43 Batch 400 Loss 1.8500 Accuracy 0.6187\n",
            "Epoch 43 Batch 450 Loss 1.8488 Accuracy 0.6189\n",
            "Epoch 43 Batch 500 Loss 1.8508 Accuracy 0.6183\n",
            "Epoch 43 Batch 550 Loss 1.8511 Accuracy 0.6182\n",
            "Epoch 43 Batch 600 Loss 1.8509 Accuracy 0.6182\n",
            "Epoch 43 Batch 650 Loss 1.8506 Accuracy 0.6182\n",
            "Epoch 43 Batch 700 Loss 1.8497 Accuracy 0.6183\n",
            "Epoch 43 Batch 750 Loss 1.8494 Accuracy 0.6185\n",
            "Epoch 43 Batch 800 Loss 1.8488 Accuracy 0.6186\n",
            "Epoch 43 Batch 850 Loss 1.8491 Accuracy 0.6186\n",
            "Epoch 43 Batch 900 Loss 1.8504 Accuracy 0.6183\n",
            "Epoch 43 Batch 950 Loss 1.8494 Accuracy 0.6185\n",
            "Epoch 43 Batch 1000 Loss 1.8503 Accuracy 0.6183\n",
            "Epoch 43 Batch 1050 Loss 1.8507 Accuracy 0.6183\n",
            "Epoch 43 Batch 1100 Loss 1.8515 Accuracy 0.6182\n",
            "Epoch 43 Batch 1150 Loss 1.8522 Accuracy 0.6181\n",
            "Epoch 43 Batch 1200 Loss 1.8532 Accuracy 0.6179\n",
            "Epoch 43 Batch 1250 Loss 1.8532 Accuracy 0.6180\n",
            "Epoch 43 Batch 1300 Loss 1.8546 Accuracy 0.6178\n",
            "Epoch 43 Batch 1350 Loss 1.8546 Accuracy 0.6178\n",
            "Epoch 43 Batch 1400 Loss 1.8544 Accuracy 0.6178\n",
            "Epoch 43 Batch 1450 Loss 1.8553 Accuracy 0.6176\n",
            "Epoch 43 Batch 1500 Loss 1.8562 Accuracy 0.6174\n",
            "Epoch 43 Batch 1550 Loss 1.8567 Accuracy 0.6174\n",
            "Epoch 43 Loss 1.8568 Accuracy 0.6174\n",
            "Time taken for 1 epoch: 227.69 secs\n",
            "\n",
            "Epoch 44 Batch 0 Loss 1.8240 Accuracy 0.6217\n",
            "Epoch 44 Batch 50 Loss 1.8553 Accuracy 0.6175\n",
            "Epoch 44 Batch 100 Loss 1.8501 Accuracy 0.6180\n",
            "Epoch 44 Batch 150 Loss 1.8340 Accuracy 0.6212\n",
            "Epoch 44 Batch 200 Loss 1.8340 Accuracy 0.6215\n",
            "Epoch 44 Batch 250 Loss 1.8323 Accuracy 0.6216\n",
            "Epoch 44 Batch 300 Loss 1.8373 Accuracy 0.6205\n",
            "Epoch 44 Batch 350 Loss 1.8402 Accuracy 0.6197\n",
            "Epoch 44 Batch 400 Loss 1.8404 Accuracy 0.6198\n",
            "Epoch 44 Batch 450 Loss 1.8392 Accuracy 0.6200\n",
            "Epoch 44 Batch 500 Loss 1.8414 Accuracy 0.6196\n",
            "Epoch 44 Batch 550 Loss 1.8418 Accuracy 0.6196\n",
            "Epoch 44 Batch 600 Loss 1.8433 Accuracy 0.6193\n",
            "Epoch 44 Batch 650 Loss 1.8435 Accuracy 0.6193\n",
            "Epoch 44 Batch 700 Loss 1.8431 Accuracy 0.6194\n",
            "Epoch 44 Batch 750 Loss 1.8441 Accuracy 0.6191\n",
            "Epoch 44 Batch 800 Loss 1.8436 Accuracy 0.6192\n",
            "Epoch 44 Batch 850 Loss 1.8444 Accuracy 0.6191\n",
            "Epoch 44 Batch 900 Loss 1.8442 Accuracy 0.6191\n",
            "Epoch 44 Batch 950 Loss 1.8453 Accuracy 0.6190\n",
            "Epoch 44 Batch 1000 Loss 1.8444 Accuracy 0.6192\n",
            "Epoch 44 Batch 1050 Loss 1.8442 Accuracy 0.6193\n",
            "Epoch 44 Batch 1100 Loss 1.8451 Accuracy 0.6190\n",
            "Epoch 44 Batch 1150 Loss 1.8460 Accuracy 0.6189\n",
            "Epoch 44 Batch 1200 Loss 1.8467 Accuracy 0.6188\n",
            "Epoch 44 Batch 1250 Loss 1.8474 Accuracy 0.6187\n",
            "Epoch 44 Batch 1300 Loss 1.8482 Accuracy 0.6185\n",
            "Epoch 44 Batch 1350 Loss 1.8487 Accuracy 0.6183\n",
            "Epoch 44 Batch 1400 Loss 1.8486 Accuracy 0.6184\n",
            "Epoch 44 Batch 1450 Loss 1.8485 Accuracy 0.6185\n",
            "Epoch 44 Batch 1500 Loss 1.8491 Accuracy 0.6184\n",
            "Epoch 44 Batch 1550 Loss 1.8497 Accuracy 0.6183\n",
            "Epoch 44 Loss 1.8501 Accuracy 0.6182\n",
            "Time taken for 1 epoch: 228.02 secs\n",
            "\n",
            "Epoch 45 Batch 0 Loss 1.9378 Accuracy 0.6107\n",
            "Epoch 45 Batch 50 Loss 1.8157 Accuracy 0.6247\n",
            "Epoch 45 Batch 100 Loss 1.8300 Accuracy 0.6222\n",
            "Epoch 45 Batch 150 Loss 1.8181 Accuracy 0.6240\n",
            "Epoch 45 Batch 200 Loss 1.8238 Accuracy 0.6227\n",
            "Epoch 45 Batch 250 Loss 1.8283 Accuracy 0.6221\n",
            "Epoch 45 Batch 300 Loss 1.8366 Accuracy 0.6208\n",
            "Epoch 45 Batch 350 Loss 1.8413 Accuracy 0.6197\n",
            "Epoch 45 Batch 400 Loss 1.8416 Accuracy 0.6196\n",
            "Epoch 45 Batch 450 Loss 1.8429 Accuracy 0.6195\n",
            "Epoch 45 Batch 500 Loss 1.8408 Accuracy 0.6198\n",
            "Epoch 45 Batch 550 Loss 1.8381 Accuracy 0.6202\n",
            "Epoch 45 Batch 600 Loss 1.8383 Accuracy 0.6201\n",
            "Epoch 45 Batch 650 Loss 1.8380 Accuracy 0.6204\n",
            "Epoch 45 Batch 700 Loss 1.8395 Accuracy 0.6202\n",
            "Epoch 45 Batch 750 Loss 1.8394 Accuracy 0.6202\n",
            "Epoch 45 Batch 800 Loss 1.8403 Accuracy 0.6200\n",
            "Epoch 45 Batch 850 Loss 1.8403 Accuracy 0.6199\n",
            "Epoch 45 Batch 900 Loss 1.8407 Accuracy 0.6199\n",
            "Epoch 45 Batch 950 Loss 1.8421 Accuracy 0.6197\n",
            "Epoch 45 Batch 1000 Loss 1.8423 Accuracy 0.6196\n",
            "Epoch 45 Batch 1050 Loss 1.8418 Accuracy 0.6196\n",
            "Epoch 45 Batch 1100 Loss 1.8413 Accuracy 0.6197\n",
            "Epoch 45 Batch 1150 Loss 1.8418 Accuracy 0.6196\n",
            "Epoch 45 Batch 1200 Loss 1.8427 Accuracy 0.6194\n",
            "Epoch 45 Batch 1250 Loss 1.8431 Accuracy 0.6195\n",
            "Epoch 45 Batch 1300 Loss 1.8447 Accuracy 0.6192\n",
            "Epoch 45 Batch 1350 Loss 1.8449 Accuracy 0.6191\n",
            "Epoch 45 Batch 1400 Loss 1.8448 Accuracy 0.6192\n",
            "Epoch 45 Batch 1450 Loss 1.8450 Accuracy 0.6191\n",
            "Epoch 45 Batch 1500 Loss 1.8457 Accuracy 0.6190\n",
            "Epoch 45 Batch 1550 Loss 1.8466 Accuracy 0.6188\n",
            "Saving checkpoint for epoch 45 at /content/drive/MyDrive/MT/checkpoints/train/ckpt-9\n",
            "Epoch 45 Loss 1.8465 Accuracy 0.6188\n",
            "Time taken for 1 epoch: 227.51 secs\n",
            "\n",
            "Epoch 46 Batch 0 Loss 1.9460 Accuracy 0.5964\n",
            "Epoch 46 Batch 50 Loss 1.8099 Accuracy 0.6247\n",
            "Epoch 46 Batch 100 Loss 1.8205 Accuracy 0.6228\n",
            "Epoch 46 Batch 150 Loss 1.8258 Accuracy 0.6223\n",
            "Epoch 46 Batch 200 Loss 1.8268 Accuracy 0.6222\n",
            "Epoch 46 Batch 250 Loss 1.8274 Accuracy 0.6222\n",
            "Epoch 46 Batch 300 Loss 1.8276 Accuracy 0.6224\n",
            "Epoch 46 Batch 350 Loss 1.8303 Accuracy 0.6220\n",
            "Epoch 46 Batch 400 Loss 1.8277 Accuracy 0.6224\n",
            "Epoch 46 Batch 450 Loss 1.8264 Accuracy 0.6228\n",
            "Epoch 46 Batch 500 Loss 1.8275 Accuracy 0.6225\n",
            "Epoch 46 Batch 550 Loss 1.8293 Accuracy 0.6223\n",
            "Epoch 46 Batch 600 Loss 1.8304 Accuracy 0.6219\n",
            "Epoch 46 Batch 650 Loss 1.8317 Accuracy 0.6217\n",
            "Epoch 46 Batch 700 Loss 1.8328 Accuracy 0.6215\n",
            "Epoch 46 Batch 750 Loss 1.8319 Accuracy 0.6217\n",
            "Epoch 46 Batch 800 Loss 1.8333 Accuracy 0.6215\n",
            "Epoch 46 Batch 850 Loss 1.8355 Accuracy 0.6211\n",
            "Epoch 46 Batch 900 Loss 1.8361 Accuracy 0.6210\n",
            "Epoch 46 Batch 950 Loss 1.8363 Accuracy 0.6210\n",
            "Epoch 46 Batch 1000 Loss 1.8386 Accuracy 0.6206\n",
            "Epoch 46 Batch 1050 Loss 1.8387 Accuracy 0.6205\n",
            "Epoch 46 Batch 1100 Loss 1.8394 Accuracy 0.6205\n",
            "Epoch 46 Batch 1150 Loss 1.8387 Accuracy 0.6206\n",
            "Epoch 46 Batch 1200 Loss 1.8388 Accuracy 0.6205\n",
            "Epoch 46 Batch 1250 Loss 1.8380 Accuracy 0.6206\n",
            "Epoch 46 Batch 1300 Loss 1.8386 Accuracy 0.6205\n",
            "Epoch 46 Batch 1350 Loss 1.8397 Accuracy 0.6203\n",
            "Epoch 46 Batch 1400 Loss 1.8391 Accuracy 0.6203\n",
            "Epoch 46 Batch 1450 Loss 1.8393 Accuracy 0.6204\n",
            "Epoch 46 Batch 1500 Loss 1.8409 Accuracy 0.6201\n",
            "Epoch 46 Batch 1550 Loss 1.8415 Accuracy 0.6199\n",
            "Epoch 46 Loss 1.8413 Accuracy 0.6200\n",
            "Time taken for 1 epoch: 227.67 secs\n",
            "\n",
            "Epoch 47 Batch 0 Loss 1.7967 Accuracy 0.6075\n",
            "Epoch 47 Batch 50 Loss 1.8085 Accuracy 0.6249\n",
            "Epoch 47 Batch 100 Loss 1.8128 Accuracy 0.6238\n",
            "Epoch 47 Batch 150 Loss 1.8180 Accuracy 0.6233\n",
            "Epoch 47 Batch 200 Loss 1.8169 Accuracy 0.6236\n",
            "Epoch 47 Batch 250 Loss 1.8281 Accuracy 0.6216\n",
            "Epoch 47 Batch 300 Loss 1.8303 Accuracy 0.6212\n",
            "Epoch 47 Batch 350 Loss 1.8293 Accuracy 0.6213\n",
            "Epoch 47 Batch 400 Loss 1.8291 Accuracy 0.6217\n",
            "Epoch 47 Batch 450 Loss 1.8310 Accuracy 0.6211\n",
            "Epoch 47 Batch 500 Loss 1.8329 Accuracy 0.6210\n",
            "Epoch 47 Batch 550 Loss 1.8332 Accuracy 0.6210\n",
            "Epoch 47 Batch 600 Loss 1.8325 Accuracy 0.6211\n",
            "Epoch 47 Batch 650 Loss 1.8313 Accuracy 0.6213\n",
            "Epoch 47 Batch 700 Loss 1.8307 Accuracy 0.6213\n",
            "Epoch 47 Batch 750 Loss 1.8312 Accuracy 0.6212\n",
            "Epoch 47 Batch 800 Loss 1.8294 Accuracy 0.6216\n",
            "Epoch 47 Batch 850 Loss 1.8297 Accuracy 0.6216\n",
            "Epoch 47 Batch 900 Loss 1.8294 Accuracy 0.6216\n",
            "Epoch 47 Batch 950 Loss 1.8304 Accuracy 0.6215\n",
            "Epoch 47 Batch 1000 Loss 1.8319 Accuracy 0.6212\n",
            "Epoch 47 Batch 1050 Loss 1.8328 Accuracy 0.6210\n",
            "Epoch 47 Batch 1100 Loss 1.8342 Accuracy 0.6207\n",
            "Epoch 47 Batch 1150 Loss 1.8346 Accuracy 0.6206\n",
            "Epoch 47 Batch 1200 Loss 1.8336 Accuracy 0.6208\n",
            "Epoch 47 Batch 1250 Loss 1.8340 Accuracy 0.6207\n",
            "Epoch 47 Batch 1300 Loss 1.8342 Accuracy 0.6207\n",
            "Epoch 47 Batch 1350 Loss 1.8347 Accuracy 0.6206\n",
            "Epoch 47 Batch 1400 Loss 1.8353 Accuracy 0.6205\n",
            "Epoch 47 Batch 1450 Loss 1.8363 Accuracy 0.6204\n",
            "Epoch 47 Batch 1500 Loss 1.8372 Accuracy 0.6203\n",
            "Epoch 47 Batch 1550 Loss 1.8374 Accuracy 0.6202\n",
            "Epoch 47 Loss 1.8375 Accuracy 0.6201\n",
            "Time taken for 1 epoch: 224.70 secs\n",
            "\n",
            "Epoch 48 Batch 0 Loss 1.8425 Accuracy 0.6216\n",
            "Epoch 48 Batch 50 Loss 1.8138 Accuracy 0.6218\n",
            "Epoch 48 Batch 100 Loss 1.8132 Accuracy 0.6231\n",
            "Epoch 48 Batch 150 Loss 1.8113 Accuracy 0.6237\n",
            "Epoch 48 Batch 200 Loss 1.8140 Accuracy 0.6237\n",
            "Epoch 48 Batch 250 Loss 1.8138 Accuracy 0.6237\n",
            "Epoch 48 Batch 300 Loss 1.8178 Accuracy 0.6231\n",
            "Epoch 48 Batch 350 Loss 1.8190 Accuracy 0.6230\n",
            "Epoch 48 Batch 400 Loss 1.8187 Accuracy 0.6231\n",
            "Epoch 48 Batch 450 Loss 1.8226 Accuracy 0.6227\n",
            "Epoch 48 Batch 500 Loss 1.8201 Accuracy 0.6233\n",
            "Epoch 48 Batch 550 Loss 1.8222 Accuracy 0.6228\n",
            "Epoch 48 Batch 600 Loss 1.8245 Accuracy 0.6223\n",
            "Epoch 48 Batch 650 Loss 1.8240 Accuracy 0.6225\n",
            "Epoch 48 Batch 700 Loss 1.8264 Accuracy 0.6220\n",
            "Epoch 48 Batch 750 Loss 1.8257 Accuracy 0.6220\n",
            "Epoch 48 Batch 800 Loss 1.8255 Accuracy 0.6221\n",
            "Epoch 48 Batch 850 Loss 1.8277 Accuracy 0.6216\n",
            "Epoch 48 Batch 900 Loss 1.8285 Accuracy 0.6215\n",
            "Epoch 48 Batch 950 Loss 1.8283 Accuracy 0.6216\n",
            "Epoch 48 Batch 1000 Loss 1.8290 Accuracy 0.6214\n",
            "Epoch 48 Batch 1050 Loss 1.8296 Accuracy 0.6213\n",
            "Epoch 48 Batch 1100 Loss 1.8307 Accuracy 0.6211\n",
            "Epoch 48 Batch 1150 Loss 1.8312 Accuracy 0.6210\n",
            "Epoch 48 Batch 1200 Loss 1.8312 Accuracy 0.6209\n",
            "Epoch 48 Batch 1250 Loss 1.8318 Accuracy 0.6208\n",
            "Epoch 48 Batch 1300 Loss 1.8314 Accuracy 0.6209\n",
            "Epoch 48 Batch 1350 Loss 1.8315 Accuracy 0.6209\n",
            "Epoch 48 Batch 1400 Loss 1.8321 Accuracy 0.6207\n",
            "Epoch 48 Batch 1450 Loss 1.8317 Accuracy 0.6208\n",
            "Epoch 48 Batch 1500 Loss 1.8318 Accuracy 0.6208\n",
            "Epoch 48 Batch 1550 Loss 1.8324 Accuracy 0.6208\n",
            "Epoch 48 Loss 1.8325 Accuracy 0.6207\n",
            "Time taken for 1 epoch: 224.20 secs\n",
            "\n",
            "Epoch 49 Batch 0 Loss 1.7678 Accuracy 0.6382\n",
            "Epoch 49 Batch 50 Loss 1.7999 Accuracy 0.6262\n",
            "Epoch 49 Batch 100 Loss 1.8054 Accuracy 0.6259\n",
            "Epoch 49 Batch 150 Loss 1.8085 Accuracy 0.6253\n",
            "Epoch 49 Batch 200 Loss 1.8070 Accuracy 0.6252\n",
            "Epoch 49 Batch 250 Loss 1.8107 Accuracy 0.6250\n",
            "Epoch 49 Batch 300 Loss 1.8122 Accuracy 0.6244\n",
            "Epoch 49 Batch 350 Loss 1.8108 Accuracy 0.6247\n",
            "Epoch 49 Batch 400 Loss 1.8167 Accuracy 0.6238\n",
            "Epoch 49 Batch 450 Loss 1.8187 Accuracy 0.6236\n",
            "Epoch 49 Batch 500 Loss 1.8203 Accuracy 0.6232\n",
            "Epoch 49 Batch 550 Loss 1.8194 Accuracy 0.6234\n",
            "Epoch 49 Batch 600 Loss 1.8199 Accuracy 0.6233\n",
            "Epoch 49 Batch 650 Loss 1.8197 Accuracy 0.6233\n",
            "Epoch 49 Batch 700 Loss 1.8206 Accuracy 0.6232\n",
            "Epoch 49 Batch 750 Loss 1.8203 Accuracy 0.6232\n",
            "Epoch 49 Batch 800 Loss 1.8224 Accuracy 0.6228\n",
            "Epoch 49 Batch 850 Loss 1.8233 Accuracy 0.6226\n",
            "Epoch 49 Batch 900 Loss 1.8233 Accuracy 0.6226\n",
            "Epoch 49 Batch 950 Loss 1.8236 Accuracy 0.6226\n",
            "Epoch 49 Batch 1000 Loss 1.8228 Accuracy 0.6227\n",
            "Epoch 49 Batch 1050 Loss 1.8234 Accuracy 0.6226\n",
            "Epoch 49 Batch 1100 Loss 1.8240 Accuracy 0.6224\n",
            "Epoch 49 Batch 1150 Loss 1.8238 Accuracy 0.6224\n",
            "Epoch 49 Batch 1200 Loss 1.8241 Accuracy 0.6224\n",
            "Epoch 49 Batch 1250 Loss 1.8246 Accuracy 0.6223\n",
            "Epoch 49 Batch 1300 Loss 1.8251 Accuracy 0.6223\n",
            "Epoch 49 Batch 1350 Loss 1.8253 Accuracy 0.6223\n",
            "Epoch 49 Batch 1400 Loss 1.8264 Accuracy 0.6220\n",
            "Epoch 49 Batch 1450 Loss 1.8263 Accuracy 0.6221\n",
            "Epoch 49 Batch 1500 Loss 1.8262 Accuracy 0.6220\n",
            "Epoch 49 Batch 1550 Loss 1.8271 Accuracy 0.6219\n",
            "Epoch 49 Loss 1.8275 Accuracy 0.6218\n",
            "Time taken for 1 epoch: 224.54 secs\n",
            "\n",
            "Epoch 50 Batch 0 Loss 1.8060 Accuracy 0.6208\n",
            "Epoch 50 Batch 50 Loss 1.8047 Accuracy 0.6257\n",
            "Epoch 50 Batch 100 Loss 1.8086 Accuracy 0.6246\n",
            "Epoch 50 Batch 150 Loss 1.8151 Accuracy 0.6236\n",
            "Epoch 50 Batch 200 Loss 1.8156 Accuracy 0.6235\n",
            "Epoch 50 Batch 250 Loss 1.8119 Accuracy 0.6244\n",
            "Epoch 50 Batch 300 Loss 1.8143 Accuracy 0.6239\n",
            "Epoch 50 Batch 350 Loss 1.8121 Accuracy 0.6243\n",
            "Epoch 50 Batch 400 Loss 1.8145 Accuracy 0.6239\n",
            "Epoch 50 Batch 450 Loss 1.8139 Accuracy 0.6239\n",
            "Epoch 50 Batch 500 Loss 1.8135 Accuracy 0.6238\n",
            "Epoch 50 Batch 550 Loss 1.8111 Accuracy 0.6243\n",
            "Epoch 50 Batch 600 Loss 1.8110 Accuracy 0.6243\n",
            "Epoch 50 Batch 650 Loss 1.8092 Accuracy 0.6246\n",
            "Epoch 50 Batch 700 Loss 1.8104 Accuracy 0.6244\n",
            "Epoch 50 Batch 750 Loss 1.8121 Accuracy 0.6242\n",
            "Epoch 50 Batch 800 Loss 1.8128 Accuracy 0.6241\n",
            "Epoch 50 Batch 850 Loss 1.8131 Accuracy 0.6240\n",
            "Epoch 50 Batch 900 Loss 1.8132 Accuracy 0.6240\n",
            "Epoch 50 Batch 950 Loss 1.8148 Accuracy 0.6238\n",
            "Epoch 50 Batch 1000 Loss 1.8160 Accuracy 0.6236\n",
            "Epoch 50 Batch 1050 Loss 1.8166 Accuracy 0.6234\n",
            "Epoch 50 Batch 1100 Loss 1.8166 Accuracy 0.6235\n",
            "Epoch 50 Batch 1150 Loss 1.8162 Accuracy 0.6236\n",
            "Epoch 50 Batch 1200 Loss 1.8167 Accuracy 0.6236\n",
            "Epoch 50 Batch 1250 Loss 1.8173 Accuracy 0.6235\n",
            "Epoch 50 Batch 1300 Loss 1.8179 Accuracy 0.6234\n",
            "Epoch 50 Batch 1350 Loss 1.8191 Accuracy 0.6232\n",
            "Epoch 50 Batch 1400 Loss 1.8210 Accuracy 0.6229\n",
            "Epoch 50 Batch 1450 Loss 1.8217 Accuracy 0.6227\n",
            "Epoch 50 Batch 1500 Loss 1.8226 Accuracy 0.6226\n",
            "Epoch 50 Batch 1550 Loss 1.8231 Accuracy 0.6225\n",
            "Saving checkpoint for epoch 50 at /content/drive/MyDrive/MT/checkpoints/train/ckpt-10\n",
            "Epoch 50 Loss 1.8233 Accuracy 0.6225\n",
            "Time taken for 1 epoch: 226.98 secs\n",
            "\n"
          ],
          "name": "stdout"
        }
      ]
    },
    {
      "cell_type": "markdown",
      "metadata": {
        "id": "QfcsSWswSdGV"
      },
      "source": [
        "## Evaluate"
      ]
    },
    {
      "cell_type": "markdown",
      "metadata": {
        "id": "y6APsFrgImLW"
      },
      "source": [
        "The following steps are used for evaluation:\n",
        "\n",
        "* Encode the input sentence using the Portuguese tokenizer (`tokenizers.pt`). This is the encoder input.\n",
        "* The decoder input is initialized to the `[START]` token.\n",
        "* Calculate the padding masks and the look ahead masks.\n",
        "* The `decoder` then outputs the predictions by looking at the `encoder output` and its own output (self-attention).\n",
        "* The model makes predictions of the next word for each word in the output. Most of these are redundant. Use the predictions from the last word.\n",
        "* Concatenate the predicted word to the decoder input and pass it to the decoder.\n",
        "* In this approach, the decoder predicts the next word based on the previous words it predicted.\n",
        "\n",
        "Note: The model used here has less capacity to keep the example relatively faster so the predictions maybe less right. To reproduce the results in the paper, use the entire dataset and base transformer model or transformer XL, by changing the hyperparameters above."
      ]
    },
    {
      "cell_type": "code",
      "metadata": {
        "id": "5buvMlnvyrFm"
      },
      "source": [
        "def evaluate(sentence, max_length=40):\n",
        "  # inp sentence is portuguese, hence adding the start and end token\n",
        "  sentence = tf.convert_to_tensor([sentence])\n",
        "  sentence = tokenizers.de.tokenize(sentence).to_tensor()\n",
        "\n",
        "  encoder_input = sentence\n",
        "\n",
        "  # as the target is english, the first word to the transformer should be the\n",
        "  # english start token.\n",
        "  start, end = tokenizers.en.tokenize([''])[0]\n",
        "  output = tf.convert_to_tensor([start])\n",
        "  output = tf.expand_dims(output, 0)\n",
        "\n",
        "  for i in range(max_length):\n",
        "    enc_padding_mask, combined_mask, dec_padding_mask = create_masks(\n",
        "        encoder_input, output)\n",
        "\n",
        "    # predictions.shape == (batch_size, seq_len, vocab_size)\n",
        "    predictions, attention_weights = transformer(encoder_input,\n",
        "                                                 output,\n",
        "                                                 False,\n",
        "                                                 enc_padding_mask,\n",
        "                                                 combined_mask,\n",
        "                                                 dec_padding_mask)\n",
        "\n",
        "    # select the last word from the seq_len dimension\n",
        "    predictions = predictions[:, -1:, :]  # (batch_size, 1, vocab_size)\n",
        "\n",
        "    predicted_id = tf.argmax(predictions, axis=-1)\n",
        "\n",
        "    # concatentate the predicted_id to the output which is given to the decoder\n",
        "    # as its input.\n",
        "    output = tf.concat([output, predicted_id], axis=-1)\n",
        "\n",
        "    # return the result if the predicted_id is equal to the end token\n",
        "    if predicted_id == end:\n",
        "      break\n",
        "\n",
        "  # output.shape (1, tokens)\n",
        "  text = tokenizers.en.detokenize(output)[0]  # shape: ()\n",
        "\n",
        "  tokens = tokenizers.en.lookup(output)[0]\n",
        "\n",
        "  return text, tokens, attention_weights"
      ],
      "execution_count": 58,
      "outputs": []
    },
    {
      "cell_type": "code",
      "metadata": {
        "id": "lU2_yG_vBGza"
      },
      "source": [
        "def print_translation(sentence, tokens, ground_truth):\n",
        "  print(f'{\"Input:\":15s}: {sentence}')\n",
        "  print(f'{\"Prediction\":15s}: {tokens.numpy().decode(\"utf-8\")}')\n",
        "  print(f'{\"Ground truth\":15s}: {ground_truth}')"
      ],
      "execution_count": 59,
      "outputs": []
    },
    {
      "cell_type": "code",
      "metadata": {
        "id": "YsxrAlvFG8SZ",
        "colab": {
          "base_uri": "https://localhost:8080/"
        },
        "outputId": "71d322de-d1bf-4c79-a8d5-99c2fa2516c8"
      },
      "source": [
        "#sentence = \"Dies ist ein Problem, das wir lösen müssen.\"\n",
        "#ground_truth = \"this is a problem we have to solve .\"\n",
        "ground_truth = \"Dies ist ein Problem, das wir lösen müssen.\"\n",
        "sentence = \"this is a problem we have to solve .\"\n",
        "\n",
        "translated_text, translated_tokens, attention_weights = evaluate(sentence)\n",
        "print_translation(sentence, translated_text, ground_truth)"
      ],
      "execution_count": 60,
      "outputs": [
        {
          "output_type": "stream",
          "text": [
            "Input:         : this is a problem we have to solve .\n",
            "Prediction     : dies ist ein problem , das wir losen mussen .\n",
            "Ground truth   : Dies ist ein Problem, das wir lösen müssen.\n"
          ],
          "name": "stdout"
        }
      ]
    },
    {
      "cell_type": "code",
      "metadata": {
        "id": "7EH5y_aqI4t1",
        "colab": {
          "base_uri": "https://localhost:8080/"
        },
        "outputId": "aa194774-7f32-40a6-fed1-700931562862"
      },
      "source": [
        "#sentence = \"und meine Nachbarhäuser hörten von dieser Idee.\"\n",
        "#ground_truth = \"and my neighboring homes heard about this idea .\"\n",
        "ground_truth = \"und meine Nachbarhäuser hörten von dieser Idee.\"\n",
        "sentence = \"and my neighboring homes heard about this idea .\"\n",
        "\n",
        "translated_text, translated_tokens, attention_weights = evaluate(sentence)\n",
        "print_translation(sentence, translated_text, ground_truth)"
      ],
      "execution_count": 61,
      "outputs": [
        {
          "output_type": "stream",
          "text": [
            "Input:         : and my neighboring homes heard about this idea .\n",
            "Prediction     : und meine nachbarn heiraten horten von dieser idee .\n",
            "Ground truth   : und meine Nachbarhäuser hörten von dieser Idee.\n"
          ],
          "name": "stdout"
        }
      ]
    },
    {
      "cell_type": "code",
      "metadata": {
        "id": "J-hVCTSUMlkb",
        "colab": {
          "base_uri": "https://localhost:8080/"
        },
        "outputId": "3e7345ff-6fd2-4d7c-f41c-90a2d0c5c4f9"
      },
      "source": [
        "#sentence = \"Deshalb werde ich Ihnen sehr schnell einige Geschichten über einige magische Dinge erzählen, die passiert sind.\"\n",
        "#ground_truth = \"so i \\'ll just share with you some stories very quickly of some magical things that have happened .\"\n",
        "ground_truth = \"Deshalb werde ich Ihnen sehr schnell einige Geschichten über einige magische Dinge erzählen, die passiert sind.\"\n",
        "sentence = \"so i'll just share with you some stories very quickly of some magical things that have happened .\"\n",
        "\n",
        "translated_text, translated_tokens, attention_weights = evaluate(sentence)\n",
        "print_translation(sentence, translated_text, ground_truth)"
      ],
      "execution_count": 62,
      "outputs": [
        {
          "output_type": "stream",
          "text": [
            "Input:         : so i'll just share with you some stories very quickly of some magical things that have happened .\n",
            "Prediction     : also werde ich nur mit ihnen eine geschichte sehr schnell von einigen magischen dingen , die passiert haben .\n",
            "Ground truth   : Deshalb werde ich Ihnen sehr schnell einige Geschichten über einige magische Dinge erzählen, die passiert sind.\n"
          ],
          "name": "stdout"
        }
      ]
    },
    {
      "cell_type": "markdown",
      "metadata": {
        "id": "_1MxkSZvz0jX"
      },
      "source": [
        "You can pass different layers and attention blocks of the decoder to the `plot` parameter."
      ]
    },
    {
      "cell_type": "markdown",
      "metadata": {
        "id": "S3EQiFUC--Ds"
      },
      "source": [
        "## Attention plots"
      ]
    },
    {
      "cell_type": "markdown",
      "metadata": {
        "id": "hHV2pdXHGz-0"
      },
      "source": [
        "The `evaluate` function also returns a dictionary of attention maps you can use to visualize the internal working of the model:"
      ]
    },
    {
      "cell_type": "code",
      "metadata": {
        "id": "t-kFyiOLH0xg",
        "colab": {
          "base_uri": "https://localhost:8080/"
        },
        "outputId": "f566bbc3-a707-4a52-b5b4-4949c721056f"
      },
      "source": [
        "#sentence = \"Dies ist das erste Buch, das ich jemals gemacht habe.\"\n",
        "#ground_truth = \"this is the first book i've ever done.\"\n",
        "ground_truth = \"Dies ist das erste Buch, das ich jemals gemacht habe.\"\n",
        "sentence = \"this is the first book i've ever done.\"\n",
        "\n",
        "translated_text, translated_tokens, attention_weights = evaluate(sentence)\n",
        "print_translation(sentence, translated_text, ground_truth)"
      ],
      "execution_count": 63,
      "outputs": [
        {
          "output_type": "stream",
          "text": [
            "Input:         : this is the first book i've ever done.\n",
            "Prediction     : dies ist das erste buch , das ich je gemacht habe .\n",
            "Ground truth   : Dies ist das erste Buch, das ich jemals gemacht habe.\n"
          ],
          "name": "stdout"
        }
      ]
    },
    {
      "cell_type": "code",
      "metadata": {
        "id": "CcI4DxAK5EHY"
      },
      "source": [
        "def plot_attention_head(in_tokens, translated_tokens, attention):\n",
        "  # The plot is of the attention when a token was generated.\n",
        "  # The model didn't generate `<START>` in the output. Skip it.\n",
        "  translated_tokens = translated_tokens[1:]\n",
        "\n",
        "  ax = plt.gca()\n",
        "  ax.matshow(attention)\n",
        "  ax.set_xticks(range(len(in_tokens)))\n",
        "  ax.set_yticks(range(len(translated_tokens)))\n",
        "\n",
        "  labels = [label.decode('utf-8') for label in in_tokens.numpy()]\n",
        "  ax.set_xticklabels(\n",
        "      labels, rotation=90)\n",
        "\n",
        "  labels = [label.decode('utf-8') for label in translated_tokens.numpy()]\n",
        "  ax.set_yticklabels(labels)"
      ],
      "execution_count": 64,
      "outputs": []
    },
    {
      "cell_type": "code",
      "metadata": {
        "id": "_KY4c2cryuxY",
        "colab": {
          "base_uri": "https://localhost:8080/"
        },
        "outputId": "26d8f9fb-b799-4d4e-b6c2-0c7031c995a2"
      },
      "source": [
        "head = 0\n",
        "# shape: (batch=1, num_heads, seq_len_q, seq_len_k)\n",
        "attention_heads = tf.squeeze(\n",
        "  attention_weights['decoder_layer4_block2'], 0)\n",
        "attention = attention_heads[head]\n",
        "attention.shape"
      ],
      "execution_count": 65,
      "outputs": [
        {
          "output_type": "execute_result",
          "data": {
            "text/plain": [
              "TensorShape([13, 13])"
            ]
          },
          "metadata": {
            "tags": []
          },
          "execution_count": 65
        }
      ]
    },
    {
      "cell_type": "code",
      "metadata": {
        "id": "XdxmakWE6Om3",
        "colab": {
          "base_uri": "https://localhost:8080/"
        },
        "outputId": "d51e1717-7ccb-45fd-a0bb-5e71ecdf0b6e"
      },
      "source": [
        "in_tokens = tf.convert_to_tensor([sentence])\n",
        "in_tokens = tokenizers.de.tokenize(in_tokens).to_tensor()\n",
        "in_tokens = tokenizers.de.lookup(in_tokens)[0]\n",
        "in_tokens"
      ],
      "execution_count": 66,
      "outputs": [
        {
          "output_type": "execute_result",
          "data": {
            "text/plain": [
              "<tf.Tensor: shape=(13,), dtype=string, numpy=\n",
              "array([b'[START]', b'this', b'is', b'the', b'first', b'book', b'i', b\"'\",\n",
              "       b've', b'ever', b'done', b'.', b'[END]'], dtype=object)>"
            ]
          },
          "metadata": {
            "tags": []
          },
          "execution_count": 66
        }
      ]
    },
    {
      "cell_type": "code",
      "metadata": {
        "id": "hVdPSfecmrpj",
        "colab": {
          "base_uri": "https://localhost:8080/"
        },
        "outputId": "ae0eab3b-c186-44bc-84ac-853e9fef030b"
      },
      "source": [
        "translated_tokens"
      ],
      "execution_count": 67,
      "outputs": [
        {
          "output_type": "execute_result",
          "data": {
            "text/plain": [
              "<tf.Tensor: shape=(14,), dtype=string, numpy=\n",
              "array([b'[START]', b'dies', b'ist', b'das', b'erste', b'buch', b',',\n",
              "       b'das', b'ich', b'je', b'gemacht', b'habe', b'.', b'[END]'],\n",
              "      dtype=object)>"
            ]
          },
          "metadata": {
            "tags": []
          },
          "execution_count": 67
        }
      ]
    },
    {
      "cell_type": "code",
      "metadata": {
        "id": "XtzyKCFamm4N",
        "colab": {
          "base_uri": "https://localhost:8080/",
          "height": 297
        },
        "outputId": "f9ae9838-a513-4e64-a199-666bc3100ca6"
      },
      "source": [
        "plot_attention_head(in_tokens, translated_tokens, attention)"
      ],
      "execution_count": 68,
      "outputs": [
        {
          "output_type": "display_data",
          "data": {
            "image/png": "[encoded data removed]",
            "text/plain": [
              "<Figure size 432x288 with 1 Axes>"
            ]
          },
          "metadata": {
            "tags": [],
            "needs_background": "light"
          }
        }
      ]
    },
    {
      "cell_type": "code",
      "metadata": {
        "id": "MBliB-PCzNK3"
      },
      "source": [
        "def plot_attention_weights(sentence, translated_tokens, attention_heads):\n",
        "  in_tokens = tf.convert_to_tensor([sentence])\n",
        "  in_tokens = tokenizers.de.tokenize(in_tokens).to_tensor()\n",
        "  in_tokens = tokenizers.de.lookup(in_tokens)[0]\n",
        "  in_tokens\n",
        "\n",
        "  fig = plt.figure(figsize=(16, 8))\n",
        "\n",
        "  for h, head in enumerate(attention_heads):\n",
        "    ax = fig.add_subplot(2, 4, h+1)\n",
        "\n",
        "    plot_attention_head(in_tokens, translated_tokens, head)\n",
        "\n",
        "    ax.set_xlabel(f'Head {h+1}')\n",
        "\n",
        "  plt.tight_layout()\n",
        "  plt.show()"
      ],
      "execution_count": 69,
      "outputs": []
    },
    {
      "cell_type": "code",
      "metadata": {
        "id": "pyRQi7944wru",
        "colab": {
          "base_uri": "https://localhost:8080/",
          "height": 461
        },
        "outputId": "14df0e73-9a3e-4899-dddc-259208c855be"
      },
      "source": [
        "plot_attention_weights(sentence, translated_tokens,\n",
        "                       attention_weights['decoder_layer4_block2'][0])"
      ],
      "execution_count": 70,
      "outputs": [
        {
          "output_type": "display_data",
          "data": {
            "image/png": "[encoded data removed]",
            "text/plain": [
              "<Figure size 1152x576 with 8 Axes>"
            ]
          },
          "metadata": {
            "tags": [],
            "needs_background": "light"
          }
        }
      ]
    },
    {
      "cell_type": "markdown",
      "metadata": {
        "id": "MZJirKUtikTt"
      },
      "source": [
        "The model does okay on unfamiliar words. Neither \"triceratops\" or \"encyclopedia\" are in the input dataset and the model almost learns to transliterate them, even without a shared vocabulary:"
      ]
    },
    {
      "cell_type": "code",
      "metadata": {
        "id": "9cxysY7uh3jg",
        "colab": {
          "base_uri": "https://localhost:8080/",
          "height": 523
        },
        "outputId": "dad213dd-9e77-4899-bf71-8a5d153024a0"
      },
      "source": [
        "#sentence = \"Ich habe in der Enzyklopädie über Triceratops gelesen.\"\n",
        "#ground_truth = \"I read about triceratops in the encyclopedia.\"\n",
        "ground_truth = \"Ich habe in der Enzyklopädie über Triceratops gelesen.\"\n",
        "sentence = \"I read about triceratops in the encyclopedia.\"\n",
        "\n",
        "translated_text, translated_tokens, attention_weights = evaluate(sentence)\n",
        "print_translation(sentence, translated_text, ground_truth)\n",
        "\n",
        "plot_attention_weights(sentence, translated_tokens,\n",
        "                       attention_weights['decoder_layer4_block2'][0])"
      ],
      "execution_count": 71,
      "outputs": [
        {
          "output_type": "stream",
          "text": [
            "Input:         : I read about triceratops in the encyclopedia.\n",
            "Prediction     : ich lese uber tricarateos in der enzyclopedia .\n",
            "Ground truth   : Ich habe in der Enzyklopädie über Triceratops gelesen.\n"
          ],
          "name": "stdout"
        },
        {
          "output_type": "display_data",
          "data": {
            "image/png": "[encoded data removed]",
            "text/plain": [
              "<Figure size 1152x576 with 8 Axes>"
            ]
          },
          "metadata": {
            "tags": [],
            "needs_background": "light"
          }
        }
      ]
    },
    {
      "cell_type": "markdown",
      "metadata": {
        "id": "RqQ1fIsLwkGE"
      },
      "source": [
        "## Summary\n",
        "\n",
        "In this tutorial, you learned about positional encoding, multi-head attention, the importance of masking and how to create a transformer.\n",
        "\n",
        "Try using a different dataset to train the transformer. You can also create the base transformer or transformer XL by changing the hyperparameters above. You can also use the layers defined here to create [BERT](https://arxiv.org/abs/1810.04805) and train state of the art models. Furthermore, you can implement beam search to get better predictions."
      ]
    },
    {
      "cell_type": "code",
      "metadata": {
        "id": "PpEV2XLMHk-X",
        "colab": {
          "base_uri": "https://localhost:8080/"
        },
        "outputId": "7fb6ec0b-ea4a-403a-85fc-4aff360bb304"
      },
      "source": [
        "# evaluate the skill of the model\n",
        "from nltk.translate.bleu_score import corpus_bleu\n",
        "\n",
        "def evaluate_model():\n",
        "  actual, predicted = list(), list()\n",
        "  for i, source in enumerate(test_examplesDe):\n",
        "    eng, deu = source\n",
        "    #print('i=[%s], eng=[%s], deu=[%s]' % (i,eng,deu))\n",
        "    engStr = eng.numpy().decode('UTF-8') \n",
        "    #print(engStr)\n",
        "    translated_text, translated_tokens, attention_weights = evaluate(engStr)\n",
        "    predStr = translated_text.numpy().decode('UTF-8') \n",
        "    #print(predStr)\n",
        "    deuStr = deu.numpy().decode('UTF-8')\n",
        "    actual.append(deuStr)\n",
        "    predicted.append(predStr)\n",
        "    if (i % 500) == 0:\n",
        "      print('i=[%s], eng=[%s]' % (i,engStr))\n",
        "      print('i=[%s], deu=[%s]' % (i,deuStr))\n",
        "      print('i=[%s], pred=[%s]' % (i,predStr))\n",
        "      print('BLEU-1: %f' % corpus_bleu(actual, predicted, weights=(1.0, 0, 0, 0)))\n",
        "      print('BLEU-2: %f' % corpus_bleu(actual, predicted, weights=(0.5, 0.5, 0, 0)))\n",
        "      print('BLEU-3: %f' % corpus_bleu(actual, predicted, weights=(0.3, 0.3, 0.3, 0)))\n",
        "      print('BLEU-4: %f' % corpus_bleu(actual, predicted, weights=(0.25, 0.25, 0.25, 0.25)))\n",
        "  print(\"Final Scores\")\n",
        "  print('BLEU-1: %f' % corpus_bleu(actual, predicted, weights=(1.0, 0, 0, 0)))\n",
        "  print('BLEU-2: %f' % corpus_bleu(actual, predicted, weights=(0.5, 0.5, 0, 0)))\n",
        "  print('BLEU-3: %f' % corpus_bleu(actual, predicted, weights=(0.3, 0.3, 0.3, 0)))\n",
        "  print('BLEU-4: %f' % corpus_bleu(actual, predicted, weights=(0.25, 0.25, 0.25, 0.25)))\n",
        "  print('BLEU: %f' % corpus_bleu(actual, predicted))\n",
        "  \n",
        "evaluate_model()\n",
        "  \n",
        "  \n",
        "  \n",
        "  #actual, predicted = list(), list()\n",
        "\t#for i, source in enumerate(sources):\n",
        "\t\t# translate encoded source text\n",
        "\t#\tsource = source.reshape((1, source.shape[0]))\n",
        "\t#\ttranslation = predict_sequence(model, eng_tokenizer, source)\n",
        "\t#\traw_target, raw_src = raw_dataset[i]\n",
        "\t#\tif i < 10:\n",
        "\t#\t\tprint('src=[%s], target=[%s], predicted=[%s]' % (raw_src, raw_target, translation))\n",
        "\t#\tactual.append([raw_target.split()])\n",
        "\t#\tpredicted.append(translation.split())\n",
        "\t# calculate BLEU score\n",
        "\t#print('BLEU-1: %f' % corpus_bleu(actual, predicted, weights=(1.0, 0, 0, 0)))\n",
        "\t#print('BLEU-2: %f' % corpus_bleu(actual, predicted, weights=(0.5, 0.5, 0, 0)))\n",
        "\t#print('BLEU-3: %f' % corpus_bleu(actual, predicted, weights=(0.3, 0.3, 0.3, 0)))\n",
        "\t#print('BLEU-4: %f' % corpus_bleu(actual, predicted, weights=(0.25, 0.25, 0.25, 0.25)))\n",
        "\n",
        "\n"
      ],
      "execution_count": 74,
      "outputs": [
        {
          "output_type": "stream",
          "text": [
            "i=[0], eng=[Welcome gift for children up to six years with a T-shirt from \"Snow White and the 7 Dwarfs\"]\n",
            "i=[0], deu=[Willkommensgeschenk für Kinder bis sechs Jahre mit einem T-Shirt von \"Schneewittchen und den 7 Zwergen\"]\n",
            "i=[0], pred=[willkommen geschenk fur kinder bis sechs jahre mit einem t - shirt aus \" snow white und den 7 dwarfs \"]\n",
            "BLEU-1: 0.225490\n",
            "BLEU-2: 0.474858\n",
            "BLEU-3: 0.639644\n",
            "BLEU-4: 0.689099\n"
          ],
          "name": "stdout"
        },
        {
          "output_type": "stream",
          "text": [
            "/usr/local/lib/python3.7/dist-packages/nltk/translate/bleu_score.py:490: UserWarning: \n",
            "Corpus/Sentence contains 0 counts of 2-gram overlaps.\n",
            "BLEU scores might be undesirable; use SmoothingFunction().\n",
            "  warnings.warn(_msg)\n"
          ],
          "name": "stderr"
        },
        {
          "output_type": "stream",
          "text": [
            "i=[500], eng=[These statutory rights are not curtailed by the warranty.]\n",
            "i=[500], deu=[Diese gesetzlichen Rechte werden durch die Garantie nicht eingeschränkt.]\n",
            "i=[500], pred=[diese gesetzlichen rechte werden von der garantie nicht vorgeschrieben .]\n",
            "BLEU-1: 0.198463\n",
            "BLEU-2: 0.445492\n",
            "BLEU-3: 0.615608\n",
            "BLEU-4: 0.667452\n",
            "i=[1000], eng=[Request here your reservation for the holiday-home holiday home \"Allod Park C401\"]\n",
            "i=[1000], deu=[Stellen Sie hier Ihre Reservierungsanfrage für Ferienhaus \"Allod Park C401\"]\n",
            "i=[1000], pred=[stellen sie hier ihre reservierungsanfrage fur ferienhaus \" allod park c401 \"]\n",
            "BLEU-1: 0.197450\n",
            "BLEU-2: 0.444353\n",
            "BLEU-3: 0.614663\n",
            "BLEU-4: 0.666598\n",
            "i=[1500], eng=[Such encounters are very rare because the Lebanese blame the Palestinians for triggering their civil war, and the Palestinians have bitter memories of their own suffering during those days.]\n",
            "i=[1500], deu=[Solche Begegnungen seien sehr selten, da die Libanesen die Palästinenser beschuldigen, den Bürgerkrieg ausgelöst zu haben und weil die Palästinenser bittere Erinnerungen ihres eigenen Leidens aus dieser Zeit haben.]\n",
            "i=[1500], pred=[solche begegnungen sind sehr selten , weil die libanes die palastinenser fur die begierden ihres burgerkrieges begraben und die palastinenser haben]\n",
            "BLEU-1: 0.196227\n",
            "BLEU-2: 0.442975\n",
            "BLEU-3: 0.613518\n",
            "BLEU-4: 0.665563\n",
            "i=[2000], eng=[David Franco Martínez, Master of Engineering: “Use of Renewable Energy Resources”]\n",
            "i=[2000], deu=[M. en I. David Franco Martínez. “ Nutzung erneuerbarer Energieressourcen ”]\n",
            "i=[2000], pred=[david franco martinez , master of engineering : „ verwendung von erneuerbaren energiepotentialen “]\n",
            "BLEU-1: 0.196568\n",
            "BLEU-2: 0.443360\n",
            "BLEU-3: 0.613838\n",
            "BLEU-4: 0.665853\n",
            "i=[2500], eng=[There are 8 items in this gallery Exposured 15/07/2010 Item 8 from a total of 8]\n",
            "i=[2500], deu=[Es gibt 8 objekte in dieser Galerie Expuesto desde el 15/07/2010 Objekt 4 von insgesamt 8]\n",
            "i=[2500], pred=[es gibt 8 objekte in dieser galerie expuesto desde el 15 / 07 / 2010 objekt 8 von insgesamt 8]\n",
            "BLEU-1: 0.196194\n",
            "BLEU-2: 0.442938\n",
            "BLEU-3: 0.613488\n",
            "BLEU-4: 0.665536\n",
            "Final Scores\n",
            "BLEU-1: 0.196988\n",
            "BLEU-2: 0.443833\n",
            "BLEU-3: 0.614231\n",
            "BLEU-4: 0.666208\n",
            "BLEU: 0.666208\n"
          ],
          "name": "stdout"
        }
      ]
    }
  ]
}
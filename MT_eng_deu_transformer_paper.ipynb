{
  "nbformat": 4,
  "nbformat_minor": 0,
  "metadata": {
    "accelerator": "GPU",
    "colab": {
      "name": "MT.eng-deu.transformer.paper.ipynb",
      "provenance": [],
      "collapsed_sections": [],
      "toc_visible": true,
      "include_colab_link": true
    },
    "kernelspec": {
      "display_name": "Python 3",
      "name": "python3"
    },
    "widgets": {
      "application/vnd.jupyter.widget-state+json": {
        "a6c609cc2933449fad99eb3a4cb73a08": {
          "model_module": "@jupyter-widgets/controls",
          "model_name": "HBoxModel",
          "state": {
            "_view_name": "HBoxView",
            "_dom_classes": [],
            "_model_name": "HBoxModel",
            "_view_module": "@jupyter-widgets/controls",
            "_model_module_version": "1.5.0",
            "_view_count": null,
            "_view_module_version": "1.5.0",
            "box_style": "",
            "layout": "IPY_MODEL_cdb087a3143f4660a9ce9c95a2990591",
            "_model_module": "@jupyter-widgets/controls",
            "children": [
              "IPY_MODEL_2649d49f56614663b4253d6582e5d6cc",
              "IPY_MODEL_e8594ed3c35f457da20b75849a4c1a10"
            ]
          }
        },
        "cdb087a3143f4660a9ce9c95a2990591": {
          "model_module": "@jupyter-widgets/base",
          "model_name": "LayoutModel",
          "state": {
            "_view_name": "LayoutView",
            "grid_template_rows": null,
            "right": null,
            "justify_content": null,
            "_view_module": "@jupyter-widgets/base",
            "overflow": null,
            "_model_module_version": "1.2.0",
            "_view_count": null,
            "flex_flow": null,
            "width": null,
            "min_width": null,
            "border": null,
            "align_items": null,
            "bottom": null,
            "_model_module": "@jupyter-widgets/base",
            "top": null,
            "grid_column": null,
            "overflow_y": null,
            "overflow_x": null,
            "grid_auto_flow": null,
            "grid_area": null,
            "grid_template_columns": null,
            "flex": null,
            "_model_name": "LayoutModel",
            "justify_items": null,
            "grid_row": null,
            "max_height": null,
            "align_content": null,
            "visibility": null,
            "align_self": null,
            "height": null,
            "min_height": null,
            "padding": null,
            "grid_auto_rows": null,
            "grid_gap": null,
            "max_width": null,
            "order": null,
            "_view_module_version": "1.2.0",
            "grid_template_areas": null,
            "object_position": null,
            "object_fit": null,
            "grid_auto_columns": null,
            "margin": null,
            "display": null,
            "left": null
          }
        },
        "2649d49f56614663b4253d6582e5d6cc": {
          "model_module": "@jupyter-widgets/controls",
          "model_name": "FloatProgressModel",
          "state": {
            "_view_name": "ProgressView",
            "style": "IPY_MODEL_16e1ea8f28ae49a0bc00b6e1557ccc6f",
            "_dom_classes": [],
            "description": "Dl Completed...: 100%",
            "_model_name": "FloatProgressModel",
            "bar_style": "success",
            "max": 1,
            "_view_module": "@jupyter-widgets/controls",
            "_model_module_version": "1.5.0",
            "value": 1,
            "_view_count": null,
            "_view_module_version": "1.5.0",
            "orientation": "horizontal",
            "min": 0,
            "description_tooltip": null,
            "_model_module": "@jupyter-widgets/controls",
            "layout": "IPY_MODEL_7a106860f6144d7d911c9f1a5ea3eed4"
          }
        },
        "e8594ed3c35f457da20b75849a4c1a10": {
          "model_module": "@jupyter-widgets/controls",
          "model_name": "HTMLModel",
          "state": {
            "_view_name": "HTMLView",
            "style": "IPY_MODEL_541c1122df174c198af9dbf01f12c345",
            "_dom_classes": [],
            "description": "",
            "_model_name": "HTMLModel",
            "placeholder": "​",
            "_view_module": "@jupyter-widgets/controls",
            "_model_module_version": "1.5.0",
            "value": " 1/1 [01:19&lt;00:00, 79.60s/ url]",
            "_view_count": null,
            "_view_module_version": "1.5.0",
            "description_tooltip": null,
            "_model_module": "@jupyter-widgets/controls",
            "layout": "IPY_MODEL_8499917315304a4bb9291df4f4c7b96f"
          }
        },
        "16e1ea8f28ae49a0bc00b6e1557ccc6f": {
          "model_module": "@jupyter-widgets/controls",
          "model_name": "ProgressStyleModel",
          "state": {
            "_view_name": "StyleView",
            "_model_name": "ProgressStyleModel",
            "description_width": "initial",
            "_view_module": "@jupyter-widgets/base",
            "_model_module_version": "1.5.0",
            "_view_count": null,
            "_view_module_version": "1.2.0",
            "bar_color": null,
            "_model_module": "@jupyter-widgets/controls"
          }
        },
        "7a106860f6144d7d911c9f1a5ea3eed4": {
          "model_module": "@jupyter-widgets/base",
          "model_name": "LayoutModel",
          "state": {
            "_view_name": "LayoutView",
            "grid_template_rows": null,
            "right": null,
            "justify_content": null,
            "_view_module": "@jupyter-widgets/base",
            "overflow": null,
            "_model_module_version": "1.2.0",
            "_view_count": null,
            "flex_flow": null,
            "width": null,
            "min_width": null,
            "border": null,
            "align_items": null,
            "bottom": null,
            "_model_module": "@jupyter-widgets/base",
            "top": null,
            "grid_column": null,
            "overflow_y": null,
            "overflow_x": null,
            "grid_auto_flow": null,
            "grid_area": null,
            "grid_template_columns": null,
            "flex": null,
            "_model_name": "LayoutModel",
            "justify_items": null,
            "grid_row": null,
            "max_height": null,
            "align_content": null,
            "visibility": null,
            "align_self": null,
            "height": null,
            "min_height": null,
            "padding": null,
            "grid_auto_rows": null,
            "grid_gap": null,
            "max_width": null,
            "order": null,
            "_view_module_version": "1.2.0",
            "grid_template_areas": null,
            "object_position": null,
            "object_fit": null,
            "grid_auto_columns": null,
            "margin": null,
            "display": null,
            "left": null
          }
        },
        "541c1122df174c198af9dbf01f12c345": {
          "model_module": "@jupyter-widgets/controls",
          "model_name": "DescriptionStyleModel",
          "state": {
            "_view_name": "StyleView",
            "_model_name": "DescriptionStyleModel",
            "description_width": "",
            "_view_module": "@jupyter-widgets/base",
            "_model_module_version": "1.5.0",
            "_view_count": null,
            "_view_module_version": "1.2.0",
            "_model_module": "@jupyter-widgets/controls"
          }
        },
        "8499917315304a4bb9291df4f4c7b96f": {
          "model_module": "@jupyter-widgets/base",
          "model_name": "LayoutModel",
          "state": {
            "_view_name": "LayoutView",
            "grid_template_rows": null,
            "right": null,
            "justify_content": null,
            "_view_module": "@jupyter-widgets/base",
            "overflow": null,
            "_model_module_version": "1.2.0",
            "_view_count": null,
            "flex_flow": null,
            "width": null,
            "min_width": null,
            "border": null,
            "align_items": null,
            "bottom": null,
            "_model_module": "@jupyter-widgets/base",
            "top": null,
            "grid_column": null,
            "overflow_y": null,
            "overflow_x": null,
            "grid_auto_flow": null,
            "grid_area": null,
            "grid_template_columns": null,
            "flex": null,
            "_model_name": "LayoutModel",
            "justify_items": null,
            "grid_row": null,
            "max_height": null,
            "align_content": null,
            "visibility": null,
            "align_self": null,
            "height": null,
            "min_height": null,
            "padding": null,
            "grid_auto_rows": null,
            "grid_gap": null,
            "max_width": null,
            "order": null,
            "_view_module_version": "1.2.0",
            "grid_template_areas": null,
            "object_position": null,
            "object_fit": null,
            "grid_auto_columns": null,
            "margin": null,
            "display": null,
            "left": null
          }
        },
        "4f86476237504de88298be8c1ce91644": {
          "model_module": "@jupyter-widgets/controls",
          "model_name": "HBoxModel",
          "state": {
            "_view_name": "HBoxView",
            "_dom_classes": [],
            "_model_name": "HBoxModel",
            "_view_module": "@jupyter-widgets/controls",
            "_model_module_version": "1.5.0",
            "_view_count": null,
            "_view_module_version": "1.5.0",
            "box_style": "",
            "layout": "IPY_MODEL_56855c428e4d4c3d86c502328a42cad5",
            "_model_module": "@jupyter-widgets/controls",
            "children": [
              "IPY_MODEL_ea03e48255ed4d6aac013a20e99e95ed",
              "IPY_MODEL_7508fb925bc0400680909ebf8981a3cc"
            ]
          }
        },
        "56855c428e4d4c3d86c502328a42cad5": {
          "model_module": "@jupyter-widgets/base",
          "model_name": "LayoutModel",
          "state": {
            "_view_name": "LayoutView",
            "grid_template_rows": null,
            "right": null,
            "justify_content": null,
            "_view_module": "@jupyter-widgets/base",
            "overflow": null,
            "_model_module_version": "1.2.0",
            "_view_count": null,
            "flex_flow": null,
            "width": null,
            "min_width": null,
            "border": null,
            "align_items": null,
            "bottom": null,
            "_model_module": "@jupyter-widgets/base",
            "top": null,
            "grid_column": null,
            "overflow_y": null,
            "overflow_x": null,
            "grid_auto_flow": null,
            "grid_area": null,
            "grid_template_columns": null,
            "flex": null,
            "_model_name": "LayoutModel",
            "justify_items": null,
            "grid_row": null,
            "max_height": null,
            "align_content": null,
            "visibility": null,
            "align_self": null,
            "height": null,
            "min_height": null,
            "padding": null,
            "grid_auto_rows": null,
            "grid_gap": null,
            "max_width": null,
            "order": null,
            "_view_module_version": "1.2.0",
            "grid_template_areas": null,
            "object_position": null,
            "object_fit": null,
            "grid_auto_columns": null,
            "margin": null,
            "display": null,
            "left": null
          }
        },
        "ea03e48255ed4d6aac013a20e99e95ed": {
          "model_module": "@jupyter-widgets/controls",
          "model_name": "FloatProgressModel",
          "state": {
            "_view_name": "ProgressView",
            "style": "IPY_MODEL_0a390332d89f4f28a60f3a708b3cf8ba",
            "_dom_classes": [],
            "description": "Dl Size...: 100%",
            "_model_name": "FloatProgressModel",
            "bar_style": "success",
            "max": 1,
            "_view_module": "@jupyter-widgets/controls",
            "_model_module_version": "1.5.0",
            "value": 1,
            "_view_count": null,
            "_view_module_version": "1.5.0",
            "orientation": "horizontal",
            "min": 0,
            "description_tooltip": null,
            "_model_module": "@jupyter-widgets/controls",
            "layout": "IPY_MODEL_5d6890f1b12a4c79839eec1c90c1f75c"
          }
        },
        "7508fb925bc0400680909ebf8981a3cc": {
          "model_module": "@jupyter-widgets/controls",
          "model_name": "HTMLModel",
          "state": {
            "_view_name": "HTMLView",
            "style": "IPY_MODEL_f59cde8b7a9a4effb37c02268451c79e",
            "_dom_classes": [],
            "description": "",
            "_model_name": "HTMLModel",
            "placeholder": "​",
            "_view_module": "@jupyter-widgets/controls",
            "_model_module_version": "1.5.0",
            "value": " 1247/1247 [01:19&lt;00:00, 15.68 MiB/s]",
            "_view_count": null,
            "_view_module_version": "1.5.0",
            "description_tooltip": null,
            "_model_module": "@jupyter-widgets/controls",
            "layout": "IPY_MODEL_ca0e2a1f6e264bcfb7fdda6bf9892945"
          }
        },
        "0a390332d89f4f28a60f3a708b3cf8ba": {
          "model_module": "@jupyter-widgets/controls",
          "model_name": "ProgressStyleModel",
          "state": {
            "_view_name": "StyleView",
            "_model_name": "ProgressStyleModel",
            "description_width": "initial",
            "_view_module": "@jupyter-widgets/base",
            "_model_module_version": "1.5.0",
            "_view_count": null,
            "_view_module_version": "1.2.0",
            "bar_color": null,
            "_model_module": "@jupyter-widgets/controls"
          }
        },
        "5d6890f1b12a4c79839eec1c90c1f75c": {
          "model_module": "@jupyter-widgets/base",
          "model_name": "LayoutModel",
          "state": {
            "_view_name": "LayoutView",
            "grid_template_rows": null,
            "right": null,
            "justify_content": null,
            "_view_module": "@jupyter-widgets/base",
            "overflow": null,
            "_model_module_version": "1.2.0",
            "_view_count": null,
            "flex_flow": null,
            "width": null,
            "min_width": null,
            "border": null,
            "align_items": null,
            "bottom": null,
            "_model_module": "@jupyter-widgets/base",
            "top": null,
            "grid_column": null,
            "overflow_y": null,
            "overflow_x": null,
            "grid_auto_flow": null,
            "grid_area": null,
            "grid_template_columns": null,
            "flex": null,
            "_model_name": "LayoutModel",
            "justify_items": null,
            "grid_row": null,
            "max_height": null,
            "align_content": null,
            "visibility": null,
            "align_self": null,
            "height": null,
            "min_height": null,
            "padding": null,
            "grid_auto_rows": null,
            "grid_gap": null,
            "max_width": null,
            "order": null,
            "_view_module_version": "1.2.0",
            "grid_template_areas": null,
            "object_position": null,
            "object_fit": null,
            "grid_auto_columns": null,
            "margin": null,
            "display": null,
            "left": null
          }
        },
        "f59cde8b7a9a4effb37c02268451c79e": {
          "model_module": "@jupyter-widgets/controls",
          "model_name": "DescriptionStyleModel",
          "state": {
            "_view_name": "StyleView",
            "_model_name": "DescriptionStyleModel",
            "description_width": "",
            "_view_module": "@jupyter-widgets/base",
            "_model_module_version": "1.5.0",
            "_view_count": null,
            "_view_module_version": "1.2.0",
            "_model_module": "@jupyter-widgets/controls"
          }
        },
        "ca0e2a1f6e264bcfb7fdda6bf9892945": {
          "model_module": "@jupyter-widgets/base",
          "model_name": "LayoutModel",
          "state": {
            "_view_name": "LayoutView",
            "grid_template_rows": null,
            "right": null,
            "justify_content": null,
            "_view_module": "@jupyter-widgets/base",
            "overflow": null,
            "_model_module_version": "1.2.0",
            "_view_count": null,
            "flex_flow": null,
            "width": null,
            "min_width": null,
            "border": null,
            "align_items": null,
            "bottom": null,
            "_model_module": "@jupyter-widgets/base",
            "top": null,
            "grid_column": null,
            "overflow_y": null,
            "overflow_x": null,
            "grid_auto_flow": null,
            "grid_area": null,
            "grid_template_columns": null,
            "flex": null,
            "_model_name": "LayoutModel",
            "justify_items": null,
            "grid_row": null,
            "max_height": null,
            "align_content": null,
            "visibility": null,
            "align_self": null,
            "height": null,
            "min_height": null,
            "padding": null,
            "grid_auto_rows": null,
            "grid_gap": null,
            "max_width": null,
            "order": null,
            "_view_module_version": "1.2.0",
            "grid_template_areas": null,
            "object_position": null,
            "object_fit": null,
            "grid_auto_columns": null,
            "margin": null,
            "display": null,
            "left": null
          }
        },
        "3e978370a83044f1967458e419fd6a95": {
          "model_module": "@jupyter-widgets/controls",
          "model_name": "HBoxModel",
          "state": {
            "_view_name": "HBoxView",
            "_dom_classes": [],
            "_model_name": "HBoxModel",
            "_view_module": "@jupyter-widgets/controls",
            "_model_module_version": "1.5.0",
            "_view_count": null,
            "_view_module_version": "1.5.0",
            "box_style": "",
            "layout": "IPY_MODEL_428f81f5760d499490f5c33a92a4a02b",
            "_model_module": "@jupyter-widgets/controls",
            "children": [
              "IPY_MODEL_5a0665277d004a13a9dfa28b9906de4a",
              "IPY_MODEL_565e078c79524a53ac382a601073df4c"
            ]
          }
        },
        "428f81f5760d499490f5c33a92a4a02b": {
          "model_module": "@jupyter-widgets/base",
          "model_name": "LayoutModel",
          "state": {
            "_view_name": "LayoutView",
            "grid_template_rows": null,
            "right": null,
            "justify_content": null,
            "_view_module": "@jupyter-widgets/base",
            "overflow": null,
            "_model_module_version": "1.2.0",
            "_view_count": null,
            "flex_flow": null,
            "width": null,
            "min_width": null,
            "border": null,
            "align_items": null,
            "bottom": null,
            "_model_module": "@jupyter-widgets/base",
            "top": null,
            "grid_column": null,
            "overflow_y": null,
            "overflow_x": null,
            "grid_auto_flow": null,
            "grid_area": null,
            "grid_template_columns": null,
            "flex": null,
            "_model_name": "LayoutModel",
            "justify_items": null,
            "grid_row": null,
            "max_height": null,
            "align_content": null,
            "visibility": null,
            "align_self": null,
            "height": null,
            "min_height": null,
            "padding": null,
            "grid_auto_rows": null,
            "grid_gap": null,
            "max_width": null,
            "order": null,
            "_view_module_version": "1.2.0",
            "grid_template_areas": null,
            "object_position": null,
            "object_fit": null,
            "grid_auto_columns": null,
            "margin": null,
            "display": null,
            "left": null
          }
        },
        "5a0665277d004a13a9dfa28b9906de4a": {
          "model_module": "@jupyter-widgets/controls",
          "model_name": "FloatProgressModel",
          "state": {
            "_view_name": "ProgressView",
            "style": "IPY_MODEL_5e9276f9c46c4e8da05aa130b5841f68",
            "_dom_classes": [],
            "description": "Extraction completed...: 100%",
            "_model_name": "FloatProgressModel",
            "bar_style": "success",
            "max": 1,
            "_view_module": "@jupyter-widgets/controls",
            "_model_module_version": "1.5.0",
            "value": 1,
            "_view_count": null,
            "_view_module_version": "1.5.0",
            "orientation": "horizontal",
            "min": 0,
            "description_tooltip": null,
            "_model_module": "@jupyter-widgets/controls",
            "layout": "IPY_MODEL_df9b6142f18a42e0a5f259848744e9d2"
          }
        },
        "565e078c79524a53ac382a601073df4c": {
          "model_module": "@jupyter-widgets/controls",
          "model_name": "HTMLModel",
          "state": {
            "_view_name": "HTMLView",
            "style": "IPY_MODEL_71fc54a2ac0544fcadb96d9aa946855a",
            "_dom_classes": [],
            "description": "",
            "_model_name": "HTMLModel",
            "placeholder": "​",
            "_view_module": "@jupyter-widgets/controls",
            "_model_module_version": "1.5.0",
            "value": " 1/1 [01:19&lt;00:00, 79.49s/ file]",
            "_view_count": null,
            "_view_module_version": "1.5.0",
            "description_tooltip": null,
            "_model_module": "@jupyter-widgets/controls",
            "layout": "IPY_MODEL_6186f212d12c45d784a8d0bdf9b1f998"
          }
        },
        "5e9276f9c46c4e8da05aa130b5841f68": {
          "model_module": "@jupyter-widgets/controls",
          "model_name": "ProgressStyleModel",
          "state": {
            "_view_name": "StyleView",
            "_model_name": "ProgressStyleModel",
            "description_width": "initial",
            "_view_module": "@jupyter-widgets/base",
            "_model_module_version": "1.5.0",
            "_view_count": null,
            "_view_module_version": "1.2.0",
            "bar_color": null,
            "_model_module": "@jupyter-widgets/controls"
          }
        },
        "df9b6142f18a42e0a5f259848744e9d2": {
          "model_module": "@jupyter-widgets/base",
          "model_name": "LayoutModel",
          "state": {
            "_view_name": "LayoutView",
            "grid_template_rows": null,
            "right": null,
            "justify_content": null,
            "_view_module": "@jupyter-widgets/base",
            "overflow": null,
            "_model_module_version": "1.2.0",
            "_view_count": null,
            "flex_flow": null,
            "width": null,
            "min_width": null,
            "border": null,
            "align_items": null,
            "bottom": null,
            "_model_module": "@jupyter-widgets/base",
            "top": null,
            "grid_column": null,
            "overflow_y": null,
            "overflow_x": null,
            "grid_auto_flow": null,
            "grid_area": null,
            "grid_template_columns": null,
            "flex": null,
            "_model_name": "LayoutModel",
            "justify_items": null,
            "grid_row": null,
            "max_height": null,
            "align_content": null,
            "visibility": null,
            "align_self": null,
            "height": null,
            "min_height": null,
            "padding": null,
            "grid_auto_rows": null,
            "grid_gap": null,
            "max_width": null,
            "order": null,
            "_view_module_version": "1.2.0",
            "grid_template_areas": null,
            "object_position": null,
            "object_fit": null,
            "grid_auto_columns": null,
            "margin": null,
            "display": null,
            "left": null
          }
        },
        "71fc54a2ac0544fcadb96d9aa946855a": {
          "model_module": "@jupyter-widgets/controls",
          "model_name": "DescriptionStyleModel",
          "state": {
            "_view_name": "StyleView",
            "_model_name": "DescriptionStyleModel",
            "description_width": "",
            "_view_module": "@jupyter-widgets/base",
            "_model_module_version": "1.5.0",
            "_view_count": null,
            "_view_module_version": "1.2.0",
            "_model_module": "@jupyter-widgets/controls"
          }
        },
        "6186f212d12c45d784a8d0bdf9b1f998": {
          "model_module": "@jupyter-widgets/base",
          "model_name": "LayoutModel",
          "state": {
            "_view_name": "LayoutView",
            "grid_template_rows": null,
            "right": null,
            "justify_content": null,
            "_view_module": "@jupyter-widgets/base",
            "overflow": null,
            "_model_module_version": "1.2.0",
            "_view_count": null,
            "flex_flow": null,
            "width": null,
            "min_width": null,
            "border": null,
            "align_items": null,
            "bottom": null,
            "_model_module": "@jupyter-widgets/base",
            "top": null,
            "grid_column": null,
            "overflow_y": null,
            "overflow_x": null,
            "grid_auto_flow": null,
            "grid_area": null,
            "grid_template_columns": null,
            "flex": null,
            "_model_name": "LayoutModel",
            "justify_items": null,
            "grid_row": null,
            "max_height": null,
            "align_content": null,
            "visibility": null,
            "align_self": null,
            "height": null,
            "min_height": null,
            "padding": null,
            "grid_auto_rows": null,
            "grid_gap": null,
            "max_width": null,
            "order": null,
            "_view_module_version": "1.2.0",
            "grid_template_areas": null,
            "object_position": null,
            "object_fit": null,
            "grid_auto_columns": null,
            "margin": null,
            "display": null,
            "left": null
          }
        },
        "919c82dc4d924d80827c66b68f229587": {
          "model_module": "@jupyter-widgets/controls",
          "model_name": "HBoxModel",
          "state": {
            "_view_name": "HBoxView",
            "_dom_classes": [],
            "_model_name": "HBoxModel",
            "_view_module": "@jupyter-widgets/controls",
            "_model_module_version": "1.5.0",
            "_view_count": null,
            "_view_module_version": "1.5.0",
            "box_style": "",
            "layout": "IPY_MODEL_cfb9b26f7ebe45759437eb2b6f1a093b",
            "_model_module": "@jupyter-widgets/controls",
            "children": [
              "IPY_MODEL_faae2a9a690c4399bf53d0cc085d216e",
              "IPY_MODEL_ca9d805c57a943a08b650ade4ccf443e"
            ]
          }
        },
        "cfb9b26f7ebe45759437eb2b6f1a093b": {
          "model_module": "@jupyter-widgets/base",
          "model_name": "LayoutModel",
          "state": {
            "_view_name": "LayoutView",
            "grid_template_rows": null,
            "right": null,
            "justify_content": null,
            "_view_module": "@jupyter-widgets/base",
            "overflow": null,
            "_model_module_version": "1.2.0",
            "_view_count": null,
            "flex_flow": null,
            "width": null,
            "min_width": null,
            "border": null,
            "align_items": null,
            "bottom": null,
            "_model_module": "@jupyter-widgets/base",
            "top": null,
            "grid_column": null,
            "overflow_y": null,
            "overflow_x": null,
            "grid_auto_flow": null,
            "grid_area": null,
            "grid_template_columns": null,
            "flex": null,
            "_model_name": "LayoutModel",
            "justify_items": null,
            "grid_row": null,
            "max_height": null,
            "align_content": null,
            "visibility": null,
            "align_self": null,
            "height": null,
            "min_height": null,
            "padding": null,
            "grid_auto_rows": null,
            "grid_gap": null,
            "max_width": null,
            "order": null,
            "_view_module_version": "1.2.0",
            "grid_template_areas": null,
            "object_position": null,
            "object_fit": null,
            "grid_auto_columns": null,
            "margin": null,
            "display": null,
            "left": null
          }
        },
        "faae2a9a690c4399bf53d0cc085d216e": {
          "model_module": "@jupyter-widgets/controls",
          "model_name": "FloatProgressModel",
          "state": {
            "_view_name": "ProgressView",
            "style": "IPY_MODEL_7ef881447bae49c59cf54dd5c719fae8",
            "_dom_classes": [],
            "description": "",
            "_model_name": "FloatProgressModel",
            "bar_style": "info",
            "max": 1,
            "_view_module": "@jupyter-widgets/controls",
            "_model_module_version": "1.5.0",
            "value": 1,
            "_view_count": null,
            "_view_module_version": "1.5.0",
            "orientation": "horizontal",
            "min": 0,
            "description_tooltip": null,
            "_model_module": "@jupyter-widgets/controls",
            "layout": "IPY_MODEL_6b912f3c3bec4a079fadb09c299254c8"
          }
        },
        "ca9d805c57a943a08b650ade4ccf443e": {
          "model_module": "@jupyter-widgets/controls",
          "model_name": "HTMLModel",
          "state": {
            "_view_name": "HTMLView",
            "style": "IPY_MODEL_704adff001b548ddac8dee91a71729da",
            "_dom_classes": [],
            "description": "",
            "_model_name": "HTMLModel",
            "placeholder": "​",
            "_view_module": "@jupyter-widgets/controls",
            "_model_module_version": "1.5.0",
            "value": " 16264448/0 [55:18&lt;00:00, 4708.86 examples/s]",
            "_view_count": null,
            "_view_module_version": "1.5.0",
            "description_tooltip": null,
            "_model_module": "@jupyter-widgets/controls",
            "layout": "IPY_MODEL_6c61a17c09d7478ab872b8494863ff57"
          }
        },
        "7ef881447bae49c59cf54dd5c719fae8": {
          "model_module": "@jupyter-widgets/controls",
          "model_name": "ProgressStyleModel",
          "state": {
            "_view_name": "StyleView",
            "_model_name": "ProgressStyleModel",
            "description_width": "initial",
            "_view_module": "@jupyter-widgets/base",
            "_model_module_version": "1.5.0",
            "_view_count": null,
            "_view_module_version": "1.2.0",
            "bar_color": null,
            "_model_module": "@jupyter-widgets/controls"
          }
        },
        "6b912f3c3bec4a079fadb09c299254c8": {
          "model_module": "@jupyter-widgets/base",
          "model_name": "LayoutModel",
          "state": {
            "_view_name": "LayoutView",
            "grid_template_rows": null,
            "right": null,
            "justify_content": null,
            "_view_module": "@jupyter-widgets/base",
            "overflow": null,
            "_model_module_version": "1.2.0",
            "_view_count": null,
            "flex_flow": null,
            "width": null,
            "min_width": null,
            "border": null,
            "align_items": null,
            "bottom": null,
            "_model_module": "@jupyter-widgets/base",
            "top": null,
            "grid_column": null,
            "overflow_y": null,
            "overflow_x": null,
            "grid_auto_flow": null,
            "grid_area": null,
            "grid_template_columns": null,
            "flex": null,
            "_model_name": "LayoutModel",
            "justify_items": null,
            "grid_row": null,
            "max_height": null,
            "align_content": null,
            "visibility": null,
            "align_self": null,
            "height": null,
            "min_height": null,
            "padding": null,
            "grid_auto_rows": null,
            "grid_gap": null,
            "max_width": null,
            "order": null,
            "_view_module_version": "1.2.0",
            "grid_template_areas": null,
            "object_position": null,
            "object_fit": null,
            "grid_auto_columns": null,
            "margin": null,
            "display": null,
            "left": null
          }
        },
        "704adff001b548ddac8dee91a71729da": {
          "model_module": "@jupyter-widgets/controls",
          "model_name": "DescriptionStyleModel",
          "state": {
            "_view_name": "StyleView",
            "_model_name": "DescriptionStyleModel",
            "description_width": "",
            "_view_module": "@jupyter-widgets/base",
            "_model_module_version": "1.5.0",
            "_view_count": null,
            "_view_module_version": "1.2.0",
            "_model_module": "@jupyter-widgets/controls"
          }
        },
        "6c61a17c09d7478ab872b8494863ff57": {
          "model_module": "@jupyter-widgets/base",
          "model_name": "LayoutModel",
          "state": {
            "_view_name": "LayoutView",
            "grid_template_rows": null,
            "right": null,
            "justify_content": null,
            "_view_module": "@jupyter-widgets/base",
            "overflow": null,
            "_model_module_version": "1.2.0",
            "_view_count": null,
            "flex_flow": null,
            "width": null,
            "min_width": null,
            "border": null,
            "align_items": null,
            "bottom": null,
            "_model_module": "@jupyter-widgets/base",
            "top": null,
            "grid_column": null,
            "overflow_y": null,
            "overflow_x": null,
            "grid_auto_flow": null,
            "grid_area": null,
            "grid_template_columns": null,
            "flex": null,
            "_model_name": "LayoutModel",
            "justify_items": null,
            "grid_row": null,
            "max_height": null,
            "align_content": null,
            "visibility": null,
            "align_self": null,
            "height": null,
            "min_height": null,
            "padding": null,
            "grid_auto_rows": null,
            "grid_gap": null,
            "max_width": null,
            "order": null,
            "_view_module_version": "1.2.0",
            "grid_template_areas": null,
            "object_position": null,
            "object_fit": null,
            "grid_auto_columns": null,
            "margin": null,
            "display": null,
            "left": null
          }
        },
        "a069e4c78b604712a8a88f5f0bf8ba52": {
          "model_module": "@jupyter-widgets/controls",
          "model_name": "HBoxModel",
          "state": {
            "_view_name": "HBoxView",
            "_dom_classes": [],
            "_model_name": "HBoxModel",
            "_view_module": "@jupyter-widgets/controls",
            "_model_module_version": "1.5.0",
            "_view_count": null,
            "_view_module_version": "1.5.0",
            "box_style": "",
            "layout": "IPY_MODEL_af3d200efa8447b3b6e50c2a3cc95810",
            "_model_module": "@jupyter-widgets/controls",
            "children": [
              "IPY_MODEL_9b5b9c8d24d6488d873d86dc781b3c80",
              "IPY_MODEL_b5cb49e7fbdb45ea9072ee704c3cf7b6"
            ]
          }
        },
        "af3d200efa8447b3b6e50c2a3cc95810": {
          "model_module": "@jupyter-widgets/base",
          "model_name": "LayoutModel",
          "state": {
            "_view_name": "LayoutView",
            "grid_template_rows": null,
            "right": null,
            "justify_content": null,
            "_view_module": "@jupyter-widgets/base",
            "overflow": null,
            "_model_module_version": "1.2.0",
            "_view_count": null,
            "flex_flow": null,
            "width": null,
            "min_width": null,
            "border": null,
            "align_items": null,
            "bottom": null,
            "_model_module": "@jupyter-widgets/base",
            "top": null,
            "grid_column": null,
            "overflow_y": null,
            "overflow_x": null,
            "grid_auto_flow": null,
            "grid_area": null,
            "grid_template_columns": null,
            "flex": null,
            "_model_name": "LayoutModel",
            "justify_items": null,
            "grid_row": null,
            "max_height": null,
            "align_content": null,
            "visibility": null,
            "align_self": null,
            "height": null,
            "min_height": null,
            "padding": null,
            "grid_auto_rows": null,
            "grid_gap": null,
            "max_width": null,
            "order": null,
            "_view_module_version": "1.2.0",
            "grid_template_areas": null,
            "object_position": null,
            "object_fit": null,
            "grid_auto_columns": null,
            "margin": null,
            "display": null,
            "left": null
          }
        },
        "9b5b9c8d24d6488d873d86dc781b3c80": {
          "model_module": "@jupyter-widgets/controls",
          "model_name": "FloatProgressModel",
          "state": {
            "_view_name": "ProgressView",
            "style": "IPY_MODEL_710aa3c1a4454f5394e0350c5b7542f6",
            "_dom_classes": [],
            "description": "100%",
            "_model_name": "FloatProgressModel",
            "bar_style": "danger",
            "max": 16264448,
            "_view_module": "@jupyter-widgets/controls",
            "_model_module_version": "1.5.0",
            "value": 16248286,
            "_view_count": null,
            "_view_module_version": "1.5.0",
            "orientation": "horizontal",
            "min": 0,
            "description_tooltip": null,
            "_model_module": "@jupyter-widgets/controls",
            "layout": "IPY_MODEL_cb3776fee05841678c90dc7cb0b121d0"
          }
        },
        "b5cb49e7fbdb45ea9072ee704c3cf7b6": {
          "model_module": "@jupyter-widgets/controls",
          "model_name": "HTMLModel",
          "state": {
            "_view_name": "HTMLView",
            "style": "IPY_MODEL_bd70ba77c15547cc9c8694fb011860f7",
            "_dom_classes": [],
            "description": "",
            "_model_name": "HTMLModel",
            "placeholder": "​",
            "_view_module": "@jupyter-widgets/controls",
            "_model_module_version": "1.5.0",
            "value": " 16248286/16264448 [03:10&lt;00:00, 98343.22 examples/s]",
            "_view_count": null,
            "_view_module_version": "1.5.0",
            "description_tooltip": null,
            "_model_module": "@jupyter-widgets/controls",
            "layout": "IPY_MODEL_2d746107bfd2414b905e3ce989230562"
          }
        },
        "710aa3c1a4454f5394e0350c5b7542f6": {
          "model_module": "@jupyter-widgets/controls",
          "model_name": "ProgressStyleModel",
          "state": {
            "_view_name": "StyleView",
            "_model_name": "ProgressStyleModel",
            "description_width": "initial",
            "_view_module": "@jupyter-widgets/base",
            "_model_module_version": "1.5.0",
            "_view_count": null,
            "_view_module_version": "1.2.0",
            "bar_color": null,
            "_model_module": "@jupyter-widgets/controls"
          }
        },
        "cb3776fee05841678c90dc7cb0b121d0": {
          "model_module": "@jupyter-widgets/base",
          "model_name": "LayoutModel",
          "state": {
            "_view_name": "LayoutView",
            "grid_template_rows": null,
            "right": null,
            "justify_content": null,
            "_view_module": "@jupyter-widgets/base",
            "overflow": null,
            "_model_module_version": "1.2.0",
            "_view_count": null,
            "flex_flow": null,
            "width": null,
            "min_width": null,
            "border": null,
            "align_items": null,
            "bottom": null,
            "_model_module": "@jupyter-widgets/base",
            "top": null,
            "grid_column": null,
            "overflow_y": null,
            "overflow_x": null,
            "grid_auto_flow": null,
            "grid_area": null,
            "grid_template_columns": null,
            "flex": null,
            "_model_name": "LayoutModel",
            "justify_items": null,
            "grid_row": null,
            "max_height": null,
            "align_content": null,
            "visibility": null,
            "align_self": null,
            "height": null,
            "min_height": null,
            "padding": null,
            "grid_auto_rows": null,
            "grid_gap": null,
            "max_width": null,
            "order": null,
            "_view_module_version": "1.2.0",
            "grid_template_areas": null,
            "object_position": null,
            "object_fit": null,
            "grid_auto_columns": null,
            "margin": null,
            "display": null,
            "left": null
          }
        },
        "bd70ba77c15547cc9c8694fb011860f7": {
          "model_module": "@jupyter-widgets/controls",
          "model_name": "DescriptionStyleModel",
          "state": {
            "_view_name": "StyleView",
            "_model_name": "DescriptionStyleModel",
            "description_width": "",
            "_view_module": "@jupyter-widgets/base",
            "_model_module_version": "1.5.0",
            "_view_count": null,
            "_view_module_version": "1.2.0",
            "_model_module": "@jupyter-widgets/controls"
          }
        },
        "2d746107bfd2414b905e3ce989230562": {
          "model_module": "@jupyter-widgets/base",
          "model_name": "LayoutModel",
          "state": {
            "_view_name": "LayoutView",
            "grid_template_rows": null,
            "right": null,
            "justify_content": null,
            "_view_module": "@jupyter-widgets/base",
            "overflow": null,
            "_model_module_version": "1.2.0",
            "_view_count": null,
            "flex_flow": null,
            "width": null,
            "min_width": null,
            "border": null,
            "align_items": null,
            "bottom": null,
            "_model_module": "@jupyter-widgets/base",
            "top": null,
            "grid_column": null,
            "overflow_y": null,
            "overflow_x": null,
            "grid_auto_flow": null,
            "grid_area": null,
            "grid_template_columns": null,
            "flex": null,
            "_model_name": "LayoutModel",
            "justify_items": null,
            "grid_row": null,
            "max_height": null,
            "align_content": null,
            "visibility": null,
            "align_self": null,
            "height": null,
            "min_height": null,
            "padding": null,
            "grid_auto_rows": null,
            "grid_gap": null,
            "max_width": null,
            "order": null,
            "_view_module_version": "1.2.0",
            "grid_template_areas": null,
            "object_position": null,
            "object_fit": null,
            "grid_auto_columns": null,
            "margin": null,
            "display": null,
            "left": null
          }
        }
      }
    }
  },
  "cells": [
    {
      "cell_type": "markdown",
      "metadata": {
        "id": "view-in-github",
        "colab_type": "text"
      },
      "source": [
        "<a href=\"https://colab.research.google.com/github/asmith1138/MachineTranslation/blob/main/MT_eng_deu_transformer_paper.ipynb\" target=\"_parent\"><img src=\"https://colab.research.google.com/assets/colab-badge.svg\" alt=\"Open In Colab\"/></a>"
      ]
    },
    {
      "cell_type": "code",
      "metadata": {
        "colab": {
          "base_uri": "https://localhost:8080/"
        },
        "id": "N-AkPfjn_-QA",
        "outputId": "bb14700f-5b56-4a26-dc6f-36174086d153"
      },
      "source": [
        "from google.colab import drive\n",
        "drive.mount('/content/drive')"
      ],
      "execution_count": 1,
      "outputs": [
        {
          "output_type": "stream",
          "text": [
            "Mounted at /content/drive\n"
          ],
          "name": "stdout"
        }
      ]
    },
    {
      "cell_type": "code",
      "metadata": {
        "id": "XFG0NDRu5mYQ",
        "colab": {
          "base_uri": "https://localhost:8080/"
        },
        "outputId": "c18da2dc-267c-4fae-a4c9-eb952c3cfa30"
      },
      "source": [
        "!pip install -q tensorflow_datasets\n",
        "!pip install -q tensorflow_text"
      ],
      "execution_count": 2,
      "outputs": [
        {
          "output_type": "stream",
          "text": [
            "\u001b[?25l\r\u001b[K     |                                | 10kB 19.4MB/s eta 0:00:01\r\u001b[K     |▏                               | 20kB 25.6MB/s eta 0:00:01\r\u001b[K     |▎                               | 30kB 21.2MB/s eta 0:00:01\r\u001b[K     |▍                               | 40kB 17.2MB/s eta 0:00:01\r\u001b[K     |▌                               | 51kB 18.5MB/s eta 0:00:01\r\u001b[K     |▋                               | 61kB 20.7MB/s eta 0:00:01\r\u001b[K     |▊                               | 71kB 13.8MB/s eta 0:00:01\r\u001b[K     |▉                               | 81kB 14.5MB/s eta 0:00:01\r\u001b[K     |▉                               | 92kB 13.1MB/s eta 0:00:01\r\u001b[K     |█                               | 102kB 12.8MB/s eta 0:00:01\r\u001b[K     |█                               | 112kB 12.8MB/s eta 0:00:01\r\u001b[K     |█▏                              | 122kB 12.8MB/s eta 0:00:01\r\u001b[K     |█▎                              | 133kB 12.8MB/s eta 0:00:01\r\u001b[K     |█▍                              | 143kB 12.8MB/s eta 0:00:01\r\u001b[K     |█▌                              | 153kB 12.8MB/s eta 0:00:01\r\u001b[K     |█▋                              | 163kB 12.8MB/s eta 0:00:01\r\u001b[K     |█▋                              | 174kB 12.8MB/s eta 0:00:01\r\u001b[K     |█▊                              | 184kB 12.8MB/s eta 0:00:01\r\u001b[K     |█▉                              | 194kB 12.8MB/s eta 0:00:01\r\u001b[K     |██                              | 204kB 12.8MB/s eta 0:00:01\r\u001b[K     |██                              | 215kB 12.8MB/s eta 0:00:01\r\u001b[K     |██▏                             | 225kB 12.8MB/s eta 0:00:01\r\u001b[K     |██▎                             | 235kB 12.8MB/s eta 0:00:01\r\u001b[K     |██▍                             | 245kB 12.8MB/s eta 0:00:01\r\u001b[K     |██▍                             | 256kB 12.8MB/s eta 0:00:01\r\u001b[K     |██▌                             | 266kB 12.8MB/s eta 0:00:01\r\u001b[K     |██▋                             | 276kB 12.8MB/s eta 0:00:01\r\u001b[K     |██▊                             | 286kB 12.8MB/s eta 0:00:01\r\u001b[K     |██▉                             | 296kB 12.8MB/s eta 0:00:01\r\u001b[K     |███                             | 307kB 12.8MB/s eta 0:00:01\r\u001b[K     |███                             | 317kB 12.8MB/s eta 0:00:01\r\u001b[K     |███▏                            | 327kB 12.8MB/s eta 0:00:01\r\u001b[K     |███▏                            | 337kB 12.8MB/s eta 0:00:01\r\u001b[K     |███▎                            | 348kB 12.8MB/s eta 0:00:01\r\u001b[K     |███▍                            | 358kB 12.8MB/s eta 0:00:01\r\u001b[K     |███▌                            | 368kB 12.8MB/s eta 0:00:01\r\u001b[K     |███▋                            | 378kB 12.8MB/s eta 0:00:01\r\u001b[K     |███▊                            | 389kB 12.8MB/s eta 0:00:01\r\u001b[K     |███▉                            | 399kB 12.8MB/s eta 0:00:01\r\u001b[K     |████                            | 409kB 12.8MB/s eta 0:00:01\r\u001b[K     |████                            | 419kB 12.8MB/s eta 0:00:01\r\u001b[K     |████                            | 430kB 12.8MB/s eta 0:00:01\r\u001b[K     |████▏                           | 440kB 12.8MB/s eta 0:00:01\r\u001b[K     |████▎                           | 450kB 12.8MB/s eta 0:00:01\r\u001b[K     |████▍                           | 460kB 12.8MB/s eta 0:00:01\r\u001b[K     |████▌                           | 471kB 12.8MB/s eta 0:00:01\r\u001b[K     |████▋                           | 481kB 12.8MB/s eta 0:00:01\r\u001b[K     |████▊                           | 491kB 12.8MB/s eta 0:00:01\r\u001b[K     |████▊                           | 501kB 12.8MB/s eta 0:00:01\r\u001b[K     |████▉                           | 512kB 12.8MB/s eta 0:00:01\r\u001b[K     |█████                           | 522kB 12.8MB/s eta 0:00:01\r\u001b[K     |█████                           | 532kB 12.8MB/s eta 0:00:01\r\u001b[K     |█████▏                          | 542kB 12.8MB/s eta 0:00:01\r\u001b[K     |█████▎                          | 552kB 12.8MB/s eta 0:00:01\r\u001b[K     |█████▍                          | 563kB 12.8MB/s eta 0:00:01\r\u001b[K     |█████▌                          | 573kB 12.8MB/s eta 0:00:01\r\u001b[K     |█████▌                          | 583kB 12.8MB/s eta 0:00:01\r\u001b[K     |█████▋                          | 593kB 12.8MB/s eta 0:00:01\r\u001b[K     |█████▊                          | 604kB 12.8MB/s eta 0:00:01\r\u001b[K     |█████▉                          | 614kB 12.8MB/s eta 0:00:01\r\u001b[K     |██████                          | 624kB 12.8MB/s eta 0:00:01\r\u001b[K     |██████                          | 634kB 12.8MB/s eta 0:00:01\r\u001b[K     |██████▏                         | 645kB 12.8MB/s eta 0:00:01\r\u001b[K     |██████▎                         | 655kB 12.8MB/s eta 0:00:01\r\u001b[K     |██████▎                         | 665kB 12.8MB/s eta 0:00:01\r\u001b[K     |██████▍                         | 675kB 12.8MB/s eta 0:00:01\r\u001b[K     |██████▌                         | 686kB 12.8MB/s eta 0:00:01\r\u001b[K     |██████▋                         | 696kB 12.8MB/s eta 0:00:01\r\u001b[K     |██████▊                         | 706kB 12.8MB/s eta 0:00:01\r\u001b[K     |██████▉                         | 716kB 12.8MB/s eta 0:00:01\r\u001b[K     |███████                         | 727kB 12.8MB/s eta 0:00:01\r\u001b[K     |███████                         | 737kB 12.8MB/s eta 0:00:01\r\u001b[K     |███████                         | 747kB 12.8MB/s eta 0:00:01\r\u001b[K     |███████▏                        | 757kB 12.8MB/s eta 0:00:01\r\u001b[K     |███████▎                        | 768kB 12.8MB/s eta 0:00:01\r\u001b[K     |███████▍                        | 778kB 12.8MB/s eta 0:00:01\r\u001b[K     |███████▌                        | 788kB 12.8MB/s eta 0:00:01\r\u001b[K     |███████▋                        | 798kB 12.8MB/s eta 0:00:01\r\u001b[K     |███████▊                        | 808kB 12.8MB/s eta 0:00:01\r\u001b[K     |███████▉                        | 819kB 12.8MB/s eta 0:00:01\r\u001b[K     |███████▉                        | 829kB 12.8MB/s eta 0:00:01\r\u001b[K     |████████                        | 839kB 12.8MB/s eta 0:00:01\r\u001b[K     |████████                        | 849kB 12.8MB/s eta 0:00:01\r\u001b[K     |████████▏                       | 860kB 12.8MB/s eta 0:00:01\r\u001b[K     |████████▎                       | 870kB 12.8MB/s eta 0:00:01\r\u001b[K     |████████▍                       | 880kB 12.8MB/s eta 0:00:01\r\u001b[K     |████████▌                       | 890kB 12.8MB/s eta 0:00:01\r\u001b[K     |████████▋                       | 901kB 12.8MB/s eta 0:00:01\r\u001b[K     |████████▋                       | 911kB 12.8MB/s eta 0:00:01\r\u001b[K     |████████▊                       | 921kB 12.8MB/s eta 0:00:01\r\u001b[K     |████████▉                       | 931kB 12.8MB/s eta 0:00:01\r\u001b[K     |█████████                       | 942kB 12.8MB/s eta 0:00:01\r\u001b[K     |█████████                       | 952kB 12.8MB/s eta 0:00:01\r\u001b[K     |█████████▏                      | 962kB 12.8MB/s eta 0:00:01\r\u001b[K     |█████████▎                      | 972kB 12.8MB/s eta 0:00:01\r\u001b[K     |█████████▍                      | 983kB 12.8MB/s eta 0:00:01\r\u001b[K     |█████████▌                      | 993kB 12.8MB/s eta 0:00:01\r\u001b[K     |█████████▌                      | 1.0MB 12.8MB/s eta 0:00:01\r\u001b[K     |█████████▋                      | 1.0MB 12.8MB/s eta 0:00:01\r\u001b[K     |█████████▊                      | 1.0MB 12.8MB/s eta 0:00:01\r\u001b[K     |█████████▉                      | 1.0MB 12.8MB/s eta 0:00:01\r\u001b[K     |██████████                      | 1.0MB 12.8MB/s eta 0:00:01\r\u001b[K     |██████████                      | 1.1MB 12.8MB/s eta 0:00:01\r\u001b[K     |██████████▏                     | 1.1MB 12.8MB/s eta 0:00:01\r\u001b[K     |██████████▎                     | 1.1MB 12.8MB/s eta 0:00:01\r\u001b[K     |██████████▎                     | 1.1MB 12.8MB/s eta 0:00:01\r\u001b[K     |██████████▍                     | 1.1MB 12.8MB/s eta 0:00:01\r\u001b[K     |██████████▌                     | 1.1MB 12.8MB/s eta 0:00:01\r\u001b[K     |██████████▋                     | 1.1MB 12.8MB/s eta 0:00:01\r\u001b[K     |██████████▊                     | 1.1MB 12.8MB/s eta 0:00:01\r\u001b[K     |██████████▉                     | 1.1MB 12.8MB/s eta 0:00:01\r\u001b[K     |███████████                     | 1.1MB 12.8MB/s eta 0:00:01\r\u001b[K     |███████████                     | 1.2MB 12.8MB/s eta 0:00:01\r\u001b[K     |███████████                     | 1.2MB 12.8MB/s eta 0:00:01\r\u001b[K     |███████████▏                    | 1.2MB 12.8MB/s eta 0:00:01\r\u001b[K     |███████████▎                    | 1.2MB 12.8MB/s eta 0:00:01\r\u001b[K     |███████████▍                    | 1.2MB 12.8MB/s eta 0:00:01\r\u001b[K     |███████████▌                    | 1.2MB 12.8MB/s eta 0:00:01\r\u001b[K     |███████████▋                    | 1.2MB 12.8MB/s eta 0:00:01\r\u001b[K     |███████████▊                    | 1.2MB 12.8MB/s eta 0:00:01\r\u001b[K     |███████████▉                    | 1.2MB 12.8MB/s eta 0:00:01\r\u001b[K     |███████████▉                    | 1.2MB 12.8MB/s eta 0:00:01\r\u001b[K     |████████████                    | 1.3MB 12.8MB/s eta 0:00:01\r\u001b[K     |████████████                    | 1.3MB 12.8MB/s eta 0:00:01\r\u001b[K     |████████████▏                   | 1.3MB 12.8MB/s eta 0:00:01\r\u001b[K     |████████████▎                   | 1.3MB 12.8MB/s eta 0:00:01\r\u001b[K     |████████████▍                   | 1.3MB 12.8MB/s eta 0:00:01\r\u001b[K     |████████████▌                   | 1.3MB 12.8MB/s eta 0:00:01\r\u001b[K     |████████████▋                   | 1.3MB 12.8MB/s eta 0:00:01\r\u001b[K     |████████████▋                   | 1.3MB 12.8MB/s eta 0:00:01\r\u001b[K     |████████████▊                   | 1.3MB 12.8MB/s eta 0:00:01\r\u001b[K     |████████████▉                   | 1.4MB 12.8MB/s eta 0:00:01\r\u001b[K     |█████████████                   | 1.4MB 12.8MB/s eta 0:00:01\r\u001b[K     |█████████████                   | 1.4MB 12.8MB/s eta 0:00:01\r\u001b[K     |█████████████▏                  | 1.4MB 12.8MB/s eta 0:00:01\r\u001b[K     |█████████████▎                  | 1.4MB 12.8MB/s eta 0:00:01\r\u001b[K     |█████████████▍                  | 1.4MB 12.8MB/s eta 0:00:01\r\u001b[K     |█████████████▍                  | 1.4MB 12.8MB/s eta 0:00:01\r\u001b[K     |█████████████▌                  | 1.4MB 12.8MB/s eta 0:00:01\r\u001b[K     |█████████████▋                  | 1.4MB 12.8MB/s eta 0:00:01\r\u001b[K     |█████████████▊                  | 1.4MB 12.8MB/s eta 0:00:01\r\u001b[K     |█████████████▉                  | 1.5MB 12.8MB/s eta 0:00:01\r\u001b[K     |██████████████                  | 1.5MB 12.8MB/s eta 0:00:01\r\u001b[K     |██████████████                  | 1.5MB 12.8MB/s eta 0:00:01\r\u001b[K     |██████████████▏                 | 1.5MB 12.8MB/s eta 0:00:01\r\u001b[K     |██████████████▏                 | 1.5MB 12.8MB/s eta 0:00:01\r\u001b[K     |██████████████▎                 | 1.5MB 12.8MB/s eta 0:00:01\r\u001b[K     |██████████████▍                 | 1.5MB 12.8MB/s eta 0:00:01\r\u001b[K     |██████████████▌                 | 1.5MB 12.8MB/s eta 0:00:01\r\u001b[K     |██████████████▋                 | 1.5MB 12.8MB/s eta 0:00:01\r\u001b[K     |██████████████▊                 | 1.5MB 12.8MB/s eta 0:00:01\r\u001b[K     |██████████████▉                 | 1.6MB 12.8MB/s eta 0:00:01\r\u001b[K     |███████████████                 | 1.6MB 12.8MB/s eta 0:00:01\r\u001b[K     |███████████████                 | 1.6MB 12.8MB/s eta 0:00:01\r\u001b[K     |███████████████                 | 1.6MB 12.8MB/s eta 0:00:01\r\u001b[K     |███████████████▏                | 1.6MB 12.8MB/s eta 0:00:01\r\u001b[K     |███████████████▎                | 1.6MB 12.8MB/s eta 0:00:01\r\u001b[K     |███████████████▍                | 1.6MB 12.8MB/s eta 0:00:01\r\u001b[K     |███████████████▌                | 1.6MB 12.8MB/s eta 0:00:01\r\u001b[K     |███████████████▋                | 1.6MB 12.8MB/s eta 0:00:01\r\u001b[K     |███████████████▊                | 1.6MB 12.8MB/s eta 0:00:01\r\u001b[K     |███████████████▊                | 1.7MB 12.8MB/s eta 0:00:01\r\u001b[K     |███████████████▉                | 1.7MB 12.8MB/s eta 0:00:01\r\u001b[K     |████████████████                | 1.7MB 12.8MB/s eta 0:00:01\r\u001b[K     |████████████████                | 1.7MB 12.8MB/s eta 0:00:01\r\u001b[K     |████████████████▏               | 1.7MB 12.8MB/s eta 0:00:01\r\u001b[K     |████████████████▎               | 1.7MB 12.8MB/s eta 0:00:01\r\u001b[K     |████████████████▍               | 1.7MB 12.8MB/s eta 0:00:01\r\u001b[K     |████████████████▌               | 1.7MB 12.8MB/s eta 0:00:01\r\u001b[K     |████████████████▌               | 1.7MB 12.8MB/s eta 0:00:01\r\u001b[K     |████████████████▋               | 1.8MB 12.8MB/s eta 0:00:01\r\u001b[K     |████████████████▊               | 1.8MB 12.8MB/s eta 0:00:01\r\u001b[K     |████████████████▉               | 1.8MB 12.8MB/s eta 0:00:01\r\u001b[K     |█████████████████               | 1.8MB 12.8MB/s eta 0:00:01\r\u001b[K     |█████████████████               | 1.8MB 12.8MB/s eta 0:00:01\r\u001b[K     |█████████████████▏              | 1.8MB 12.8MB/s eta 0:00:01\r\u001b[K     |█████████████████▎              | 1.8MB 12.8MB/s eta 0:00:01\r\u001b[K     |█████████████████▎              | 1.8MB 12.8MB/s eta 0:00:01\r\u001b[K     |█████████████████▍              | 1.8MB 12.8MB/s eta 0:00:01\r\u001b[K     |█████████████████▌              | 1.8MB 12.8MB/s eta 0:00:01\r\u001b[K     |█████████████████▋              | 1.9MB 12.8MB/s eta 0:00:01\r\u001b[K     |█████████████████▊              | 1.9MB 12.8MB/s eta 0:00:01\r\u001b[K     |█████████████████▉              | 1.9MB 12.8MB/s eta 0:00:01\r\u001b[K     |██████████████████              | 1.9MB 12.8MB/s eta 0:00:01\r\u001b[K     |██████████████████              | 1.9MB 12.8MB/s eta 0:00:01\r\u001b[K     |██████████████████              | 1.9MB 12.8MB/s eta 0:00:01\r\u001b[K     |██████████████████▏             | 1.9MB 12.8MB/s eta 0:00:01\r\u001b[K     |██████████████████▎             | 1.9MB 12.8MB/s eta 0:00:01\r\u001b[K     |██████████████████▍             | 1.9MB 12.8MB/s eta 0:00:01\r\u001b[K     |██████████████████▌             | 1.9MB 12.8MB/s eta 0:00:01\r\u001b[K     |██████████████████▋             | 2.0MB 12.8MB/s eta 0:00:01\r\u001b[K     |██████████████████▊             | 2.0MB 12.8MB/s eta 0:00:01\r\u001b[K     |██████████████████▉             | 2.0MB 12.8MB/s eta 0:00:01\r\u001b[K     |███████████████████             | 2.0MB 12.8MB/s eta 0:00:01\r\u001b[K     |███████████████████             | 2.0MB 12.8MB/s eta 0:00:01\r\u001b[K     |███████████████████             | 2.0MB 12.8MB/s eta 0:00:01\r\u001b[K     |███████████████████▏            | 2.0MB 12.8MB/s eta 0:00:01\r\u001b[K     |███████████████████▎            | 2.0MB 12.8MB/s eta 0:00:01\r\u001b[K     |███████████████████▍            | 2.0MB 12.8MB/s eta 0:00:01\r\u001b[K     |███████████████████▌            | 2.0MB 12.8MB/s eta 0:00:01\r\u001b[K     |███████████████████▋            | 2.1MB 12.8MB/s eta 0:00:01\r\u001b[K     |███████████████████▊            | 2.1MB 12.8MB/s eta 0:00:01\r\u001b[K     |███████████████████▊            | 2.1MB 12.8MB/s eta 0:00:01\r\u001b[K     |███████████████████▉            | 2.1MB 12.8MB/s eta 0:00:01\r\u001b[K     |████████████████████            | 2.1MB 12.8MB/s eta 0:00:01\r\u001b[K     |████████████████████            | 2.1MB 12.8MB/s eta 0:00:01\r\u001b[K     |████████████████████▏           | 2.1MB 12.8MB/s eta 0:00:01\r\u001b[K     |████████████████████▎           | 2.1MB 12.8MB/s eta 0:00:01\r\u001b[K     |████████████████████▍           | 2.1MB 12.8MB/s eta 0:00:01\r\u001b[K     |████████████████████▌           | 2.2MB 12.8MB/s eta 0:00:01\r\u001b[K     |████████████████████▌           | 2.2MB 12.8MB/s eta 0:00:01\r\u001b[K     |████████████████████▋           | 2.2MB 12.8MB/s eta 0:00:01\r\u001b[K     |████████████████████▊           | 2.2MB 12.8MB/s eta 0:00:01\r\u001b[K     |████████████████████▉           | 2.2MB 12.8MB/s eta 0:00:01\r\u001b[K     |█████████████████████           | 2.2MB 12.8MB/s eta 0:00:01\r\u001b[K     |█████████████████████           | 2.2MB 12.8MB/s eta 0:00:01\r\u001b[K     |█████████████████████▏          | 2.2MB 12.8MB/s eta 0:00:01\r\u001b[K     |█████████████████████▎          | 2.2MB 12.8MB/s eta 0:00:01\r\u001b[K     |█████████████████████▎          | 2.2MB 12.8MB/s eta 0:00:01\r\u001b[K     |█████████████████████▍          | 2.3MB 12.8MB/s eta 0:00:01\r\u001b[K     |█████████████████████▌          | 2.3MB 12.8MB/s eta 0:00:01\r\u001b[K     |█████████████████████▋          | 2.3MB 12.8MB/s eta 0:00:01\r\u001b[K     |█████████████████████▊          | 2.3MB 12.8MB/s eta 0:00:01\r\u001b[K     |█████████████████████▉          | 2.3MB 12.8MB/s eta 0:00:01\r\u001b[K     |██████████████████████          | 2.3MB 12.8MB/s eta 0:00:01\r\u001b[K     |██████████████████████          | 2.3MB 12.8MB/s eta 0:00:01\r\u001b[K     |██████████████████████          | 2.3MB 12.8MB/s eta 0:00:01\r\u001b[K     |██████████████████████▏         | 2.3MB 12.8MB/s eta 0:00:01\r\u001b[K     |██████████████████████▎         | 2.3MB 12.8MB/s eta 0:00:01\r\u001b[K     |██████████████████████▍         | 2.4MB 12.8MB/s eta 0:00:01\r\u001b[K     |██████████████████████▌         | 2.4MB 12.8MB/s eta 0:00:01\r\u001b[K     |██████████████████████▋         | 2.4MB 12.8MB/s eta 0:00:01\r\u001b[K     |██████████████████████▊         | 2.4MB 12.8MB/s eta 0:00:01\r\u001b[K     |██████████████████████▉         | 2.4MB 12.8MB/s eta 0:00:01\r\u001b[K     |██████████████████████▉         | 2.4MB 12.8MB/s eta 0:00:01\r\u001b[K     |███████████████████████         | 2.4MB 12.8MB/s eta 0:00:01\r\u001b[K     |███████████████████████         | 2.4MB 12.8MB/s eta 0:00:01\r\u001b[K     |███████████████████████▏        | 2.4MB 12.8MB/s eta 0:00:01\r\u001b[K     |███████████████████████▎        | 2.4MB 12.8MB/s eta 0:00:01\r\u001b[K     |███████████████████████▍        | 2.5MB 12.8MB/s eta 0:00:01\r\u001b[K     |███████████████████████▌        | 2.5MB 12.8MB/s eta 0:00:01\r\u001b[K     |███████████████████████▋        | 2.5MB 12.8MB/s eta 0:00:01\r\u001b[K     |███████████████████████▋        | 2.5MB 12.8MB/s eta 0:00:01\r\u001b[K     |███████████████████████▊        | 2.5MB 12.8MB/s eta 0:00:01\r\u001b[K     |███████████████████████▉        | 2.5MB 12.8MB/s eta 0:00:01\r\u001b[K     |████████████████████████        | 2.5MB 12.8MB/s eta 0:00:01\r\u001b[K     |████████████████████████        | 2.5MB 12.8MB/s eta 0:00:01\r\u001b[K     |████████████████████████▏       | 2.5MB 12.8MB/s eta 0:00:01\r\u001b[K     |████████████████████████▎       | 2.5MB 12.8MB/s eta 0:00:01\r\u001b[K     |████████████████████████▍       | 2.6MB 12.8MB/s eta 0:00:01\r\u001b[K     |████████████████████████▍       | 2.6MB 12.8MB/s eta 0:00:01\r\u001b[K     |████████████████████████▌       | 2.6MB 12.8MB/s eta 0:00:01\r\u001b[K     |████████████████████████▋       | 2.6MB 12.8MB/s eta 0:00:01\r\u001b[K     |████████████████████████▊       | 2.6MB 12.8MB/s eta 0:00:01\r\u001b[K     |████████████████████████▉       | 2.6MB 12.8MB/s eta 0:00:01\r\u001b[K     |█████████████████████████       | 2.6MB 12.8MB/s eta 0:00:01\r\u001b[K     |█████████████████████████       | 2.6MB 12.8MB/s eta 0:00:01\r\u001b[K     |█████████████████████████▏      | 2.6MB 12.8MB/s eta 0:00:01\r\u001b[K     |█████████████████████████▏      | 2.7MB 12.8MB/s eta 0:00:01\r\u001b[K     |█████████████████████████▎      | 2.7MB 12.8MB/s eta 0:00:01\r\u001b[K     |█████████████████████████▍      | 2.7MB 12.8MB/s eta 0:00:01\r\u001b[K     |█████████████████████████▌      | 2.7MB 12.8MB/s eta 0:00:01\r\u001b[K     |█████████████████████████▋      | 2.7MB 12.8MB/s eta 0:00:01\r\u001b[K     |█████████████████████████▊      | 2.7MB 12.8MB/s eta 0:00:01\r\u001b[K     |█████████████████████████▉      | 2.7MB 12.8MB/s eta 0:00:01\r\u001b[K     |██████████████████████████      | 2.7MB 12.8MB/s eta 0:00:01\r\u001b[K     |██████████████████████████      | 2.7MB 12.8MB/s eta 0:00:01\r\u001b[K     |██████████████████████████      | 2.7MB 12.8MB/s eta 0:00:01\r\u001b[K     |██████████████████████████▏     | 2.8MB 12.8MB/s eta 0:00:01\r\u001b[K     |██████████████████████████▎     | 2.8MB 12.8MB/s eta 0:00:01\r\u001b[K     |██████████████████████████▍     | 2.8MB 12.8MB/s eta 0:00:01\r\u001b[K     |██████████████████████████▌     | 2.8MB 12.8MB/s eta 0:00:01\r\u001b[K     |██████████████████████████▋     | 2.8MB 12.8MB/s eta 0:00:01\r\u001b[K     |██████████████████████████▊     | 2.8MB 12.8MB/s eta 0:00:01\r\u001b[K     |██████████████████████████▊     | 2.8MB 12.8MB/s eta 0:00:01\r\u001b[K     |██████████████████████████▉     | 2.8MB 12.8MB/s eta 0:00:01\r\u001b[K     |███████████████████████████     | 2.8MB 12.8MB/s eta 0:00:01\r\u001b[K     |███████████████████████████     | 2.8MB 12.8MB/s eta 0:00:01\r\u001b[K     |███████████████████████████▏    | 2.9MB 12.8MB/s eta 0:00:01\r\u001b[K     |███████████████████████████▎    | 2.9MB 12.8MB/s eta 0:00:01\r\u001b[K     |███████████████████████████▍    | 2.9MB 12.8MB/s eta 0:00:01\r\u001b[K     |███████████████████████████▌    | 2.9MB 12.8MB/s eta 0:00:01\r\u001b[K     |███████████████████████████▌    | 2.9MB 12.8MB/s eta 0:00:01\r\u001b[K     |███████████████████████████▋    | 2.9MB 12.8MB/s eta 0:00:01\r\u001b[K     |███████████████████████████▊    | 2.9MB 12.8MB/s eta 0:00:01\r\u001b[K     |███████████████████████████▉    | 2.9MB 12.8MB/s eta 0:00:01\r\u001b[K     |████████████████████████████    | 2.9MB 12.8MB/s eta 0:00:01\r\u001b[K     |████████████████████████████    | 2.9MB 12.8MB/s eta 0:00:01\r\u001b[K     |████████████████████████████▏   | 3.0MB 12.8MB/s eta 0:00:01\r\u001b[K     |████████████████████████████▎   | 3.0MB 12.8MB/s eta 0:00:01\r\u001b[K     |████████████████████████████▍   | 3.0MB 12.8MB/s eta 0:00:01\r\u001b[K     |████████████████████████████▍   | 3.0MB 12.8MB/s eta 0:00:01\r\u001b[K     |████████████████████████████▌   | 3.0MB 12.8MB/s eta 0:00:01\r\u001b[K     |████████████████████████████▋   | 3.0MB 12.8MB/s eta 0:00:01\r\u001b[K     |████████████████████████████▊   | 3.0MB 12.8MB/s eta 0:00:01\r\u001b[K     |████████████████████████████▉   | 3.0MB 12.8MB/s eta 0:00:01\r\u001b[K     |█████████████████████████████   | 3.0MB 12.8MB/s eta 0:00:01\r\u001b[K     |█████████████████████████████   | 3.1MB 12.8MB/s eta 0:00:01\r\u001b[K     |█████████████████████████████▏  | 3.1MB 12.8MB/s eta 0:00:01\r\u001b[K     |█████████████████████████████▏  | 3.1MB 12.8MB/s eta 0:00:01\r\u001b[K     |█████████████████████████████▎  | 3.1MB 12.8MB/s eta 0:00:01\r\u001b[K     |█████████████████████████████▍  | 3.1MB 12.8MB/s eta 0:00:01\r\u001b[K     |█████████████████████████████▌  | 3.1MB 12.8MB/s eta 0:00:01\r\u001b[K     |█████████████████████████████▋  | 3.1MB 12.8MB/s eta 0:00:01\r\u001b[K     |█████████████████████████████▊  | 3.1MB 12.8MB/s eta 0:00:01\r\u001b[K     |█████████████████████████████▉  | 3.1MB 12.8MB/s eta 0:00:01\r\u001b[K     |██████████████████████████████  | 3.1MB 12.8MB/s eta 0:00:01\r\u001b[K     |██████████████████████████████  | 3.2MB 12.8MB/s eta 0:00:01\r\u001b[K     |██████████████████████████████  | 3.2MB 12.8MB/s eta 0:00:01\r\u001b[K     |██████████████████████████████▏ | 3.2MB 12.8MB/s eta 0:00:01\r\u001b[K     |██████████████████████████████▎ | 3.2MB 12.8MB/s eta 0:00:01\r\u001b[K     |██████████████████████████████▍ | 3.2MB 12.8MB/s eta 0:00:01\r\u001b[K     |██████████████████████████████▌ | 3.2MB 12.8MB/s eta 0:00:01\r\u001b[K     |██████████████████████████████▋ | 3.2MB 12.8MB/s eta 0:00:01\r\u001b[K     |██████████████████████████████▊ | 3.2MB 12.8MB/s eta 0:00:01\r\u001b[K     |██████████████████████████████▊ | 3.2MB 12.8MB/s eta 0:00:01\r\u001b[K     |██████████████████████████████▉ | 3.2MB 12.8MB/s eta 0:00:01\r\u001b[K     |███████████████████████████████ | 3.3MB 12.8MB/s eta 0:00:01\r\u001b[K     |███████████████████████████████ | 3.3MB 12.8MB/s eta 0:00:01\r\u001b[K     |███████████████████████████████▏| 3.3MB 12.8MB/s eta 0:00:01\r\u001b[K     |███████████████████████████████▎| 3.3MB 12.8MB/s eta 0:00:01\r\u001b[K     |███████████████████████████████▍| 3.3MB 12.8MB/s eta 0:00:01\r\u001b[K     |███████████████████████████████▌| 3.3MB 12.8MB/s eta 0:00:01\r\u001b[K     |███████████████████████████████▌| 3.3MB 12.8MB/s eta 0:00:01\r\u001b[K     |███████████████████████████████▋| 3.3MB 12.8MB/s eta 0:00:01\r\u001b[K     |███████████████████████████████▊| 3.3MB 12.8MB/s eta 0:00:01\r\u001b[K     |███████████████████████████████▉| 3.3MB 12.8MB/s eta 0:00:01\r\u001b[K     |████████████████████████████████| 3.4MB 12.8MB/s eta 0:00:01\r\u001b[K     |████████████████████████████████| 3.4MB 12.8MB/s \n",
            "\u001b[?25h"
          ],
          "name": "stdout"
        }
      ]
    },
    {
      "cell_type": "code",
      "metadata": {
        "id": "JjJJyJTZYebt"
      },
      "source": [
        "import collections\n",
        "import logging\n",
        "import os\n",
        "import pathlib\n",
        "import re\n",
        "import string\n",
        "import sys\n",
        "import time\n",
        "\n",
        "import numpy as np\n",
        "import matplotlib.pyplot as plt\n",
        "\n",
        "import tensorflow_datasets as tfds\n",
        "import tensorflow_text as text\n",
        "import tensorflow as tf"
      ],
      "execution_count": 3,
      "outputs": []
    },
    {
      "cell_type": "code",
      "metadata": {
        "id": "pXzVhU34zWEU"
      },
      "source": [
        "logging.getLogger('tensorflow').setLevel(logging.ERROR)  # suppress warnings"
      ],
      "execution_count": 4,
      "outputs": []
    },
    {
      "cell_type": "code",
      "metadata": {
        "id": "8q9t4FmN96eN",
        "colab": {
          "base_uri": "https://localhost:8080/",
          "height": 367,
          "referenced_widgets": [
            "a6c609cc2933449fad99eb3a4cb73a08",
            "cdb087a3143f4660a9ce9c95a2990591",
            "2649d49f56614663b4253d6582e5d6cc",
            "e8594ed3c35f457da20b75849a4c1a10",
            "16e1ea8f28ae49a0bc00b6e1557ccc6f",
            "7a106860f6144d7d911c9f1a5ea3eed4",
            "541c1122df174c198af9dbf01f12c345",
            "8499917315304a4bb9291df4f4c7b96f",
            "4f86476237504de88298be8c1ce91644",
            "56855c428e4d4c3d86c502328a42cad5",
            "ea03e48255ed4d6aac013a20e99e95ed",
            "7508fb925bc0400680909ebf8981a3cc",
            "0a390332d89f4f28a60f3a708b3cf8ba",
            "5d6890f1b12a4c79839eec1c90c1f75c",
            "f59cde8b7a9a4effb37c02268451c79e",
            "ca0e2a1f6e264bcfb7fdda6bf9892945",
            "3e978370a83044f1967458e419fd6a95",
            "428f81f5760d499490f5c33a92a4a02b",
            "5a0665277d004a13a9dfa28b9906de4a",
            "565e078c79524a53ac382a601073df4c",
            "5e9276f9c46c4e8da05aa130b5841f68",
            "df9b6142f18a42e0a5f259848744e9d2",
            "71fc54a2ac0544fcadb96d9aa946855a",
            "6186f212d12c45d784a8d0bdf9b1f998",
            "919c82dc4d924d80827c66b68f229587",
            "cfb9b26f7ebe45759437eb2b6f1a093b",
            "faae2a9a690c4399bf53d0cc085d216e",
            "ca9d805c57a943a08b650ade4ccf443e",
            "7ef881447bae49c59cf54dd5c719fae8",
            "6b912f3c3bec4a079fadb09c299254c8",
            "704adff001b548ddac8dee91a71729da",
            "6c61a17c09d7478ab872b8494863ff57",
            "a069e4c78b604712a8a88f5f0bf8ba52",
            "af3d200efa8447b3b6e50c2a3cc95810",
            "9b5b9c8d24d6488d873d86dc781b3c80",
            "b5cb49e7fbdb45ea9072ee704c3cf7b6",
            "710aa3c1a4454f5394e0350c5b7542f6",
            "cb3776fee05841678c90dc7cb0b121d0",
            "bd70ba77c15547cc9c8694fb011860f7",
            "2d746107bfd2414b905e3ce989230562"
          ]
        },
        "outputId": "171db5fe-c8b6-47b6-c047-4953a1c15c01"
      },
      "source": [
        "#config = tfds.translate.wmt.WmtConfig(\n",
        "#    version=\"0.0.1\",\n",
        "#    language_pair=(\"de\", \"en\"),\n",
        "#    subsets={\n",
        "#        tfds.Split.TRAIN: [\"commoncrawl_frde\"],\n",
        "#        tfds.Split.VALIDATION: [\"euelections_dev2019\"],\n",
        "#    },\n",
        "#)\n",
        "#builder = tfds.builder(\"wmt_translate\", config=config)\n",
        "examplesDe, metadataDe = tfds.load('para_crawl/ende_plain_text', with_info=True, as_supervised=True)\n",
        "#print(examplesDe.keys())\n",
        "train_examples = examplesDe['train']#, examplesDe['validation']\n",
        "print(train_examples)\n",
        "#tf.data.experimental.save(\n",
        "#    train_examplesDe, '/content/drive/MyDrive/MT/para_crawl_ds/para_crawl', compression=None, shard_func=None\n",
        "#)\n",
        "\n",
        "#builder.download_and_prepare(download_dir='wmt_translate', download_config=config)\n",
        "#trainDE_examples, valDE_examples = builder['train'], builder['validation']\n",
        "#examples, metadata = tfds.load('ted_hrlr_translate/pt_to_en', with_info=True, as_supervised=True)\n",
        "#train_examples, val_examples = examples['train'], examples['validation']\n"
      ],
      "execution_count": 5,
      "outputs": [
        {
          "output_type": "stream",
          "text": [
            "\u001b[1mDownloading and preparing dataset para_crawl/ende_plain_text/1.0.0 (download: 1.22 GiB, generated: Unknown size, total: 1.22 GiB) to /root/tensorflow_datasets/para_crawl/ende_plain_text/1.0.0...\u001b[0m\n"
          ],
          "name": "stdout"
        },
        {
          "output_type": "display_data",
          "data": {
            "application/vnd.jupyter.widget-view+json": {
              "model_id": "a6c609cc2933449fad99eb3a4cb73a08",
              "version_minor": 0,
              "version_major": 2
            },
            "text/plain": [
              "HBox(children=(FloatProgress(value=1.0, bar_style='info', description='Dl Completed...', max=1.0, style=Progre…"
            ]
          },
          "metadata": {
            "tags": []
          }
        },
        {
          "output_type": "display_data",
          "data": {
            "application/vnd.jupyter.widget-view+json": {
              "model_id": "4f86476237504de88298be8c1ce91644",
              "version_minor": 0,
              "version_major": 2
            },
            "text/plain": [
              "HBox(children=(FloatProgress(value=1.0, bar_style='info', description='Dl Size...', max=1.0, style=ProgressSty…"
            ]
          },
          "metadata": {
            "tags": []
          }
        },
        {
          "output_type": "display_data",
          "data": {
            "application/vnd.jupyter.widget-view+json": {
              "model_id": "3e978370a83044f1967458e419fd6a95",
              "version_minor": 0,
              "version_major": 2
            },
            "text/plain": [
              "HBox(children=(FloatProgress(value=1.0, bar_style='info', description='Extraction completed...', max=1.0, styl…"
            ]
          },
          "metadata": {
            "tags": []
          }
        },
        {
          "output_type": "stream",
          "text": [
            "\n",
            "\n",
            "\n",
            "\n",
            "\n",
            "\n"
          ],
          "name": "stdout"
        },
        {
          "output_type": "display_data",
          "data": {
            "application/vnd.jupyter.widget-view+json": {
              "model_id": "919c82dc4d924d80827c66b68f229587",
              "version_minor": 0,
              "version_major": 2
            },
            "text/plain": [
              "HBox(children=(FloatProgress(value=1.0, bar_style='info', max=1.0), HTML(value='')))"
            ]
          },
          "metadata": {
            "tags": []
          }
        },
        {
          "output_type": "stream",
          "text": [
            "\rShuffling and writing examples to /root/tensorflow_datasets/para_crawl/ende_plain_text/1.0.0.incompleteASJP02/para_crawl-train.tfrecord\n"
          ],
          "name": "stdout"
        },
        {
          "output_type": "display_data",
          "data": {
            "application/vnd.jupyter.widget-view+json": {
              "model_id": "a069e4c78b604712a8a88f5f0bf8ba52",
              "version_minor": 0,
              "version_major": 2
            },
            "text/plain": [
              "HBox(children=(FloatProgress(value=0.0, max=16264448.0), HTML(value='')))"
            ]
          },
          "metadata": {
            "tags": []
          }
        },
        {
          "output_type": "stream",
          "text": [
            "WARNING: TFDS encoder are deprecated and will be removed soon. Please use `tensorflow_text` instead with the plain text dataset.\n",
            "\u001b[1mDataset para_crawl downloaded and prepared to /root/tensorflow_datasets/para_crawl/ende_plain_text/1.0.0. Subsequent calls will reuse this data.\u001b[0m\n",
            "<PrefetchDataset shapes: ((), ()), types: (tf.string, tf.string)>\n"
          ],
          "name": "stdout"
        }
      ]
    },
    {
      "cell_type": "code",
      "metadata": {
        "id": "AtuMLTQGlHZ1",
        "colab": {
          "base_uri": "https://localhost:8080/"
        },
        "outputId": "66c47c74-557b-4416-b8e6-0fb885adde43"
      },
      "source": [
        "for de_examples, en_examples in train_examples.batch(3).take(1):\n",
        "  for de in de_examples.numpy():\n",
        "    print(de.decode('utf-8'))\n",
        "\n",
        "  print()\n",
        "\n",
        "  for en in en_examples.numpy():\n",
        "    print(en.decode('utf-8'))\n",
        "\n",
        "print(train_examples)\n",
        "train_examplesDe = train_examples.take(100000)\n",
        "test_examplesDe = train_examples.skip(100000).take(3000)\n",
        "print(tuple(train_examplesDe.take(1)))\n",
        "print(tuple(test_examplesDe.take(1)))"
      ],
      "execution_count": 6,
      "outputs": [
        {
          "output_type": "stream",
          "text": [
            "Pictures of Quebec : roofs of Quebec\n",
            "April 2007 In a not-so-shocking yet extremely relevant survey, BtoBonline discovered that most email marketers - especially those on the business to business side - continue to forgo testing their campaigns before they actually send them.\n",
            "\"Chekists can see nothing beyond their own noses [...] they are degenerating into ordinary nincompoops, and [...] they don't want to fulfill the directive of the Central Committee.\" (p. 134)\n",
            "\n",
            "Fotos von Quebec - Dächer von Quebec\n",
            "April 2007 In einer nicht so schockierenden, aber sehr relevanten Umfrage, entdeckte BtoBonline das die meisten E-Mail Vermarkter – besonders die auf der business to business Seite- verzichten weiterhin auf die Prüfung Ihrer Kampagnen bevor sie Sie senden.\n",
            "Tschekisten können nicht über ihre eigene Nase hinausblicken [...], sie sind dabei, in gewöhnliche Schlafmützen zu degenerieren und [...] sie wollen nicht die Direktiven des ZK erfüllen. (S. 134)\n",
            "<PrefetchDataset shapes: ((), ()), types: (tf.string, tf.string)>\n",
            "((<tf.Tensor: shape=(), dtype=string, numpy=b'Pictures of Quebec : roofs of Quebec'>, <tf.Tensor: shape=(), dtype=string, numpy=b'Fotos von Quebec - D\\xc3\\xa4cher von Quebec'>),)\n",
            "((<tf.Tensor: shape=(), dtype=string, numpy=b'Welcome gift for children up to six years with a T-shirt from \"Snow White and the 7 Dwarfs\"'>, <tf.Tensor: shape=(), dtype=string, numpy=b'Willkommensgeschenk f\\xc3\\xbcr Kinder bis sechs Jahre mit einem T-Shirt von \"Schneewittchen und den 7 Zwergen\"'>),)\n"
          ],
          "name": "stdout"
        }
      ]
    },
    {
      "cell_type": "markdown",
      "metadata": {
        "id": "eJxTd6aVnZyh"
      },
      "source": [
        "## Text tokenization & detokenization"
      ]
    },
    {
      "cell_type": "markdown",
      "metadata": {
        "id": "WlHAFNaopq6U"
      },
      "source": [
        "You can't train a model directly on text. The text needs to be converted to some numeric representation first. Typically, you convert the text to sequences of token IDs, which are as indexes into an embedding."
      ]
    },
    {
      "cell_type": "markdown",
      "metadata": {
        "id": "2sPvbCEePzOC"
      },
      "source": [
        "One popular implementation is demonstrated in the [Subword tokenizer tutorial](https://www.tensorflow.org/tutorials/tensorflow_text/subwords_tokenizer) builds subword tokenizers (`text.BertTokenizer`) optimized for this dataset and exports them in a [saved_model](https://www.tensorflow.org/guide/saved_model). \n",
        "\n",
        "Download and unzip and import the `saved_model`:"
      ]
    },
    {
      "cell_type": "code",
      "metadata": {
        "id": "QToMl0NanZPr",
        "colab": {
          "base_uri": "https://localhost:8080/",
          "height": 36
        },
        "outputId": "8ca50365-629b-4d72-d8b4-a9fc851e2f7d"
      },
      "source": [
        "#model_name = \"ted_hrlr_translate_pt_en_converter\"\n",
        "#tf.keras.utils.get_file(\n",
        "#    f\"{model_name}.zip\",\n",
        "#    f\"https://storage.googleapis.com/download.tensorflow.org/models/{model_name}.zip\",\n",
        "#    cache_dir='.', cache_subdir='', extract=True\n",
        "#)\n",
        "\n",
        "#!pip install transformers\n",
        "#from transformers import pipeline\n",
        "#unmasker = pipeline('fill-mask', model='bert-base-multilingual-cased')\n",
        "#unmasker(\"Hello I'm a [MASK] model.\")\n",
        "\n",
        "#from transformers import BertTokenizer, TFBertModel\n",
        "#tokenizer = BertTokenizer.from_pretrained('bert-base-multilingual-cased')\n",
        "#bertmodel = TFBertModel.from_pretrained(\"bert-base-multilingual-cased\")\n",
        "#text = \"Ich bin studentin\"\n",
        "#encoded_input = tokenizer(text, return_tensors='tf')\n",
        "#output = bertmodel(encoded_input)\n",
        "#print(\"******************************\")\n",
        "#print(tokenizer)\n",
        "#print(encoded_input)\n",
        "#print(output)\n",
        "\n",
        "\n",
        "model_nameDe = \"/content/drive/MyDrive/MT/paracrawl_de_en_converter\"\n",
        "tf.keras.utils.get_file(\n",
        "    f\"{model_nameDe}.zip\",\n",
        "    f\"file://{model_nameDe}.zip\",\n",
        "    cache_dir='.', cache_subdir='', extract=True\n",
        ")\n",
        "#wmt19_translate_de_en_converter"
      ],
      "execution_count": 7,
      "outputs": [
        {
          "output_type": "execute_result",
          "data": {
            "application/vnd.google.colaboratory.intrinsic+json": {
              "type": "string"
            },
            "text/plain": [
              "'/content/drive/MyDrive/MT/paracrawl_de_en_converter.zip'"
            ]
          },
          "metadata": {
            "tags": []
          },
          "execution_count": 7
        }
      ]
    },
    {
      "cell_type": "code",
      "metadata": {
        "id": "h5dbGnPXnuI1"
      },
      "source": [
        "tokenizers = tf.saved_model.load(model_nameDe)"
      ],
      "execution_count": 8,
      "outputs": []
    },
    {
      "cell_type": "code",
      "metadata": {
        "id": "s-PCJijfcZ9_",
        "colab": {
          "base_uri": "https://localhost:8080/"
        },
        "outputId": "e0e00180-7c42-4cab-8496-73635b97e0b0"
      },
      "source": [
        "[item for item in dir(tokenizers.en) if not item.startswith('_')]"
      ],
      "execution_count": 9,
      "outputs": [
        {
          "output_type": "execute_result",
          "data": {
            "text/plain": [
              "['detokenize',\n",
              " 'get_reserved_tokens',\n",
              " 'get_vocab_path',\n",
              " 'get_vocab_size',\n",
              " 'lookup',\n",
              " 'tokenize',\n",
              " 'tokenizer',\n",
              " 'vocab']"
            ]
          },
          "metadata": {
            "tags": []
          },
          "execution_count": 9
        }
      ]
    },
    {
      "cell_type": "code",
      "metadata": {
        "id": "0GV-smAAQJtM",
        "colab": {
          "base_uri": "https://localhost:8080/"
        },
        "outputId": "cebf296c-7d2d-4659-e70e-e30dfbce4a21"
      },
      "source": [
        "for en in en_examples.numpy():\n",
        "  print(en.decode('utf-8'))"
      ],
      "execution_count": 10,
      "outputs": [
        {
          "output_type": "stream",
          "text": [
            "Fotos von Quebec - Dächer von Quebec\n",
            "April 2007 In einer nicht so schockierenden, aber sehr relevanten Umfrage, entdeckte BtoBonline das die meisten E-Mail Vermarkter – besonders die auf der business to business Seite- verzichten weiterhin auf die Prüfung Ihrer Kampagnen bevor sie Sie senden.\n",
            "Tschekisten können nicht über ihre eigene Nase hinausblicken [...], sie sind dabei, in gewöhnliche Schlafmützen zu degenerieren und [...] sie wollen nicht die Direktiven des ZK erfüllen. (S. 134)\n"
          ],
          "name": "stdout"
        }
      ]
    },
    {
      "cell_type": "code",
      "metadata": {
        "id": "2fQJq1xB-tOn",
        "colab": {
          "base_uri": "https://localhost:8080/"
        },
        "outputId": "da614950-c554-42f7-f067-b81b71f64e3e"
      },
      "source": [
        "encoded = tokenizers.en.tokenize(en_examples)\n",
        "\n",
        "for row in encoded.to_list():\n",
        "  print(row)"
      ],
      "execution_count": 11,
      "outputs": [
        {
          "output_type": "stream",
          "text": [
            "[2, 1453, 991, 58, 1594, 1296, 1107, 16, 6101, 1018, 991, 58, 1594, 1296, 1107, 3]\n",
            "[2, 1501, 1578, 990, 1030, 1011, 1050, 60, 1190, 3957, 5245, 15, 1049, 1077, 59, 1177, 993, 1799, 1965, 1026, 3960, 15, 4991, 993, 43, 2123, 3678, 1002, 2924, 998, 988, 1463, 46, 16, 1543, 63, 1018, 2562, 1018, 368, 1438, 988, 1003, 989, 3185, 2755, 3185, 1195, 16, 63, 1018, 5969, 2352, 2302, 1003, 988, 2873, 1104, 5974, 1002, 1810, 992, 992, 2436, 17, 3]\n",
            "[2, 61, 1895, 2399, 1206, 1042, 1011, 1029, 1046, 1906, 55, 2272, 1851, 2713, 995, 36, 17, 17, 17, 38, 15, 992, 1015, 1297, 15, 990, 48, 993, 4120, 993, 60, 1190, 1586, 1129, 1047, 4642, 996, 1233, 1218, 4912, 1234, 987, 36, 17, 17, 17, 38, 992, 1375, 1011, 988, 1314, 2103, 1004, 67, 1109, 3054, 17, 11, 60, 17, 1316, 1257, 12, 3]\n"
          ],
          "name": "stdout"
        }
      ]
    },
    {
      "cell_type": "markdown",
      "metadata": {
        "id": "dBRlikwDR2Lu"
      },
      "source": [
        "The `detokenize` method attempts to convert these token IDs back to human readable text: "
      ]
    },
    {
      "cell_type": "code",
      "metadata": {
        "id": "Tpqx1aug3W31",
        "colab": {
          "base_uri": "https://localhost:8080/"
        },
        "outputId": "85c6b4b4-a7ab-4f14-af36-7484309dd1ae"
      },
      "source": [
        "round_trip = tokenizers.en.detokenize(encoded)\n",
        "for line in round_trip.numpy():\n",
        "  print(line.decode('utf-8'))"
      ],
      "execution_count": 12,
      "outputs": [
        {
          "output_type": "stream",
          "text": [
            "fotos von quebec - dacher von quebec\n",
            "april 2007 in einer nicht so schockierenden , aber sehr relevanten umfrage , entdeckte btobonline das die meisten e - mail vermarkter – besonders die auf der business to business seite - verzichten weiterhin auf die prufung ihrer kampagnen bevor sie sie senden .\n",
            "tschekisten konnen nicht uber ihre eigene nase hinausblicken [ . . . ] , sie sind dabei , in gewohnliche schlafmutzen zu degenerieren und [ . . . ] sie wollen nicht die direktiven des zk erfullen . ( s . 134 )\n"
          ],
          "name": "stdout"
        }
      ]
    },
    {
      "cell_type": "markdown",
      "metadata": {
        "id": "e5mGvytArL9g"
      },
      "source": [
        "The lower level `lookup` method converts from token-IDs to token text:"
      ]
    },
    {
      "cell_type": "code",
      "metadata": {
        "id": "RpzRLzvIuN3R",
        "colab": {
          "base_uri": "https://localhost:8080/"
        },
        "outputId": "49f249f1-e22f-4490-ffd9-41521a2a42b3"
      },
      "source": [
        "tokens = tokenizers.en.lookup(encoded)\n",
        "tokens"
      ],
      "execution_count": 13,
      "outputs": [
        {
          "output_type": "execute_result",
          "data": {
            "text/plain": [
              "<tf.RaggedTensor [[b'[START]', b'fotos', b'von', b'q', b'##ue', b'##be', b'##c', b'-', b'dach', b'##er', b'von', b'q', b'##ue', b'##be', b'##c', b'[END]'], [b'[START]', b'april', b'2007', b'in', b'einer', b'nicht', b'so', b's', b'##ch', b'##ock', b'##ierenden', b',', b'aber', b'sehr', b'r', b'##el', b'##e', b'##va', b'##nten', b'um', b'##frage', b',', b'entdeckt', b'##e', b'b', b'##to', b'##bo', b'##n', b'##line', b'das', b'die', b'meisten', b'e', b'-', b'mail', b'v', b'##er', b'##markt', b'##er', b'\\xe2\\x80\\x93', b'besonders', b'die', b'auf', b'der', b'business', b'to', b'business', b'seite', b'-', b'v', b'##er', b'##zi', b'##chten', b'weiterhin', b'auf', b'die', b'prufung', b'ihrer', b'kampagne', b'##n', b'bevor', b'sie', b'sie', b'senden', b'.', b'[END]'], [b'[START]', b't', b'##sche', b'##ki', b'##sten', b'konnen', b'nicht', b'uber', b'ihre', b'eigene', b'n', b'##ase', b'hinaus', b'##blick', b'##en', b'[', b'.', b'.', b'.', b']', b',', b'sie', b'sind', b'dabei', b',', b'in', b'g', b'##e', b'##wohnlich', b'##e', b's', b'##ch', b'##la', b'##f', b'##m', b'##utzen', b'zu', b'de', b'##gen', b'##erie', b'##ren', b'und', b'[', b'.', b'.', b'.', b']', b'sie', b'wollen', b'nicht', b'die', b'direkt', b'##iven', b'des', b'z', b'##k', b'erfullen', b'.', b'(', b's', b'.', b'13', b'##4', b')', b'[END]']]>"
            ]
          },
          "metadata": {
            "tags": []
          },
          "execution_count": 13
        }
      ]
    },
    {
      "cell_type": "markdown",
      "metadata": {
        "id": "5V8Ix_PNSfhV"
      },
      "source": [
        "Here you can see the \"subword\" aspect of the tokenizers. The word \"searchability\" is decomposed into \"search ##ability\" and the word \"serindipity\" into \"s ##ere ##nd ##ip ##ity\""
      ]
    },
    {
      "cell_type": "markdown",
      "metadata": {
        "id": "fd1NWMxjfsDd"
      },
      "source": [
        "## Setup input pipeline"
      ]
    },
    {
      "cell_type": "markdown",
      "metadata": {
        "id": "E7JHK7N7tNZy"
      },
      "source": [
        "To build an input pipeline suitable for training you'll apply some transformations to the dataset.\n",
        "\n",
        "This function will be used to encode the batches of raw text:"
      ]
    },
    {
      "cell_type": "code",
      "metadata": {
        "id": "6shgzEck3FiV"
      },
      "source": [
        "def tokenize_pairs(de, en):\n",
        "    de = tokenizers.de.tokenize(de)\n",
        "    # Convert from ragged to dense, padding with zeros.\n",
        "    de = de.to_tensor()\n",
        "\n",
        "    en = tokenizers.en.tokenize(en)\n",
        "    # Convert from ragged to dense, padding with zeros.\n",
        "    en = en.to_tensor()\n",
        "    return de, en"
      ],
      "execution_count": 14,
      "outputs": []
    },
    {
      "cell_type": "code",
      "metadata": {
        "id": "F6tZunvdv8rt"
      },
      "source": [
        "#def tokenize_pairs(de, en):\n",
        "#    de = tokenizers.pt.tokenize(de)\n",
        "#    # Convert from ragged to dense, padding with zeros.\n",
        "#    de = de.to_tensor()\n",
        "#    de_enc = tokenizer(de, return_tensors='tf')\n",
        "#    en_enc = tokenizer(en, return_tensors='tf')\n",
        "#    en = tokenizers.en.tokenize(en)\n",
        "#    # Convert from ragged to dense, padding with zeros.\n",
        "#    en = en.to_tensor()\n",
        "#    return de_enc, en_enc"
      ],
      "execution_count": 15,
      "outputs": []
    },
    {
      "cell_type": "markdown",
      "metadata": {
        "id": "cf2HwC_0wG0v"
      },
      "source": [
        "Here's a simple input pipeline that processes, shuffles and batches the data:"
      ]
    },
    {
      "cell_type": "code",
      "metadata": {
        "id": "bcRp7VcQ5m6g"
      },
      "source": [
        "BUFFER_SIZE = 20000\n",
        "BATCH_SIZE = 64"
      ],
      "execution_count": 16,
      "outputs": []
    },
    {
      "cell_type": "code",
      "metadata": {
        "id": "BUN_jLBTwNxk",
        "colab": {
          "base_uri": "https://localhost:8080/"
        },
        "outputId": "e8fe137c-dc63-4490-ae1e-374dc837fbc0"
      },
      "source": [
        "def make_batches(ds):\n",
        "  return (\n",
        "      ds\n",
        "      .cache()\n",
        "      .shuffle(BUFFER_SIZE)\n",
        "      .batch(BATCH_SIZE)\n",
        "      .map(tokenize_pairs, num_parallel_calls=tf.data.AUTOTUNE)\n",
        "      .prefetch(tf.data.AUTOTUNE))\n",
        "\n",
        "print(train_examplesDe)\n",
        "train_batches = make_batches(train_examplesDe)\n",
        "#val_batches = make_batches(val_examples)"
      ],
      "execution_count": 17,
      "outputs": [
        {
          "output_type": "stream",
          "text": [
            "<TakeDataset shapes: ((), ()), types: (tf.string, tf.string)>\n"
          ],
          "name": "stdout"
        }
      ]
    },
    {
      "cell_type": "markdown",
      "metadata": {
        "id": "nBQuibYA4n0n"
      },
      "source": [
        "## Positional encoding\n",
        "\n",
        "Since this model doesn't contain any recurrence or convolution, positional encoding is added to give the model some information about the relative position of the words in the sentence. \n",
        "\n",
        "The positional encoding vector is added to the embedding vector. Embeddings represent a token in a d-dimensional space where tokens with similar meaning will be closer to each other. But the embeddings do not encode the relative position of words in a sentence. So after adding the positional encoding, words will be closer to each other based on the *similarity of their meaning and their position in the sentence*, in the d-dimensional space.\n",
        "\n",
        "See the notebook on [positional encoding](https://github.com/tensorflow/examples/blob/master/community/en/position_encoding.ipynb) to learn more about it. The formula for calculating the positional encoding is as follows:\n",
        "\n",
        "$$\\Large{PE_{(pos, 2i)} = \\sin(pos / 10000^{2i / d_{model}})} $$\n",
        "$$\\Large{PE_{(pos, 2i+1)} = \\cos(pos / 10000^{2i / d_{model}})} $$"
      ]
    },
    {
      "cell_type": "code",
      "metadata": {
        "id": "WhIOZjMNKujn"
      },
      "source": [
        "def get_angles(pos, i, d_model):\n",
        "  angle_rates = 1 / np.power(10000, (2 * (i//2)) / np.float32(d_model))\n",
        "  return pos * angle_rates"
      ],
      "execution_count": 18,
      "outputs": []
    },
    {
      "cell_type": "code",
      "metadata": {
        "id": "1Rz82wEs5biZ"
      },
      "source": [
        "def positional_encoding(position, d_model):\n",
        "  angle_rads = get_angles(np.arange(position)[:, np.newaxis],\n",
        "                          np.arange(d_model)[np.newaxis, :],\n",
        "                          d_model)\n",
        "\n",
        "  # apply sin to even indices in the array; 2i\n",
        "  angle_rads[:, 0::2] = np.sin(angle_rads[:, 0::2])\n",
        "\n",
        "  # apply cos to odd indices in the array; 2i+1\n",
        "  angle_rads[:, 1::2] = np.cos(angle_rads[:, 1::2])\n",
        "\n",
        "  pos_encoding = angle_rads[np.newaxis, ...]\n",
        "\n",
        "  return tf.cast(pos_encoding, dtype=tf.float32)"
      ],
      "execution_count": 19,
      "outputs": []
    },
    {
      "cell_type": "code",
      "metadata": {
        "id": "1kLCla68EloE",
        "colab": {
          "base_uri": "https://localhost:8080/",
          "height": 301
        },
        "outputId": "5ea0d9e5-83e0-47e9-afd2-2eba75e5478f"
      },
      "source": [
        "n, d = 2048, 512\n",
        "pos_encoding = positional_encoding(n, d)\n",
        "print(pos_encoding.shape)\n",
        "pos_encoding = pos_encoding[0]\n",
        "\n",
        "# Juggle the dimensions for the plot\n",
        "pos_encoding = tf.reshape(pos_encoding, (n, d//2, 2))\n",
        "pos_encoding = tf.transpose(pos_encoding, (2, 1, 0))\n",
        "pos_encoding = tf.reshape(pos_encoding, (d, n))\n",
        "\n",
        "plt.pcolormesh(pos_encoding, cmap='RdBu')\n",
        "plt.ylabel('Depth')\n",
        "plt.xlabel('Position')\n",
        "plt.colorbar()\n",
        "plt.show()"
      ],
      "execution_count": 20,
      "outputs": [
        {
          "output_type": "stream",
          "text": [
            "(1, 2048, 512)\n"
          ],
          "name": "stdout"
        },
        {
          "output_type": "display_data",
          "data": {
            "image/png": "[encoded data removed]",
            "text/plain": [
              "<Figure size 432x288 with 2 Axes>"
            ]
          },
          "metadata": {
            "tags": [],
            "needs_background": "light"
          }
        }
      ]
    },
    {
      "cell_type": "markdown",
      "metadata": {
        "id": "a_b4ou4TYqUN"
      },
      "source": [
        "## Masking"
      ]
    },
    {
      "cell_type": "markdown",
      "metadata": {
        "id": "s42Uydjkv0hF"
      },
      "source": [
        "Mask all the pad tokens in the batch of sequence. It ensures that the model does not treat padding as the input. The mask indicates where pad value `0` is present: it outputs a `1` at those locations, and a `0` otherwise."
      ]
    },
    {
      "cell_type": "code",
      "metadata": {
        "id": "U2i8-e1s8ti9"
      },
      "source": [
        "def create_padding_mask(seq):\n",
        "  seq = tf.cast(tf.math.equal(seq, 0), tf.float32)\n",
        "\n",
        "  # add extra dimensions to add the padding\n",
        "  # to the attention logits.\n",
        "  return seq[:, tf.newaxis, tf.newaxis, :]  # (batch_size, 1, 1, seq_len)"
      ],
      "execution_count": 21,
      "outputs": []
    },
    {
      "cell_type": "code",
      "metadata": {
        "id": "A7BYeBCNvi7n",
        "colab": {
          "base_uri": "https://localhost:8080/"
        },
        "outputId": "af36ebb0-6b08-441c-8d82-ab5a80ba4dcc"
      },
      "source": [
        "x = tf.constant([[7, 6, 0, 0, 1], [1, 2, 3, 0, 0], [0, 0, 0, 4, 5]])\n",
        "create_padding_mask(x)"
      ],
      "execution_count": 22,
      "outputs": [
        {
          "output_type": "execute_result",
          "data": {
            "text/plain": [
              "<tf.Tensor: shape=(3, 1, 1, 5), dtype=float32, numpy=\n",
              "array([[[[0., 0., 1., 1., 0.]]],\n",
              "\n",
              "\n",
              "       [[[0., 0., 0., 1., 1.]]],\n",
              "\n",
              "\n",
              "       [[[1., 1., 1., 0., 0.]]]], dtype=float32)>"
            ]
          },
          "metadata": {
            "tags": []
          },
          "execution_count": 22
        }
      ]
    },
    {
      "cell_type": "markdown",
      "metadata": {
        "id": "Z0hzukDBgVom"
      },
      "source": [
        "The look-ahead mask is used to mask the future tokens in a sequence. In other words, the mask indicates which entries should not be used.\n",
        "\n",
        "This means that to predict the third word, only the first and second word will be used. Similarly to predict the fourth word, only the first, second and the third word will be used and so on."
      ]
    },
    {
      "cell_type": "code",
      "metadata": {
        "id": "dVxS8OPI9uI0"
      },
      "source": [
        "def create_look_ahead_mask(size):\n",
        "  mask = 1 - tf.linalg.band_part(tf.ones((size, size)), -1, 0)\n",
        "  return mask  # (seq_len, seq_len)"
      ],
      "execution_count": 23,
      "outputs": []
    },
    {
      "cell_type": "code",
      "metadata": {
        "id": "yxKGuXxaBeeE",
        "colab": {
          "base_uri": "https://localhost:8080/"
        },
        "outputId": "b3bd6ffb-64a6-4415-c910-c8bfcd7e4aab"
      },
      "source": [
        "x = tf.random.uniform((1, 3))\n",
        "temp = create_look_ahead_mask(x.shape[1])\n",
        "temp"
      ],
      "execution_count": 24,
      "outputs": [
        {
          "output_type": "execute_result",
          "data": {
            "text/plain": [
              "<tf.Tensor: shape=(3, 3), dtype=float32, numpy=\n",
              "array([[0., 1., 1.],\n",
              "       [0., 0., 1.],\n",
              "       [0., 0., 0.]], dtype=float32)>"
            ]
          },
          "metadata": {
            "tags": []
          },
          "execution_count": 24
        }
      ]
    },
    {
      "cell_type": "markdown",
      "metadata": {
        "id": "xluDl5cXYy4y"
      },
      "source": [
        "## Scaled dot product attention"
      ]
    },
    {
      "cell_type": "markdown",
      "metadata": {
        "id": "vsxEE_-Wa1gF"
      },
      "source": [
        "<img src=\"https://www.tensorflow.org/images/tutorials/transformer/scaled_attention.png\" width=\"500\" alt=\"scaled_dot_product_attention\">\n",
        "\n",
        "The attention function used by the transformer takes three inputs: Q (query), K (key), V (value). The equation used to calculate the attention weights is:\n",
        "\n",
        "$$\\Large{Attention(Q, K, V) = softmax_k\\left(\\frac{QK^T}{\\sqrt{d_k}}\\right) V} $$\n",
        "\n",
        "The dot-product attention is scaled by a factor of square root of the depth. This is done because for large values of depth, the dot product grows large in magnitude pushing the softmax function where it has small gradients resulting in a very hard softmax. \n",
        "\n",
        "For example, consider that `Q` and `K` have a mean of 0 and variance of 1. Their matrix multiplication will have a mean of 0 and variance of `dk`. So the *square root of `dk`* is used for scaling, so you get a consistent variance regardless of the value of `dk`. If the variance is too low the output may be too flat to optimize effectively. If the variance is too high the softmax may saturate at initilization making it dificult to learn. \n",
        "\n",
        "The mask is multiplied with -1e9 (close to negative infinity). This is done because the mask is summed with the scaled matrix multiplication of Q and K and is applied immediately before a softmax. The goal is to zero out these cells, and large negative inputs to softmax are near zero in the output."
      ]
    },
    {
      "cell_type": "code",
      "metadata": {
        "id": "LazzUq3bJ5SH"
      },
      "source": [
        "def scaled_dot_product_attention(q, k, v, mask):\n",
        "  \"\"\"Calculate the attention weights.\n",
        "  q, k, v must have matching leading dimensions.\n",
        "  k, v must have matching penultimate dimension, i.e.: seq_len_k = seq_len_v.\n",
        "  The mask has different shapes depending on its type(padding or look ahead)\n",
        "  but it must be broadcastable for addition.\n",
        "\n",
        "  Args:\n",
        "    q: query shape == (..., seq_len_q, depth)\n",
        "    k: key shape == (..., seq_len_k, depth)\n",
        "    v: value shape == (..., seq_len_v, depth_v)\n",
        "    mask: Float tensor with shape broadcastable\n",
        "          to (..., seq_len_q, seq_len_k). Defaults to None.\n",
        "\n",
        "  Returns:\n",
        "    output, attention_weights\n",
        "  \"\"\"\n",
        "\n",
        "  matmul_qk = tf.matmul(q, k, transpose_b=True)  # (..., seq_len_q, seq_len_k)\n",
        "\n",
        "  # scale matmul_qk\n",
        "  dk = tf.cast(tf.shape(k)[-1], tf.float32)\n",
        "  scaled_attention_logits = matmul_qk / tf.math.sqrt(dk)\n",
        "\n",
        "  # add the mask to the scaled tensor.\n",
        "  if mask is not None:\n",
        "    scaled_attention_logits += (mask * -1e9)\n",
        "\n",
        "  # softmax is normalized on the last axis (seq_len_k) so that the scores\n",
        "  # add up to 1.\n",
        "  attention_weights = tf.nn.softmax(scaled_attention_logits, axis=-1)  # (..., seq_len_q, seq_len_k)\n",
        "\n",
        "  output = tf.matmul(attention_weights, v)  # (..., seq_len_q, depth_v)\n",
        "\n",
        "  return output, attention_weights"
      ],
      "execution_count": 25,
      "outputs": []
    },
    {
      "cell_type": "markdown",
      "metadata": {
        "id": "FiqETnhCkoXh"
      },
      "source": [
        "As the softmax normalization is done on K, its values decide the amount of importance given to Q.\n",
        "\n",
        "The output represents the multiplication of the attention weights and the V (value) vector. This ensures that the words you want to focus on are kept as-is and the irrelevant words are flushed out."
      ]
    },
    {
      "cell_type": "code",
      "metadata": {
        "id": "n90YjClyInFy"
      },
      "source": [
        "def print_out(q, k, v):\n",
        "  temp_out, temp_attn = scaled_dot_product_attention(\n",
        "      q, k, v, None)\n",
        "  print('Attention weights are:')\n",
        "  print(temp_attn)\n",
        "  print('Output is:')\n",
        "  print(temp_out)"
      ],
      "execution_count": 26,
      "outputs": []
    },
    {
      "cell_type": "code",
      "metadata": {
        "id": "yAzUAf2DPlNt",
        "colab": {
          "base_uri": "https://localhost:8080/"
        },
        "outputId": "684417c4-787c-4f54-ac3f-a55169958766"
      },
      "source": [
        "np.set_printoptions(suppress=True)\n",
        "\n",
        "temp_k = tf.constant([[10, 0, 0],\n",
        "                      [0, 10, 0],\n",
        "                      [0, 0, 10],\n",
        "                      [0, 0, 10]], dtype=tf.float32)  # (4, 3)\n",
        "\n",
        "temp_v = tf.constant([[1, 0],\n",
        "                      [10, 0],\n",
        "                      [100, 5],\n",
        "                      [1000, 6]], dtype=tf.float32)  # (4, 2)\n",
        "\n",
        "# This `query` aligns with the second `key`,\n",
        "# so the second `value` is returned.\n",
        "temp_q = tf.constant([[0, 10, 0]], dtype=tf.float32)  # (1, 3)\n",
        "print_out(temp_q, temp_k, temp_v)"
      ],
      "execution_count": 27,
      "outputs": [
        {
          "output_type": "stream",
          "text": [
            "Attention weights are:\n",
            "tf.Tensor([[0. 1. 0. 0.]], shape=(1, 4), dtype=float32)\n",
            "Output is:\n",
            "tf.Tensor([[10.  0.]], shape=(1, 2), dtype=float32)\n"
          ],
          "name": "stdout"
        }
      ]
    },
    {
      "cell_type": "code",
      "metadata": {
        "id": "zg6k-fGhgXra",
        "colab": {
          "base_uri": "https://localhost:8080/"
        },
        "outputId": "af70c7a9-1823-44a1-9cbb-7ee451d3f018"
      },
      "source": [
        "# This query aligns with a repeated key (third and fourth),\n",
        "# so all associated values get averaged.\n",
        "temp_q = tf.constant([[0, 0, 10]], dtype=tf.float32)  # (1, 3)\n",
        "print_out(temp_q, temp_k, temp_v)"
      ],
      "execution_count": 28,
      "outputs": [
        {
          "output_type": "stream",
          "text": [
            "Attention weights are:\n",
            "tf.Tensor([[0.  0.  0.5 0.5]], shape=(1, 4), dtype=float32)\n",
            "Output is:\n",
            "tf.Tensor([[550.    5.5]], shape=(1, 2), dtype=float32)\n"
          ],
          "name": "stdout"
        }
      ]
    },
    {
      "cell_type": "code",
      "metadata": {
        "id": "UAq3YOzUgXhb",
        "colab": {
          "base_uri": "https://localhost:8080/"
        },
        "outputId": "1d77cb8a-fa50-4125-d718-59be18b8d8e4"
      },
      "source": [
        "# This query aligns equally with the first and second key,\n",
        "# so their values get averaged.\n",
        "temp_q = tf.constant([[10, 10, 0]], dtype=tf.float32)  # (1, 3)\n",
        "print_out(temp_q, temp_k, temp_v)"
      ],
      "execution_count": 29,
      "outputs": [
        {
          "output_type": "stream",
          "text": [
            "Attention weights are:\n",
            "tf.Tensor([[0.5 0.5 0.  0. ]], shape=(1, 4), dtype=float32)\n",
            "Output is:\n",
            "tf.Tensor([[5.5 0. ]], shape=(1, 2), dtype=float32)\n"
          ],
          "name": "stdout"
        }
      ]
    },
    {
      "cell_type": "markdown",
      "metadata": {
        "id": "aOz-4_XIhaTP"
      },
      "source": [
        "Pass all the queries together."
      ]
    },
    {
      "cell_type": "code",
      "metadata": {
        "id": "6dlU8Tm-hYrF",
        "colab": {
          "base_uri": "https://localhost:8080/"
        },
        "outputId": "6877caac-f7d4-4fd7-930f-9e7012f9ea64"
      },
      "source": [
        "temp_q = tf.constant([[0, 0, 10],\n",
        "                      [0, 10, 0],\n",
        "                      [10, 10, 0]], dtype=tf.float32)  # (3, 3)\n",
        "print_out(temp_q, temp_k, temp_v)"
      ],
      "execution_count": 30,
      "outputs": [
        {
          "output_type": "stream",
          "text": [
            "Attention weights are:\n",
            "tf.Tensor(\n",
            "[[0.  0.  0.5 0.5]\n",
            " [0.  1.  0.  0. ]\n",
            " [0.5 0.5 0.  0. ]], shape=(3, 4), dtype=float32)\n",
            "Output is:\n",
            "tf.Tensor(\n",
            "[[550.    5.5]\n",
            " [ 10.    0. ]\n",
            " [  5.5   0. ]], shape=(3, 2), dtype=float32)\n"
          ],
          "name": "stdout"
        }
      ]
    },
    {
      "cell_type": "markdown",
      "metadata": {
        "id": "kmzGPEy64qmA"
      },
      "source": [
        "## Multi-head attention"
      ]
    },
    {
      "cell_type": "markdown",
      "metadata": {
        "id": "fz5BMC8Kaoqo"
      },
      "source": [
        "<img src=\"https://www.tensorflow.org/images/tutorials/transformer/multi_head_attention.png\" width=\"500\" alt=\"multi-head attention\">\n",
        "\n",
        "\n",
        "Multi-head attention consists of four parts:\n",
        "*    Linear layers and split into heads.\n",
        "*    Scaled dot-product attention.\n",
        "*    Concatenation of heads.\n",
        "*    Final linear layer."
      ]
    },
    {
      "cell_type": "markdown",
      "metadata": {
        "id": "JPmbr6F1C-v_"
      },
      "source": [
        "Each multi-head attention block gets three inputs; Q (query), K (key), V (value). These are put through linear (Dense) layers and split up into multiple heads. \n",
        "\n",
        "The `scaled_dot_product_attention` defined above is applied to each head (broadcasted for efficiency). An appropriate mask must be used in the attention step.  The attention output for each head is then concatenated (using `tf.transpose`, and `tf.reshape`) and put through a final `Dense` layer.\n",
        "\n",
        "Instead of one single attention head, Q, K, and V are split into multiple heads because it allows the model to jointly attend to information at different positions from different representational spaces. After the split each head has a reduced dimensionality, so the total computation cost is the same as a single head attention with full dimensionality."
      ]
    },
    {
      "cell_type": "code",
      "metadata": {
        "id": "BSV3PPKsYecw"
      },
      "source": [
        "class MultiHeadAttention(tf.keras.layers.Layer):\n",
        "  def __init__(self, d_model, num_heads):\n",
        "    super(MultiHeadAttention, self).__init__()\n",
        "    self.num_heads = num_heads\n",
        "    self.d_model = d_model\n",
        "\n",
        "    assert d_model % self.num_heads == 0\n",
        "\n",
        "    self.depth = d_model // self.num_heads\n",
        "\n",
        "    self.wq = tf.keras.layers.Dense(d_model)\n",
        "    self.wk = tf.keras.layers.Dense(d_model)\n",
        "    self.wv = tf.keras.layers.Dense(d_model)\n",
        "\n",
        "    self.dense = tf.keras.layers.Dense(d_model)\n",
        "\n",
        "  def split_heads(self, x, batch_size):\n",
        "    \"\"\"Split the last dimension into (num_heads, depth).\n",
        "    Transpose the result such that the shape is (batch_size, num_heads, seq_len, depth)\n",
        "    \"\"\"\n",
        "    x = tf.reshape(x, (batch_size, -1, self.num_heads, self.depth))\n",
        "    return tf.transpose(x, perm=[0, 2, 1, 3])\n",
        "\n",
        "  def call(self, v, k, q, mask):\n",
        "    batch_size = tf.shape(q)[0]\n",
        "\n",
        "    q = self.wq(q)  # (batch_size, seq_len, d_model)\n",
        "    k = self.wk(k)  # (batch_size, seq_len, d_model)\n",
        "    v = self.wv(v)  # (batch_size, seq_len, d_model)\n",
        "\n",
        "    q = self.split_heads(q, batch_size)  # (batch_size, num_heads, seq_len_q, depth)\n",
        "    k = self.split_heads(k, batch_size)  # (batch_size, num_heads, seq_len_k, depth)\n",
        "    v = self.split_heads(v, batch_size)  # (batch_size, num_heads, seq_len_v, depth)\n",
        "\n",
        "    # scaled_attention.shape == (batch_size, num_heads, seq_len_q, depth)\n",
        "    # attention_weights.shape == (batch_size, num_heads, seq_len_q, seq_len_k)\n",
        "    scaled_attention, attention_weights = scaled_dot_product_attention(\n",
        "        q, k, v, mask)\n",
        "\n",
        "    scaled_attention = tf.transpose(scaled_attention, perm=[0, 2, 1, 3])  # (batch_size, seq_len_q, num_heads, depth)\n",
        "\n",
        "    concat_attention = tf.reshape(scaled_attention,\n",
        "                                  (batch_size, -1, self.d_model))  # (batch_size, seq_len_q, d_model)\n",
        "\n",
        "    output = self.dense(concat_attention)  # (batch_size, seq_len_q, d_model)\n",
        "\n",
        "    return output, attention_weights"
      ],
      "execution_count": 31,
      "outputs": []
    },
    {
      "cell_type": "markdown",
      "metadata": {
        "id": "0D8FJue5lDyZ"
      },
      "source": [
        "Create a `MultiHeadAttention` layer to try out. At each location in the sequence, `y`, the `MultiHeadAttention` runs all 8 attention heads across all other locations in the sequence, returning a new vector of the same length at each location."
      ]
    },
    {
      "cell_type": "code",
      "metadata": {
        "id": "Hu94p-_-2_BX",
        "colab": {
          "base_uri": "https://localhost:8080/"
        },
        "outputId": "3c732a6a-32ad-4f88-ff82-72ba3d34cf08"
      },
      "source": [
        "temp_mha = MultiHeadAttention(d_model=512, num_heads=8)\n",
        "y = tf.random.uniform((1, 60, 512))  # (batch_size, encoder_sequence, d_model)\n",
        "out, attn = temp_mha(y, k=y, q=y, mask=None)\n",
        "out.shape, attn.shape"
      ],
      "execution_count": 32,
      "outputs": [
        {
          "output_type": "execute_result",
          "data": {
            "text/plain": [
              "(TensorShape([1, 60, 512]), TensorShape([1, 8, 60, 60]))"
            ]
          },
          "metadata": {
            "tags": []
          },
          "execution_count": 32
        }
      ]
    },
    {
      "cell_type": "markdown",
      "metadata": {
        "id": "RdDqGayx67vv"
      },
      "source": [
        "## Point wise feed forward network"
      ]
    },
    {
      "cell_type": "markdown",
      "metadata": {
        "id": "gBqzJXGfHK3X"
      },
      "source": [
        "Point wise feed forward network consists of two fully-connected layers with a ReLU activation in between."
      ]
    },
    {
      "cell_type": "code",
      "metadata": {
        "id": "ET7xLt0yCT6Z"
      },
      "source": [
        "def point_wise_feed_forward_network(d_model, dff):\n",
        "  return tf.keras.Sequential([\n",
        "      tf.keras.layers.Dense(dff, activation='relu'),  # (batch_size, seq_len, dff)\n",
        "      tf.keras.layers.Dense(d_model)  # (batch_size, seq_len, d_model)\n",
        "  ])"
      ],
      "execution_count": 33,
      "outputs": []
    },
    {
      "cell_type": "code",
      "metadata": {
        "id": "mytb1lPyOHLB",
        "colab": {
          "base_uri": "https://localhost:8080/"
        },
        "outputId": "3de431e2-518c-4434-c301-b7c641a1cd7d"
      },
      "source": [
        "sample_ffn = point_wise_feed_forward_network(512, 2048)\n",
        "sample_ffn(tf.random.uniform((64, 50, 512))).shape"
      ],
      "execution_count": 34,
      "outputs": [
        {
          "output_type": "execute_result",
          "data": {
            "text/plain": [
              "TensorShape([64, 50, 512])"
            ]
          },
          "metadata": {
            "tags": []
          },
          "execution_count": 34
        }
      ]
    },
    {
      "cell_type": "markdown",
      "metadata": {
        "id": "7e7hKcxn6-zd"
      },
      "source": [
        "## Encoder and decoder"
      ]
    },
    {
      "cell_type": "markdown",
      "metadata": {
        "id": "yScbC0MUH8dS"
      },
      "source": [
        "<img src=\"https://www.tensorflow.org/images/tutorials/transformer/transformer.png\" width=\"600\" alt=\"transformer\">"
      ]
    },
    {
      "cell_type": "markdown",
      "metadata": {
        "id": "MfYJG-Kvgwy2"
      },
      "source": [
        "The transformer model follows the same general pattern as a standard [sequence to sequence with attention model](nmt_with_attention.ipynb). \n",
        "\n",
        "* The input sentence is passed through `N` encoder layers that generates an output for each word/token in the sequence.\n",
        "* The decoder attends on the encoder's output and its own input (self-attention) to predict the next word. "
      ]
    },
    {
      "cell_type": "markdown",
      "metadata": {
        "id": "QFv-FNYUmvpn"
      },
      "source": [
        "### Encoder layer\n",
        "\n",
        "Each encoder layer consists of sublayers:\n",
        "\n",
        "1.   Multi-head attention (with padding mask) \n",
        "2.    Point wise feed forward networks. \n",
        "\n",
        "Each of these sublayers has a residual connection around it followed by a layer normalization. Residual connections help in avoiding the vanishing gradient problem in deep networks.\n",
        "\n",
        "The output of each sublayer is `LayerNorm(x + Sublayer(x))`. The normalization is done on the `d_model` (last) axis. There are N encoder layers in the transformer."
      ]
    },
    {
      "cell_type": "code",
      "metadata": {
        "id": "ncyS-Ms3i2x_"
      },
      "source": [
        "class EncoderLayer(tf.keras.layers.Layer):\n",
        "  def __init__(self, d_model, num_heads, dff, rate=0.1):\n",
        "    super(EncoderLayer, self).__init__()\n",
        "\n",
        "    self.mha = MultiHeadAttention(d_model, num_heads)\n",
        "    self.ffn = point_wise_feed_forward_network(d_model, dff)\n",
        "\n",
        "    self.layernorm1 = tf.keras.layers.LayerNormalization(epsilon=1e-6)\n",
        "    self.layernorm2 = tf.keras.layers.LayerNormalization(epsilon=1e-6)\n",
        "\n",
        "    self.dropout1 = tf.keras.layers.Dropout(rate)\n",
        "    self.dropout2 = tf.keras.layers.Dropout(rate)\n",
        "\n",
        "  def call(self, x, training, mask):\n",
        "\n",
        "    attn_output, _ = self.mha(x, x, x, mask)  # (batch_size, input_seq_len, d_model)\n",
        "    attn_output = self.dropout1(attn_output, training=training)\n",
        "    out1 = self.layernorm1(x + attn_output)  # (batch_size, input_seq_len, d_model)\n",
        "\n",
        "    ffn_output = self.ffn(out1)  # (batch_size, input_seq_len, d_model)\n",
        "    ffn_output = self.dropout2(ffn_output, training=training)\n",
        "    out2 = self.layernorm2(out1 + ffn_output)  # (batch_size, input_seq_len, d_model)\n",
        "\n",
        "    return out2"
      ],
      "execution_count": 35,
      "outputs": []
    },
    {
      "cell_type": "code",
      "metadata": {
        "id": "AzZRXdO0mI48",
        "colab": {
          "base_uri": "https://localhost:8080/"
        },
        "outputId": "3a850ce7-e371-406c-d1ca-48cde939cf99"
      },
      "source": [
        "sample_encoder_layer = EncoderLayer(512, 8, 2048)\n",
        "\n",
        "sample_encoder_layer_output = sample_encoder_layer(\n",
        "    tf.random.uniform((64, 43, 512)), False, None)\n",
        "\n",
        "sample_encoder_layer_output.shape  # (batch_size, input_seq_len, d_model)"
      ],
      "execution_count": 36,
      "outputs": [
        {
          "output_type": "execute_result",
          "data": {
            "text/plain": [
              "TensorShape([64, 43, 512])"
            ]
          },
          "metadata": {
            "tags": []
          },
          "execution_count": 36
        }
      ]
    },
    {
      "cell_type": "markdown",
      "metadata": {
        "id": "6LO_48Owmx_o"
      },
      "source": [
        "### Decoder layer\n",
        "\n",
        "Each decoder layer consists of sublayers:\n",
        "\n",
        "1.   Masked multi-head attention (with look ahead mask and padding mask)\n",
        "2.   Multi-head attention (with padding mask). V (value) and K (key) receive the *encoder output* as inputs. Q (query) receives the *output from the masked multi-head attention sublayer.*\n",
        "3.   Point wise feed forward networks\n",
        "\n",
        "Each of these sublayers has a residual connection around it followed by a layer normalization. The output of each sublayer is `LayerNorm(x + Sublayer(x))`. The normalization is done on the `d_model` (last) axis.\n",
        "\n",
        "There are N decoder layers in the transformer.\n",
        "\n",
        "As Q receives the output from decoder's first attention block, and K receives the encoder output, the attention weights represent the importance given to the decoder's input based on the encoder's output. In other words, the decoder predicts the next word by looking at the encoder output and self-attending to its own output. See the demonstration above in the scaled dot product attention section."
      ]
    },
    {
      "cell_type": "code",
      "metadata": {
        "id": "9SoX0-vd1hue"
      },
      "source": [
        "class DecoderLayer(tf.keras.layers.Layer):\n",
        "  def __init__(self, d_model, num_heads, dff, rate=0.1):\n",
        "    super(DecoderLayer, self).__init__()\n",
        "\n",
        "    self.mha1 = MultiHeadAttention(d_model, num_heads)\n",
        "    self.mha2 = MultiHeadAttention(d_model, num_heads)\n",
        "\n",
        "    self.ffn = point_wise_feed_forward_network(d_model, dff)\n",
        "\n",
        "    self.layernorm1 = tf.keras.layers.LayerNormalization(epsilon=1e-6)\n",
        "    self.layernorm2 = tf.keras.layers.LayerNormalization(epsilon=1e-6)\n",
        "    self.layernorm3 = tf.keras.layers.LayerNormalization(epsilon=1e-6)\n",
        "\n",
        "    self.dropout1 = tf.keras.layers.Dropout(rate)\n",
        "    self.dropout2 = tf.keras.layers.Dropout(rate)\n",
        "    self.dropout3 = tf.keras.layers.Dropout(rate)\n",
        "\n",
        "  def call(self, x, enc_output, training,\n",
        "           look_ahead_mask, padding_mask):\n",
        "    # enc_output.shape == (batch_size, input_seq_len, d_model)\n",
        "\n",
        "    attn1, attn_weights_block1 = self.mha1(x, x, x, look_ahead_mask)  # (batch_size, target_seq_len, d_model)\n",
        "    attn1 = self.dropout1(attn1, training=training)\n",
        "    out1 = self.layernorm1(attn1 + x)\n",
        "\n",
        "    attn2, attn_weights_block2 = self.mha2(\n",
        "        enc_output, enc_output, out1, padding_mask)  # (batch_size, target_seq_len, d_model)\n",
        "    attn2 = self.dropout2(attn2, training=training)\n",
        "    out2 = self.layernorm2(attn2 + out1)  # (batch_size, target_seq_len, d_model)\n",
        "\n",
        "    ffn_output = self.ffn(out2)  # (batch_size, target_seq_len, d_model)\n",
        "    ffn_output = self.dropout3(ffn_output, training=training)\n",
        "    out3 = self.layernorm3(ffn_output + out2)  # (batch_size, target_seq_len, d_model)\n",
        "\n",
        "    return out3, attn_weights_block1, attn_weights_block2"
      ],
      "execution_count": 37,
      "outputs": []
    },
    {
      "cell_type": "code",
      "metadata": {
        "id": "Ne2Bqx8k71l0",
        "colab": {
          "base_uri": "https://localhost:8080/"
        },
        "outputId": "9cca47af-1b32-46b9-91b5-1e6acb51ea18"
      },
      "source": [
        "sample_decoder_layer = DecoderLayer(512, 8, 2048)\n",
        "\n",
        "sample_decoder_layer_output, _, _ = sample_decoder_layer(\n",
        "    tf.random.uniform((64, 50, 512)), sample_encoder_layer_output,\n",
        "    False, None, None)\n",
        "\n",
        "sample_decoder_layer_output.shape  # (batch_size, target_seq_len, d_model)"
      ],
      "execution_count": 38,
      "outputs": [
        {
          "output_type": "execute_result",
          "data": {
            "text/plain": [
              "TensorShape([64, 50, 512])"
            ]
          },
          "metadata": {
            "tags": []
          },
          "execution_count": 38
        }
      ]
    },
    {
      "cell_type": "markdown",
      "metadata": {
        "id": "SE1H51Ajm0q1"
      },
      "source": [
        "### Encoder\n",
        "\n",
        "The `Encoder` consists of:\n",
        "1.   Input Embedding\n",
        "2.   Positional Encoding\n",
        "3.   N encoder layers\n",
        "\n",
        "The input is put through an embedding which is summed with the positional encoding. The output of this summation is the input to the encoder layers. The output of the encoder is the input to the decoder."
      ]
    },
    {
      "cell_type": "code",
      "metadata": {
        "id": "jpEox7gJ8FCI"
      },
      "source": [
        "class Encoder(tf.keras.layers.Layer):\n",
        "  def __init__(self, num_layers, d_model, num_heads, dff, input_vocab_size,\n",
        "               maximum_position_encoding, rate=0.1):\n",
        "    super(Encoder, self).__init__()\n",
        "\n",
        "    self.d_model = d_model\n",
        "    self.num_layers = num_layers\n",
        "\n",
        "    self.embedding = tf.keras.layers.Embedding(input_vocab_size, d_model)\n",
        "    self.pos_encoding = positional_encoding(maximum_position_encoding,\n",
        "                                            self.d_model)\n",
        "\n",
        "    self.enc_layers = [EncoderLayer(d_model, num_heads, dff, rate)\n",
        "                       for _ in range(num_layers)]\n",
        "\n",
        "    self.dropout = tf.keras.layers.Dropout(rate)\n",
        "\n",
        "  def call(self, x, training, mask):\n",
        "\n",
        "    seq_len = tf.shape(x)[1]\n",
        "\n",
        "    # adding embedding and position encoding.\n",
        "    x = self.embedding(x)  # (batch_size, input_seq_len, d_model)\n",
        "    x *= tf.math.sqrt(tf.cast(self.d_model, tf.float32))\n",
        "    x += self.pos_encoding[:, :seq_len, :]\n",
        "\n",
        "    x = self.dropout(x, training=training)\n",
        "\n",
        "    for i in range(self.num_layers):\n",
        "      x = self.enc_layers[i](x, training, mask)\n",
        "\n",
        "    return x  # (batch_size, input_seq_len, d_model)"
      ],
      "execution_count": 39,
      "outputs": []
    },
    {
      "cell_type": "code",
      "metadata": {
        "id": "8QG9nueFQKXx",
        "colab": {
          "base_uri": "https://localhost:8080/"
        },
        "outputId": "33f4beac-ca79-478f-cd02-467c4611d2e6"
      },
      "source": [
        "sample_encoder = Encoder(num_layers=2, d_model=512, num_heads=8,\n",
        "                         dff=2048, input_vocab_size=8500,\n",
        "                         maximum_position_encoding=10000)\n",
        "temp_input = tf.random.uniform((64, 62), dtype=tf.int64, minval=0, maxval=200)\n",
        "\n",
        "sample_encoder_output = sample_encoder(temp_input, training=False, mask=None)\n",
        "\n",
        "print(sample_encoder_output.shape)  # (batch_size, input_seq_len, d_model)"
      ],
      "execution_count": 40,
      "outputs": [
        {
          "output_type": "stream",
          "text": [
            "(64, 62, 512)\n"
          ],
          "name": "stdout"
        }
      ]
    },
    {
      "cell_type": "markdown",
      "metadata": {
        "id": "p-uO6ls8m2O5"
      },
      "source": [
        "### Decoder"
      ]
    },
    {
      "cell_type": "markdown",
      "metadata": {
        "id": "ZtT7PKzrXkNr"
      },
      "source": [
        " The `Decoder` consists of:\n",
        "1.   Output Embedding\n",
        "2.   Positional Encoding\n",
        "3.   N decoder layers\n",
        "\n",
        "The target is put through an embedding which is summed with the positional encoding. The output of this summation is the input to the decoder layers. The output of the decoder is the input to the final linear layer."
      ]
    },
    {
      "cell_type": "code",
      "metadata": {
        "id": "d5_d5-PLQXwY"
      },
      "source": [
        "class Decoder(tf.keras.layers.Layer):\n",
        "  def __init__(self, num_layers, d_model, num_heads, dff, target_vocab_size,\n",
        "               maximum_position_encoding, rate=0.1):\n",
        "    super(Decoder, self).__init__()\n",
        "\n",
        "    self.d_model = d_model\n",
        "    self.num_layers = num_layers\n",
        "\n",
        "    self.embedding = tf.keras.layers.Embedding(target_vocab_size, d_model)\n",
        "    self.pos_encoding = positional_encoding(maximum_position_encoding, d_model)\n",
        "\n",
        "    self.dec_layers = [DecoderLayer(d_model, num_heads, dff, rate)\n",
        "                       for _ in range(num_layers)]\n",
        "    self.dropout = tf.keras.layers.Dropout(rate)\n",
        "\n",
        "  def call(self, x, enc_output, training,\n",
        "           look_ahead_mask, padding_mask):\n",
        "\n",
        "    seq_len = tf.shape(x)[1]\n",
        "    attention_weights = {}\n",
        "\n",
        "    x = self.embedding(x)  # (batch_size, target_seq_len, d_model)\n",
        "    x *= tf.math.sqrt(tf.cast(self.d_model, tf.float32))\n",
        "    x += self.pos_encoding[:, :seq_len, :]\n",
        "\n",
        "    x = self.dropout(x, training=training)\n",
        "\n",
        "    for i in range(self.num_layers):\n",
        "      x, block1, block2 = self.dec_layers[i](x, enc_output, training,\n",
        "                                             look_ahead_mask, padding_mask)\n",
        "\n",
        "      attention_weights[f'decoder_layer{i+1}_block1'] = block1\n",
        "      attention_weights[f'decoder_layer{i+1}_block2'] = block2\n",
        "\n",
        "    # x.shape == (batch_size, target_seq_len, d_model)\n",
        "    return x, attention_weights"
      ],
      "execution_count": 41,
      "outputs": []
    },
    {
      "cell_type": "code",
      "metadata": {
        "id": "a1jXoAMRZyvu",
        "colab": {
          "base_uri": "https://localhost:8080/"
        },
        "outputId": "dcfd58b2-f82e-4342-b118-9cab3d299118"
      },
      "source": [
        "sample_decoder = Decoder(num_layers=2, d_model=512, num_heads=8,\n",
        "                         dff=2048, target_vocab_size=8000,\n",
        "                         maximum_position_encoding=5000)\n",
        "temp_input = tf.random.uniform((64, 26), dtype=tf.int64, minval=0, maxval=200)\n",
        "\n",
        "output, attn = sample_decoder(temp_input,\n",
        "                              enc_output=sample_encoder_output,\n",
        "                              training=False,\n",
        "                              look_ahead_mask=None,\n",
        "                              padding_mask=None)\n",
        "\n",
        "output.shape, attn['decoder_layer2_block2'].shape"
      ],
      "execution_count": 42,
      "outputs": [
        {
          "output_type": "execute_result",
          "data": {
            "text/plain": [
              "(TensorShape([64, 26, 512]), TensorShape([64, 8, 26, 62]))"
            ]
          },
          "metadata": {
            "tags": []
          },
          "execution_count": 42
        }
      ]
    },
    {
      "cell_type": "markdown",
      "metadata": {
        "id": "y54xnJnuYgJ7"
      },
      "source": [
        "## Create the Transformer"
      ]
    },
    {
      "cell_type": "markdown",
      "metadata": {
        "id": "uERO1y54cOKq"
      },
      "source": [
        "Transformer consists of the encoder, decoder and a final linear layer. The output of the decoder is the input to the linear layer and its output is returned."
      ]
    },
    {
      "cell_type": "code",
      "metadata": {
        "id": "PED3bIpOYkBu"
      },
      "source": [
        "class Transformer(tf.keras.Model):\n",
        "  def __init__(self, num_layers, d_model, num_heads, dff, input_vocab_size,\n",
        "               target_vocab_size, pe_input, pe_target, rate=0.1):\n",
        "    super(Transformer, self).__init__()\n",
        "\n",
        "    self.tokenizer = Encoder(num_layers, d_model, num_heads, dff,\n",
        "                             input_vocab_size, pe_input, rate)\n",
        "\n",
        "    self.decoder = Decoder(num_layers, d_model, num_heads, dff,\n",
        "                           target_vocab_size, pe_target, rate)\n",
        "\n",
        "    self.final_layer = tf.keras.layers.Dense(target_vocab_size)\n",
        "\n",
        "  def call(self, inp, tar, training, enc_padding_mask,\n",
        "           look_ahead_mask, dec_padding_mask):\n",
        "\n",
        "    enc_output = self.tokenizer(inp, training, enc_padding_mask)  # (batch_size, inp_seq_len, d_model)\n",
        "\n",
        "    # dec_output.shape == (batch_size, tar_seq_len, d_model)\n",
        "    dec_output, attention_weights = self.decoder(\n",
        "        tar, enc_output, training, look_ahead_mask, dec_padding_mask)\n",
        "\n",
        "    final_output = self.final_layer(dec_output)  # (batch_size, tar_seq_len, target_vocab_size)\n",
        "\n",
        "    return final_output, attention_weights"
      ],
      "execution_count": 43,
      "outputs": []
    },
    {
      "cell_type": "code",
      "metadata": {
        "id": "tJ4fbQcIkHW1",
        "colab": {
          "base_uri": "https://localhost:8080/"
        },
        "outputId": "166531d5-d87b-491d-d5ce-39799d59f579"
      },
      "source": [
        "sample_transformer = Transformer(\n",
        "    num_layers=2, d_model=512, num_heads=8, dff=2048,\n",
        "    input_vocab_size=8500, target_vocab_size=8000,\n",
        "    pe_input=10000, pe_target=6000)\n",
        "\n",
        "temp_input = tf.random.uniform((64, 38), dtype=tf.int64, minval=0, maxval=200)\n",
        "temp_target = tf.random.uniform((64, 36), dtype=tf.int64, minval=0, maxval=200)\n",
        "\n",
        "fn_out, _ = sample_transformer(temp_input, temp_target, training=False,\n",
        "                               enc_padding_mask=None,\n",
        "                               look_ahead_mask=None,\n",
        "                               dec_padding_mask=None)\n",
        "\n",
        "fn_out.shape  # (batch_size, tar_seq_len, target_vocab_size)"
      ],
      "execution_count": 44,
      "outputs": [
        {
          "output_type": "execute_result",
          "data": {
            "text/plain": [
              "TensorShape([64, 36, 8000])"
            ]
          },
          "metadata": {
            "tags": []
          },
          "execution_count": 44
        }
      ]
    },
    {
      "cell_type": "markdown",
      "metadata": {
        "id": "wsINyf1VEQLC"
      },
      "source": [
        "## Set hyperparameters"
      ]
    },
    {
      "cell_type": "markdown",
      "metadata": {
        "id": "zVjWCxFNcgbt"
      },
      "source": [
        "To keep this example small and relatively fast, the values for *num_layers, d_model, and dff* have been reduced. \n",
        "\n",
        "The values used in the base model of transformer were; *num_layers=6*, *d_model = 512*, *dff = 2048*. See the [paper](https://arxiv.org/abs/1706.03762) for all the other versions of the transformer.\n",
        "\n",
        "Note: By changing the values below, you can get the model that achieved state of the art on many tasks."
      ]
    },
    {
      "cell_type": "code",
      "metadata": {
        "id": "lnJn5SLA2ahP"
      },
      "source": [
        "num_layers = 6\n",
        "d_model = 512\n",
        "dff = 2048\n",
        "num_heads = 8\n",
        "dropout_rate = 0.1"
      ],
      "execution_count": 45,
      "outputs": []
    },
    {
      "cell_type": "markdown",
      "metadata": {
        "id": "xYEGhEOtzn5W"
      },
      "source": [
        "## Optimizer"
      ]
    },
    {
      "cell_type": "markdown",
      "metadata": {
        "id": "GOmWW--yP3zx"
      },
      "source": [
        "Use the Adam optimizer with a custom learning rate scheduler according to the formula in the [paper](https://arxiv.org/abs/1706.03762).\n",
        "\n",
        "$$\\Large{lrate = d_{model}^{-0.5} * \\min(step{\\_}num^{-0.5}, step{\\_}num \\cdot warmup{\\_}steps^{-1.5})}$$\n"
      ]
    },
    {
      "cell_type": "code",
      "metadata": {
        "id": "iYQdOO1axwEI"
      },
      "source": [
        "class CustomSchedule(tf.keras.optimizers.schedules.LearningRateSchedule):\n",
        "  def __init__(self, d_model, warmup_steps=4000):\n",
        "    super(CustomSchedule, self).__init__()\n",
        "\n",
        "    self.d_model = d_model\n",
        "    self.d_model = tf.cast(self.d_model, tf.float32)\n",
        "\n",
        "    self.warmup_steps = warmup_steps\n",
        "\n",
        "  def __call__(self, step):\n",
        "    arg1 = tf.math.rsqrt(step)\n",
        "    arg2 = step * (self.warmup_steps ** -1.5)\n",
        "\n",
        "    return tf.math.rsqrt(self.d_model) * tf.math.minimum(arg1, arg2)"
      ],
      "execution_count": 46,
      "outputs": []
    },
    {
      "cell_type": "code",
      "metadata": {
        "id": "7r4scdulztRx"
      },
      "source": [
        "learning_rate = CustomSchedule(d_model)\n",
        "\n",
        "optimizer = tf.keras.optimizers.Adam(learning_rate, beta_1=0.9, beta_2=0.98,\n",
        "                                     epsilon=1e-9)"
      ],
      "execution_count": 47,
      "outputs": []
    },
    {
      "cell_type": "code",
      "metadata": {
        "id": "f33ZCgvHpPdG",
        "colab": {
          "base_uri": "https://localhost:8080/",
          "height": 297
        },
        "outputId": "ff3cafc9-9f88-487c-a6a5-7434d02b6d28"
      },
      "source": [
        "temp_learning_rate_schedule = CustomSchedule(d_model)\n",
        "\n",
        "plt.plot(temp_learning_rate_schedule(tf.range(40000, dtype=tf.float32)))\n",
        "plt.ylabel(\"Learning Rate\")\n",
        "plt.xlabel(\"Train Step\")"
      ],
      "execution_count": 48,
      "outputs": [
        {
          "output_type": "execute_result",
          "data": {
            "text/plain": [
              "Text(0.5, 0, 'Train Step')"
            ]
          },
          "metadata": {
            "tags": []
          },
          "execution_count": 48
        },
        {
          "output_type": "display_data",
          "data": {
            "image/png": "[encoded data removed]",
            "text/plain": [
              "<Figure size 432x288 with 1 Axes>"
            ]
          },
          "metadata": {
            "tags": [],
            "needs_background": "light"
          }
        }
      ]
    },
    {
      "cell_type": "markdown",
      "metadata": {
        "id": "YgkDE7hzo8r5"
      },
      "source": [
        "## Loss and metrics"
      ]
    },
    {
      "cell_type": "markdown",
      "metadata": {
        "id": "oxGJtoDuYIHL"
      },
      "source": [
        "Since the target sequences are padded, it is important to apply a padding mask when calculating the loss."
      ]
    },
    {
      "cell_type": "code",
      "metadata": {
        "id": "MlhsJMm0TW_B"
      },
      "source": [
        "loss_object = tf.keras.losses.SparseCategoricalCrossentropy(\n",
        "    from_logits=True, reduction='none')"
      ],
      "execution_count": 49,
      "outputs": []
    },
    {
      "cell_type": "code",
      "metadata": {
        "id": "67oqVHiT0Eiu"
      },
      "source": [
        "def loss_function(real, pred):\n",
        "  mask = tf.math.logical_not(tf.math.equal(real, 0))\n",
        "  loss_ = loss_object(real, pred)\n",
        "\n",
        "  mask = tf.cast(mask, dtype=loss_.dtype)\n",
        "  loss_ *= mask\n",
        "\n",
        "  return tf.reduce_sum(loss_)/tf.reduce_sum(mask)\n",
        "\n",
        "\n",
        "def accuracy_function(real, pred):\n",
        "  accuracies = tf.equal(real, tf.argmax(pred, axis=2))\n",
        "\n",
        "  mask = tf.math.logical_not(tf.math.equal(real, 0))\n",
        "  accuracies = tf.math.logical_and(mask, accuracies)\n",
        "\n",
        "  accuracies = tf.cast(accuracies, dtype=tf.float32)\n",
        "  mask = tf.cast(mask, dtype=tf.float32)\n",
        "  return tf.reduce_sum(accuracies)/tf.reduce_sum(mask)"
      ],
      "execution_count": 50,
      "outputs": []
    },
    {
      "cell_type": "code",
      "metadata": {
        "id": "phlyxMnm-Tpx"
      },
      "source": [
        "train_loss = tf.keras.metrics.Mean(name='train_loss')\n",
        "train_accuracy = tf.keras.metrics.Mean(name='train_accuracy')"
      ],
      "execution_count": 51,
      "outputs": []
    },
    {
      "cell_type": "markdown",
      "metadata": {
        "id": "aeHumfr7zmMa"
      },
      "source": [
        "## Training and checkpointing"
      ]
    },
    {
      "cell_type": "code",
      "metadata": {
        "id": "UiysUa--4tOU"
      },
      "source": [
        "transformer = Transformer(\n",
        "    num_layers=num_layers,\n",
        "    d_model=d_model,\n",
        "    num_heads=num_heads,\n",
        "    dff=dff,\n",
        "    input_vocab_size=tokenizers.de.get_vocab_size(),\n",
        "    target_vocab_size=tokenizers.en.get_vocab_size(),\n",
        "    pe_input=1000,\n",
        "    pe_target=1000,\n",
        "    rate=dropout_rate)"
      ],
      "execution_count": 52,
      "outputs": []
    },
    {
      "cell_type": "code",
      "metadata": {
        "id": "ZOJUSB1T8GjM"
      },
      "source": [
        "def create_masks(inp, tar):\n",
        "  # Encoder padding mask\n",
        "  enc_padding_mask = create_padding_mask(inp)\n",
        "\n",
        "  # Used in the 2nd attention block in the decoder.\n",
        "  # This padding mask is used to mask the encoder outputs.\n",
        "  dec_padding_mask = create_padding_mask(inp)\n",
        "\n",
        "  # Used in the 1st attention block in the decoder.\n",
        "  # It is used to pad and mask future tokens in the input received by\n",
        "  # the decoder.\n",
        "  look_ahead_mask = create_look_ahead_mask(tf.shape(tar)[1])\n",
        "  dec_target_padding_mask = create_padding_mask(tar)\n",
        "  combined_mask = tf.maximum(dec_target_padding_mask, look_ahead_mask)\n",
        "\n",
        "  return enc_padding_mask, combined_mask, dec_padding_mask"
      ],
      "execution_count": 53,
      "outputs": []
    },
    {
      "cell_type": "markdown",
      "metadata": {
        "id": "Fzuf06YZp66w"
      },
      "source": [
        "Create the checkpoint path and the checkpoint manager. This will be used to save checkpoints every `n` epochs."
      ]
    },
    {
      "cell_type": "code",
      "metadata": {
        "id": "hNhuYfllndLZ"
      },
      "source": [
        "checkpoint_path = \"/content/drive/MyDrive/MT/checkpointsPaper/train\"\n",
        "\n",
        "ckpt = tf.train.Checkpoint(transformer=transformer,\n",
        "                           optimizer=optimizer)\n",
        "\n",
        "ckpt_manager = tf.train.CheckpointManager(ckpt, checkpoint_path, max_to_keep=5)\n",
        "\n",
        "# if a checkpoint exists, restore the latest checkpoint.\n",
        "if ckpt_manager.latest_checkpoint:\n",
        "  ckpt.restore(ckpt_manager.latest_checkpoint)\n",
        "  print('Latest checkpoint restored!!')"
      ],
      "execution_count": 54,
      "outputs": []
    },
    {
      "cell_type": "markdown",
      "metadata": {
        "id": "0Di_Yaa1gf9r"
      },
      "source": [
        "The target is divided into tar_inp and tar_real. tar_inp is passed as an input to the decoder. `tar_real` is that same input shifted by 1: At each location in `tar_input`, `tar_real` contains the  next token that should be predicted.\n",
        "\n",
        "For example, `sentence` = \"SOS A lion in the jungle is sleeping EOS\"\n",
        "\n",
        "`tar_inp` =  \"SOS A lion in the jungle is sleeping\"\n",
        "\n",
        "`tar_real` = \"A lion in the jungle is sleeping EOS\"\n",
        "\n",
        "The transformer is an auto-regressive model: it makes predictions one part at a time, and uses its output so far to decide what to do next. \n",
        "\n",
        "During training this example uses teacher-forcing (like in the [text generation tutorial](./text_generation.ipynb)). Teacher forcing is passing the true output to the next time step regardless of what the model predicts at the current time step.\n",
        "\n",
        "As the transformer predicts each word, *self-attention* allows it to look at the previous words in the input sequence to better predict the next word.\n",
        "\n",
        "To prevent the model from peeking at the expected output the model uses a look-ahead mask."
      ]
    },
    {
      "cell_type": "code",
      "metadata": {
        "id": "LKpoA6q1sJFj"
      },
      "source": [
        "EPOCHS = 50"
      ],
      "execution_count": 55,
      "outputs": []
    },
    {
      "cell_type": "code",
      "metadata": {
        "id": "iJwmp9OE29oj"
      },
      "source": [
        "# The @tf.function trace-compiles train_step into a TF graph for faster\n",
        "# execution. The function specializes to the precise shape of the argument\n",
        "# tensors. To avoid re-tracing due to the variable sequence lengths or variable\n",
        "# batch sizes (the last batch is smaller), use input_signature to specify\n",
        "# more generic shapes.\n",
        "\n",
        "train_step_signature = [\n",
        "    tf.TensorSpec(shape=(None, None), dtype=tf.int64),\n",
        "    tf.TensorSpec(shape=(None, None), dtype=tf.int64),\n",
        "]\n",
        "\n",
        "\n",
        "@tf.function(input_signature=train_step_signature)\n",
        "def train_step(inp, tar):\n",
        "  tar_inp = tar[:, :-1]\n",
        "  tar_real = tar[:, 1:]\n",
        "\n",
        "  enc_padding_mask, combined_mask, dec_padding_mask = create_masks(inp, tar_inp)\n",
        "\n",
        "  with tf.GradientTape() as tape:\n",
        "    predictions, _ = transformer(inp, tar_inp,\n",
        "                                 True,\n",
        "                                 enc_padding_mask,\n",
        "                                 combined_mask,\n",
        "                                 dec_padding_mask)\n",
        "    loss = loss_function(tar_real, predictions)\n",
        "\n",
        "  gradients = tape.gradient(loss, transformer.trainable_variables)\n",
        "  optimizer.apply_gradients(zip(gradients, transformer.trainable_variables))\n",
        "\n",
        "  train_loss(loss)\n",
        "  train_accuracy(accuracy_function(tar_real, predictions))"
      ],
      "execution_count": 56,
      "outputs": []
    },
    {
      "cell_type": "markdown",
      "metadata": {
        "id": "qM2PDWGDJ_8V"
      },
      "source": [
        "Portuguese is used as the input language and English is the target language."
      ]
    },
    {
      "cell_type": "code",
      "metadata": {
        "id": "bbvmaKNiznHZ",
        "colab": {
          "base_uri": "https://localhost:8080/"
        },
        "outputId": "4baf0d8c-32f2-4f47-ed08-750772ac865c"
      },
      "source": [
        "for epoch in range(EPOCHS):\n",
        "  start = time.time()\n",
        "\n",
        "  train_loss.reset_states()\n",
        "  train_accuracy.reset_states()\n",
        "\n",
        "  # inp -> German, tar -> english\n",
        "  for (batch, (inp, tar)) in enumerate(train_batches):\n",
        "    train_step(inp, tar)\n",
        "\n",
        "    if batch % 50 == 0:\n",
        "      print(f'Epoch {epoch + 1} Batch {batch} Loss {train_loss.result():.4f} Accuracy {train_accuracy.result():.4f}')\n",
        "\n",
        "  if (epoch + 1) % 5 == 0:\n",
        "    ckpt_save_path = ckpt_manager.save()\n",
        "    print(f'Saving checkpoint for epoch {epoch+1} at {ckpt_save_path}')\n",
        "\n",
        "  print(f'Epoch {epoch + 1} Loss {train_loss.result():.4f} Accuracy {train_accuracy.result():.4f}')\n",
        "\n",
        "  print(f'Time taken for 1 epoch: {time.time() - start:.2f} secs\\n')"
      ],
      "execution_count": 57,
      "outputs": [
        {
          "output_type": "stream",
          "text": [
            "Epoch 1 Batch 0 Loss 9.0112 Accuracy 0.0000\n",
            "Epoch 1 Batch 50 Loss 8.7560 Accuracy 0.0241\n",
            "Epoch 1 Batch 100 Loss 8.5266 Accuracy 0.0317\n",
            "Epoch 1 Batch 150 Loss 8.3283 Accuracy 0.0365\n",
            "Epoch 1 Batch 200 Loss 8.1210 Accuracy 0.0411\n",
            "Epoch 1 Batch 250 Loss 7.9124 Accuracy 0.0481\n",
            "Epoch 1 Batch 300 Loss 7.7413 Accuracy 0.0535\n",
            "Epoch 1 Batch 350 Loss 7.6079 Accuracy 0.0581\n",
            "Epoch 1 Batch 400 Loss 7.5053 Accuracy 0.0616\n",
            "Epoch 1 Batch 450 Loss 7.4214 Accuracy 0.0647\n",
            "Epoch 1 Batch 500 Loss 7.3492 Accuracy 0.0677\n",
            "Epoch 1 Batch 550 Loss 7.2817 Accuracy 0.0706\n",
            "Epoch 1 Batch 600 Loss 7.2192 Accuracy 0.0729\n",
            "Epoch 1 Batch 650 Loss 7.1567 Accuracy 0.0752\n",
            "Epoch 1 Batch 700 Loss 7.0951 Accuracy 0.0774\n",
            "Epoch 1 Batch 750 Loss 7.0360 Accuracy 0.0795\n",
            "Epoch 1 Batch 800 Loss 6.9807 Accuracy 0.0815\n",
            "Epoch 1 Batch 850 Loss 6.9290 Accuracy 0.0832\n",
            "Epoch 1 Batch 900 Loss 6.8798 Accuracy 0.0849\n",
            "Epoch 1 Batch 950 Loss 6.8333 Accuracy 0.0864\n",
            "Epoch 1 Batch 1000 Loss 6.7895 Accuracy 0.0879\n",
            "Epoch 1 Batch 1050 Loss 6.7482 Accuracy 0.0893\n",
            "Epoch 1 Batch 1100 Loss 6.7079 Accuracy 0.0908\n",
            "Epoch 1 Batch 1150 Loss 6.6690 Accuracy 0.0922\n",
            "Epoch 1 Batch 1200 Loss 6.6323 Accuracy 0.0936\n",
            "Epoch 1 Batch 1250 Loss 6.5965 Accuracy 0.0949\n",
            "Epoch 1 Batch 1300 Loss 6.5617 Accuracy 0.0963\n",
            "Epoch 1 Batch 1350 Loss 6.5286 Accuracy 0.0975\n",
            "Epoch 1 Batch 1400 Loss 6.4956 Accuracy 0.0989\n",
            "Epoch 1 Batch 1450 Loss 6.4643 Accuracy 0.1001\n",
            "Epoch 1 Batch 1500 Loss 6.4342 Accuracy 0.1012\n",
            "Epoch 1 Batch 1550 Loss 6.4050 Accuracy 0.1024\n",
            "Epoch 1 Loss 6.3979 Accuracy 0.1026\n",
            "Time taken for 1 epoch: 549.18 secs\n",
            "\n",
            "Epoch 2 Batch 0 Loss 5.4760 Accuracy 0.1217\n",
            "Epoch 2 Batch 50 Loss 5.4552 Accuracy 0.1417\n",
            "Epoch 2 Batch 100 Loss 5.4410 Accuracy 0.1420\n",
            "Epoch 2 Batch 150 Loss 5.4304 Accuracy 0.1422\n",
            "Epoch 2 Batch 200 Loss 5.4163 Accuracy 0.1431\n",
            "Epoch 2 Batch 250 Loss 5.4042 Accuracy 0.1436\n",
            "Epoch 2 Batch 300 Loss 5.3897 Accuracy 0.1442\n",
            "Epoch 2 Batch 350 Loss 5.3740 Accuracy 0.1452\n",
            "Epoch 2 Batch 400 Loss 5.3584 Accuracy 0.1462\n",
            "Epoch 2 Batch 450 Loss 5.3460 Accuracy 0.1470\n",
            "Epoch 2 Batch 500 Loss 5.3331 Accuracy 0.1475\n",
            "Epoch 2 Batch 550 Loss 5.3191 Accuracy 0.1483\n",
            "Epoch 2 Batch 600 Loss 5.3067 Accuracy 0.1490\n",
            "Epoch 2 Batch 650 Loss 5.2942 Accuracy 0.1497\n",
            "Epoch 2 Batch 700 Loss 5.2799 Accuracy 0.1506\n",
            "Epoch 2 Batch 750 Loss 5.2671 Accuracy 0.1514\n",
            "Epoch 2 Batch 800 Loss 5.2556 Accuracy 0.1520\n",
            "Epoch 2 Batch 850 Loss 5.2437 Accuracy 0.1526\n",
            "Epoch 2 Batch 900 Loss 5.2314 Accuracy 0.1533\n",
            "Epoch 2 Batch 950 Loss 5.2194 Accuracy 0.1541\n",
            "Epoch 2 Batch 1000 Loss 5.2078 Accuracy 0.1547\n",
            "Epoch 2 Batch 1050 Loss 5.1977 Accuracy 0.1553\n",
            "Epoch 2 Batch 1100 Loss 5.1851 Accuracy 0.1561\n",
            "Epoch 2 Batch 1150 Loss 5.1739 Accuracy 0.1568\n",
            "Epoch 2 Batch 1200 Loss 5.1627 Accuracy 0.1575\n",
            "Epoch 2 Batch 1250 Loss 5.1521 Accuracy 0.1582\n",
            "Epoch 2 Batch 1300 Loss 5.1423 Accuracy 0.1589\n",
            "Epoch 2 Batch 1350 Loss 5.1324 Accuracy 0.1595\n",
            "Epoch 2 Batch 1400 Loss 5.1225 Accuracy 0.1602\n",
            "Epoch 2 Batch 1450 Loss 5.1127 Accuracy 0.1608\n",
            "Epoch 2 Batch 1500 Loss 5.1035 Accuracy 0.1614\n",
            "Epoch 2 Batch 1550 Loss 5.0944 Accuracy 0.1620\n",
            "Epoch 2 Loss 5.0926 Accuracy 0.1621\n",
            "Time taken for 1 epoch: 522.17 secs\n",
            "\n",
            "Epoch 3 Batch 0 Loss 4.7806 Accuracy 0.1917\n",
            "Epoch 3 Batch 50 Loss 4.7580 Accuracy 0.1856\n",
            "Epoch 3 Batch 100 Loss 4.7629 Accuracy 0.1845\n",
            "Epoch 3 Batch 150 Loss 4.7556 Accuracy 0.1853\n",
            "Epoch 3 Batch 200 Loss 4.7506 Accuracy 0.1857\n",
            "Epoch 3 Batch 250 Loss 4.7450 Accuracy 0.1864\n",
            "Epoch 3 Batch 300 Loss 4.7390 Accuracy 0.1870\n",
            "Epoch 3 Batch 350 Loss 4.7314 Accuracy 0.1878\n",
            "Epoch 3 Batch 400 Loss 4.7252 Accuracy 0.1882\n",
            "Epoch 3 Batch 450 Loss 4.7202 Accuracy 0.1886\n",
            "Epoch 3 Batch 500 Loss 4.7165 Accuracy 0.1887\n",
            "Epoch 3 Batch 550 Loss 4.7131 Accuracy 0.1890\n",
            "Epoch 3 Batch 600 Loss 4.7106 Accuracy 0.1893\n",
            "Epoch 3 Batch 650 Loss 4.7054 Accuracy 0.1898\n",
            "Epoch 3 Batch 700 Loss 4.6990 Accuracy 0.1904\n",
            "Epoch 3 Batch 750 Loss 4.6934 Accuracy 0.1910\n",
            "Epoch 3 Batch 800 Loss 4.6900 Accuracy 0.1913\n",
            "Epoch 3 Batch 850 Loss 4.6858 Accuracy 0.1917\n",
            "Epoch 3 Batch 900 Loss 4.6814 Accuracy 0.1921\n",
            "Epoch 3 Batch 950 Loss 4.6780 Accuracy 0.1924\n",
            "Epoch 3 Batch 1000 Loss 4.6732 Accuracy 0.1929\n",
            "Epoch 3 Batch 1050 Loss 4.6683 Accuracy 0.1933\n",
            "Epoch 3 Batch 1100 Loss 4.6631 Accuracy 0.1939\n",
            "Epoch 3 Batch 1150 Loss 4.6569 Accuracy 0.1945\n",
            "Epoch 3 Batch 1200 Loss 4.6508 Accuracy 0.1951\n",
            "Epoch 3 Batch 1250 Loss 4.6452 Accuracy 0.1957\n",
            "Epoch 3 Batch 1300 Loss 4.6402 Accuracy 0.1962\n",
            "Epoch 3 Batch 1350 Loss 4.6347 Accuracy 0.1967\n",
            "Epoch 3 Batch 1400 Loss 4.6300 Accuracy 0.1972\n",
            "Epoch 3 Batch 1450 Loss 4.6243 Accuracy 0.1978\n",
            "Epoch 3 Batch 1500 Loss 4.6186 Accuracy 0.1983\n",
            "Epoch 3 Batch 1550 Loss 4.6133 Accuracy 0.1989\n",
            "Epoch 3 Loss 4.6122 Accuracy 0.1990\n",
            "Time taken for 1 epoch: 520.90 secs\n",
            "\n",
            "Epoch 4 Batch 0 Loss 4.3254 Accuracy 0.2212\n",
            "Epoch 4 Batch 50 Loss 4.3701 Accuracy 0.2230\n",
            "Epoch 4 Batch 100 Loss 4.3730 Accuracy 0.2216\n",
            "Epoch 4 Batch 150 Loss 4.3679 Accuracy 0.2225\n",
            "Epoch 4 Batch 200 Loss 4.3703 Accuracy 0.2226\n",
            "Epoch 4 Batch 250 Loss 4.3691 Accuracy 0.2229\n",
            "Epoch 4 Batch 300 Loss 4.3631 Accuracy 0.2237\n",
            "Epoch 4 Batch 350 Loss 4.3584 Accuracy 0.2240\n",
            "Epoch 4 Batch 400 Loss 4.3522 Accuracy 0.2249\n",
            "Epoch 4 Batch 450 Loss 4.3485 Accuracy 0.2252\n",
            "Epoch 4 Batch 500 Loss 4.3433 Accuracy 0.2256\n",
            "Epoch 4 Batch 550 Loss 4.3364 Accuracy 0.2263\n",
            "Epoch 4 Batch 600 Loss 4.3311 Accuracy 0.2270\n",
            "Epoch 4 Batch 650 Loss 4.3239 Accuracy 0.2280\n",
            "Epoch 4 Batch 700 Loss 4.3182 Accuracy 0.2288\n",
            "Epoch 4 Batch 750 Loss 4.3137 Accuracy 0.2293\n",
            "Epoch 4 Batch 800 Loss 4.3088 Accuracy 0.2299\n",
            "Epoch 4 Batch 850 Loss 4.3037 Accuracy 0.2305\n",
            "Epoch 4 Batch 900 Loss 4.2993 Accuracy 0.2311\n",
            "Epoch 4 Batch 950 Loss 4.2947 Accuracy 0.2316\n",
            "Epoch 4 Batch 1000 Loss 4.2911 Accuracy 0.2320\n",
            "Epoch 4 Batch 1050 Loss 4.2863 Accuracy 0.2326\n",
            "Epoch 4 Batch 1100 Loss 4.2819 Accuracy 0.2331\n",
            "Epoch 4 Batch 1150 Loss 4.2772 Accuracy 0.2335\n",
            "Epoch 4 Batch 1200 Loss 4.2724 Accuracy 0.2341\n",
            "Epoch 4 Batch 1250 Loss 4.2682 Accuracy 0.2346\n",
            "Epoch 4 Batch 1300 Loss 4.2640 Accuracy 0.2351\n",
            "Epoch 4 Batch 1350 Loss 4.2599 Accuracy 0.2356\n",
            "Epoch 4 Batch 1400 Loss 4.2550 Accuracy 0.2361\n",
            "Epoch 4 Batch 1450 Loss 4.2506 Accuracy 0.2366\n",
            "Epoch 4 Batch 1500 Loss 4.2465 Accuracy 0.2371\n",
            "Epoch 4 Batch 1550 Loss 4.2429 Accuracy 0.2375\n",
            "Epoch 4 Loss 4.2422 Accuracy 0.2376\n",
            "Time taken for 1 epoch: 520.94 secs\n",
            "\n",
            "Epoch 5 Batch 0 Loss 4.0493 Accuracy 0.2596\n",
            "Epoch 5 Batch 50 Loss 4.0366 Accuracy 0.2591\n",
            "Epoch 5 Batch 100 Loss 4.0529 Accuracy 0.2573\n",
            "Epoch 5 Batch 150 Loss 4.0473 Accuracy 0.2582\n",
            "Epoch 5 Batch 200 Loss 4.0522 Accuracy 0.2578\n",
            "Epoch 5 Batch 250 Loss 4.0519 Accuracy 0.2576\n",
            "Epoch 5 Batch 300 Loss 4.0462 Accuracy 0.2583\n",
            "Epoch 5 Batch 350 Loss 4.0414 Accuracy 0.2590\n",
            "Epoch 5 Batch 400 Loss 4.0383 Accuracy 0.2595\n",
            "Epoch 5 Batch 450 Loss 4.0349 Accuracy 0.2605\n",
            "Epoch 5 Batch 500 Loss 4.0331 Accuracy 0.2606\n",
            "Epoch 5 Batch 550 Loss 4.0295 Accuracy 0.2610\n",
            "Epoch 5 Batch 600 Loss 4.0291 Accuracy 0.2611\n",
            "Epoch 5 Batch 650 Loss 4.0254 Accuracy 0.2615\n",
            "Epoch 5 Batch 700 Loss 4.0235 Accuracy 0.2617\n",
            "Epoch 5 Batch 750 Loss 4.0204 Accuracy 0.2621\n",
            "Epoch 5 Batch 800 Loss 4.0177 Accuracy 0.2625\n",
            "Epoch 5 Batch 850 Loss 4.0159 Accuracy 0.2627\n",
            "Epoch 5 Batch 900 Loss 4.0136 Accuracy 0.2629\n",
            "Epoch 5 Batch 950 Loss 4.0115 Accuracy 0.2630\n",
            "Epoch 5 Batch 1000 Loss 4.0096 Accuracy 0.2632\n",
            "Epoch 5 Batch 1050 Loss 4.0062 Accuracy 0.2636\n",
            "Epoch 5 Batch 1100 Loss 4.0043 Accuracy 0.2638\n",
            "Epoch 5 Batch 1150 Loss 4.0015 Accuracy 0.2641\n",
            "Epoch 5 Batch 1200 Loss 3.9973 Accuracy 0.2647\n",
            "Epoch 5 Batch 1250 Loss 3.9949 Accuracy 0.2650\n",
            "Epoch 5 Batch 1300 Loss 3.9927 Accuracy 0.2653\n",
            "Epoch 5 Batch 1350 Loss 3.9909 Accuracy 0.2656\n",
            "Epoch 5 Batch 1400 Loss 3.9870 Accuracy 0.2661\n",
            "Epoch 5 Batch 1450 Loss 3.9853 Accuracy 0.2663\n",
            "Epoch 5 Batch 1500 Loss 3.9829 Accuracy 0.2666\n",
            "Epoch 5 Batch 1550 Loss 3.9799 Accuracy 0.2671\n",
            "Saving checkpoint for epoch 5 at /content/drive/MyDrive/MT/checkpointsPaper/train/ckpt-1\n",
            "Epoch 5 Loss 3.9796 Accuracy 0.2671\n",
            "Time taken for 1 epoch: 524.53 secs\n",
            "\n",
            "Epoch 6 Batch 0 Loss 3.8495 Accuracy 0.2794\n",
            "Epoch 6 Batch 50 Loss 3.8453 Accuracy 0.2825\n",
            "Epoch 6 Batch 100 Loss 3.8562 Accuracy 0.2811\n",
            "Epoch 6 Batch 150 Loss 3.8466 Accuracy 0.2816\n",
            "Epoch 6 Batch 200 Loss 3.8408 Accuracy 0.2825\n",
            "Epoch 6 Batch 250 Loss 3.8385 Accuracy 0.2833\n",
            "Epoch 6 Batch 300 Loss 3.8359 Accuracy 0.2838\n",
            "Epoch 6 Batch 350 Loss 3.8293 Accuracy 0.2847\n",
            "Epoch 6 Batch 400 Loss 3.8297 Accuracy 0.2849\n",
            "Epoch 6 Batch 450 Loss 3.8310 Accuracy 0.2847\n",
            "Epoch 6 Batch 500 Loss 3.8289 Accuracy 0.2851\n",
            "Epoch 6 Batch 550 Loss 3.8291 Accuracy 0.2851\n",
            "Epoch 6 Batch 600 Loss 3.8273 Accuracy 0.2853\n",
            "Epoch 6 Batch 650 Loss 3.8255 Accuracy 0.2855\n",
            "Epoch 6 Batch 700 Loss 3.8241 Accuracy 0.2855\n",
            "Epoch 6 Batch 750 Loss 3.8231 Accuracy 0.2855\n",
            "Epoch 6 Batch 800 Loss 3.8208 Accuracy 0.2858\n",
            "Epoch 6 Batch 850 Loss 3.8194 Accuracy 0.2859\n",
            "Epoch 6 Batch 900 Loss 3.8184 Accuracy 0.2860\n",
            "Epoch 6 Batch 950 Loss 3.8164 Accuracy 0.2863\n",
            "Epoch 6 Batch 1000 Loss 3.8137 Accuracy 0.2865\n",
            "Epoch 6 Batch 1050 Loss 3.8117 Accuracy 0.2869\n",
            "Epoch 6 Batch 1100 Loss 3.8103 Accuracy 0.2871\n",
            "Epoch 6 Batch 1150 Loss 3.8094 Accuracy 0.2871\n",
            "Epoch 6 Batch 1200 Loss 3.8088 Accuracy 0.2872\n",
            "Epoch 6 Batch 1250 Loss 3.8076 Accuracy 0.2873\n",
            "Epoch 6 Batch 1300 Loss 3.8057 Accuracy 0.2876\n",
            "Epoch 6 Batch 1350 Loss 3.8051 Accuracy 0.2876\n",
            "Epoch 6 Batch 1400 Loss 3.8034 Accuracy 0.2879\n",
            "Epoch 6 Batch 1450 Loss 3.8017 Accuracy 0.2881\n",
            "Epoch 6 Batch 1500 Loss 3.7997 Accuracy 0.2884\n",
            "Epoch 6 Batch 1550 Loss 3.7977 Accuracy 0.2887\n",
            "Epoch 6 Loss 3.7978 Accuracy 0.2887\n",
            "Time taken for 1 epoch: 521.87 secs\n",
            "\n",
            "Epoch 7 Batch 0 Loss 3.5946 Accuracy 0.3171\n",
            "Epoch 7 Batch 50 Loss 3.6852 Accuracy 0.2997\n",
            "Epoch 7 Batch 100 Loss 3.6742 Accuracy 0.3023\n",
            "Epoch 7 Batch 150 Loss 3.6814 Accuracy 0.3012\n",
            "Epoch 7 Batch 200 Loss 3.6837 Accuracy 0.3010\n",
            "Epoch 7 Batch 250 Loss 3.6814 Accuracy 0.3019\n",
            "Epoch 7 Batch 300 Loss 3.6811 Accuracy 0.3019\n",
            "Epoch 7 Batch 350 Loss 3.6826 Accuracy 0.3018\n",
            "Epoch 7 Batch 400 Loss 3.6854 Accuracy 0.3013\n",
            "Epoch 7 Batch 450 Loss 3.6836 Accuracy 0.3016\n",
            "Epoch 7 Batch 500 Loss 3.6783 Accuracy 0.3025\n",
            "Epoch 7 Batch 550 Loss 3.6781 Accuracy 0.3026\n",
            "Epoch 7 Batch 600 Loss 3.6786 Accuracy 0.3026\n",
            "Epoch 7 Batch 650 Loss 3.6753 Accuracy 0.3030\n",
            "Epoch 7 Batch 700 Loss 3.6740 Accuracy 0.3032\n",
            "Epoch 7 Batch 750 Loss 3.6723 Accuracy 0.3036\n",
            "Epoch 7 Batch 800 Loss 3.6718 Accuracy 0.3037\n",
            "Epoch 7 Batch 850 Loss 3.6702 Accuracy 0.3039\n",
            "Epoch 7 Batch 900 Loss 3.6709 Accuracy 0.3037\n",
            "Epoch 7 Batch 950 Loss 3.6688 Accuracy 0.3040\n",
            "Epoch 7 Batch 1000 Loss 3.6675 Accuracy 0.3041\n",
            "Epoch 7 Batch 1050 Loss 3.6659 Accuracy 0.3043\n",
            "Epoch 7 Batch 1100 Loss 3.6647 Accuracy 0.3045\n",
            "Epoch 7 Batch 1150 Loss 3.6632 Accuracy 0.3047\n",
            "Epoch 7 Batch 1200 Loss 3.6628 Accuracy 0.3048\n",
            "Epoch 7 Batch 1250 Loss 3.6621 Accuracy 0.3049\n",
            "Epoch 7 Batch 1300 Loss 3.6602 Accuracy 0.3051\n",
            "Epoch 7 Batch 1350 Loss 3.6580 Accuracy 0.3055\n",
            "Epoch 7 Batch 1400 Loss 3.6574 Accuracy 0.3057\n",
            "Epoch 7 Batch 1450 Loss 3.6577 Accuracy 0.3056\n",
            "Epoch 7 Batch 1500 Loss 3.6574 Accuracy 0.3056\n",
            "Epoch 7 Batch 1550 Loss 3.6573 Accuracy 0.3056\n",
            "Epoch 7 Loss 3.6574 Accuracy 0.3057\n",
            "Time taken for 1 epoch: 519.34 secs\n",
            "\n",
            "Epoch 8 Batch 0 Loss 3.5351 Accuracy 0.3253\n",
            "Epoch 8 Batch 50 Loss 3.5669 Accuracy 0.3172\n",
            "Epoch 8 Batch 100 Loss 3.5527 Accuracy 0.3193\n",
            "Epoch 8 Batch 150 Loss 3.5662 Accuracy 0.3170\n",
            "Epoch 8 Batch 200 Loss 3.5640 Accuracy 0.3171\n",
            "Epoch 8 Batch 250 Loss 3.5588 Accuracy 0.3182\n",
            "Epoch 8 Batch 300 Loss 3.5623 Accuracy 0.3172\n",
            "Epoch 8 Batch 350 Loss 3.5633 Accuracy 0.3171\n",
            "Epoch 8 Batch 400 Loss 3.5608 Accuracy 0.3171\n",
            "Epoch 8 Batch 450 Loss 3.5603 Accuracy 0.3170\n",
            "Epoch 8 Batch 500 Loss 3.5599 Accuracy 0.3171\n",
            "Epoch 8 Batch 550 Loss 3.5583 Accuracy 0.3173\n",
            "Epoch 8 Batch 600 Loss 3.5571 Accuracy 0.3174\n",
            "Epoch 8 Batch 650 Loss 3.5580 Accuracy 0.3173\n",
            "Epoch 8 Batch 700 Loss 3.5567 Accuracy 0.3174\n",
            "Epoch 8 Batch 750 Loss 3.5573 Accuracy 0.3173\n",
            "Epoch 8 Batch 800 Loss 3.5560 Accuracy 0.3175\n",
            "Epoch 8 Batch 850 Loss 3.5554 Accuracy 0.3176\n",
            "Epoch 8 Batch 900 Loss 3.5562 Accuracy 0.3175\n",
            "Epoch 8 Batch 950 Loss 3.5552 Accuracy 0.3177\n",
            "Epoch 8 Batch 1000 Loss 3.5534 Accuracy 0.3179\n",
            "Epoch 8 Batch 1050 Loss 3.5529 Accuracy 0.3180\n",
            "Epoch 8 Batch 1100 Loss 3.5504 Accuracy 0.3183\n",
            "Epoch 8 Batch 1150 Loss 3.5500 Accuracy 0.3184\n",
            "Epoch 8 Batch 1200 Loss 3.5491 Accuracy 0.3185\n",
            "Epoch 8 Batch 1250 Loss 3.5493 Accuracy 0.3185\n",
            "Epoch 8 Batch 1300 Loss 3.5477 Accuracy 0.3187\n",
            "Epoch 8 Batch 1350 Loss 3.5471 Accuracy 0.3188\n",
            "Epoch 8 Batch 1400 Loss 3.5455 Accuracy 0.3191\n",
            "Epoch 8 Batch 1450 Loss 3.5448 Accuracy 0.3192\n",
            "Epoch 8 Batch 1500 Loss 3.5435 Accuracy 0.3194\n",
            "Epoch 8 Batch 1550 Loss 3.5431 Accuracy 0.3194\n",
            "Epoch 8 Loss 3.5427 Accuracy 0.3195\n",
            "Time taken for 1 epoch: 518.60 secs\n",
            "\n",
            "Epoch 9 Batch 0 Loss 3.4408 Accuracy 0.3284\n",
            "Epoch 9 Batch 50 Loss 3.4444 Accuracy 0.3333\n",
            "Epoch 9 Batch 100 Loss 3.4518 Accuracy 0.3304\n",
            "Epoch 9 Batch 150 Loss 3.4551 Accuracy 0.3302\n",
            "Epoch 9 Batch 200 Loss 3.4548 Accuracy 0.3300\n",
            "Epoch 9 Batch 250 Loss 3.4590 Accuracy 0.3295\n",
            "Epoch 9 Batch 300 Loss 3.4569 Accuracy 0.3298\n",
            "Epoch 9 Batch 350 Loss 3.4562 Accuracy 0.3297\n",
            "Epoch 9 Batch 400 Loss 3.4554 Accuracy 0.3301\n",
            "Epoch 9 Batch 450 Loss 3.4548 Accuracy 0.3303\n",
            "Epoch 9 Batch 500 Loss 3.4559 Accuracy 0.3302\n",
            "Epoch 9 Batch 550 Loss 3.4565 Accuracy 0.3300\n",
            "Epoch 9 Batch 600 Loss 3.4565 Accuracy 0.3302\n",
            "Epoch 9 Batch 650 Loss 3.4570 Accuracy 0.3300\n",
            "Epoch 9 Batch 700 Loss 3.4579 Accuracy 0.3297\n",
            "Epoch 9 Batch 750 Loss 3.4580 Accuracy 0.3297\n",
            "Epoch 9 Batch 800 Loss 3.4572 Accuracy 0.3298\n",
            "Epoch 9 Batch 850 Loss 3.4559 Accuracy 0.3300\n",
            "Epoch 9 Batch 900 Loss 3.4540 Accuracy 0.3303\n",
            "Epoch 9 Batch 950 Loss 3.4542 Accuracy 0.3303\n",
            "Epoch 9 Batch 1000 Loss 3.4525 Accuracy 0.3306\n",
            "Epoch 9 Batch 1050 Loss 3.4500 Accuracy 0.3309\n",
            "Epoch 9 Batch 1100 Loss 3.4493 Accuracy 0.3312\n",
            "Epoch 9 Batch 1150 Loss 3.4479 Accuracy 0.3313\n",
            "Epoch 9 Batch 1200 Loss 3.4471 Accuracy 0.3315\n",
            "Epoch 9 Batch 1250 Loss 3.4463 Accuracy 0.3315\n",
            "Epoch 9 Batch 1300 Loss 3.4461 Accuracy 0.3315\n",
            "Epoch 9 Batch 1350 Loss 3.4465 Accuracy 0.3315\n",
            "Epoch 9 Batch 1400 Loss 3.4455 Accuracy 0.3317\n",
            "Epoch 9 Batch 1450 Loss 3.4452 Accuracy 0.3318\n",
            "Epoch 9 Batch 1500 Loss 3.4455 Accuracy 0.3318\n",
            "Epoch 9 Batch 1550 Loss 3.4445 Accuracy 0.3319\n",
            "Epoch 9 Loss 3.4450 Accuracy 0.3319\n",
            "Time taken for 1 epoch: 516.73 secs\n",
            "\n",
            "Epoch 10 Batch 0 Loss 3.3766 Accuracy 0.3314\n",
            "Epoch 10 Batch 50 Loss 3.3699 Accuracy 0.3376\n",
            "Epoch 10 Batch 100 Loss 3.3654 Accuracy 0.3399\n",
            "Epoch 10 Batch 150 Loss 3.3639 Accuracy 0.3408\n",
            "Epoch 10 Batch 200 Loss 3.3626 Accuracy 0.3412\n",
            "Epoch 10 Batch 250 Loss 3.3599 Accuracy 0.3419\n",
            "Epoch 10 Batch 300 Loss 3.3640 Accuracy 0.3411\n",
            "Epoch 10 Batch 350 Loss 3.3639 Accuracy 0.3413\n",
            "Epoch 10 Batch 400 Loss 3.3616 Accuracy 0.3419\n",
            "Epoch 10 Batch 450 Loss 3.3633 Accuracy 0.3418\n",
            "Epoch 10 Batch 500 Loss 3.3619 Accuracy 0.3421\n",
            "Epoch 10 Batch 550 Loss 3.3634 Accuracy 0.3419\n",
            "Epoch 10 Batch 600 Loss 3.3639 Accuracy 0.3417\n",
            "Epoch 10 Batch 650 Loss 3.3658 Accuracy 0.3414\n",
            "Epoch 10 Batch 700 Loss 3.3640 Accuracy 0.3417\n",
            "Epoch 10 Batch 750 Loss 3.3654 Accuracy 0.3415\n",
            "Epoch 10 Batch 800 Loss 3.3667 Accuracy 0.3413\n",
            "Epoch 10 Batch 850 Loss 3.3663 Accuracy 0.3413\n",
            "Epoch 10 Batch 900 Loss 3.3660 Accuracy 0.3412\n",
            "Epoch 10 Batch 950 Loss 3.3653 Accuracy 0.3414\n",
            "Epoch 10 Batch 1000 Loss 3.3652 Accuracy 0.3414\n",
            "Epoch 10 Batch 1050 Loss 3.3650 Accuracy 0.3413\n",
            "Epoch 10 Batch 1100 Loss 3.3633 Accuracy 0.3417\n",
            "Epoch 10 Batch 1150 Loss 3.3614 Accuracy 0.3420\n",
            "Epoch 10 Batch 1200 Loss 3.3613 Accuracy 0.3421\n",
            "Epoch 10 Batch 1250 Loss 3.3610 Accuracy 0.3421\n",
            "Epoch 10 Batch 1300 Loss 3.3603 Accuracy 0.3423\n",
            "Epoch 10 Batch 1350 Loss 3.3602 Accuracy 0.3423\n",
            "Epoch 10 Batch 1400 Loss 3.3607 Accuracy 0.3422\n",
            "Epoch 10 Batch 1450 Loss 3.3611 Accuracy 0.3422\n",
            "Epoch 10 Batch 1500 Loss 3.3606 Accuracy 0.3423\n",
            "Epoch 10 Batch 1550 Loss 3.3603 Accuracy 0.3424\n",
            "Saving checkpoint for epoch 10 at /content/drive/MyDrive/MT/checkpointsPaper/train/ckpt-2\n",
            "Epoch 10 Loss 3.3601 Accuracy 0.3424\n",
            "Time taken for 1 epoch: 522.17 secs\n",
            "\n",
            "Epoch 11 Batch 0 Loss 3.2092 Accuracy 0.3659\n",
            "Epoch 11 Batch 50 Loss 3.3006 Accuracy 0.3492\n",
            "Epoch 11 Batch 100 Loss 3.2882 Accuracy 0.3519\n",
            "Epoch 11 Batch 150 Loss 3.2794 Accuracy 0.3538\n",
            "Epoch 11 Batch 200 Loss 3.2799 Accuracy 0.3538\n",
            "Epoch 11 Batch 250 Loss 3.2786 Accuracy 0.3539\n",
            "Epoch 11 Batch 300 Loss 3.2818 Accuracy 0.3531\n",
            "Epoch 11 Batch 350 Loss 3.2839 Accuracy 0.3526\n",
            "Epoch 11 Batch 400 Loss 3.2839 Accuracy 0.3524\n",
            "Epoch 11 Batch 450 Loss 3.2850 Accuracy 0.3520\n",
            "Epoch 11 Batch 500 Loss 3.2827 Accuracy 0.3524\n",
            "Epoch 11 Batch 550 Loss 3.2847 Accuracy 0.3519\n",
            "Epoch 11 Batch 600 Loss 3.2849 Accuracy 0.3519\n",
            "Epoch 11 Batch 650 Loss 3.2869 Accuracy 0.3515\n",
            "Epoch 11 Batch 700 Loss 3.2866 Accuracy 0.3516\n",
            "Epoch 11 Batch 750 Loss 3.2867 Accuracy 0.3517\n",
            "Epoch 11 Batch 800 Loss 3.2869 Accuracy 0.3515\n",
            "Epoch 11 Batch 850 Loss 3.2865 Accuracy 0.3516\n",
            "Epoch 11 Batch 900 Loss 3.2862 Accuracy 0.3516\n",
            "Epoch 11 Batch 950 Loss 3.2867 Accuracy 0.3516\n",
            "Epoch 11 Batch 1000 Loss 3.2855 Accuracy 0.3518\n",
            "Epoch 11 Batch 1050 Loss 3.2851 Accuracy 0.3518\n",
            "Epoch 11 Batch 1100 Loss 3.2846 Accuracy 0.3518\n",
            "Epoch 11 Batch 1150 Loss 3.2840 Accuracy 0.3520\n",
            "Epoch 11 Batch 1200 Loss 3.2838 Accuracy 0.3520\n",
            "Epoch 11 Batch 1250 Loss 3.2826 Accuracy 0.3521\n",
            "Epoch 11 Batch 1300 Loss 3.2821 Accuracy 0.3523\n",
            "Epoch 11 Batch 1350 Loss 3.2825 Accuracy 0.3523\n",
            "Epoch 11 Batch 1400 Loss 3.2829 Accuracy 0.3523\n",
            "Epoch 11 Batch 1450 Loss 3.2831 Accuracy 0.3522\n",
            "Epoch 11 Batch 1500 Loss 3.2831 Accuracy 0.3522\n",
            "Epoch 11 Batch 1550 Loss 3.2831 Accuracy 0.3522\n",
            "Epoch 11 Loss 3.2835 Accuracy 0.3522\n",
            "Time taken for 1 epoch: 519.41 secs\n",
            "\n",
            "Epoch 12 Batch 0 Loss 3.3110 Accuracy 0.3638\n",
            "Epoch 12 Batch 50 Loss 3.1901 Accuracy 0.3646\n",
            "Epoch 12 Batch 100 Loss 3.2056 Accuracy 0.3615\n",
            "Epoch 12 Batch 150 Loss 3.2082 Accuracy 0.3616\n",
            "Epoch 12 Batch 200 Loss 3.2104 Accuracy 0.3612\n",
            "Epoch 12 Batch 250 Loss 3.2100 Accuracy 0.3614\n",
            "Epoch 12 Batch 300 Loss 3.2092 Accuracy 0.3613\n",
            "Epoch 12 Batch 350 Loss 3.2172 Accuracy 0.3603\n",
            "Epoch 12 Batch 400 Loss 3.2181 Accuracy 0.3599\n",
            "Epoch 12 Batch 450 Loss 3.2152 Accuracy 0.3604\n",
            "Epoch 12 Batch 500 Loss 3.2142 Accuracy 0.3605\n",
            "Epoch 12 Batch 550 Loss 3.2151 Accuracy 0.3605\n",
            "Epoch 12 Batch 600 Loss 3.2166 Accuracy 0.3604\n",
            "Epoch 12 Batch 650 Loss 3.2179 Accuracy 0.3601\n",
            "Epoch 12 Batch 700 Loss 3.2149 Accuracy 0.3607\n",
            "Epoch 12 Batch 750 Loss 3.2166 Accuracy 0.3603\n",
            "Epoch 12 Batch 800 Loss 3.2189 Accuracy 0.3601\n",
            "Epoch 12 Batch 850 Loss 3.2197 Accuracy 0.3599\n",
            "Epoch 12 Batch 900 Loss 3.2189 Accuracy 0.3601\n",
            "Epoch 12 Batch 950 Loss 3.2178 Accuracy 0.3603\n",
            "Epoch 12 Batch 1000 Loss 3.2179 Accuracy 0.3602\n",
            "Epoch 12 Batch 1050 Loss 3.2162 Accuracy 0.3606\n",
            "Epoch 12 Batch 1100 Loss 3.2158 Accuracy 0.3607\n",
            "Epoch 12 Batch 1150 Loss 3.2157 Accuracy 0.3606\n",
            "Epoch 12 Batch 1200 Loss 3.2155 Accuracy 0.3605\n",
            "Epoch 12 Batch 1250 Loss 3.2163 Accuracy 0.3605\n",
            "Epoch 12 Batch 1300 Loss 3.2162 Accuracy 0.3605\n",
            "Epoch 12 Batch 1350 Loss 3.2158 Accuracy 0.3605\n",
            "Epoch 12 Batch 1400 Loss 3.2155 Accuracy 0.3606\n",
            "Epoch 12 Batch 1450 Loss 3.2158 Accuracy 0.3605\n",
            "Epoch 12 Batch 1500 Loss 3.2159 Accuracy 0.3605\n",
            "Epoch 12 Batch 1550 Loss 3.2150 Accuracy 0.3607\n",
            "Epoch 12 Loss 3.2148 Accuracy 0.3607\n",
            "Time taken for 1 epoch: 520.18 secs\n",
            "\n",
            "Epoch 13 Batch 0 Loss 3.1659 Accuracy 0.3713\n",
            "Epoch 13 Batch 50 Loss 3.1466 Accuracy 0.3683\n",
            "Epoch 13 Batch 100 Loss 3.1436 Accuracy 0.3687\n",
            "Epoch 13 Batch 150 Loss 3.1529 Accuracy 0.3681\n",
            "Epoch 13 Batch 200 Loss 3.1479 Accuracy 0.3689\n",
            "Epoch 13 Batch 250 Loss 3.1477 Accuracy 0.3691\n",
            "Epoch 13 Batch 300 Loss 3.1511 Accuracy 0.3690\n",
            "Epoch 13 Batch 350 Loss 3.1557 Accuracy 0.3679\n",
            "Epoch 13 Batch 400 Loss 3.1528 Accuracy 0.3682\n",
            "Epoch 13 Batch 450 Loss 3.1514 Accuracy 0.3685\n",
            "Epoch 13 Batch 500 Loss 3.1504 Accuracy 0.3687\n",
            "Epoch 13 Batch 550 Loss 3.1521 Accuracy 0.3684\n",
            "Epoch 13 Batch 600 Loss 3.1540 Accuracy 0.3680\n",
            "Epoch 13 Batch 650 Loss 3.1538 Accuracy 0.3680\n",
            "Epoch 13 Batch 700 Loss 3.1540 Accuracy 0.3680\n",
            "Epoch 13 Batch 750 Loss 3.1511 Accuracy 0.3687\n",
            "Epoch 13 Batch 800 Loss 3.1512 Accuracy 0.3688\n",
            "Epoch 13 Batch 850 Loss 3.1501 Accuracy 0.3690\n",
            "Epoch 13 Batch 900 Loss 3.1509 Accuracy 0.3688\n",
            "Epoch 13 Batch 950 Loss 3.1510 Accuracy 0.3688\n",
            "Epoch 13 Batch 1000 Loss 3.1489 Accuracy 0.3692\n",
            "Epoch 13 Batch 1050 Loss 3.1492 Accuracy 0.3692\n",
            "Epoch 13 Batch 1100 Loss 3.1488 Accuracy 0.3693\n",
            "Epoch 13 Batch 1150 Loss 3.1492 Accuracy 0.3692\n",
            "Epoch 13 Batch 1200 Loss 3.1500 Accuracy 0.3691\n",
            "Epoch 13 Batch 1250 Loss 3.1489 Accuracy 0.3693\n",
            "Epoch 13 Batch 1300 Loss 3.1498 Accuracy 0.3691\n",
            "Epoch 13 Batch 1350 Loss 3.1505 Accuracy 0.3690\n",
            "Epoch 13 Batch 1400 Loss 3.1496 Accuracy 0.3692\n",
            "Epoch 13 Batch 1450 Loss 3.1496 Accuracy 0.3692\n",
            "Epoch 13 Batch 1500 Loss 3.1501 Accuracy 0.3692\n",
            "Epoch 13 Batch 1550 Loss 3.1502 Accuracy 0.3692\n",
            "Epoch 13 Loss 3.1500 Accuracy 0.3693\n",
            "Time taken for 1 epoch: 521.33 secs\n",
            "\n",
            "Epoch 14 Batch 0 Loss 3.1646 Accuracy 0.3635\n",
            "Epoch 14 Batch 50 Loss 3.0853 Accuracy 0.3788\n",
            "Epoch 14 Batch 100 Loss 3.0847 Accuracy 0.3790\n",
            "Epoch 14 Batch 150 Loss 3.0822 Accuracy 0.3791\n",
            "Epoch 14 Batch 200 Loss 3.0750 Accuracy 0.3805\n",
            "Epoch 14 Batch 250 Loss 3.0770 Accuracy 0.3797\n",
            "Epoch 14 Batch 300 Loss 3.0850 Accuracy 0.3780\n",
            "Epoch 14 Batch 350 Loss 3.0908 Accuracy 0.3770\n",
            "Epoch 14 Batch 400 Loss 3.0900 Accuracy 0.3773\n",
            "Epoch 14 Batch 450 Loss 3.0916 Accuracy 0.3769\n",
            "Epoch 14 Batch 500 Loss 3.0887 Accuracy 0.3773\n",
            "Epoch 14 Batch 550 Loss 3.0890 Accuracy 0.3773\n",
            "Epoch 14 Batch 600 Loss 3.0912 Accuracy 0.3771\n",
            "Epoch 14 Batch 650 Loss 3.0913 Accuracy 0.3772\n",
            "Epoch 14 Batch 700 Loss 3.0920 Accuracy 0.3770\n",
            "Epoch 14 Batch 750 Loss 3.0934 Accuracy 0.3767\n",
            "Epoch 14 Batch 800 Loss 3.0928 Accuracy 0.3768\n",
            "Epoch 14 Batch 850 Loss 3.0935 Accuracy 0.3766\n",
            "Epoch 14 Batch 900 Loss 3.0934 Accuracy 0.3768\n",
            "Epoch 14 Batch 950 Loss 3.0933 Accuracy 0.3769\n",
            "Epoch 14 Batch 1000 Loss 3.0921 Accuracy 0.3771\n",
            "Epoch 14 Batch 1050 Loss 3.0927 Accuracy 0.3770\n",
            "Epoch 14 Batch 1100 Loss 3.0913 Accuracy 0.3772\n",
            "Epoch 14 Batch 1150 Loss 3.0919 Accuracy 0.3770\n",
            "Epoch 14 Batch 1200 Loss 3.0910 Accuracy 0.3771\n",
            "Epoch 14 Batch 1250 Loss 3.0904 Accuracy 0.3773\n",
            "Epoch 14 Batch 1300 Loss 3.0905 Accuracy 0.3772\n",
            "Epoch 14 Batch 1350 Loss 3.0910 Accuracy 0.3772\n",
            "Epoch 14 Batch 1400 Loss 3.0915 Accuracy 0.3771\n",
            "Epoch 14 Batch 1450 Loss 3.0914 Accuracy 0.3772\n",
            "Epoch 14 Batch 1500 Loss 3.0916 Accuracy 0.3772\n",
            "Epoch 14 Batch 1550 Loss 3.0925 Accuracy 0.3771\n",
            "Epoch 14 Loss 3.0927 Accuracy 0.3771\n",
            "Time taken for 1 epoch: 520.97 secs\n",
            "\n",
            "Epoch 15 Batch 0 Loss 2.8912 Accuracy 0.4052\n",
            "Epoch 15 Batch 50 Loss 3.0188 Accuracy 0.3858\n",
            "Epoch 15 Batch 100 Loss 3.0271 Accuracy 0.3845\n",
            "Epoch 15 Batch 150 Loss 3.0228 Accuracy 0.3861\n",
            "Epoch 15 Batch 200 Loss 3.0202 Accuracy 0.3869\n",
            "Epoch 15 Batch 250 Loss 3.0227 Accuracy 0.3866\n",
            "Epoch 15 Batch 300 Loss 3.0243 Accuracy 0.3860\n",
            "Epoch 15 Batch 350 Loss 3.0241 Accuracy 0.3859\n",
            "Epoch 15 Batch 400 Loss 3.0282 Accuracy 0.3854\n",
            "Epoch 15 Batch 450 Loss 3.0286 Accuracy 0.3853\n",
            "Epoch 15 Batch 500 Loss 3.0295 Accuracy 0.3853\n",
            "Epoch 15 Batch 550 Loss 3.0292 Accuracy 0.3852\n",
            "Epoch 15 Batch 600 Loss 3.0302 Accuracy 0.3851\n",
            "Epoch 15 Batch 650 Loss 3.0320 Accuracy 0.3847\n",
            "Epoch 15 Batch 700 Loss 3.0323 Accuracy 0.3847\n",
            "Epoch 15 Batch 750 Loss 3.0331 Accuracy 0.3845\n",
            "Epoch 15 Batch 800 Loss 3.0333 Accuracy 0.3845\n",
            "Epoch 15 Batch 850 Loss 3.0340 Accuracy 0.3845\n",
            "Epoch 15 Batch 900 Loss 3.0338 Accuracy 0.3846\n",
            "Epoch 15 Batch 950 Loss 3.0345 Accuracy 0.3845\n",
            "Epoch 15 Batch 1000 Loss 3.0357 Accuracy 0.3842\n",
            "Epoch 15 Batch 1050 Loss 3.0360 Accuracy 0.3843\n",
            "Epoch 15 Batch 1100 Loss 3.0343 Accuracy 0.3846\n",
            "Epoch 15 Batch 1150 Loss 3.0351 Accuracy 0.3844\n",
            "Epoch 15 Batch 1200 Loss 3.0352 Accuracy 0.3845\n",
            "Epoch 15 Batch 1250 Loss 3.0354 Accuracy 0.3844\n",
            "Epoch 15 Batch 1300 Loss 3.0368 Accuracy 0.3841\n",
            "Epoch 15 Batch 1350 Loss 3.0365 Accuracy 0.3841\n",
            "Epoch 15 Batch 1400 Loss 3.0371 Accuracy 0.3841\n",
            "Epoch 15 Batch 1450 Loss 3.0362 Accuracy 0.3842\n",
            "Epoch 15 Batch 1500 Loss 3.0362 Accuracy 0.3843\n",
            "Epoch 15 Batch 1550 Loss 3.0373 Accuracy 0.3841\n",
            "Saving checkpoint for epoch 15 at /content/drive/MyDrive/MT/checkpointsPaper/train/ckpt-3\n",
            "Epoch 15 Loss 3.0379 Accuracy 0.3841\n",
            "Time taken for 1 epoch: 521.69 secs\n",
            "\n",
            "Epoch 16 Batch 0 Loss 3.1015 Accuracy 0.3822\n",
            "Epoch 16 Batch 50 Loss 2.9755 Accuracy 0.3920\n",
            "Epoch 16 Batch 100 Loss 2.9867 Accuracy 0.3895\n",
            "Epoch 16 Batch 150 Loss 2.9746 Accuracy 0.3913\n",
            "Epoch 16 Batch 200 Loss 2.9774 Accuracy 0.3911\n",
            "Epoch 16 Batch 250 Loss 2.9808 Accuracy 0.3901\n",
            "Epoch 16 Batch 300 Loss 2.9809 Accuracy 0.3903\n",
            "Epoch 16 Batch 350 Loss 2.9818 Accuracy 0.3904\n",
            "Epoch 16 Batch 400 Loss 2.9808 Accuracy 0.3905\n",
            "Epoch 16 Batch 450 Loss 2.9800 Accuracy 0.3909\n",
            "Epoch 16 Batch 500 Loss 2.9799 Accuracy 0.3909\n",
            "Epoch 16 Batch 550 Loss 2.9822 Accuracy 0.3906\n",
            "Epoch 16 Batch 600 Loss 2.9841 Accuracy 0.3904\n",
            "Epoch 16 Batch 650 Loss 2.9837 Accuracy 0.3908\n",
            "Epoch 16 Batch 700 Loss 2.9839 Accuracy 0.3907\n",
            "Epoch 16 Batch 750 Loss 2.9846 Accuracy 0.3907\n",
            "Epoch 16 Batch 800 Loss 2.9857 Accuracy 0.3906\n",
            "Epoch 16 Batch 850 Loss 2.9847 Accuracy 0.3908\n",
            "Epoch 16 Batch 900 Loss 2.9851 Accuracy 0.3907\n",
            "Epoch 16 Batch 950 Loss 2.9845 Accuracy 0.3908\n",
            "Epoch 16 Batch 1000 Loss 2.9846 Accuracy 0.3906\n",
            "Epoch 16 Batch 1050 Loss 2.9850 Accuracy 0.3906\n",
            "Epoch 16 Batch 1100 Loss 2.9846 Accuracy 0.3907\n",
            "Epoch 16 Batch 1150 Loss 2.9842 Accuracy 0.3908\n",
            "Epoch 16 Batch 1200 Loss 2.9838 Accuracy 0.3909\n",
            "Epoch 16 Batch 1250 Loss 2.9838 Accuracy 0.3909\n",
            "Epoch 16 Batch 1300 Loss 2.9831 Accuracy 0.3910\n",
            "Epoch 16 Batch 1350 Loss 2.9831 Accuracy 0.3910\n",
            "Epoch 16 Batch 1400 Loss 2.9833 Accuracy 0.3910\n",
            "Epoch 16 Batch 1450 Loss 2.9852 Accuracy 0.3907\n",
            "Epoch 16 Batch 1500 Loss 2.9856 Accuracy 0.3907\n",
            "Epoch 16 Batch 1550 Loss 2.9854 Accuracy 0.3907\n",
            "Epoch 16 Loss 2.9859 Accuracy 0.3906\n",
            "Time taken for 1 epoch: 519.45 secs\n",
            "\n",
            "Epoch 17 Batch 0 Loss 2.9212 Accuracy 0.3891\n",
            "Epoch 17 Batch 50 Loss 2.9488 Accuracy 0.3940\n",
            "Epoch 17 Batch 100 Loss 2.9302 Accuracy 0.3978\n",
            "Epoch 17 Batch 150 Loss 2.9245 Accuracy 0.3989\n",
            "Epoch 17 Batch 200 Loss 2.9229 Accuracy 0.3997\n",
            "Epoch 17 Batch 250 Loss 2.9281 Accuracy 0.3990\n",
            "Epoch 17 Batch 300 Loss 2.9290 Accuracy 0.3983\n",
            "Epoch 17 Batch 350 Loss 2.9260 Accuracy 0.3990\n",
            "Epoch 17 Batch 400 Loss 2.9295 Accuracy 0.3985\n",
            "Epoch 17 Batch 450 Loss 2.9334 Accuracy 0.3976\n",
            "Epoch 17 Batch 500 Loss 2.9333 Accuracy 0.3978\n",
            "Epoch 17 Batch 550 Loss 2.9336 Accuracy 0.3978\n",
            "Epoch 17 Batch 600 Loss 2.9333 Accuracy 0.3979\n",
            "Epoch 17 Batch 650 Loss 2.9339 Accuracy 0.3977\n",
            "Epoch 17 Batch 700 Loss 2.9337 Accuracy 0.3977\n",
            "Epoch 17 Batch 750 Loss 2.9330 Accuracy 0.3979\n",
            "Epoch 17 Batch 800 Loss 2.9341 Accuracy 0.3977\n",
            "Epoch 17 Batch 850 Loss 2.9355 Accuracy 0.3974\n",
            "Epoch 17 Batch 900 Loss 2.9356 Accuracy 0.3973\n",
            "Epoch 17 Batch 950 Loss 2.9354 Accuracy 0.3974\n",
            "Epoch 17 Batch 1000 Loss 2.9358 Accuracy 0.3973\n",
            "Epoch 17 Batch 1050 Loss 2.9356 Accuracy 0.3975\n",
            "Epoch 17 Batch 1100 Loss 2.9357 Accuracy 0.3975\n",
            "Epoch 17 Batch 1150 Loss 2.9361 Accuracy 0.3975\n",
            "Epoch 17 Batch 1200 Loss 2.9373 Accuracy 0.3972\n",
            "Epoch 17 Batch 1250 Loss 2.9373 Accuracy 0.3973\n",
            "Epoch 17 Batch 1300 Loss 2.9363 Accuracy 0.3975\n",
            "Epoch 17 Batch 1350 Loss 2.9364 Accuracy 0.3975\n",
            "Epoch 17 Batch 1400 Loss 2.9359 Accuracy 0.3975\n",
            "Epoch 17 Batch 1450 Loss 2.9365 Accuracy 0.3974\n",
            "Epoch 17 Batch 1500 Loss 2.9377 Accuracy 0.3972\n",
            "Epoch 17 Batch 1550 Loss 2.9379 Accuracy 0.3972\n",
            "Epoch 17 Loss 2.9381 Accuracy 0.3971\n",
            "Time taken for 1 epoch: 517.16 secs\n",
            "\n",
            "Epoch 18 Batch 0 Loss 2.7341 Accuracy 0.4354\n",
            "Epoch 18 Batch 50 Loss 2.8716 Accuracy 0.4065\n",
            "Epoch 18 Batch 100 Loss 2.8819 Accuracy 0.4047\n",
            "Epoch 18 Batch 150 Loss 2.8828 Accuracy 0.4046\n",
            "Epoch 18 Batch 200 Loss 2.8868 Accuracy 0.4040\n",
            "Epoch 18 Batch 250 Loss 2.8888 Accuracy 0.4035\n",
            "Epoch 18 Batch 300 Loss 2.8906 Accuracy 0.4031\n",
            "Epoch 18 Batch 350 Loss 2.8874 Accuracy 0.4035\n",
            "Epoch 18 Batch 400 Loss 2.8848 Accuracy 0.4041\n",
            "Epoch 18 Batch 450 Loss 2.8850 Accuracy 0.4039\n",
            "Epoch 18 Batch 500 Loss 2.8846 Accuracy 0.4041\n",
            "Epoch 18 Batch 550 Loss 2.8850 Accuracy 0.4043\n",
            "Epoch 18 Batch 600 Loss 2.8877 Accuracy 0.4037\n",
            "Epoch 18 Batch 650 Loss 2.8888 Accuracy 0.4035\n",
            "Epoch 18 Batch 700 Loss 2.8897 Accuracy 0.4035\n",
            "Epoch 18 Batch 750 Loss 2.8882 Accuracy 0.4037\n",
            "Epoch 18 Batch 800 Loss 2.8886 Accuracy 0.4037\n",
            "Epoch 18 Batch 850 Loss 2.8887 Accuracy 0.4037\n",
            "Epoch 18 Batch 900 Loss 2.8891 Accuracy 0.4037\n",
            "Epoch 18 Batch 950 Loss 2.8894 Accuracy 0.4036\n",
            "Epoch 18 Batch 1000 Loss 2.8895 Accuracy 0.4036\n",
            "Epoch 18 Batch 1050 Loss 2.8891 Accuracy 0.4037\n",
            "Epoch 18 Batch 1100 Loss 2.8891 Accuracy 0.4037\n",
            "Epoch 18 Batch 1150 Loss 2.8892 Accuracy 0.4037\n",
            "Epoch 18 Batch 1200 Loss 2.8888 Accuracy 0.4037\n",
            "Epoch 18 Batch 1250 Loss 2.8883 Accuracy 0.4038\n",
            "Epoch 18 Batch 1300 Loss 2.8889 Accuracy 0.4037\n",
            "Epoch 18 Batch 1350 Loss 2.8893 Accuracy 0.4036\n",
            "Epoch 18 Batch 1400 Loss 2.8896 Accuracy 0.4036\n",
            "Epoch 18 Batch 1450 Loss 2.8900 Accuracy 0.4036\n",
            "Epoch 18 Batch 1500 Loss 2.8900 Accuracy 0.4036\n",
            "Epoch 18 Batch 1550 Loss 2.8906 Accuracy 0.4036\n",
            "Epoch 18 Loss 2.8904 Accuracy 0.4036\n",
            "Time taken for 1 epoch: 517.62 secs\n",
            "\n",
            "Epoch 19 Batch 0 Loss 2.6609 Accuracy 0.4287\n",
            "Epoch 19 Batch 50 Loss 2.8218 Accuracy 0.4151\n",
            "Epoch 19 Batch 100 Loss 2.8205 Accuracy 0.4134\n",
            "Epoch 19 Batch 150 Loss 2.8228 Accuracy 0.4135\n",
            "Epoch 19 Batch 200 Loss 2.8258 Accuracy 0.4128\n",
            "Epoch 19 Batch 250 Loss 2.8301 Accuracy 0.4118\n",
            "Epoch 19 Batch 300 Loss 2.8314 Accuracy 0.4117\n",
            "Epoch 19 Batch 350 Loss 2.8339 Accuracy 0.4115\n",
            "Epoch 19 Batch 400 Loss 2.8348 Accuracy 0.4112\n",
            "Epoch 19 Batch 450 Loss 2.8369 Accuracy 0.4111\n",
            "Epoch 19 Batch 500 Loss 2.8378 Accuracy 0.4109\n",
            "Epoch 19 Batch 550 Loss 2.8375 Accuracy 0.4111\n",
            "Epoch 19 Batch 600 Loss 2.8411 Accuracy 0.4105\n",
            "Epoch 19 Batch 650 Loss 2.8402 Accuracy 0.4108\n",
            "Epoch 19 Batch 700 Loss 2.8407 Accuracy 0.4107\n",
            "Epoch 19 Batch 750 Loss 2.8401 Accuracy 0.4106\n",
            "Epoch 19 Batch 800 Loss 2.8416 Accuracy 0.4102\n",
            "Epoch 19 Batch 850 Loss 2.8417 Accuracy 0.4103\n",
            "Epoch 19 Batch 900 Loss 2.8416 Accuracy 0.4102\n",
            "Epoch 19 Batch 950 Loss 2.8415 Accuracy 0.4103\n",
            "Epoch 19 Batch 1000 Loss 2.8428 Accuracy 0.4101\n",
            "Epoch 19 Batch 1050 Loss 2.8439 Accuracy 0.4099\n",
            "Epoch 19 Batch 1100 Loss 2.8443 Accuracy 0.4098\n",
            "Epoch 19 Batch 1150 Loss 2.8444 Accuracy 0.4098\n",
            "Epoch 19 Batch 1200 Loss 2.8431 Accuracy 0.4101\n",
            "Epoch 19 Batch 1250 Loss 2.8429 Accuracy 0.4102\n",
            "Epoch 19 Batch 1300 Loss 2.8438 Accuracy 0.4100\n",
            "Epoch 19 Batch 1350 Loss 2.8436 Accuracy 0.4101\n",
            "Epoch 19 Batch 1400 Loss 2.8437 Accuracy 0.4100\n",
            "Epoch 19 Batch 1450 Loss 2.8453 Accuracy 0.4098\n",
            "Epoch 19 Batch 1500 Loss 2.8465 Accuracy 0.4096\n",
            "Epoch 19 Batch 1550 Loss 2.8471 Accuracy 0.4095\n",
            "Epoch 19 Loss 2.8472 Accuracy 0.4095\n",
            "Time taken for 1 epoch: 515.98 secs\n",
            "\n",
            "Epoch 20 Batch 0 Loss 2.8374 Accuracy 0.4018\n",
            "Epoch 20 Batch 50 Loss 2.7943 Accuracy 0.4176\n",
            "Epoch 20 Batch 100 Loss 2.7910 Accuracy 0.4177\n",
            "Epoch 20 Batch 150 Loss 2.7977 Accuracy 0.4165\n",
            "Epoch 20 Batch 200 Loss 2.7961 Accuracy 0.4161\n",
            "Epoch 20 Batch 250 Loss 2.7976 Accuracy 0.4161\n",
            "Epoch 20 Batch 300 Loss 2.7943 Accuracy 0.4168\n",
            "Epoch 20 Batch 350 Loss 2.7947 Accuracy 0.4169\n",
            "Epoch 20 Batch 400 Loss 2.7989 Accuracy 0.4161\n",
            "Epoch 20 Batch 450 Loss 2.7990 Accuracy 0.4162\n",
            "Epoch 20 Batch 500 Loss 2.8019 Accuracy 0.4157\n",
            "Epoch 20 Batch 550 Loss 2.8007 Accuracy 0.4159\n",
            "Epoch 20 Batch 600 Loss 2.7985 Accuracy 0.4164\n",
            "Epoch 20 Batch 650 Loss 2.7999 Accuracy 0.4161\n",
            "Epoch 20 Batch 700 Loss 2.8014 Accuracy 0.4159\n",
            "Epoch 20 Batch 750 Loss 2.8016 Accuracy 0.4158\n",
            "Epoch 20 Batch 800 Loss 2.8014 Accuracy 0.4159\n",
            "Epoch 20 Batch 850 Loss 2.8039 Accuracy 0.4154\n",
            "Epoch 20 Batch 900 Loss 2.8043 Accuracy 0.4153\n",
            "Epoch 20 Batch 950 Loss 2.8051 Accuracy 0.4153\n",
            "Epoch 20 Batch 1000 Loss 2.8054 Accuracy 0.4153\n",
            "Epoch 20 Batch 1050 Loss 2.8041 Accuracy 0.4155\n",
            "Epoch 20 Batch 1100 Loss 2.8033 Accuracy 0.4157\n",
            "Epoch 20 Batch 1150 Loss 2.8050 Accuracy 0.4154\n",
            "Epoch 20 Batch 1200 Loss 2.8051 Accuracy 0.4153\n",
            "Epoch 20 Batch 1250 Loss 2.8046 Accuracy 0.4154\n",
            "Epoch 20 Batch 1300 Loss 2.8045 Accuracy 0.4153\n",
            "Epoch 20 Batch 1350 Loss 2.8046 Accuracy 0.4154\n",
            "Epoch 20 Batch 1400 Loss 2.8046 Accuracy 0.4154\n",
            "Epoch 20 Batch 1450 Loss 2.8067 Accuracy 0.4150\n",
            "Epoch 20 Batch 1500 Loss 2.8073 Accuracy 0.4150\n",
            "Epoch 20 Batch 1550 Loss 2.8067 Accuracy 0.4152\n",
            "Saving checkpoint for epoch 20 at /content/drive/MyDrive/MT/checkpointsPaper/train/ckpt-4\n",
            "Epoch 20 Loss 2.8067 Accuracy 0.4151\n",
            "Time taken for 1 epoch: 520.89 secs\n",
            "\n",
            "Epoch 21 Batch 0 Loss 2.7764 Accuracy 0.4249\n",
            "Epoch 21 Batch 50 Loss 2.7659 Accuracy 0.4220\n",
            "Epoch 21 Batch 100 Loss 2.7503 Accuracy 0.4225\n",
            "Epoch 21 Batch 150 Loss 2.7577 Accuracy 0.4211\n",
            "Epoch 21 Batch 200 Loss 2.7550 Accuracy 0.4215\n",
            "Epoch 21 Batch 250 Loss 2.7572 Accuracy 0.4214\n",
            "Epoch 21 Batch 300 Loss 2.7591 Accuracy 0.4211\n",
            "Epoch 21 Batch 350 Loss 2.7557 Accuracy 0.4217\n",
            "Epoch 21 Batch 400 Loss 2.7574 Accuracy 0.4217\n",
            "Epoch 21 Batch 450 Loss 2.7601 Accuracy 0.4212\n",
            "Epoch 21 Batch 500 Loss 2.7621 Accuracy 0.4209\n",
            "Epoch 21 Batch 550 Loss 2.7610 Accuracy 0.4210\n",
            "Epoch 21 Batch 600 Loss 2.7606 Accuracy 0.4212\n",
            "Epoch 21 Batch 650 Loss 2.7604 Accuracy 0.4213\n",
            "Epoch 21 Batch 700 Loss 2.7610 Accuracy 0.4213\n",
            "Epoch 21 Batch 750 Loss 2.7626 Accuracy 0.4209\n",
            "Epoch 21 Batch 800 Loss 2.7639 Accuracy 0.4206\n",
            "Epoch 21 Batch 850 Loss 2.7626 Accuracy 0.4209\n",
            "Epoch 21 Batch 900 Loss 2.7627 Accuracy 0.4209\n",
            "Epoch 21 Batch 950 Loss 2.7647 Accuracy 0.4206\n",
            "Epoch 21 Batch 1000 Loss 2.7650 Accuracy 0.4206\n",
            "Epoch 21 Batch 1050 Loss 2.7648 Accuracy 0.4207\n",
            "Epoch 21 Batch 1100 Loss 2.7646 Accuracy 0.4207\n",
            "Epoch 21 Batch 1150 Loss 2.7651 Accuracy 0.4206\n",
            "Epoch 21 Batch 1200 Loss 2.7633 Accuracy 0.4209\n",
            "Epoch 21 Batch 1250 Loss 2.7640 Accuracy 0.4208\n",
            "Epoch 21 Batch 1300 Loss 2.7640 Accuracy 0.4208\n",
            "Epoch 21 Batch 1350 Loss 2.7637 Accuracy 0.4208\n",
            "Epoch 21 Batch 1400 Loss 2.7634 Accuracy 0.4208\n",
            "Epoch 21 Batch 1450 Loss 2.7633 Accuracy 0.4209\n",
            "Epoch 21 Batch 1500 Loss 2.7647 Accuracy 0.4207\n",
            "Epoch 21 Batch 1550 Loss 2.7659 Accuracy 0.4205\n",
            "Epoch 21 Loss 2.7662 Accuracy 0.4204\n",
            "Time taken for 1 epoch: 525.19 secs\n",
            "\n",
            "Epoch 22 Batch 0 Loss 2.7958 Accuracy 0.4189\n",
            "Epoch 22 Batch 50 Loss 2.7026 Accuracy 0.4310\n",
            "Epoch 22 Batch 100 Loss 2.7143 Accuracy 0.4285\n",
            "Epoch 22 Batch 150 Loss 2.7068 Accuracy 0.4296\n",
            "Epoch 22 Batch 200 Loss 2.7086 Accuracy 0.4291\n",
            "Epoch 22 Batch 250 Loss 2.7143 Accuracy 0.4280\n",
            "Epoch 22 Batch 300 Loss 2.7178 Accuracy 0.4275\n",
            "Epoch 22 Batch 350 Loss 2.7170 Accuracy 0.4277\n",
            "Epoch 22 Batch 400 Loss 2.7178 Accuracy 0.4275\n",
            "Epoch 22 Batch 450 Loss 2.7202 Accuracy 0.4273\n",
            "Epoch 22 Batch 500 Loss 2.7195 Accuracy 0.4273\n",
            "Epoch 22 Batch 550 Loss 2.7210 Accuracy 0.4272\n",
            "Epoch 22 Batch 600 Loss 2.7227 Accuracy 0.4268\n",
            "Epoch 22 Batch 650 Loss 2.7224 Accuracy 0.4267\n",
            "Epoch 22 Batch 700 Loss 2.7248 Accuracy 0.4264\n",
            "Epoch 22 Batch 750 Loss 2.7245 Accuracy 0.4264\n",
            "Epoch 22 Batch 800 Loss 2.7242 Accuracy 0.4264\n",
            "Epoch 22 Batch 850 Loss 2.7260 Accuracy 0.4262\n",
            "Epoch 22 Batch 900 Loss 2.7282 Accuracy 0.4258\n",
            "Epoch 22 Batch 950 Loss 2.7288 Accuracy 0.4258\n",
            "Epoch 22 Batch 1000 Loss 2.7286 Accuracy 0.4258\n",
            "Epoch 22 Batch 1050 Loss 2.7283 Accuracy 0.4259\n",
            "Epoch 22 Batch 1100 Loss 2.7272 Accuracy 0.4261\n",
            "Epoch 22 Batch 1150 Loss 2.7267 Accuracy 0.4262\n",
            "Epoch 22 Batch 1200 Loss 2.7253 Accuracy 0.4264\n",
            "Epoch 22 Batch 1250 Loss 2.7257 Accuracy 0.4263\n",
            "Epoch 22 Batch 1300 Loss 2.7263 Accuracy 0.4262\n",
            "Epoch 22 Batch 1350 Loss 2.7263 Accuracy 0.4262\n",
            "Epoch 22 Batch 1400 Loss 2.7264 Accuracy 0.4262\n",
            "Epoch 22 Batch 1450 Loss 2.7269 Accuracy 0.4261\n",
            "Epoch 22 Batch 1500 Loss 2.7272 Accuracy 0.4261\n",
            "Epoch 22 Batch 1550 Loss 2.7280 Accuracy 0.4259\n",
            "Epoch 22 Loss 2.7279 Accuracy 0.4260\n",
            "Time taken for 1 epoch: 521.64 secs\n",
            "\n",
            "Epoch 23 Batch 0 Loss 2.8108 Accuracy 0.4077\n",
            "Epoch 23 Batch 50 Loss 2.6939 Accuracy 0.4306\n",
            "Epoch 23 Batch 100 Loss 2.6817 Accuracy 0.4327\n",
            "Epoch 23 Batch 150 Loss 2.6756 Accuracy 0.4328\n",
            "Epoch 23 Batch 200 Loss 2.6784 Accuracy 0.4322\n",
            "Epoch 23 Batch 250 Loss 2.6767 Accuracy 0.4325\n",
            "Epoch 23 Batch 300 Loss 2.6819 Accuracy 0.4316\n",
            "Epoch 23 Batch 350 Loss 2.6775 Accuracy 0.4327\n",
            "Epoch 23 Batch 400 Loss 2.6801 Accuracy 0.4324\n",
            "Epoch 23 Batch 450 Loss 2.6797 Accuracy 0.4324\n",
            "Epoch 23 Batch 500 Loss 2.6789 Accuracy 0.4325\n",
            "Epoch 23 Batch 550 Loss 2.6801 Accuracy 0.4323\n",
            "Epoch 23 Batch 600 Loss 2.6827 Accuracy 0.4320\n",
            "Epoch 23 Batch 650 Loss 2.6848 Accuracy 0.4316\n",
            "Epoch 23 Batch 700 Loss 2.6835 Accuracy 0.4320\n",
            "Epoch 23 Batch 750 Loss 2.6839 Accuracy 0.4320\n",
            "Epoch 23 Batch 800 Loss 2.6853 Accuracy 0.4317\n",
            "Epoch 23 Batch 850 Loss 2.6844 Accuracy 0.4319\n",
            "Epoch 23 Batch 900 Loss 2.6852 Accuracy 0.4318\n",
            "Epoch 23 Batch 950 Loss 2.6867 Accuracy 0.4316\n",
            "Epoch 23 Batch 1000 Loss 2.6881 Accuracy 0.4313\n",
            "Epoch 23 Batch 1050 Loss 2.6878 Accuracy 0.4313\n",
            "Epoch 23 Batch 1100 Loss 2.6875 Accuracy 0.4314\n",
            "Epoch 23 Batch 1150 Loss 2.6872 Accuracy 0.4315\n",
            "Epoch 23 Batch 1200 Loss 2.6878 Accuracy 0.4314\n",
            "Epoch 23 Batch 1250 Loss 2.6879 Accuracy 0.4315\n",
            "Epoch 23 Batch 1300 Loss 2.6885 Accuracy 0.4313\n",
            "Epoch 23 Batch 1350 Loss 2.6894 Accuracy 0.4312\n",
            "Epoch 23 Batch 1400 Loss 2.6898 Accuracy 0.4311\n",
            "Epoch 23 Batch 1450 Loss 2.6902 Accuracy 0.4310\n",
            "Epoch 23 Batch 1500 Loss 2.6902 Accuracy 0.4311\n",
            "Epoch 23 Batch 1550 Loss 2.6922 Accuracy 0.4307\n",
            "Epoch 23 Loss 2.6918 Accuracy 0.4308\n",
            "Time taken for 1 epoch: 521.32 secs\n",
            "\n",
            "Epoch 24 Batch 0 Loss 2.6191 Accuracy 0.4446\n",
            "Epoch 24 Batch 50 Loss 2.6157 Accuracy 0.4426\n",
            "Epoch 24 Batch 100 Loss 2.6184 Accuracy 0.4423\n",
            "Epoch 24 Batch 150 Loss 2.6265 Accuracy 0.4411\n",
            "Epoch 24 Batch 200 Loss 2.6264 Accuracy 0.4405\n",
            "Epoch 24 Batch 250 Loss 2.6322 Accuracy 0.4395\n",
            "Epoch 24 Batch 300 Loss 2.6336 Accuracy 0.4393\n",
            "Epoch 24 Batch 350 Loss 2.6355 Accuracy 0.4390\n",
            "Epoch 24 Batch 400 Loss 2.6390 Accuracy 0.4385\n",
            "Epoch 24 Batch 450 Loss 2.6426 Accuracy 0.4379\n",
            "Epoch 24 Batch 500 Loss 2.6404 Accuracy 0.4384\n",
            "Epoch 24 Batch 550 Loss 2.6407 Accuracy 0.4384\n",
            "Epoch 24 Batch 600 Loss 2.6439 Accuracy 0.4378\n",
            "Epoch 24 Batch 650 Loss 2.6430 Accuracy 0.4380\n",
            "Epoch 24 Batch 700 Loss 2.6430 Accuracy 0.4381\n",
            "Epoch 24 Batch 750 Loss 2.6467 Accuracy 0.4375\n",
            "Epoch 24 Batch 800 Loss 2.6495 Accuracy 0.4370\n",
            "Epoch 24 Batch 850 Loss 2.6501 Accuracy 0.4370\n",
            "Epoch 24 Batch 900 Loss 2.6508 Accuracy 0.4368\n",
            "Epoch 24 Batch 950 Loss 2.6518 Accuracy 0.4366\n",
            "Epoch 24 Batch 1000 Loss 2.6522 Accuracy 0.4365\n",
            "Epoch 24 Batch 1050 Loss 2.6520 Accuracy 0.4365\n",
            "Epoch 24 Batch 1100 Loss 2.6523 Accuracy 0.4365\n",
            "Epoch 24 Batch 1150 Loss 2.6529 Accuracy 0.4364\n",
            "Epoch 24 Batch 1200 Loss 2.6532 Accuracy 0.4364\n",
            "Epoch 24 Batch 1250 Loss 2.6536 Accuracy 0.4363\n",
            "Epoch 24 Batch 1300 Loss 2.6536 Accuracy 0.4364\n",
            "Epoch 24 Batch 1350 Loss 2.6532 Accuracy 0.4363\n",
            "Epoch 24 Batch 1400 Loss 2.6541 Accuracy 0.4363\n",
            "Epoch 24 Batch 1450 Loss 2.6549 Accuracy 0.4362\n",
            "Epoch 24 Batch 1500 Loss 2.6562 Accuracy 0.4360\n",
            "Epoch 24 Batch 1550 Loss 2.6565 Accuracy 0.4360\n",
            "Epoch 24 Loss 2.6572 Accuracy 0.4358\n",
            "Time taken for 1 epoch: 519.40 secs\n",
            "\n",
            "Epoch 25 Batch 0 Loss 2.5699 Accuracy 0.4508\n",
            "Epoch 25 Batch 50 Loss 2.6137 Accuracy 0.4414\n",
            "Epoch 25 Batch 100 Loss 2.6016 Accuracy 0.4428\n",
            "Epoch 25 Batch 150 Loss 2.6008 Accuracy 0.4432\n",
            "Epoch 25 Batch 200 Loss 2.5960 Accuracy 0.4437\n",
            "Epoch 25 Batch 250 Loss 2.6060 Accuracy 0.4425\n",
            "Epoch 25 Batch 300 Loss 2.6079 Accuracy 0.4424\n",
            "Epoch 25 Batch 350 Loss 2.6090 Accuracy 0.4423\n",
            "Epoch 25 Batch 400 Loss 2.6104 Accuracy 0.4423\n",
            "Epoch 25 Batch 450 Loss 2.6104 Accuracy 0.4422\n",
            "Epoch 25 Batch 500 Loss 2.6096 Accuracy 0.4424\n",
            "Epoch 25 Batch 550 Loss 2.6107 Accuracy 0.4423\n",
            "Epoch 25 Batch 600 Loss 2.6116 Accuracy 0.4422\n",
            "Epoch 25 Batch 650 Loss 2.6116 Accuracy 0.4422\n",
            "Epoch 25 Batch 700 Loss 2.6136 Accuracy 0.4420\n",
            "Epoch 25 Batch 750 Loss 2.6139 Accuracy 0.4420\n",
            "Epoch 25 Batch 800 Loss 2.6150 Accuracy 0.4417\n",
            "Epoch 25 Batch 850 Loss 2.6155 Accuracy 0.4416\n",
            "Epoch 25 Batch 900 Loss 2.6153 Accuracy 0.4416\n",
            "Epoch 25 Batch 950 Loss 2.6146 Accuracy 0.4418\n",
            "Epoch 25 Batch 1000 Loss 2.6172 Accuracy 0.4414\n",
            "Epoch 25 Batch 1050 Loss 2.6168 Accuracy 0.4415\n",
            "Epoch 25 Batch 1100 Loss 2.6172 Accuracy 0.4414\n",
            "Epoch 25 Batch 1150 Loss 2.6179 Accuracy 0.4413\n",
            "Epoch 25 Batch 1200 Loss 2.6191 Accuracy 0.4411\n",
            "Epoch 25 Batch 1250 Loss 2.6182 Accuracy 0.4413\n",
            "Epoch 25 Batch 1300 Loss 2.6184 Accuracy 0.4413\n",
            "Epoch 25 Batch 1350 Loss 2.6191 Accuracy 0.4411\n",
            "Epoch 25 Batch 1400 Loss 2.6189 Accuracy 0.4412\n",
            "Epoch 25 Batch 1450 Loss 2.6201 Accuracy 0.4410\n",
            "Epoch 25 Batch 1500 Loss 2.6216 Accuracy 0.4408\n",
            "Epoch 25 Batch 1550 Loss 2.6230 Accuracy 0.4406\n",
            "Saving checkpoint for epoch 25 at /content/drive/MyDrive/MT/checkpointsPaper/train/ckpt-5\n",
            "Epoch 25 Loss 2.6234 Accuracy 0.4405\n",
            "Time taken for 1 epoch: 524.83 secs\n",
            "\n",
            "Epoch 26 Batch 0 Loss 2.6142 Accuracy 0.4456\n",
            "Epoch 26 Batch 50 Loss 2.5780 Accuracy 0.4470\n",
            "Epoch 26 Batch 100 Loss 2.5791 Accuracy 0.4465\n",
            "Epoch 26 Batch 150 Loss 2.5814 Accuracy 0.4461\n",
            "Epoch 26 Batch 200 Loss 2.5720 Accuracy 0.4478\n",
            "Epoch 26 Batch 250 Loss 2.5766 Accuracy 0.4469\n",
            "Epoch 26 Batch 300 Loss 2.5766 Accuracy 0.4470\n",
            "Epoch 26 Batch 350 Loss 2.5776 Accuracy 0.4469\n",
            "Epoch 26 Batch 400 Loss 2.5814 Accuracy 0.4463\n",
            "Epoch 26 Batch 450 Loss 2.5811 Accuracy 0.4464\n",
            "Epoch 26 Batch 500 Loss 2.5800 Accuracy 0.4467\n",
            "Epoch 26 Batch 550 Loss 2.5831 Accuracy 0.4460\n",
            "Epoch 26 Batch 600 Loss 2.5839 Accuracy 0.4460\n",
            "Epoch 26 Batch 650 Loss 2.5824 Accuracy 0.4463\n",
            "Epoch 26 Batch 700 Loss 2.5839 Accuracy 0.4460\n",
            "Epoch 26 Batch 750 Loss 2.5852 Accuracy 0.4457\n",
            "Epoch 26 Batch 800 Loss 2.5855 Accuracy 0.4457\n",
            "Epoch 26 Batch 850 Loss 2.5865 Accuracy 0.4455\n",
            "Epoch 26 Batch 900 Loss 2.5867 Accuracy 0.4455\n",
            "Epoch 26 Batch 950 Loss 2.5860 Accuracy 0.4457\n",
            "Epoch 26 Batch 1000 Loss 2.5868 Accuracy 0.4457\n",
            "Epoch 26 Batch 1050 Loss 2.5869 Accuracy 0.4457\n",
            "Epoch 26 Batch 1100 Loss 2.5874 Accuracy 0.4457\n",
            "Epoch 26 Batch 1150 Loss 2.5869 Accuracy 0.4457\n",
            "Epoch 26 Batch 1200 Loss 2.5875 Accuracy 0.4456\n",
            "Epoch 26 Batch 1250 Loss 2.5878 Accuracy 0.4455\n",
            "Epoch 26 Batch 1300 Loss 2.5876 Accuracy 0.4455\n",
            "Epoch 26 Batch 1350 Loss 2.5880 Accuracy 0.4455\n",
            "Epoch 26 Batch 1400 Loss 2.5885 Accuracy 0.4454\n",
            "Epoch 26 Batch 1450 Loss 2.5893 Accuracy 0.4452\n",
            "Epoch 26 Batch 1500 Loss 2.5903 Accuracy 0.4450\n",
            "Epoch 26 Batch 1550 Loss 2.5915 Accuracy 0.4448\n",
            "Epoch 26 Loss 2.5914 Accuracy 0.4448\n",
            "Time taken for 1 epoch: 520.87 secs\n",
            "\n",
            "Epoch 27 Batch 0 Loss 2.4870 Accuracy 0.4695\n",
            "Epoch 27 Batch 50 Loss 2.5276 Accuracy 0.4553\n",
            "Epoch 27 Batch 100 Loss 2.5429 Accuracy 0.4526\n",
            "Epoch 27 Batch 150 Loss 2.5415 Accuracy 0.4525\n",
            "Epoch 27 Batch 200 Loss 2.5340 Accuracy 0.4537\n",
            "Epoch 27 Batch 250 Loss 2.5328 Accuracy 0.4540\n",
            "Epoch 27 Batch 300 Loss 2.5401 Accuracy 0.4526\n",
            "Epoch 27 Batch 350 Loss 2.5459 Accuracy 0.4517\n",
            "Epoch 27 Batch 400 Loss 2.5484 Accuracy 0.4513\n",
            "Epoch 27 Batch 450 Loss 2.5484 Accuracy 0.4510\n",
            "Epoch 27 Batch 500 Loss 2.5488 Accuracy 0.4511\n",
            "Epoch 27 Batch 550 Loss 2.5483 Accuracy 0.4512\n",
            "Epoch 27 Batch 600 Loss 2.5487 Accuracy 0.4511\n",
            "Epoch 27 Batch 650 Loss 2.5498 Accuracy 0.4509\n",
            "Epoch 27 Batch 700 Loss 2.5515 Accuracy 0.4507\n",
            "Epoch 27 Batch 750 Loss 2.5518 Accuracy 0.4506\n",
            "Epoch 27 Batch 800 Loss 2.5497 Accuracy 0.4510\n",
            "Epoch 27 Batch 850 Loss 2.5488 Accuracy 0.4512\n",
            "Epoch 27 Batch 900 Loss 2.5501 Accuracy 0.4510\n",
            "Epoch 27 Batch 950 Loss 2.5504 Accuracy 0.4510\n",
            "Epoch 27 Batch 1000 Loss 2.5514 Accuracy 0.4508\n",
            "Epoch 27 Batch 1050 Loss 2.5528 Accuracy 0.4506\n",
            "Epoch 27 Batch 1100 Loss 2.5533 Accuracy 0.4505\n",
            "Epoch 27 Batch 1150 Loss 2.5537 Accuracy 0.4505\n",
            "Epoch 27 Batch 1200 Loss 2.5546 Accuracy 0.4503\n",
            "Epoch 27 Batch 1250 Loss 2.5558 Accuracy 0.4501\n",
            "Epoch 27 Batch 1300 Loss 2.5563 Accuracy 0.4500\n",
            "Epoch 27 Batch 1350 Loss 2.5564 Accuracy 0.4500\n",
            "Epoch 27 Batch 1400 Loss 2.5571 Accuracy 0.4499\n",
            "Epoch 27 Batch 1450 Loss 2.5582 Accuracy 0.4497\n",
            "Epoch 27 Batch 1500 Loss 2.5592 Accuracy 0.4496\n",
            "Epoch 27 Batch 1550 Loss 2.5597 Accuracy 0.4496\n",
            "Epoch 27 Loss 2.5600 Accuracy 0.4495\n",
            "Time taken for 1 epoch: 519.66 secs\n",
            "\n",
            "Epoch 28 Batch 0 Loss 2.5346 Accuracy 0.4470\n",
            "Epoch 28 Batch 50 Loss 2.4955 Accuracy 0.4587\n",
            "Epoch 28 Batch 100 Loss 2.5097 Accuracy 0.4568\n",
            "Epoch 28 Batch 150 Loss 2.5082 Accuracy 0.4575\n",
            "Epoch 28 Batch 200 Loss 2.5091 Accuracy 0.4573\n",
            "Epoch 28 Batch 250 Loss 2.5104 Accuracy 0.4573\n",
            "Epoch 28 Batch 300 Loss 2.5113 Accuracy 0.4570\n",
            "Epoch 28 Batch 350 Loss 2.5133 Accuracy 0.4567\n",
            "Epoch 28 Batch 400 Loss 2.5147 Accuracy 0.4565\n",
            "Epoch 28 Batch 450 Loss 2.5149 Accuracy 0.4564\n",
            "Epoch 28 Batch 500 Loss 2.5163 Accuracy 0.4561\n",
            "Epoch 28 Batch 550 Loss 2.5184 Accuracy 0.4556\n",
            "Epoch 28 Batch 600 Loss 2.5190 Accuracy 0.4556\n",
            "Epoch 28 Batch 650 Loss 2.5179 Accuracy 0.4556\n",
            "Epoch 28 Batch 700 Loss 2.5206 Accuracy 0.4551\n",
            "Epoch 28 Batch 750 Loss 2.5219 Accuracy 0.4550\n",
            "Epoch 28 Batch 800 Loss 2.5232 Accuracy 0.4546\n",
            "Epoch 28 Batch 850 Loss 2.5254 Accuracy 0.4541\n",
            "Epoch 28 Batch 900 Loss 2.5241 Accuracy 0.4544\n",
            "Epoch 28 Batch 950 Loss 2.5251 Accuracy 0.4543\n",
            "Epoch 28 Batch 1000 Loss 2.5252 Accuracy 0.4542\n",
            "Epoch 28 Batch 1050 Loss 2.5255 Accuracy 0.4542\n",
            "Epoch 28 Batch 1100 Loss 2.5243 Accuracy 0.4544\n",
            "Epoch 28 Batch 1150 Loss 2.5256 Accuracy 0.4541\n",
            "Epoch 28 Batch 1200 Loss 2.5264 Accuracy 0.4540\n",
            "Epoch 28 Batch 1250 Loss 2.5271 Accuracy 0.4539\n",
            "Epoch 28 Batch 1300 Loss 2.5255 Accuracy 0.4542\n",
            "Epoch 28 Batch 1350 Loss 2.5254 Accuracy 0.4542\n",
            "Epoch 28 Batch 1400 Loss 2.5263 Accuracy 0.4541\n",
            "Epoch 28 Batch 1450 Loss 2.5268 Accuracy 0.4540\n",
            "Epoch 28 Batch 1500 Loss 2.5277 Accuracy 0.4539\n",
            "Epoch 28 Batch 1550 Loss 2.5293 Accuracy 0.4537\n",
            "Epoch 28 Loss 2.5295 Accuracy 0.4536\n",
            "Time taken for 1 epoch: 523.47 secs\n",
            "\n",
            "Epoch 29 Batch 0 Loss 2.6271 Accuracy 0.4344\n",
            "Epoch 29 Batch 50 Loss 2.4625 Accuracy 0.4647\n",
            "Epoch 29 Batch 100 Loss 2.4723 Accuracy 0.4625\n",
            "Epoch 29 Batch 150 Loss 2.4740 Accuracy 0.4623\n",
            "Epoch 29 Batch 200 Loss 2.4768 Accuracy 0.4623\n",
            "Epoch 29 Batch 250 Loss 2.4835 Accuracy 0.4611\n",
            "Epoch 29 Batch 300 Loss 2.4856 Accuracy 0.4606\n",
            "Epoch 29 Batch 350 Loss 2.4845 Accuracy 0.4609\n",
            "Epoch 29 Batch 400 Loss 2.4859 Accuracy 0.4605\n",
            "Epoch 29 Batch 450 Loss 2.4827 Accuracy 0.4612\n",
            "Epoch 29 Batch 500 Loss 2.4841 Accuracy 0.4609\n",
            "Epoch 29 Batch 550 Loss 2.4850 Accuracy 0.4607\n",
            "Epoch 29 Batch 600 Loss 2.4857 Accuracy 0.4606\n",
            "Epoch 29 Batch 650 Loss 2.4873 Accuracy 0.4603\n",
            "Epoch 29 Batch 700 Loss 2.4895 Accuracy 0.4600\n",
            "Epoch 29 Batch 750 Loss 2.4914 Accuracy 0.4596\n",
            "Epoch 29 Batch 800 Loss 2.4920 Accuracy 0.4594\n",
            "Epoch 29 Batch 850 Loss 2.4922 Accuracy 0.4594\n",
            "Epoch 29 Batch 900 Loss 2.4937 Accuracy 0.4591\n",
            "Epoch 29 Batch 950 Loss 2.4946 Accuracy 0.4589\n",
            "Epoch 29 Batch 1000 Loss 2.4953 Accuracy 0.4588\n",
            "Epoch 29 Batch 1050 Loss 2.4956 Accuracy 0.4588\n",
            "Epoch 29 Batch 1100 Loss 2.4957 Accuracy 0.4588\n",
            "Epoch 29 Batch 1150 Loss 2.4961 Accuracy 0.4588\n",
            "Epoch 29 Batch 1200 Loss 2.4962 Accuracy 0.4588\n",
            "Epoch 29 Batch 1250 Loss 2.4963 Accuracy 0.4588\n",
            "Epoch 29 Batch 1300 Loss 2.4970 Accuracy 0.4587\n",
            "Epoch 29 Batch 1350 Loss 2.4976 Accuracy 0.4587\n",
            "Epoch 29 Batch 1400 Loss 2.4986 Accuracy 0.4585\n",
            "Epoch 29 Batch 1450 Loss 2.4995 Accuracy 0.4584\n",
            "Epoch 29 Batch 1500 Loss 2.5003 Accuracy 0.4582\n",
            "Epoch 29 Batch 1550 Loss 2.5008 Accuracy 0.4582\n",
            "Epoch 29 Loss 2.5009 Accuracy 0.4582\n",
            "Time taken for 1 epoch: 524.82 secs\n",
            "\n",
            "Epoch 30 Batch 0 Loss 2.4583 Accuracy 0.4673\n",
            "Epoch 30 Batch 50 Loss 2.4471 Accuracy 0.4667\n",
            "Epoch 30 Batch 100 Loss 2.4443 Accuracy 0.4672\n",
            "Epoch 30 Batch 150 Loss 2.4456 Accuracy 0.4665\n",
            "Epoch 30 Batch 200 Loss 2.4469 Accuracy 0.4665\n",
            "Epoch 30 Batch 250 Loss 2.4485 Accuracy 0.4662\n",
            "Epoch 30 Batch 300 Loss 2.4485 Accuracy 0.4660\n",
            "Epoch 30 Batch 350 Loss 2.4524 Accuracy 0.4652\n",
            "Epoch 30 Batch 400 Loss 2.4564 Accuracy 0.4645\n",
            "Epoch 30 Batch 450 Loss 2.4573 Accuracy 0.4645\n",
            "Epoch 30 Batch 500 Loss 2.4585 Accuracy 0.4644\n",
            "Epoch 30 Batch 550 Loss 2.4589 Accuracy 0.4643\n",
            "Epoch 30 Batch 600 Loss 2.4625 Accuracy 0.4636\n",
            "Epoch 30 Batch 650 Loss 2.4624 Accuracy 0.4636\n",
            "Epoch 30 Batch 700 Loss 2.4629 Accuracy 0.4636\n",
            "Epoch 30 Batch 750 Loss 2.4649 Accuracy 0.4634\n",
            "Epoch 30 Batch 800 Loss 2.4661 Accuracy 0.4632\n",
            "Epoch 30 Batch 850 Loss 2.4657 Accuracy 0.4633\n",
            "Epoch 30 Batch 900 Loss 2.4670 Accuracy 0.4630\n",
            "Epoch 30 Batch 950 Loss 2.4679 Accuracy 0.4628\n",
            "Epoch 30 Batch 1000 Loss 2.4690 Accuracy 0.4626\n",
            "Epoch 30 Batch 1050 Loss 2.4685 Accuracy 0.4627\n",
            "Epoch 30 Batch 1100 Loss 2.4684 Accuracy 0.4628\n",
            "Epoch 30 Batch 1150 Loss 2.4692 Accuracy 0.4626\n",
            "Epoch 30 Batch 1200 Loss 2.4687 Accuracy 0.4627\n",
            "Epoch 30 Batch 1250 Loss 2.4697 Accuracy 0.4626\n",
            "Epoch 30 Batch 1300 Loss 2.4695 Accuracy 0.4626\n",
            "Epoch 30 Batch 1350 Loss 2.4706 Accuracy 0.4625\n",
            "Epoch 30 Batch 1400 Loss 2.4701 Accuracy 0.4626\n",
            "Epoch 30 Batch 1450 Loss 2.4708 Accuracy 0.4625\n",
            "Epoch 30 Batch 1500 Loss 2.4718 Accuracy 0.4623\n",
            "Epoch 30 Batch 1550 Loss 2.4729 Accuracy 0.4621\n",
            "Saving checkpoint for epoch 30 at /content/drive/MyDrive/MT/checkpointsPaper/train/ckpt-6\n",
            "Epoch 30 Loss 2.4730 Accuracy 0.4621\n",
            "Time taken for 1 epoch: 524.65 secs\n",
            "\n",
            "Epoch 31 Batch 0 Loss 2.4170 Accuracy 0.4697\n",
            "Epoch 31 Batch 50 Loss 2.4269 Accuracy 0.4690\n",
            "Epoch 31 Batch 100 Loss 2.4257 Accuracy 0.4688\n",
            "Epoch 31 Batch 150 Loss 2.4175 Accuracy 0.4700\n",
            "Epoch 31 Batch 200 Loss 2.4200 Accuracy 0.4697\n",
            "Epoch 31 Batch 250 Loss 2.4239 Accuracy 0.4691\n",
            "Epoch 31 Batch 300 Loss 2.4276 Accuracy 0.4682\n",
            "Epoch 31 Batch 350 Loss 2.4278 Accuracy 0.4679\n",
            "Epoch 31 Batch 400 Loss 2.4320 Accuracy 0.4675\n",
            "Epoch 31 Batch 450 Loss 2.4325 Accuracy 0.4673\n",
            "Epoch 31 Batch 500 Loss 2.4324 Accuracy 0.4674\n",
            "Epoch 31 Batch 550 Loss 2.4334 Accuracy 0.4674\n",
            "Epoch 31 Batch 600 Loss 2.4333 Accuracy 0.4675\n",
            "Epoch 31 Batch 650 Loss 2.4340 Accuracy 0.4674\n",
            "Epoch 31 Batch 700 Loss 2.4338 Accuracy 0.4677\n",
            "Epoch 31 Batch 750 Loss 2.4333 Accuracy 0.4679\n",
            "Epoch 31 Batch 800 Loss 2.4345 Accuracy 0.4676\n",
            "Epoch 31 Batch 850 Loss 2.4340 Accuracy 0.4676\n",
            "Epoch 31 Batch 900 Loss 2.4348 Accuracy 0.4675\n",
            "Epoch 31 Batch 950 Loss 2.4367 Accuracy 0.4672\n",
            "Epoch 31 Batch 1000 Loss 2.4386 Accuracy 0.4668\n",
            "Epoch 31 Batch 1050 Loss 2.4390 Accuracy 0.4668\n",
            "Epoch 31 Batch 1100 Loss 2.4393 Accuracy 0.4668\n",
            "Epoch 31 Batch 1150 Loss 2.4395 Accuracy 0.4668\n",
            "Epoch 31 Batch 1200 Loss 2.4397 Accuracy 0.4667\n",
            "Epoch 31 Batch 1250 Loss 2.4408 Accuracy 0.4665\n",
            "Epoch 31 Batch 1300 Loss 2.4409 Accuracy 0.4664\n",
            "Epoch 31 Batch 1350 Loss 2.4408 Accuracy 0.4664\n",
            "Epoch 31 Batch 1400 Loss 2.4421 Accuracy 0.4663\n",
            "Epoch 31 Batch 1450 Loss 2.4430 Accuracy 0.4661\n",
            "Epoch 31 Batch 1500 Loss 2.4439 Accuracy 0.4660\n",
            "Epoch 31 Batch 1550 Loss 2.4448 Accuracy 0.4658\n",
            "Epoch 31 Loss 2.4450 Accuracy 0.4658\n",
            "Time taken for 1 epoch: 524.27 secs\n",
            "\n",
            "Epoch 32 Batch 0 Loss 2.5182 Accuracy 0.4593\n",
            "Epoch 32 Batch 50 Loss 2.3928 Accuracy 0.4740\n",
            "Epoch 32 Batch 100 Loss 2.3968 Accuracy 0.4739\n",
            "Epoch 32 Batch 150 Loss 2.3958 Accuracy 0.4739\n",
            "Epoch 32 Batch 200 Loss 2.3891 Accuracy 0.4746\n",
            "Epoch 32 Batch 250 Loss 2.3962 Accuracy 0.4737\n",
            "Epoch 32 Batch 300 Loss 2.3989 Accuracy 0.4733\n",
            "Epoch 32 Batch 350 Loss 2.4011 Accuracy 0.4729\n",
            "Epoch 32 Batch 400 Loss 2.4050 Accuracy 0.4720\n",
            "Epoch 32 Batch 450 Loss 2.4042 Accuracy 0.4724\n",
            "Epoch 32 Batch 500 Loss 2.4039 Accuracy 0.4725\n",
            "Epoch 32 Batch 550 Loss 2.4038 Accuracy 0.4725\n",
            "Epoch 32 Batch 600 Loss 2.4050 Accuracy 0.4722\n",
            "Epoch 32 Batch 650 Loss 2.4048 Accuracy 0.4723\n",
            "Epoch 32 Batch 700 Loss 2.4070 Accuracy 0.4718\n",
            "Epoch 32 Batch 750 Loss 2.4074 Accuracy 0.4717\n",
            "Epoch 32 Batch 800 Loss 2.4097 Accuracy 0.4714\n",
            "Epoch 32 Batch 850 Loss 2.4089 Accuracy 0.4716\n",
            "Epoch 32 Batch 900 Loss 2.4115 Accuracy 0.4711\n",
            "Epoch 32 Batch 950 Loss 2.4130 Accuracy 0.4708\n",
            "Epoch 32 Batch 1000 Loss 2.4141 Accuracy 0.4706\n",
            "Epoch 32 Batch 1050 Loss 2.4150 Accuracy 0.4705\n",
            "Epoch 32 Batch 1100 Loss 2.4146 Accuracy 0.4706\n",
            "Epoch 32 Batch 1150 Loss 2.4149 Accuracy 0.4707\n",
            "Epoch 32 Batch 1200 Loss 2.4142 Accuracy 0.4708\n",
            "Epoch 32 Batch 1250 Loss 2.4153 Accuracy 0.4705\n",
            "Epoch 32 Batch 1300 Loss 2.4158 Accuracy 0.4705\n",
            "Epoch 32 Batch 1350 Loss 2.4154 Accuracy 0.4707\n",
            "Epoch 32 Batch 1400 Loss 2.4156 Accuracy 0.4707\n",
            "Epoch 32 Batch 1450 Loss 2.4165 Accuracy 0.4706\n",
            "Epoch 32 Batch 1500 Loss 2.4169 Accuracy 0.4705\n",
            "Epoch 32 Batch 1550 Loss 2.4186 Accuracy 0.4702\n",
            "Epoch 32 Loss 2.4189 Accuracy 0.4702\n",
            "Time taken for 1 epoch: 522.38 secs\n",
            "\n",
            "Epoch 33 Batch 0 Loss 2.1810 Accuracy 0.5263\n",
            "Epoch 33 Batch 50 Loss 2.3370 Accuracy 0.4814\n",
            "Epoch 33 Batch 100 Loss 2.3591 Accuracy 0.4788\n",
            "Epoch 33 Batch 150 Loss 2.3607 Accuracy 0.4792\n",
            "Epoch 33 Batch 200 Loss 2.3648 Accuracy 0.4787\n",
            "Epoch 33 Batch 250 Loss 2.3709 Accuracy 0.4773\n",
            "Epoch 33 Batch 300 Loss 2.3737 Accuracy 0.4768\n",
            "Epoch 33 Batch 350 Loss 2.3748 Accuracy 0.4763\n",
            "Epoch 33 Batch 400 Loss 2.3752 Accuracy 0.4765\n",
            "Epoch 33 Batch 450 Loss 2.3772 Accuracy 0.4764\n",
            "Epoch 33 Batch 500 Loss 2.3777 Accuracy 0.4763\n",
            "Epoch 33 Batch 550 Loss 2.3787 Accuracy 0.4761\n",
            "Epoch 33 Batch 600 Loss 2.3818 Accuracy 0.4756\n",
            "Epoch 33 Batch 650 Loss 2.3826 Accuracy 0.4756\n",
            "Epoch 33 Batch 700 Loss 2.3828 Accuracy 0.4756\n",
            "Epoch 33 Batch 750 Loss 2.3835 Accuracy 0.4754\n",
            "Epoch 33 Batch 800 Loss 2.3846 Accuracy 0.4753\n",
            "Epoch 33 Batch 850 Loss 2.3867 Accuracy 0.4750\n",
            "Epoch 33 Batch 900 Loss 2.3868 Accuracy 0.4751\n",
            "Epoch 33 Batch 950 Loss 2.3874 Accuracy 0.4749\n",
            "Epoch 33 Batch 1000 Loss 2.3880 Accuracy 0.4748\n",
            "Epoch 33 Batch 1050 Loss 2.3891 Accuracy 0.4745\n",
            "Epoch 33 Batch 1100 Loss 2.3906 Accuracy 0.4742\n",
            "Epoch 33 Batch 1150 Loss 2.3892 Accuracy 0.4744\n",
            "Epoch 33 Batch 1200 Loss 2.3881 Accuracy 0.4747\n",
            "Epoch 33 Batch 1250 Loss 2.3878 Accuracy 0.4747\n",
            "Epoch 33 Batch 1300 Loss 2.3889 Accuracy 0.4746\n",
            "Epoch 33 Batch 1350 Loss 2.3896 Accuracy 0.4745\n",
            "Epoch 33 Batch 1400 Loss 2.3903 Accuracy 0.4744\n",
            "Epoch 33 Batch 1450 Loss 2.3907 Accuracy 0.4744\n",
            "Epoch 33 Batch 1500 Loss 2.3912 Accuracy 0.4743\n",
            "Epoch 33 Batch 1550 Loss 2.3933 Accuracy 0.4740\n",
            "Epoch 33 Loss 2.3933 Accuracy 0.4740\n",
            "Time taken for 1 epoch: 522.16 secs\n",
            "\n",
            "Epoch 34 Batch 0 Loss 2.3705 Accuracy 0.4886\n",
            "Epoch 34 Batch 50 Loss 2.3598 Accuracy 0.4786\n",
            "Epoch 34 Batch 100 Loss 2.3466 Accuracy 0.4813\n",
            "Epoch 34 Batch 150 Loss 2.3484 Accuracy 0.4811\n",
            "Epoch 34 Batch 200 Loss 2.3422 Accuracy 0.4823\n",
            "Epoch 34 Batch 250 Loss 2.3429 Accuracy 0.4823\n",
            "Epoch 34 Batch 300 Loss 2.3452 Accuracy 0.4819\n",
            "Epoch 34 Batch 350 Loss 2.3457 Accuracy 0.4817\n",
            "Epoch 34 Batch 400 Loss 2.3500 Accuracy 0.4810\n",
            "Epoch 34 Batch 450 Loss 2.3516 Accuracy 0.4807\n",
            "Epoch 34 Batch 500 Loss 2.3500 Accuracy 0.4810\n",
            "Epoch 34 Batch 550 Loss 2.3503 Accuracy 0.4809\n",
            "Epoch 34 Batch 600 Loss 2.3529 Accuracy 0.4804\n",
            "Epoch 34 Batch 650 Loss 2.3545 Accuracy 0.4801\n",
            "Epoch 34 Batch 700 Loss 2.3552 Accuracy 0.4799\n",
            "Epoch 34 Batch 750 Loss 2.3557 Accuracy 0.4800\n",
            "Epoch 34 Batch 800 Loss 2.3560 Accuracy 0.4798\n",
            "Epoch 34 Batch 850 Loss 2.3570 Accuracy 0.4796\n",
            "Epoch 34 Batch 900 Loss 2.3571 Accuracy 0.4797\n",
            "Epoch 34 Batch 950 Loss 2.3599 Accuracy 0.4791\n",
            "Epoch 34 Batch 1000 Loss 2.3594 Accuracy 0.4793\n",
            "Epoch 34 Batch 1050 Loss 2.3616 Accuracy 0.4790\n",
            "Epoch 34 Batch 1100 Loss 2.3625 Accuracy 0.4787\n",
            "Epoch 34 Batch 1150 Loss 2.3618 Accuracy 0.4788\n",
            "Epoch 34 Batch 1200 Loss 2.3625 Accuracy 0.4786\n",
            "Epoch 34 Batch 1250 Loss 2.3632 Accuracy 0.4784\n",
            "Epoch 34 Batch 1300 Loss 2.3629 Accuracy 0.4785\n",
            "Epoch 34 Batch 1350 Loss 2.3641 Accuracy 0.4783\n",
            "Epoch 34 Batch 1400 Loss 2.3641 Accuracy 0.4783\n",
            "Epoch 34 Batch 1450 Loss 2.3653 Accuracy 0.4782\n",
            "Epoch 34 Batch 1500 Loss 2.3667 Accuracy 0.4779\n",
            "Epoch 34 Batch 1550 Loss 2.3677 Accuracy 0.4777\n",
            "Epoch 34 Loss 2.3679 Accuracy 0.4777\n",
            "Time taken for 1 epoch: 519.99 secs\n",
            "\n",
            "Epoch 35 Batch 0 Loss 2.1771 Accuracy 0.5154\n",
            "Epoch 35 Batch 50 Loss 2.3273 Accuracy 0.4827\n",
            "Epoch 35 Batch 100 Loss 2.3234 Accuracy 0.4841\n",
            "Epoch 35 Batch 150 Loss 2.3265 Accuracy 0.4839\n",
            "Epoch 35 Batch 200 Loss 2.3231 Accuracy 0.4848\n",
            "Epoch 35 Batch 250 Loss 2.3230 Accuracy 0.4846\n",
            "Epoch 35 Batch 300 Loss 2.3249 Accuracy 0.4840\n",
            "Epoch 35 Batch 350 Loss 2.3284 Accuracy 0.4833\n",
            "Epoch 35 Batch 400 Loss 2.3303 Accuracy 0.4831\n",
            "Epoch 35 Batch 450 Loss 2.3288 Accuracy 0.4832\n",
            "Epoch 35 Batch 500 Loss 2.3293 Accuracy 0.4831\n",
            "Epoch 35 Batch 550 Loss 2.3291 Accuracy 0.4832\n",
            "Epoch 35 Batch 600 Loss 2.3312 Accuracy 0.4830\n",
            "Epoch 35 Batch 650 Loss 2.3317 Accuracy 0.4828\n",
            "Epoch 35 Batch 700 Loss 2.3331 Accuracy 0.4826\n",
            "Epoch 35 Batch 750 Loss 2.3342 Accuracy 0.4823\n",
            "Epoch 35 Batch 800 Loss 2.3351 Accuracy 0.4823\n",
            "Epoch 35 Batch 850 Loss 2.3356 Accuracy 0.4822\n",
            "Epoch 35 Batch 900 Loss 2.3372 Accuracy 0.4820\n",
            "Epoch 35 Batch 950 Loss 2.3380 Accuracy 0.4818\n",
            "Epoch 35 Batch 1000 Loss 2.3378 Accuracy 0.4820\n",
            "Epoch 35 Batch 1050 Loss 2.3380 Accuracy 0.4820\n",
            "Epoch 35 Batch 1100 Loss 2.3391 Accuracy 0.4818\n",
            "Epoch 35 Batch 1150 Loss 2.3396 Accuracy 0.4818\n",
            "Epoch 35 Batch 1200 Loss 2.3395 Accuracy 0.4818\n",
            "Epoch 35 Batch 1250 Loss 2.3400 Accuracy 0.4817\n",
            "Epoch 35 Batch 1300 Loss 2.3407 Accuracy 0.4816\n",
            "Epoch 35 Batch 1350 Loss 2.3418 Accuracy 0.4814\n",
            "Epoch 35 Batch 1400 Loss 2.3412 Accuracy 0.4814\n",
            "Epoch 35 Batch 1450 Loss 2.3419 Accuracy 0.4814\n",
            "Epoch 35 Batch 1500 Loss 2.3428 Accuracy 0.4812\n",
            "Epoch 35 Batch 1550 Loss 2.3434 Accuracy 0.4811\n",
            "Saving checkpoint for epoch 35 at /content/drive/MyDrive/MT/checkpointsPaper/train/ckpt-7\n",
            "Epoch 35 Loss 2.3435 Accuracy 0.4811\n",
            "Time taken for 1 epoch: 522.47 secs\n",
            "\n",
            "Epoch 36 Batch 0 Loss 2.4645 Accuracy 0.4599\n",
            "Epoch 36 Batch 50 Loss 2.3246 Accuracy 0.4813\n",
            "Epoch 36 Batch 100 Loss 2.3088 Accuracy 0.4861\n",
            "Epoch 36 Batch 150 Loss 2.3080 Accuracy 0.4861\n",
            "Epoch 36 Batch 200 Loss 2.3101 Accuracy 0.4859\n",
            "Epoch 36 Batch 250 Loss 2.3117 Accuracy 0.4857\n",
            "Epoch 36 Batch 300 Loss 2.3121 Accuracy 0.4852\n",
            "Epoch 36 Batch 350 Loss 2.3087 Accuracy 0.4859\n",
            "Epoch 36 Batch 400 Loss 2.3091 Accuracy 0.4856\n",
            "Epoch 36 Batch 450 Loss 2.3072 Accuracy 0.4863\n",
            "Epoch 36 Batch 500 Loss 2.3079 Accuracy 0.4862\n",
            "Epoch 36 Batch 550 Loss 2.3077 Accuracy 0.4864\n",
            "Epoch 36 Batch 600 Loss 2.3088 Accuracy 0.4862\n",
            "Epoch 36 Batch 650 Loss 2.3099 Accuracy 0.4860\n",
            "Epoch 36 Batch 700 Loss 2.3102 Accuracy 0.4861\n",
            "Epoch 36 Batch 750 Loss 2.3122 Accuracy 0.4857\n",
            "Epoch 36 Batch 800 Loss 2.3127 Accuracy 0.4858\n",
            "Epoch 36 Batch 850 Loss 2.3120 Accuracy 0.4860\n",
            "Epoch 36 Batch 900 Loss 2.3123 Accuracy 0.4859\n",
            "Epoch 36 Batch 950 Loss 2.3130 Accuracy 0.4858\n",
            "Epoch 36 Batch 1000 Loss 2.3128 Accuracy 0.4858\n",
            "Epoch 36 Batch 1050 Loss 2.3133 Accuracy 0.4857\n",
            "Epoch 36 Batch 1100 Loss 2.3144 Accuracy 0.4856\n",
            "Epoch 36 Batch 1150 Loss 2.3150 Accuracy 0.4855\n",
            "Epoch 36 Batch 1200 Loss 2.3156 Accuracy 0.4856\n",
            "Epoch 36 Batch 1250 Loss 2.3148 Accuracy 0.4857\n",
            "Epoch 36 Batch 1300 Loss 2.3149 Accuracy 0.4857\n",
            "Epoch 36 Batch 1350 Loss 2.3154 Accuracy 0.4856\n",
            "Epoch 36 Batch 1400 Loss 2.3165 Accuracy 0.4855\n",
            "Epoch 36 Batch 1450 Loss 2.3181 Accuracy 0.4852\n",
            "Epoch 36 Batch 1500 Loss 2.3191 Accuracy 0.4850\n",
            "Epoch 36 Batch 1550 Loss 2.3202 Accuracy 0.4849\n",
            "Epoch 36 Loss 2.3200 Accuracy 0.4849\n",
            "Time taken for 1 epoch: 521.98 secs\n",
            "\n",
            "Epoch 37 Batch 0 Loss 2.3490 Accuracy 0.4645\n",
            "Epoch 37 Batch 50 Loss 2.2748 Accuracy 0.4915\n",
            "Epoch 37 Batch 100 Loss 2.2807 Accuracy 0.4908\n",
            "Epoch 37 Batch 150 Loss 2.2675 Accuracy 0.4934\n",
            "Epoch 37 Batch 200 Loss 2.2708 Accuracy 0.4933\n",
            "Epoch 37 Batch 250 Loss 2.2715 Accuracy 0.4923\n",
            "Epoch 37 Batch 300 Loss 2.2746 Accuracy 0.4918\n",
            "Epoch 37 Batch 350 Loss 2.2740 Accuracy 0.4923\n",
            "Epoch 37 Batch 400 Loss 2.2774 Accuracy 0.4916\n",
            "Epoch 37 Batch 450 Loss 2.2777 Accuracy 0.4914\n",
            "Epoch 37 Batch 500 Loss 2.2801 Accuracy 0.4909\n",
            "Epoch 37 Batch 550 Loss 2.2821 Accuracy 0.4905\n",
            "Epoch 37 Batch 600 Loss 2.2823 Accuracy 0.4905\n",
            "Epoch 37 Batch 650 Loss 2.2825 Accuracy 0.4904\n",
            "Epoch 37 Batch 700 Loss 2.2832 Accuracy 0.4902\n",
            "Epoch 37 Batch 750 Loss 2.2850 Accuracy 0.4898\n",
            "Epoch 37 Batch 800 Loss 2.2847 Accuracy 0.4899\n",
            "Epoch 37 Batch 850 Loss 2.2854 Accuracy 0.4898\n",
            "Epoch 37 Batch 900 Loss 2.2879 Accuracy 0.4893\n",
            "Epoch 37 Batch 950 Loss 2.2882 Accuracy 0.4892\n",
            "Epoch 37 Batch 1000 Loss 2.2883 Accuracy 0.4892\n",
            "Epoch 37 Batch 1050 Loss 2.2896 Accuracy 0.4891\n",
            "Epoch 37 Batch 1100 Loss 2.2892 Accuracy 0.4891\n",
            "Epoch 37 Batch 1150 Loss 2.2903 Accuracy 0.4889\n",
            "Epoch 37 Batch 1200 Loss 2.2904 Accuracy 0.4888\n",
            "Epoch 37 Batch 1250 Loss 2.2913 Accuracy 0.4886\n",
            "Epoch 37 Batch 1300 Loss 2.2918 Accuracy 0.4886\n",
            "Epoch 37 Batch 1350 Loss 2.2925 Accuracy 0.4886\n",
            "Epoch 37 Batch 1400 Loss 2.2933 Accuracy 0.4885\n",
            "Epoch 37 Batch 1450 Loss 2.2945 Accuracy 0.4883\n",
            "Epoch 37 Batch 1500 Loss 2.2961 Accuracy 0.4880\n",
            "Epoch 37 Batch 1550 Loss 2.2971 Accuracy 0.4879\n",
            "Epoch 37 Loss 2.2970 Accuracy 0.4879\n",
            "Time taken for 1 epoch: 520.65 secs\n",
            "\n",
            "Epoch 38 Batch 0 Loss 2.1006 Accuracy 0.5261\n",
            "Epoch 38 Batch 50 Loss 2.2121 Accuracy 0.5037\n",
            "Epoch 38 Batch 100 Loss 2.2327 Accuracy 0.4996\n",
            "Epoch 38 Batch 150 Loss 2.2316 Accuracy 0.4999\n",
            "Epoch 38 Batch 200 Loss 2.2396 Accuracy 0.4982\n",
            "Epoch 38 Batch 250 Loss 2.2443 Accuracy 0.4970\n",
            "Epoch 38 Batch 300 Loss 2.2480 Accuracy 0.4960\n",
            "Epoch 38 Batch 350 Loss 2.2508 Accuracy 0.4955\n",
            "Epoch 38 Batch 400 Loss 2.2530 Accuracy 0.4948\n",
            "Epoch 38 Batch 450 Loss 2.2520 Accuracy 0.4949\n",
            "Epoch 38 Batch 500 Loss 2.2546 Accuracy 0.4945\n",
            "Epoch 38 Batch 550 Loss 2.2532 Accuracy 0.4949\n",
            "Epoch 38 Batch 600 Loss 2.2559 Accuracy 0.4944\n",
            "Epoch 38 Batch 650 Loss 2.2562 Accuracy 0.4944\n",
            "Epoch 38 Batch 700 Loss 2.2594 Accuracy 0.4938\n",
            "Epoch 38 Batch 750 Loss 2.2580 Accuracy 0.4940\n",
            "Epoch 38 Batch 800 Loss 2.2600 Accuracy 0.4936\n",
            "Epoch 38 Batch 850 Loss 2.2614 Accuracy 0.4933\n",
            "Epoch 38 Batch 900 Loss 2.2628 Accuracy 0.4931\n",
            "Epoch 38 Batch 950 Loss 2.2632 Accuracy 0.4930\n",
            "Epoch 38 Batch 1000 Loss 2.2646 Accuracy 0.4928\n",
            "Epoch 38 Batch 1050 Loss 2.2646 Accuracy 0.4928\n",
            "Epoch 38 Batch 1100 Loss 2.2655 Accuracy 0.4927\n",
            "Epoch 38 Batch 1150 Loss 2.2664 Accuracy 0.4926\n",
            "Epoch 38 Batch 1200 Loss 2.2670 Accuracy 0.4926\n",
            "Epoch 38 Batch 1250 Loss 2.2677 Accuracy 0.4924\n",
            "Epoch 38 Batch 1300 Loss 2.2681 Accuracy 0.4924\n",
            "Epoch 38 Batch 1350 Loss 2.2690 Accuracy 0.4922\n",
            "Epoch 38 Batch 1400 Loss 2.2697 Accuracy 0.4921\n",
            "Epoch 38 Batch 1450 Loss 2.2711 Accuracy 0.4918\n",
            "Epoch 38 Batch 1500 Loss 2.2728 Accuracy 0.4916\n",
            "Epoch 38 Batch 1550 Loss 2.2735 Accuracy 0.4914\n",
            "Epoch 38 Loss 2.2738 Accuracy 0.4914\n",
            "Time taken for 1 epoch: 518.56 secs\n",
            "\n",
            "Epoch 39 Batch 0 Loss 2.0623 Accuracy 0.5422\n",
            "Epoch 39 Batch 50 Loss 2.2345 Accuracy 0.4972\n",
            "Epoch 39 Batch 100 Loss 2.2315 Accuracy 0.4987\n",
            "Epoch 39 Batch 150 Loss 2.2326 Accuracy 0.4985\n",
            "Epoch 39 Batch 200 Loss 2.2295 Accuracy 0.4995\n",
            "Epoch 39 Batch 250 Loss 2.2332 Accuracy 0.4988\n",
            "Epoch 39 Batch 300 Loss 2.2319 Accuracy 0.4992\n",
            "Epoch 39 Batch 350 Loss 2.2335 Accuracy 0.4987\n",
            "Epoch 39 Batch 400 Loss 2.2353 Accuracy 0.4984\n",
            "Epoch 39 Batch 450 Loss 2.2349 Accuracy 0.4984\n",
            "Epoch 39 Batch 500 Loss 2.2374 Accuracy 0.4978\n",
            "Epoch 39 Batch 550 Loss 2.2369 Accuracy 0.4978\n",
            "Epoch 39 Batch 600 Loss 2.2383 Accuracy 0.4974\n",
            "Epoch 39 Batch 650 Loss 2.2395 Accuracy 0.4972\n",
            "Epoch 39 Batch 700 Loss 2.2391 Accuracy 0.4972\n",
            "Epoch 39 Batch 750 Loss 2.2419 Accuracy 0.4967\n",
            "Epoch 39 Batch 800 Loss 2.2419 Accuracy 0.4965\n",
            "Epoch 39 Batch 850 Loss 2.2417 Accuracy 0.4966\n",
            "Epoch 39 Batch 900 Loss 2.2432 Accuracy 0.4963\n",
            "Epoch 39 Batch 950 Loss 2.2445 Accuracy 0.4961\n",
            "Epoch 39 Batch 1000 Loss 2.2455 Accuracy 0.4959\n",
            "Epoch 39 Batch 1050 Loss 2.2457 Accuracy 0.4959\n",
            "Epoch 39 Batch 1100 Loss 2.2461 Accuracy 0.4958\n",
            "Epoch 39 Batch 1150 Loss 2.2466 Accuracy 0.4958\n",
            "Epoch 39 Batch 1200 Loss 2.2476 Accuracy 0.4956\n",
            "Epoch 39 Batch 1250 Loss 2.2475 Accuracy 0.4957\n",
            "Epoch 39 Batch 1300 Loss 2.2475 Accuracy 0.4957\n",
            "Epoch 39 Batch 1350 Loss 2.2484 Accuracy 0.4955\n",
            "Epoch 39 Batch 1400 Loss 2.2494 Accuracy 0.4954\n",
            "Epoch 39 Batch 1450 Loss 2.2505 Accuracy 0.4952\n",
            "Epoch 39 Batch 1500 Loss 2.2513 Accuracy 0.4952\n",
            "Epoch 39 Batch 1550 Loss 2.2515 Accuracy 0.4952\n",
            "Epoch 39 Loss 2.2525 Accuracy 0.4950\n",
            "Time taken for 1 epoch: 518.55 secs\n",
            "\n",
            "Epoch 40 Batch 0 Loss 2.1962 Accuracy 0.5146\n",
            "Epoch 40 Batch 50 Loss 2.2143 Accuracy 0.5016\n",
            "Epoch 40 Batch 100 Loss 2.2221 Accuracy 0.5000\n",
            "Epoch 40 Batch 150 Loss 2.2116 Accuracy 0.5017\n",
            "Epoch 40 Batch 200 Loss 2.2142 Accuracy 0.5012\n",
            "Epoch 40 Batch 250 Loss 2.2144 Accuracy 0.5010\n",
            "Epoch 40 Batch 300 Loss 2.2160 Accuracy 0.5007\n",
            "Epoch 40 Batch 350 Loss 2.2187 Accuracy 0.5003\n",
            "Epoch 40 Batch 400 Loss 2.2176 Accuracy 0.5006\n",
            "Epoch 40 Batch 450 Loss 2.2177 Accuracy 0.5006\n",
            "Epoch 40 Batch 500 Loss 2.2172 Accuracy 0.5006\n",
            "Epoch 40 Batch 550 Loss 2.2155 Accuracy 0.5007\n",
            "Epoch 40 Batch 600 Loss 2.2162 Accuracy 0.5004\n",
            "Epoch 40 Batch 650 Loss 2.2171 Accuracy 0.5003\n",
            "Epoch 40 Batch 700 Loss 2.2175 Accuracy 0.5003\n",
            "Epoch 40 Batch 750 Loss 2.2186 Accuracy 0.5000\n",
            "Epoch 40 Batch 800 Loss 2.2198 Accuracy 0.4998\n",
            "Epoch 40 Batch 850 Loss 2.2203 Accuracy 0.4998\n",
            "Epoch 40 Batch 900 Loss 2.2231 Accuracy 0.4992\n",
            "Epoch 40 Batch 950 Loss 2.2234 Accuracy 0.4992\n",
            "Epoch 40 Batch 1000 Loss 2.2245 Accuracy 0.4990\n",
            "Epoch 40 Batch 1050 Loss 2.2251 Accuracy 0.4989\n",
            "Epoch 40 Batch 1100 Loss 2.2258 Accuracy 0.4987\n",
            "Epoch 40 Batch 1150 Loss 2.2263 Accuracy 0.4987\n",
            "Epoch 40 Batch 1200 Loss 2.2262 Accuracy 0.4987\n",
            "Epoch 40 Batch 1250 Loss 2.2267 Accuracy 0.4987\n",
            "Epoch 40 Batch 1300 Loss 2.2273 Accuracy 0.4985\n",
            "Epoch 40 Batch 1350 Loss 2.2273 Accuracy 0.4986\n",
            "Epoch 40 Batch 1400 Loss 2.2273 Accuracy 0.4987\n",
            "Epoch 40 Batch 1450 Loss 2.2282 Accuracy 0.4986\n",
            "Epoch 40 Batch 1500 Loss 2.2288 Accuracy 0.4985\n",
            "Epoch 40 Batch 1550 Loss 2.2304 Accuracy 0.4982\n",
            "Saving checkpoint for epoch 40 at /content/drive/MyDrive/MT/checkpointsPaper/train/ckpt-8\n",
            "Epoch 40 Loss 2.2308 Accuracy 0.4982\n",
            "Time taken for 1 epoch: 521.68 secs\n",
            "\n",
            "Epoch 41 Batch 0 Loss 2.1364 Accuracy 0.5214\n",
            "Epoch 41 Batch 50 Loss 2.1625 Accuracy 0.5084\n",
            "Epoch 41 Batch 100 Loss 2.1789 Accuracy 0.5059\n",
            "Epoch 41 Batch 150 Loss 2.1791 Accuracy 0.5071\n",
            "Epoch 41 Batch 200 Loss 2.1816 Accuracy 0.5069\n",
            "Epoch 41 Batch 250 Loss 2.1854 Accuracy 0.5062\n",
            "Epoch 41 Batch 300 Loss 2.1846 Accuracy 0.5061\n",
            "Epoch 41 Batch 350 Loss 2.1882 Accuracy 0.5054\n",
            "Epoch 41 Batch 400 Loss 2.1895 Accuracy 0.5051\n",
            "Epoch 41 Batch 450 Loss 2.1921 Accuracy 0.5045\n",
            "Epoch 41 Batch 500 Loss 2.1925 Accuracy 0.5043\n",
            "Epoch 41 Batch 550 Loss 2.1954 Accuracy 0.5038\n",
            "Epoch 41 Batch 600 Loss 2.1952 Accuracy 0.5035\n",
            "Epoch 41 Batch 650 Loss 2.1956 Accuracy 0.5035\n",
            "Epoch 41 Batch 700 Loss 2.1962 Accuracy 0.5034\n",
            "Epoch 41 Batch 750 Loss 2.1979 Accuracy 0.5032\n",
            "Epoch 41 Batch 800 Loss 2.1985 Accuracy 0.5031\n",
            "Epoch 41 Batch 850 Loss 2.1997 Accuracy 0.5029\n",
            "Epoch 41 Batch 900 Loss 2.1994 Accuracy 0.5031\n",
            "Epoch 41 Batch 950 Loss 2.2008 Accuracy 0.5029\n",
            "Epoch 41 Batch 1000 Loss 2.2019 Accuracy 0.5027\n",
            "Epoch 41 Batch 1050 Loss 2.2025 Accuracy 0.5026\n",
            "Epoch 41 Batch 1100 Loss 2.2016 Accuracy 0.5028\n",
            "Epoch 41 Batch 1150 Loss 2.2020 Accuracy 0.5027\n",
            "Epoch 41 Batch 1200 Loss 2.2028 Accuracy 0.5026\n",
            "Epoch 41 Batch 1250 Loss 2.2035 Accuracy 0.5024\n",
            "Epoch 41 Batch 1300 Loss 2.2046 Accuracy 0.5022\n",
            "Epoch 41 Batch 1350 Loss 2.2045 Accuracy 0.5023\n",
            "Epoch 41 Batch 1400 Loss 2.2054 Accuracy 0.5021\n",
            "Epoch 41 Batch 1450 Loss 2.2072 Accuracy 0.5018\n",
            "Epoch 41 Batch 1500 Loss 2.2087 Accuracy 0.5016\n",
            "Epoch 41 Batch 1550 Loss 2.2092 Accuracy 0.5015\n",
            "Epoch 41 Loss 2.2100 Accuracy 0.5014\n",
            "Time taken for 1 epoch: 519.57 secs\n",
            "\n",
            "Epoch 42 Batch 0 Loss 2.1879 Accuracy 0.5092\n",
            "Epoch 42 Batch 50 Loss 2.1508 Accuracy 0.5128\n",
            "Epoch 42 Batch 100 Loss 2.1595 Accuracy 0.5110\n",
            "Epoch 42 Batch 150 Loss 2.1618 Accuracy 0.5095\n",
            "Epoch 42 Batch 200 Loss 2.1698 Accuracy 0.5078\n",
            "Epoch 42 Batch 250 Loss 2.1678 Accuracy 0.5087\n",
            "Epoch 42 Batch 300 Loss 2.1661 Accuracy 0.5090\n",
            "Epoch 42 Batch 350 Loss 2.1675 Accuracy 0.5087\n",
            "Epoch 42 Batch 400 Loss 2.1670 Accuracy 0.5087\n",
            "Epoch 42 Batch 450 Loss 2.1691 Accuracy 0.5082\n",
            "Epoch 42 Batch 500 Loss 2.1698 Accuracy 0.5079\n",
            "Epoch 42 Batch 550 Loss 2.1706 Accuracy 0.5076\n",
            "Epoch 42 Batch 600 Loss 2.1725 Accuracy 0.5072\n",
            "Epoch 42 Batch 650 Loss 2.1738 Accuracy 0.5069\n",
            "Epoch 42 Batch 700 Loss 2.1770 Accuracy 0.5063\n",
            "Epoch 42 Batch 750 Loss 2.1793 Accuracy 0.5059\n",
            "Epoch 42 Batch 800 Loss 2.1802 Accuracy 0.5058\n",
            "Epoch 42 Batch 850 Loss 2.1801 Accuracy 0.5060\n",
            "Epoch 42 Batch 900 Loss 2.1811 Accuracy 0.5058\n",
            "Epoch 42 Batch 950 Loss 2.1824 Accuracy 0.5056\n",
            "Epoch 42 Batch 1000 Loss 2.1831 Accuracy 0.5054\n",
            "Epoch 42 Batch 1050 Loss 2.1834 Accuracy 0.5054\n",
            "Epoch 42 Batch 1100 Loss 2.1835 Accuracy 0.5054\n",
            "Epoch 42 Batch 1150 Loss 2.1837 Accuracy 0.5053\n",
            "Epoch 42 Batch 1200 Loss 2.1841 Accuracy 0.5053\n",
            "Epoch 42 Batch 1250 Loss 2.1850 Accuracy 0.5051\n",
            "Epoch 42 Batch 1300 Loss 2.1860 Accuracy 0.5050\n",
            "Epoch 42 Batch 1350 Loss 2.1864 Accuracy 0.5049\n",
            "Epoch 42 Batch 1400 Loss 2.1873 Accuracy 0.5048\n",
            "Epoch 42 Batch 1450 Loss 2.1884 Accuracy 0.5047\n",
            "Epoch 42 Batch 1500 Loss 2.1890 Accuracy 0.5046\n",
            "Epoch 42 Batch 1550 Loss 2.1897 Accuracy 0.5045\n",
            "Epoch 42 Loss 2.1900 Accuracy 0.5045\n",
            "Time taken for 1 epoch: 516.99 secs\n",
            "\n",
            "Epoch 43 Batch 0 Loss 2.2481 Accuracy 0.4985\n",
            "Epoch 43 Batch 50 Loss 2.1498 Accuracy 0.5122\n",
            "Epoch 43 Batch 100 Loss 2.1377 Accuracy 0.5134\n",
            "Epoch 43 Batch 150 Loss 2.1428 Accuracy 0.5125\n",
            "Epoch 43 Batch 200 Loss 2.1464 Accuracy 0.5115\n",
            "Epoch 43 Batch 250 Loss 2.1508 Accuracy 0.5109\n",
            "Epoch 43 Batch 300 Loss 2.1509 Accuracy 0.5107\n",
            "Epoch 43 Batch 350 Loss 2.1526 Accuracy 0.5103\n",
            "Epoch 43 Batch 400 Loss 2.1563 Accuracy 0.5096\n",
            "Epoch 43 Batch 450 Loss 2.1588 Accuracy 0.5091\n",
            "Epoch 43 Batch 500 Loss 2.1587 Accuracy 0.5092\n",
            "Epoch 43 Batch 550 Loss 2.1587 Accuracy 0.5091\n",
            "Epoch 43 Batch 600 Loss 2.1581 Accuracy 0.5093\n",
            "Epoch 43 Batch 650 Loss 2.1571 Accuracy 0.5096\n",
            "Epoch 43 Batch 700 Loss 2.1567 Accuracy 0.5098\n",
            "Epoch 43 Batch 750 Loss 2.1595 Accuracy 0.5093\n",
            "Epoch 43 Batch 800 Loss 2.1588 Accuracy 0.5095\n",
            "Epoch 43 Batch 850 Loss 2.1584 Accuracy 0.5096\n",
            "Epoch 43 Batch 900 Loss 2.1605 Accuracy 0.5092\n",
            "Epoch 43 Batch 950 Loss 2.1619 Accuracy 0.5090\n",
            "Epoch 43 Batch 1000 Loss 2.1624 Accuracy 0.5090\n",
            "Epoch 43 Batch 1050 Loss 2.1628 Accuracy 0.5089\n",
            "Epoch 43 Batch 1100 Loss 2.1633 Accuracy 0.5087\n",
            "Epoch 43 Batch 1150 Loss 2.1646 Accuracy 0.5085\n",
            "Epoch 43 Batch 1200 Loss 2.1652 Accuracy 0.5084\n",
            "Epoch 43 Batch 1250 Loss 2.1656 Accuracy 0.5083\n",
            "Epoch 43 Batch 1300 Loss 2.1654 Accuracy 0.5083\n",
            "Epoch 43 Batch 1350 Loss 2.1664 Accuracy 0.5081\n",
            "Epoch 43 Batch 1400 Loss 2.1665 Accuracy 0.5083\n",
            "Epoch 43 Batch 1450 Loss 2.1670 Accuracy 0.5082\n",
            "Epoch 43 Batch 1500 Loss 2.1679 Accuracy 0.5081\n",
            "Epoch 43 Batch 1550 Loss 2.1683 Accuracy 0.5080\n",
            "Epoch 43 Loss 2.1688 Accuracy 0.5079\n",
            "Time taken for 1 epoch: 520.23 secs\n",
            "\n",
            "Epoch 44 Batch 0 Loss 2.1753 Accuracy 0.5160\n",
            "Epoch 44 Batch 50 Loss 2.1520 Accuracy 0.5092\n",
            "Epoch 44 Batch 100 Loss 2.1375 Accuracy 0.5121\n",
            "Epoch 44 Batch 150 Loss 2.1302 Accuracy 0.5135\n",
            "Epoch 44 Batch 200 Loss 2.1318 Accuracy 0.5134\n",
            "Epoch 44 Batch 250 Loss 2.1304 Accuracy 0.5135\n",
            "Epoch 44 Batch 300 Loss 2.1316 Accuracy 0.5132\n",
            "Epoch 44 Batch 350 Loss 2.1309 Accuracy 0.5134\n",
            "Epoch 44 Batch 400 Loss 2.1318 Accuracy 0.5133\n",
            "Epoch 44 Batch 450 Loss 2.1338 Accuracy 0.5131\n",
            "Epoch 44 Batch 500 Loss 2.1376 Accuracy 0.5125\n",
            "Epoch 44 Batch 550 Loss 2.1386 Accuracy 0.5123\n",
            "Epoch 44 Batch 600 Loss 2.1387 Accuracy 0.5125\n",
            "Epoch 44 Batch 650 Loss 2.1400 Accuracy 0.5122\n",
            "Epoch 44 Batch 700 Loss 2.1411 Accuracy 0.5120\n",
            "Epoch 44 Batch 750 Loss 2.1435 Accuracy 0.5114\n",
            "Epoch 44 Batch 800 Loss 2.1433 Accuracy 0.5115\n",
            "Epoch 44 Batch 850 Loss 2.1428 Accuracy 0.5116\n",
            "Epoch 44 Batch 900 Loss 2.1434 Accuracy 0.5115\n",
            "Epoch 44 Batch 950 Loss 2.1448 Accuracy 0.5112\n",
            "Epoch 44 Batch 1000 Loss 2.1454 Accuracy 0.5111\n",
            "Epoch 44 Batch 1050 Loss 2.1456 Accuracy 0.5112\n",
            "Epoch 44 Batch 1100 Loss 2.1459 Accuracy 0.5111\n",
            "Epoch 44 Batch 1150 Loss 2.1464 Accuracy 0.5111\n",
            "Epoch 44 Batch 1200 Loss 2.1464 Accuracy 0.5112\n",
            "Epoch 44 Batch 1250 Loss 2.1465 Accuracy 0.5112\n",
            "Epoch 44 Batch 1300 Loss 2.1468 Accuracy 0.5111\n",
            "Epoch 44 Batch 1350 Loss 2.1480 Accuracy 0.5109\n",
            "Epoch 44 Batch 1400 Loss 2.1487 Accuracy 0.5108\n",
            "Epoch 44 Batch 1450 Loss 2.1499 Accuracy 0.5107\n",
            "Epoch 44 Batch 1500 Loss 2.1509 Accuracy 0.5105\n",
            "Epoch 44 Batch 1550 Loss 2.1512 Accuracy 0.5105\n",
            "Epoch 44 Loss 2.1518 Accuracy 0.5104\n",
            "Time taken for 1 epoch: 519.91 secs\n",
            "\n",
            "Epoch 45 Batch 0 Loss 2.0964 Accuracy 0.5351\n",
            "Epoch 45 Batch 50 Loss 2.1114 Accuracy 0.5167\n",
            "Epoch 45 Batch 100 Loss 2.1021 Accuracy 0.5176\n",
            "Epoch 45 Batch 150 Loss 2.1045 Accuracy 0.5172\n",
            "Epoch 45 Batch 200 Loss 2.1033 Accuracy 0.5181\n",
            "Epoch 45 Batch 250 Loss 2.1042 Accuracy 0.5181\n",
            "Epoch 45 Batch 300 Loss 2.1029 Accuracy 0.5186\n",
            "Epoch 45 Batch 350 Loss 2.1035 Accuracy 0.5186\n",
            "Epoch 45 Batch 400 Loss 2.1061 Accuracy 0.5179\n",
            "Epoch 45 Batch 450 Loss 2.1084 Accuracy 0.5175\n",
            "Epoch 45 Batch 500 Loss 2.1088 Accuracy 0.5175\n",
            "Epoch 45 Batch 550 Loss 2.1085 Accuracy 0.5176\n",
            "Epoch 45 Batch 600 Loss 2.1116 Accuracy 0.5171\n",
            "Epoch 45 Batch 650 Loss 2.1144 Accuracy 0.5166\n",
            "Epoch 45 Batch 700 Loss 2.1148 Accuracy 0.5166\n",
            "Epoch 45 Batch 750 Loss 2.1171 Accuracy 0.5160\n",
            "Epoch 45 Batch 800 Loss 2.1184 Accuracy 0.5157\n",
            "Epoch 45 Batch 850 Loss 2.1203 Accuracy 0.5154\n",
            "Epoch 45 Batch 900 Loss 2.1210 Accuracy 0.5152\n",
            "Epoch 45 Batch 950 Loss 2.1228 Accuracy 0.5149\n",
            "Epoch 45 Batch 1000 Loss 2.1240 Accuracy 0.5147\n",
            "Epoch 45 Batch 1050 Loss 2.1246 Accuracy 0.5146\n",
            "Epoch 45 Batch 1100 Loss 2.1242 Accuracy 0.5148\n",
            "Epoch 45 Batch 1150 Loss 2.1233 Accuracy 0.5150\n",
            "Epoch 45 Batch 1200 Loss 2.1241 Accuracy 0.5147\n",
            "Epoch 45 Batch 1250 Loss 2.1257 Accuracy 0.5145\n",
            "Epoch 45 Batch 1300 Loss 2.1270 Accuracy 0.5143\n",
            "Epoch 45 Batch 1350 Loss 2.1272 Accuracy 0.5143\n",
            "Epoch 45 Batch 1400 Loss 2.1278 Accuracy 0.5142\n",
            "Epoch 45 Batch 1450 Loss 2.1288 Accuracy 0.5141\n",
            "Epoch 45 Batch 1500 Loss 2.1299 Accuracy 0.5139\n",
            "Epoch 45 Batch 1550 Loss 2.1309 Accuracy 0.5137\n",
            "Saving checkpoint for epoch 45 at /content/drive/MyDrive/MT/checkpointsPaper/train/ckpt-9\n",
            "Epoch 45 Loss 2.1313 Accuracy 0.5137\n",
            "Time taken for 1 epoch: 519.10 secs\n",
            "\n",
            "Epoch 46 Batch 0 Loss 2.0906 Accuracy 0.5341\n",
            "Epoch 46 Batch 50 Loss 2.0758 Accuracy 0.5233\n",
            "Epoch 46 Batch 100 Loss 2.0745 Accuracy 0.5232\n",
            "Epoch 46 Batch 150 Loss 2.0746 Accuracy 0.5234\n",
            "Epoch 46 Batch 200 Loss 2.0814 Accuracy 0.5224\n",
            "Epoch 46 Batch 250 Loss 2.0838 Accuracy 0.5217\n",
            "Epoch 46 Batch 300 Loss 2.0913 Accuracy 0.5203\n",
            "Epoch 46 Batch 350 Loss 2.0916 Accuracy 0.5199\n",
            "Epoch 46 Batch 400 Loss 2.0932 Accuracy 0.5196\n",
            "Epoch 46 Batch 450 Loss 2.0936 Accuracy 0.5197\n",
            "Epoch 46 Batch 500 Loss 2.0952 Accuracy 0.5195\n",
            "Epoch 46 Batch 550 Loss 2.0930 Accuracy 0.5200\n",
            "Epoch 46 Batch 600 Loss 2.0956 Accuracy 0.5196\n",
            "Epoch 46 Batch 650 Loss 2.0976 Accuracy 0.5191\n",
            "Epoch 46 Batch 700 Loss 2.0980 Accuracy 0.5191\n",
            "Epoch 46 Batch 750 Loss 2.0990 Accuracy 0.5188\n",
            "Epoch 46 Batch 800 Loss 2.1004 Accuracy 0.5185\n",
            "Epoch 46 Batch 850 Loss 2.1022 Accuracy 0.5182\n",
            "Epoch 46 Batch 900 Loss 2.1031 Accuracy 0.5179\n",
            "Epoch 46 Batch 950 Loss 2.1041 Accuracy 0.5178\n",
            "Epoch 46 Batch 1000 Loss 2.1039 Accuracy 0.5179\n",
            "Epoch 46 Batch 1050 Loss 2.1047 Accuracy 0.5178\n",
            "Epoch 46 Batch 1100 Loss 2.1053 Accuracy 0.5177\n",
            "Epoch 46 Batch 1150 Loss 2.1063 Accuracy 0.5176\n",
            "Epoch 46 Batch 1200 Loss 2.1069 Accuracy 0.5174\n",
            "Epoch 46 Batch 1250 Loss 2.1067 Accuracy 0.5175\n",
            "Epoch 46 Batch 1300 Loss 2.1076 Accuracy 0.5174\n",
            "Epoch 46 Batch 1350 Loss 2.1088 Accuracy 0.5172\n",
            "Epoch 46 Batch 1400 Loss 2.1093 Accuracy 0.5170\n",
            "Epoch 46 Batch 1450 Loss 2.1105 Accuracy 0.5169\n",
            "Epoch 46 Batch 1500 Loss 2.1109 Accuracy 0.5169\n",
            "Epoch 46 Batch 1550 Loss 2.1121 Accuracy 0.5167\n",
            "Epoch 46 Loss 2.1121 Accuracy 0.5167\n",
            "Time taken for 1 epoch: 517.35 secs\n",
            "\n",
            "Epoch 47 Batch 0 Loss 2.2762 Accuracy 0.4814\n",
            "Epoch 47 Batch 50 Loss 2.0804 Accuracy 0.5235\n",
            "Epoch 47 Batch 100 Loss 2.0663 Accuracy 0.5254\n",
            "Epoch 47 Batch 150 Loss 2.0666 Accuracy 0.5247\n",
            "Epoch 47 Batch 200 Loss 2.0697 Accuracy 0.5242\n",
            "Epoch 47 Batch 250 Loss 2.0725 Accuracy 0.5236\n",
            "Epoch 47 Batch 300 Loss 2.0710 Accuracy 0.5238\n",
            "Epoch 47 Batch 350 Loss 2.0716 Accuracy 0.5236\n",
            "Epoch 47 Batch 400 Loss 2.0694 Accuracy 0.5240\n",
            "Epoch 47 Batch 450 Loss 2.0713 Accuracy 0.5236\n",
            "Epoch 47 Batch 500 Loss 2.0723 Accuracy 0.5234\n",
            "Epoch 47 Batch 550 Loss 2.0744 Accuracy 0.5230\n",
            "Epoch 47 Batch 600 Loss 2.0775 Accuracy 0.5225\n",
            "Epoch 47 Batch 650 Loss 2.0788 Accuracy 0.5223\n",
            "Epoch 47 Batch 700 Loss 2.0815 Accuracy 0.5218\n",
            "Epoch 47 Batch 750 Loss 2.0827 Accuracy 0.5214\n",
            "Epoch 47 Batch 800 Loss 2.0830 Accuracy 0.5213\n",
            "Epoch 47 Batch 850 Loss 2.0846 Accuracy 0.5209\n",
            "Epoch 47 Batch 900 Loss 2.0862 Accuracy 0.5207\n",
            "Epoch 47 Batch 950 Loss 2.0868 Accuracy 0.5206\n",
            "Epoch 47 Batch 1000 Loss 2.0871 Accuracy 0.5206\n",
            "Epoch 47 Batch 1050 Loss 2.0879 Accuracy 0.5205\n",
            "Epoch 47 Batch 1100 Loss 2.0882 Accuracy 0.5205\n",
            "Epoch 47 Batch 1150 Loss 2.0883 Accuracy 0.5205\n",
            "Epoch 47 Batch 1200 Loss 2.0876 Accuracy 0.5207\n",
            "Epoch 47 Batch 1250 Loss 2.0883 Accuracy 0.5205\n",
            "Epoch 47 Batch 1300 Loss 2.0897 Accuracy 0.5202\n",
            "Epoch 47 Batch 1350 Loss 2.0896 Accuracy 0.5202\n",
            "Epoch 47 Batch 1400 Loss 2.0903 Accuracy 0.5202\n",
            "Epoch 47 Batch 1450 Loss 2.0920 Accuracy 0.5199\n",
            "Epoch 47 Batch 1500 Loss 2.0930 Accuracy 0.5196\n",
            "Epoch 47 Batch 1550 Loss 2.0942 Accuracy 0.5194\n",
            "Epoch 47 Loss 2.0945 Accuracy 0.5194\n",
            "Time taken for 1 epoch: 517.31 secs\n",
            "\n",
            "Epoch 48 Batch 0 Loss 2.1348 Accuracy 0.5289\n",
            "Epoch 48 Batch 50 Loss 2.0614 Accuracy 0.5235\n",
            "Epoch 48 Batch 100 Loss 2.0386 Accuracy 0.5292\n",
            "Epoch 48 Batch 150 Loss 2.0417 Accuracy 0.5289\n",
            "Epoch 48 Batch 200 Loss 2.0361 Accuracy 0.5300\n",
            "Epoch 48 Batch 250 Loss 2.0467 Accuracy 0.5281\n",
            "Epoch 48 Batch 300 Loss 2.0489 Accuracy 0.5277\n",
            "Epoch 48 Batch 350 Loss 2.0496 Accuracy 0.5275\n",
            "Epoch 48 Batch 400 Loss 2.0501 Accuracy 0.5273\n",
            "Epoch 48 Batch 450 Loss 2.0514 Accuracy 0.5270\n",
            "Epoch 48 Batch 500 Loss 2.0536 Accuracy 0.5266\n",
            "Epoch 48 Batch 550 Loss 2.0551 Accuracy 0.5263\n",
            "Epoch 48 Batch 600 Loss 2.0589 Accuracy 0.5256\n",
            "Epoch 48 Batch 650 Loss 2.0620 Accuracy 0.5249\n",
            "Epoch 48 Batch 700 Loss 2.0629 Accuracy 0.5248\n",
            "Epoch 48 Batch 750 Loss 2.0626 Accuracy 0.5250\n",
            "Epoch 48 Batch 800 Loss 2.0640 Accuracy 0.5247\n",
            "Epoch 48 Batch 850 Loss 2.0661 Accuracy 0.5243\n",
            "Epoch 48 Batch 900 Loss 2.0669 Accuracy 0.5242\n",
            "Epoch 48 Batch 950 Loss 2.0683 Accuracy 0.5240\n",
            "Epoch 48 Batch 1000 Loss 2.0695 Accuracy 0.5237\n",
            "Epoch 48 Batch 1050 Loss 2.0692 Accuracy 0.5237\n",
            "Epoch 48 Batch 1100 Loss 2.0695 Accuracy 0.5237\n",
            "Epoch 48 Batch 1150 Loss 2.0712 Accuracy 0.5233\n",
            "Epoch 48 Batch 1200 Loss 2.0721 Accuracy 0.5231\n",
            "Epoch 48 Batch 1250 Loss 2.0726 Accuracy 0.5230\n",
            "Epoch 48 Batch 1300 Loss 2.0731 Accuracy 0.5229\n",
            "Epoch 48 Batch 1350 Loss 2.0733 Accuracy 0.5229\n",
            "Epoch 48 Batch 1400 Loss 2.0731 Accuracy 0.5230\n",
            "Epoch 48 Batch 1450 Loss 2.0737 Accuracy 0.5229\n",
            "Epoch 48 Batch 1500 Loss 2.0746 Accuracy 0.5227\n",
            "Epoch 48 Batch 1550 Loss 2.0760 Accuracy 0.5225\n",
            "Epoch 48 Loss 2.0761 Accuracy 0.5225\n",
            "Time taken for 1 epoch: 516.75 secs\n",
            "\n",
            "Epoch 49 Batch 0 Loss 2.0625 Accuracy 0.5170\n",
            "Epoch 49 Batch 50 Loss 2.0271 Accuracy 0.5310\n",
            "Epoch 49 Batch 100 Loss 2.0225 Accuracy 0.5323\n",
            "Epoch 49 Batch 150 Loss 2.0344 Accuracy 0.5295\n",
            "Epoch 49 Batch 200 Loss 2.0363 Accuracy 0.5292\n",
            "Epoch 49 Batch 250 Loss 2.0356 Accuracy 0.5292\n",
            "Epoch 49 Batch 300 Loss 2.0382 Accuracy 0.5288\n",
            "Epoch 49 Batch 350 Loss 2.0343 Accuracy 0.5299\n",
            "Epoch 49 Batch 400 Loss 2.0364 Accuracy 0.5294\n",
            "Epoch 49 Batch 450 Loss 2.0380 Accuracy 0.5291\n",
            "Epoch 49 Batch 500 Loss 2.0399 Accuracy 0.5287\n",
            "Epoch 49 Batch 550 Loss 2.0410 Accuracy 0.5286\n",
            "Epoch 49 Batch 600 Loss 2.0419 Accuracy 0.5284\n",
            "Epoch 49 Batch 650 Loss 2.0443 Accuracy 0.5279\n",
            "Epoch 49 Batch 700 Loss 2.0458 Accuracy 0.5276\n",
            "Epoch 49 Batch 750 Loss 2.0477 Accuracy 0.5272\n",
            "Epoch 49 Batch 800 Loss 2.0484 Accuracy 0.5271\n",
            "Epoch 49 Batch 850 Loss 2.0504 Accuracy 0.5269\n",
            "Epoch 49 Batch 900 Loss 2.0515 Accuracy 0.5266\n",
            "Epoch 49 Batch 950 Loss 2.0526 Accuracy 0.5264\n",
            "Epoch 49 Batch 1000 Loss 2.0519 Accuracy 0.5266\n",
            "Epoch 49 Batch 1050 Loss 2.0530 Accuracy 0.5263\n",
            "Epoch 49 Batch 1100 Loss 2.0537 Accuracy 0.5262\n",
            "Epoch 49 Batch 1150 Loss 2.0529 Accuracy 0.5263\n",
            "Epoch 49 Batch 1200 Loss 2.0532 Accuracy 0.5263\n",
            "Epoch 49 Batch 1250 Loss 2.0537 Accuracy 0.5261\n",
            "Epoch 49 Batch 1300 Loss 2.0543 Accuracy 0.5260\n",
            "Epoch 49 Batch 1350 Loss 2.0545 Accuracy 0.5260\n",
            "Epoch 49 Batch 1400 Loss 2.0559 Accuracy 0.5257\n",
            "Epoch 49 Batch 1450 Loss 2.0573 Accuracy 0.5254\n",
            "Epoch 49 Batch 1500 Loss 2.0577 Accuracy 0.5254\n",
            "Epoch 49 Batch 1550 Loss 2.0587 Accuracy 0.5252\n",
            "Epoch 49 Loss 2.0590 Accuracy 0.5251\n",
            "Time taken for 1 epoch: 518.23 secs\n",
            "\n",
            "Epoch 50 Batch 0 Loss 2.0138 Accuracy 0.5312\n",
            "Epoch 50 Batch 50 Loss 2.0177 Accuracy 0.5311\n",
            "Epoch 50 Batch 100 Loss 2.0101 Accuracy 0.5342\n",
            "Epoch 50 Batch 150 Loss 2.0107 Accuracy 0.5339\n",
            "Epoch 50 Batch 200 Loss 2.0148 Accuracy 0.5330\n",
            "Epoch 50 Batch 250 Loss 2.0150 Accuracy 0.5330\n",
            "Epoch 50 Batch 300 Loss 2.0146 Accuracy 0.5331\n",
            "Epoch 50 Batch 350 Loss 2.0172 Accuracy 0.5325\n",
            "Epoch 50 Batch 400 Loss 2.0225 Accuracy 0.5313\n",
            "Epoch 50 Batch 450 Loss 2.0235 Accuracy 0.5313\n",
            "Epoch 50 Batch 500 Loss 2.0233 Accuracy 0.5315\n",
            "Epoch 50 Batch 550 Loss 2.0243 Accuracy 0.5311\n",
            "Epoch 50 Batch 600 Loss 2.0270 Accuracy 0.5305\n",
            "Epoch 50 Batch 650 Loss 2.0278 Accuracy 0.5303\n",
            "Epoch 50 Batch 700 Loss 2.0290 Accuracy 0.5300\n",
            "Epoch 50 Batch 750 Loss 2.0311 Accuracy 0.5297\n",
            "Epoch 50 Batch 800 Loss 2.0323 Accuracy 0.5293\n",
            "Epoch 50 Batch 850 Loss 2.0340 Accuracy 0.5290\n",
            "Epoch 50 Batch 900 Loss 2.0338 Accuracy 0.5291\n",
            "Epoch 50 Batch 950 Loss 2.0341 Accuracy 0.5291\n",
            "Epoch 50 Batch 1000 Loss 2.0355 Accuracy 0.5288\n",
            "Epoch 50 Batch 1050 Loss 2.0355 Accuracy 0.5288\n",
            "Epoch 50 Batch 1100 Loss 2.0359 Accuracy 0.5287\n",
            "Epoch 50 Batch 1150 Loss 2.0366 Accuracy 0.5286\n",
            "Epoch 50 Batch 1200 Loss 2.0373 Accuracy 0.5285\n",
            "Epoch 50 Batch 1250 Loss 2.0378 Accuracy 0.5285\n",
            "Epoch 50 Batch 1300 Loss 2.0386 Accuracy 0.5283\n",
            "Epoch 50 Batch 1350 Loss 2.0389 Accuracy 0.5283\n",
            "Epoch 50 Batch 1400 Loss 2.0395 Accuracy 0.5282\n",
            "Epoch 50 Batch 1450 Loss 2.0400 Accuracy 0.5281\n",
            "Epoch 50 Batch 1500 Loss 2.0405 Accuracy 0.5281\n",
            "Epoch 50 Batch 1550 Loss 2.0415 Accuracy 0.5279\n",
            "Saving checkpoint for epoch 50 at /content/drive/MyDrive/MT/checkpointsPaper/train/ckpt-10\n",
            "Epoch 50 Loss 2.0416 Accuracy 0.5279\n",
            "Time taken for 1 epoch: 518.92 secs\n",
            "\n"
          ],
          "name": "stdout"
        }
      ]
    },
    {
      "cell_type": "markdown",
      "metadata": {
        "id": "QfcsSWswSdGV"
      },
      "source": [
        "## Evaluate"
      ]
    },
    {
      "cell_type": "markdown",
      "metadata": {
        "id": "y6APsFrgImLW"
      },
      "source": [
        "The following steps are used for evaluation:\n",
        "\n",
        "* Encode the input sentence using the Portuguese tokenizer (`tokenizers.pt`). This is the encoder input.\n",
        "* The decoder input is initialized to the `[START]` token.\n",
        "* Calculate the padding masks and the look ahead masks.\n",
        "* The `decoder` then outputs the predictions by looking at the `encoder output` and its own output (self-attention).\n",
        "* The model makes predictions of the next word for each word in the output. Most of these are redundant. Use the predictions from the last word.\n",
        "* Concatenate the predicted word to the decoder input and pass it to the decoder.\n",
        "* In this approach, the decoder predicts the next word based on the previous words it predicted.\n",
        "\n",
        "Note: The model used here has less capacity to keep the example relatively faster so the predictions maybe less right. To reproduce the results in the paper, use the entire dataset and base transformer model or transformer XL, by changing the hyperparameters above."
      ]
    },
    {
      "cell_type": "code",
      "metadata": {
        "id": "5buvMlnvyrFm"
      },
      "source": [
        "def evaluate(sentence, max_length=40):\n",
        "  # inp sentence is portuguese, hence adding the start and end token\n",
        "  sentence = tf.convert_to_tensor([sentence])\n",
        "  sentence = tokenizers.de.tokenize(sentence).to_tensor()\n",
        "\n",
        "  encoder_input = sentence\n",
        "\n",
        "  # as the target is english, the first word to the transformer should be the\n",
        "  # english start token.\n",
        "  start, end = tokenizers.en.tokenize([''])[0]\n",
        "  output = tf.convert_to_tensor([start])\n",
        "  output = tf.expand_dims(output, 0)\n",
        "\n",
        "  for i in range(max_length):\n",
        "    enc_padding_mask, combined_mask, dec_padding_mask = create_masks(\n",
        "        encoder_input, output)\n",
        "\n",
        "    # predictions.shape == (batch_size, seq_len, vocab_size)\n",
        "    predictions, attention_weights = transformer(encoder_input,\n",
        "                                                 output,\n",
        "                                                 False,\n",
        "                                                 enc_padding_mask,\n",
        "                                                 combined_mask,\n",
        "                                                 dec_padding_mask)\n",
        "\n",
        "    # select the last word from the seq_len dimension\n",
        "    predictions = predictions[:, -1:, :]  # (batch_size, 1, vocab_size)\n",
        "\n",
        "    predicted_id = tf.argmax(predictions, axis=-1)\n",
        "\n",
        "    # concatentate the predicted_id to the output which is given to the decoder\n",
        "    # as its input.\n",
        "    output = tf.concat([output, predicted_id], axis=-1)\n",
        "\n",
        "    # return the result if the predicted_id is equal to the end token\n",
        "    if predicted_id == end:\n",
        "      break\n",
        "\n",
        "  # output.shape (1, tokens)\n",
        "  text = tokenizers.en.detokenize(output)[0]  # shape: ()\n",
        "\n",
        "  tokens = tokenizers.en.lookup(output)[0]\n",
        "\n",
        "  return text, tokens, attention_weights"
      ],
      "execution_count": 58,
      "outputs": []
    },
    {
      "cell_type": "code",
      "metadata": {
        "id": "lU2_yG_vBGza"
      },
      "source": [
        "def print_translation(sentence, tokens, ground_truth):\n",
        "  print(f'{\"Input:\":15s}: {sentence}')\n",
        "  print(f'{\"Prediction\":15s}: {tokens.numpy().decode(\"utf-8\")}')\n",
        "  print(f'{\"Ground truth\":15s}: {ground_truth}')"
      ],
      "execution_count": 59,
      "outputs": []
    },
    {
      "cell_type": "code",
      "metadata": {
        "id": "YsxrAlvFG8SZ",
        "colab": {
          "base_uri": "https://localhost:8080/"
        },
        "outputId": "e221a21a-43d1-4abd-8249-9406bb2d4f96"
      },
      "source": [
        "#sentence = \"Dies ist ein Problem, das wir lösen müssen.\"\n",
        "#ground_truth = \"this is a problem we have to solve .\"\n",
        "ground_truth = \"Dies ist ein Problem, das wir lösen müssen.\"\n",
        "sentence = \"this is a problem we have to solve .\"\n",
        "\n",
        "translated_text, translated_tokens, attention_weights = evaluate(sentence)\n",
        "print_translation(sentence, translated_text, ground_truth)"
      ],
      "execution_count": 60,
      "outputs": [
        {
          "output_type": "stream",
          "text": [
            "Input:         : this is a problem we have to solve .\n",
            "Prediction     : dies ist ein problem , um zu sammeln .\n",
            "Ground truth   : Dies ist ein Problem, das wir lösen müssen.\n"
          ],
          "name": "stdout"
        }
      ]
    },
    {
      "cell_type": "code",
      "metadata": {
        "id": "7EH5y_aqI4t1",
        "colab": {
          "base_uri": "https://localhost:8080/"
        },
        "outputId": "4916e9e6-c2a8-4e61-cfd2-edb4ca78d47e"
      },
      "source": [
        "#sentence = \"und meine Nachbarhäuser hörten von dieser Idee.\"\n",
        "#ground_truth = \"and my neighboring homes heard about this idea .\"\n",
        "ground_truth = \"und meine Nachbarhäuser hörten von dieser Idee.\"\n",
        "sentence = \"and my neighboring homes heard about this idea .\"\n",
        "\n",
        "translated_text, translated_tokens, attention_weights = evaluate(sentence)\n",
        "print_translation(sentence, translated_text, ground_truth)"
      ],
      "execution_count": 61,
      "outputs": [
        {
          "output_type": "stream",
          "text": [
            "Input:         : and my neighboring homes heard about this idea .\n",
            "Prediction     : „ ich habe hier auch einige fotos gelernt .\n",
            "Ground truth   : und meine Nachbarhäuser hörten von dieser Idee.\n"
          ],
          "name": "stdout"
        }
      ]
    },
    {
      "cell_type": "code",
      "metadata": {
        "id": "J-hVCTSUMlkb",
        "colab": {
          "base_uri": "https://localhost:8080/"
        },
        "outputId": "d272662c-1c08-4c7f-8caa-c7fe173edcf3"
      },
      "source": [
        "#sentence = \"Deshalb werde ich Ihnen sehr schnell einige Geschichten über einige magische Dinge erzählen, die passiert sind.\"\n",
        "#ground_truth = \"so i \\'ll just share with you some stories very quickly of some magical things that have happened .\"\n",
        "ground_truth = \"Deshalb werde ich Ihnen sehr schnell einige Geschichten über einige magische Dinge erzählen, die passiert sind.\"\n",
        "sentence = \"so i'll just share with you some stories very quickly of some magical things that have happened .\"\n",
        "\n",
        "translated_text, translated_tokens, attention_weights = evaluate(sentence)\n",
        "print_translation(sentence, translated_text, ground_truth)"
      ],
      "execution_count": 62,
      "outputs": [
        {
          "output_type": "stream",
          "text": [
            "Input:         : so i'll just share with you some stories very quickly of some magical things that have happened .\n",
            "Prediction     : ich weiss es aber , dass viele menschen mit ihren songs spielen .\n",
            "Ground truth   : Deshalb werde ich Ihnen sehr schnell einige Geschichten über einige magische Dinge erzählen, die passiert sind.\n"
          ],
          "name": "stdout"
        }
      ]
    },
    {
      "cell_type": "markdown",
      "metadata": {
        "id": "_1MxkSZvz0jX"
      },
      "source": [
        "You can pass different layers and attention blocks of the decoder to the `plot` parameter."
      ]
    },
    {
      "cell_type": "markdown",
      "metadata": {
        "id": "S3EQiFUC--Ds"
      },
      "source": [
        "## Attention plots"
      ]
    },
    {
      "cell_type": "markdown",
      "metadata": {
        "id": "hHV2pdXHGz-0"
      },
      "source": [
        "The `evaluate` function also returns a dictionary of attention maps you can use to visualize the internal working of the model:"
      ]
    },
    {
      "cell_type": "code",
      "metadata": {
        "id": "t-kFyiOLH0xg",
        "colab": {
          "base_uri": "https://localhost:8080/"
        },
        "outputId": "e26ee880-9548-4f1d-a774-ee5c29e49ac7"
      },
      "source": [
        "#sentence = \"Dies ist das erste Buch, das ich jemals gemacht habe.\"\n",
        "#ground_truth = \"this is the first book i've ever done.\"\n",
        "ground_truth = \"Dies ist das erste Buch, das ich jemals gemacht habe.\"\n",
        "sentence = \"this is the first book i've ever done.\"\n",
        "\n",
        "translated_text, translated_tokens, attention_weights = evaluate(sentence)\n",
        "print_translation(sentence, translated_text, ground_truth)"
      ],
      "execution_count": 63,
      "outputs": [
        {
          "output_type": "stream",
          "text": [
            "Input:         : this is the first book i've ever done.\n",
            "Prediction     : dies ist das erste mal , das ich mal unter der herrschaft abgeschrieben habe .\n",
            "Ground truth   : Dies ist das erste Buch, das ich jemals gemacht habe.\n"
          ],
          "name": "stdout"
        }
      ]
    },
    {
      "cell_type": "code",
      "metadata": {
        "id": "CcI4DxAK5EHY"
      },
      "source": [
        "def plot_attention_head(in_tokens, translated_tokens, attention):\n",
        "  # The plot is of the attention when a token was generated.\n",
        "  # The model didn't generate `<START>` in the output. Skip it.\n",
        "  translated_tokens = translated_tokens[1:]\n",
        "\n",
        "  ax = plt.gca()\n",
        "  ax.matshow(attention)\n",
        "  ax.set_xticks(range(len(in_tokens)))\n",
        "  ax.set_yticks(range(len(translated_tokens)))\n",
        "\n",
        "  labels = [label.decode('utf-8') for label in in_tokens.numpy()]\n",
        "  ax.set_xticklabels(\n",
        "      labels, rotation=90)\n",
        "\n",
        "  labels = [label.decode('utf-8') for label in translated_tokens.numpy()]\n",
        "  ax.set_yticklabels(labels)"
      ],
      "execution_count": 64,
      "outputs": []
    },
    {
      "cell_type": "code",
      "metadata": {
        "id": "_KY4c2cryuxY",
        "colab": {
          "base_uri": "https://localhost:8080/"
        },
        "outputId": "f13be902-e3a3-4448-de97-5a5536948069"
      },
      "source": [
        "head = 0\n",
        "# shape: (batch=1, num_heads, seq_len_q, seq_len_k)\n",
        "attention_heads = tf.squeeze(\n",
        "  attention_weights['decoder_layer4_block2'], 0)\n",
        "attention = attention_heads[head]\n",
        "attention.shape"
      ],
      "execution_count": 65,
      "outputs": [
        {
          "output_type": "execute_result",
          "data": {
            "text/plain": [
              "TensorShape([19, 13])"
            ]
          },
          "metadata": {
            "tags": []
          },
          "execution_count": 65
        }
      ]
    },
    {
      "cell_type": "code",
      "metadata": {
        "id": "XdxmakWE6Om3",
        "colab": {
          "base_uri": "https://localhost:8080/"
        },
        "outputId": "f02700fb-3c73-4e5c-cd08-f5f89f04d177"
      },
      "source": [
        "in_tokens = tf.convert_to_tensor([sentence])\n",
        "in_tokens = tokenizers.de.tokenize(in_tokens).to_tensor()\n",
        "in_tokens = tokenizers.de.lookup(in_tokens)[0]\n",
        "in_tokens"
      ],
      "execution_count": 66,
      "outputs": [
        {
          "output_type": "execute_result",
          "data": {
            "text/plain": [
              "<tf.Tensor: shape=(13,), dtype=string, numpy=\n",
              "array([b'[START]', b'this', b'is', b'the', b'first', b'book', b'i', b\"'\",\n",
              "       b've', b'ever', b'done', b'.', b'[END]'], dtype=object)>"
            ]
          },
          "metadata": {
            "tags": []
          },
          "execution_count": 66
        }
      ]
    },
    {
      "cell_type": "code",
      "metadata": {
        "id": "hVdPSfecmrpj",
        "colab": {
          "base_uri": "https://localhost:8080/"
        },
        "outputId": "8fa8ba45-d194-45e2-aad0-ada1bfe574f7"
      },
      "source": [
        "translated_tokens"
      ],
      "execution_count": 67,
      "outputs": [
        {
          "output_type": "execute_result",
          "data": {
            "text/plain": [
              "<tf.Tensor: shape=(20,), dtype=string, numpy=\n",
              "array([b'[START]', b'dies', b'ist', b'das', b'erste', b'mal', b',',\n",
              "       b'das', b'ich', b'mal', b'unter', b'der', b'herr', b'##schaft',\n",
              "       b'ab', b'##ges', b'##chrieben', b'habe', b'.', b'[END]'],\n",
              "      dtype=object)>"
            ]
          },
          "metadata": {
            "tags": []
          },
          "execution_count": 67
        }
      ]
    },
    {
      "cell_type": "code",
      "metadata": {
        "id": "XtzyKCFamm4N",
        "colab": {
          "base_uri": "https://localhost:8080/",
          "height": 297
        },
        "outputId": "99511bd5-e778-462b-83d7-e4ddeccabe4a"
      },
      "source": [
        "plot_attention_head(in_tokens, translated_tokens, attention)"
      ],
      "execution_count": 68,
      "outputs": [
        {
          "output_type": "display_data",
          "data": {
            "image/png": "[encoded data removed]",
            "text/plain": [
              "<Figure size 432x288 with 1 Axes>"
            ]
          },
          "metadata": {
            "tags": [],
            "needs_background": "light"
          }
        }
      ]
    },
    {
      "cell_type": "code",
      "metadata": {
        "id": "MBliB-PCzNK3"
      },
      "source": [
        "def plot_attention_weights(sentence, translated_tokens, attention_heads):\n",
        "  in_tokens = tf.convert_to_tensor([sentence])\n",
        "  in_tokens = tokenizers.de.tokenize(in_tokens).to_tensor()\n",
        "  in_tokens = tokenizers.de.lookup(in_tokens)[0]\n",
        "  in_tokens\n",
        "\n",
        "  fig = plt.figure(figsize=(16, 8))\n",
        "\n",
        "  for h, head in enumerate(attention_heads):\n",
        "    ax = fig.add_subplot(2, 4, h+1)\n",
        "\n",
        "    plot_attention_head(in_tokens, translated_tokens, head)\n",
        "\n",
        "    ax.set_xlabel(f'Head {h+1}')\n",
        "\n",
        "  plt.tight_layout()\n",
        "  plt.show()"
      ],
      "execution_count": 69,
      "outputs": []
    },
    {
      "cell_type": "code",
      "metadata": {
        "id": "pyRQi7944wru",
        "colab": {
          "base_uri": "https://localhost:8080/",
          "height": 519
        },
        "outputId": "e5e4d3da-234c-4896-9398-bc22a6c94892"
      },
      "source": [
        "plot_attention_weights(sentence, translated_tokens,\n",
        "                       attention_weights['decoder_layer4_block2'][0])"
      ],
      "execution_count": 70,
      "outputs": [
        {
          "output_type": "display_data",
          "data": {
            "image/png": "[encoded data removed]",
            "text/plain": [
              "<Figure size 1152x576 with 8 Axes>"
            ]
          },
          "metadata": {
            "tags": [],
            "needs_background": "light"
          }
        }
      ]
    },
    {
      "cell_type": "markdown",
      "metadata": {
        "id": "MZJirKUtikTt"
      },
      "source": [
        "The model does okay on unfamiliar words. Neither \"triceratops\" or \"encyclopedia\" are in the input dataset and the model almost learns to transliterate them, even without a shared vocabulary:"
      ]
    },
    {
      "cell_type": "code",
      "metadata": {
        "id": "9cxysY7uh3jg",
        "colab": {
          "base_uri": "https://localhost:8080/",
          "height": 463
        },
        "outputId": "d7f4a387-91af-423e-b14f-11938b419fb2"
      },
      "source": [
        "#sentence = \"Ich habe in der Enzyklopädie über Triceratops gelesen.\"\n",
        "#ground_truth = \"I read about triceratops in the encyclopedia.\"\n",
        "ground_truth = \"Ich habe in der Enzyklopädie über Triceratops gelesen.\"\n",
        "sentence = \"I read about triceratops in the encyclopedia.\"\n",
        "\n",
        "translated_text, translated_tokens, attention_weights = evaluate(sentence)\n",
        "print_translation(sentence, translated_text, ground_truth)\n",
        "\n",
        "plot_attention_weights(sentence, translated_tokens,\n",
        "                       attention_weights['decoder_layer4_block2'][0])"
      ],
      "execution_count": 71,
      "outputs": [
        {
          "output_type": "stream",
          "text": [
            "Input:         : I read about triceratops in the encyclopedia.\n",
            "Prediction     : ich bat diesen artikel in chile .\n",
            "Ground truth   : Ich habe in der Enzyklopädie über Triceratops gelesen.\n"
          ],
          "name": "stdout"
        },
        {
          "output_type": "display_data",
          "data": {
            "image/png": "[encoded data removed]",
            "text/plain": [
              "<Figure size 1152x576 with 8 Axes>"
            ]
          },
          "metadata": {
            "tags": [],
            "needs_background": "light"
          }
        }
      ]
    },
    {
      "cell_type": "markdown",
      "metadata": {
        "id": "RqQ1fIsLwkGE"
      },
      "source": [
        "## Summary\n",
        "\n",
        "In this tutorial, you learned about positional encoding, multi-head attention, the importance of masking and how to create a transformer.\n",
        "\n",
        "Try using a different dataset to train the transformer. You can also create the base transformer or transformer XL by changing the hyperparameters above. You can also use the layers defined here to create [BERT](https://arxiv.org/abs/1810.04805) and train state of the art models. Furthermore, you can implement beam search to get better predictions."
      ]
    },
    {
      "cell_type": "code",
      "metadata": {
        "id": "PpEV2XLMHk-X",
        "colab": {
          "base_uri": "https://localhost:8080/"
        },
        "outputId": "00110f8d-4c76-427b-9fea-f2944ee41224"
      },
      "source": [
        "# evaluate the skill of the model\n",
        "from nltk.translate.bleu_score import corpus_bleu\n",
        "\n",
        "def evaluate_model():\n",
        "  actual, predicted = list(), list()\n",
        "  for i, source in enumerate(test_examplesDe):\n",
        "    eng, deu = source\n",
        "    #print('i=[%s], eng=[%s], deu=[%s]' % (i,eng,deu))\n",
        "    engStr = eng.numpy().decode('UTF-8') \n",
        "    #print(engStr)\n",
        "    translated_text, translated_tokens, attention_weights = evaluate(engStr)\n",
        "    predStr = translated_text.numpy().decode('UTF-8') \n",
        "    #print(predStr)\n",
        "    deuStr = deu.numpy().decode('UTF-8')\n",
        "    actual.append(deuStr)\n",
        "    predicted.append(predStr)\n",
        "    if (i % 500) == 0:\n",
        "      print('i=[%s], eng=[%s]' % (i,engStr))\n",
        "      print('i=[%s], deu=[%s]' % (i,deuStr))\n",
        "      print('i=[%s], pred=[%s]' % (i,predStr))\n",
        "      print('BLEU-1: %f' % corpus_bleu(actual, predicted, weights=(1.0, 0, 0, 0)))\n",
        "      print('BLEU-2: %f' % corpus_bleu(actual, predicted, weights=(0.5, 0.5, 0, 0)))\n",
        "      print('BLEU-3: %f' % corpus_bleu(actual, predicted, weights=(0.3, 0.3, 0.3, 0)))\n",
        "      print('BLEU-4: %f' % corpus_bleu(actual, predicted, weights=(0.25, 0.25, 0.25, 0.25)))\n",
        "  print(\"Final scores\")\n",
        "  print('BLEU-1: %f' % corpus_bleu(actual, predicted, weights=(1.0, 0, 0, 0)))\n",
        "  print('BLEU-2: %f' % corpus_bleu(actual, predicted, weights=(0.5, 0.5, 0, 0)))\n",
        "  print('BLEU-3: %f' % corpus_bleu(actual, predicted, weights=(0.3, 0.3, 0.3, 0)))\n",
        "  print('BLEU-4: %f' % corpus_bleu(actual, predicted, weights=(0.25, 0.25, 0.25, 0.25)))\n",
        "  print('BLEU: %f' % corpus_bleu(actual, predicted))\n",
        "  \n",
        "evaluate_model()\n",
        "  \n",
        "  \n",
        "  \n",
        "  #actual, predicted = list(), list()\n",
        "\t#for i, source in enumerate(sources):\n",
        "\t\t# translate encoded source text\n",
        "\t#\tsource = source.reshape((1, source.shape[0]))\n",
        "\t#\ttranslation = predict_sequence(model, eng_tokenizer, source)\n",
        "\t#\traw_target, raw_src = raw_dataset[i]\n",
        "\t#\tif i < 10:\n",
        "\t#\t\tprint('src=[%s], target=[%s], predicted=[%s]' % (raw_src, raw_target, translation))\n",
        "\t#\tactual.append([raw_target.split()])\n",
        "\t#\tpredicted.append(translation.split())\n",
        "\t# calculate BLEU score\n",
        "\t#print('BLEU-1: %f' % corpus_bleu(actual, predicted, weights=(1.0, 0, 0, 0)))\n",
        "\t#print('BLEU-2: %f' % corpus_bleu(actual, predicted, weights=(0.5, 0.5, 0, 0)))\n",
        "\t#print('BLEU-3: %f' % corpus_bleu(actual, predicted, weights=(0.3, 0.3, 0.3, 0)))\n",
        "\t#print('BLEU-4: %f' % corpus_bleu(actual, predicted, weights=(0.25, 0.25, 0.25, 0.25)))\n",
        "\n",
        "\n"
      ],
      "execution_count": 75,
      "outputs": [
        {
          "output_type": "stream",
          "text": [
            "i=[0], eng=[Welcome gift for children up to six years with a T-shirt from \"Snow White and the 7 Dwarfs\"]\n",
            "i=[0], deu=[Willkommensgeschenk für Kinder bis sechs Jahre mit einem T-Shirt von \"Schneewittchen und den 7 Zwergen\"]\n",
            "i=[0], pred=[„ blattern mit tollen kindern – dieses mal fur 10 jahre und alter ! “ - sagt marie florida .]\n",
            "BLEU-1: 0.206522\n",
            "BLEU-2: 0.454447\n",
            "BLEU-3: 0.623002\n",
            "BLEU-4: 0.674127\n"
          ],
          "name": "stdout"
        },
        {
          "output_type": "stream",
          "text": [
            "/usr/local/lib/python3.7/dist-packages/nltk/translate/bleu_score.py:490: UserWarning: \n",
            "Corpus/Sentence contains 0 counts of 2-gram overlaps.\n",
            "BLEU scores might be undesirable; use SmoothingFunction().\n",
            "  warnings.warn(_msg)\n"
          ],
          "name": "stderr"
        },
        {
          "output_type": "stream",
          "text": [
            "i=[500], eng=[These statutory rights are not curtailed by the warranty.]\n",
            "i=[500], deu=[Diese gesetzlichen Rechte werden durch die Garantie nicht eingeschränkt.]\n",
            "i=[500], pred=[diese art von schuldnell ohne schuldige schuld keine wunsche .]\n",
            "BLEU-1: 0.188056\n",
            "BLEU-2: 0.433654\n",
            "BLEU-3: 0.605740\n",
            "BLEU-4: 0.658524\n",
            "i=[1000], eng=[Request here your reservation for the holiday-home holiday home \"Allod Park C401\"]\n",
            "i=[1000], deu=[Stellen Sie hier Ihre Reservierungsanfrage für Ferienhaus \"Allod Park C401\"]\n",
            "i=[1000], pred=[stellen sie hier ihre reservierungsanfrage fur ferienhaus \" residence \"]\n",
            "BLEU-1: 0.188573\n",
            "BLEU-2: 0.434250\n",
            "BLEU-3: 0.606239\n",
            "BLEU-4: 0.658977\n",
            "i=[1500], eng=[Such encounters are very rare because the Lebanese blame the Palestinians for triggering their civil war, and the Palestinians have bitter memories of their own suffering during those days.]\n",
            "i=[1500], deu=[Solche Begegnungen seien sehr selten, da die Libanesen die Palästinenser beschuldigen, den Bürgerkrieg ausgelöst zu haben und weil die Palästinenser bittere Erinnerungen ihres eigenen Leidens aus dieser Zeit haben.]\n",
            "i=[1500], pred=[viele der heiligen sind in der regel verwundert , dass die heiligkeit der extremen krankheit in den kontinenten der volker und in den kontinenten der volker um]\n",
            "BLEU-1: 0.187062\n",
            "BLEU-2: 0.432507\n",
            "BLEU-3: 0.604778\n",
            "BLEU-4: 0.657653\n",
            "i=[2000], eng=[David Franco Martínez, Master of Engineering: “Use of Renewable Energy Resources”]\n",
            "i=[2000], deu=[M. en I. David Franco Martínez. “ Nutzung erneuerbarer Energieressourcen ”]\n",
            "i=[2000], pred=[david matthias martin , projekt fur den effizienten energieeffizienz]\n",
            "BLEU-1: 0.187073\n",
            "BLEU-2: 0.432519\n",
            "BLEU-3: 0.604788\n",
            "BLEU-4: 0.657662\n",
            "i=[2500], eng=[There are 8 items in this gallery Exposured 15/07/2010 Item 8 from a total of 8]\n",
            "i=[2500], deu=[Es gibt 8 objekte in dieser Galerie Expuesto desde el 15/07/2010 Objekt 4 von insgesamt 8]\n",
            "i=[2500], pred=[es gibt eine objekte in dieser galerie expuesto desde el 20 / 07 / 2010 objekt 8 von insgesamt 8]\n",
            "BLEU-1: 0.187037\n",
            "BLEU-2: 0.432478\n",
            "BLEU-3: 0.604753\n",
            "BLEU-4: 0.657630\n",
            "Final scores\n",
            "BLEU-1: 0.187514\n",
            "BLEU-2: 0.433029\n",
            "BLEU-3: 0.605215\n",
            "BLEU-4: 0.658049\n",
            "BLEU-4: 0.658049\n"
          ],
          "name": "stdout"
        }
      ]
    }
  ]
}